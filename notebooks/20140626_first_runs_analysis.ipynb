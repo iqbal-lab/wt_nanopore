{
 "metadata": {
  "name": ""
 },
 "nbformat": 3,
 "nbformat_minor": 0,
 "worksheets": [
  {
   "cells": [
    {
     "cell_type": "heading",
     "level": 1,
     "metadata": {},
     "source": [
      "Setup"
     ]
    },
    {
     "cell_type": "code",
     "collapsed": false,
     "input": [
      "from shared_imports import *\n",
      "from shared_functions import *\n"
     ],
     "language": "python",
     "metadata": {},
     "outputs": [
      {
       "output_type": "stream",
       "stream": "stdout",
       "text": [
        "vcfnp 1.7\n",
        "vcfplt"
       ]
      },
      {
       "output_type": "stream",
       "stream": "stdout",
       "text": [
        " 0.9-SNAPSHOT\n",
        "petl"
       ]
      },
      {
       "output_type": "stream",
       "stream": "stdout",
       "text": [
        " 0.22.1\n",
        "petlx 0.15\n",
        "numpy"
       ]
      },
      {
       "output_type": "stream",
       "stream": "stdout",
       "text": [
        " 1.8.0\n",
        "numexpr 2.2.2\n",
        "pysam 0.7.7\n",
        "pysamstats 0.12\n",
        "petl 0.22.1\n",
        "petlx 0.15\n",
        "vcf 0.6.4\n",
        "vcfnp 1.7\n",
        "h5py 2.2.0\n",
        "tables 2.4.0\n"
       ]
      }
     ],
     "prompt_number": 1
    },
    {
     "cell_type": "code",
     "collapsed": false,
     "input": [
      "import time"
     ],
     "language": "python",
     "metadata": {},
     "outputs": [],
     "prompt_number": 239
    },
    {
     "cell_type": "code",
     "collapsed": false,
     "input": [
      "experiments = OrderedDict([\n",
      "    ('expt01_workflow_1_8_4', OrderedDict([('machine', 'KWIAT50'), ('directory', 'expt01_workflow_1_8_4'), ('ylim_hist', 1000)])),\n",
      "    ('expt01_workflow_1_9',   OrderedDict([('machine', 'KWIAT50'), ('directory', 'expt01_workflow_1_9'),   ('ylim_hist', 1000)])),\n",
      "    ('expt01_workflow_1_9_1', OrderedDict([('machine', 'KWIAT50'), ('directory', 'expt01_workflow_1_9_1'), ('ylim_hist', 1000)])),\n",
      "    ('expt02_workflow_1_9_1', OrderedDict([('machine', 'KWIAT50'), ('directory', 'expt02_workflow_1_9_1'), ('ylim_hist', 100)])),\n",
      "    ('expt03_workflow_1_9_1', OrderedDict([('machine', 'KWIAT50'), ('directory', 'expt03_workflow_1_9_1'), ('ylim_hist', 100)])),\n",
      "    ('expt04_workflow_1_9_1', OrderedDict([('machine', 'KWIAT50'), ('directory', 'expt04_workflow_1_9_1'), ('ylim_hist', 100)])),\n",
      "    ('expt05_aliquot_1_workflow_1_9_1', OrderedDict([('machine', 'KWIAT50'), ('directory', 'expt05_aliquot_1_workflow_1_9_1'), ('ylim_hist', 1000)])),\n",
      "    ('E05_aliquot_3_workflow_1_9_1', OrderedDict([('machine', 'KWIAT50'), ('directory', 'E05_aliquot_3_workflow_1_9_1'), ('ylim_hist', 1000)])),\n",
      "    ('E05_aliquot_5_workflow_1_9_1', OrderedDict([('machine', 'KWIAT50'), ('directory', 'E05_aliquot_5_workflow_1_9_1'), ('ylim_hist', 1000)])),\n",
      "    ('E05_aliquot_2_workflow_1_9_1', OrderedDict([('machine', 'KWIAT51'), ('directory', 'E05_aliquot_2_workflow_1_9_1'), ('ylim_hist', 1000)])),\n",
      "    ('E05_aliquot_4_workflow_1_9_1', OrderedDict([('machine', 'KWIAT51'), ('directory', 'E05_aliquot_4_workflow_1_9_1'), ('ylim_hist', 1000)])),\n",
      "#     ('E05_aliquot_6_workflow_1_9_1', OrderedDict([('machine', 'KWIAT51'), ('directory', 'E05_aliquot_6_workflow_1_9_1'), ('ylim_hist', 1000)]))\n",
      "])\n",
      "processed_reads_dir_format = '/data/minion/PROCESSED_DATA/{machine}/{directory}'\n",
      "output_dir_format = '/data/minion/work/{directory}'\n",
      "fast5stats_output_format = output_dir_format + '/fast5stats/{sample_name}.fast5stats'\n"
     ],
     "language": "python",
     "metadata": {},
     "outputs": [],
     "prompt_number": 230
    },
    {
     "cell_type": "code",
     "collapsed": false,
     "input": [
      "experiments"
     ],
     "language": "python",
     "metadata": {},
     "outputs": [
      {
       "metadata": {},
       "output_type": "pyout",
       "prompt_number": 229,
       "text": [
        "OrderedDict([('expt01_workflow_1_8_4', OrderedDict([('machine', 'KWIAT50'), ('directory', 'expt01_workflow_1_8_4'), ('ylim_hist', 1000)])), ('expt01_workflow_1_9', OrderedDict([('machine', 'KWIAT50'), ('directory', 'expt01_workflow_1_9'), ('ylim_hist', 1000)])), ('expt01_workflow_1_9_1', OrderedDict([('machine', 'KWIAT50'), ('directory', 'expt01_workflow_1_9_1'), ('ylim_hist', 1000)])), ('expt02_workflow_1_9_1', OrderedDict([('machine', 'KWIAT50'), ('directory', 'expt02_workflow_1_9_1'), ('ylim_hist', 100)])), ('expt03_workflow_1_9_1', OrderedDict([('machine', 'KWIAT50'), ('directory', 'expt03_workflow_1_9_1'), ('ylim_hist', 100)])), ('expt04_workflow_1_9_1', OrderedDict([('machine', 'KWIAT50'), ('directory', 'expt04_workflow_1_9_1'), ('ylim_hist', 100)])), ('expt05_aliquot_1_workflow_1_9_1', OrderedDict([('machine', 'KWIAT50'), ('directory', 'expt05_aliquot_1_workflow_1_9_1'), ('ylim_hist', 1000)])), ('E05_aliquot_3_workflow_1_9_1', OrderedDict([('machine', 'KWIAT50'), ('directory', 'E05_aliquot_3_workflow_1_9_1'), ('ylim_hist', 1000)])), ('E05_aliquot_5_workflow_1_9_1', OrderedDict([('machine', 'KWIAT50'), ('directory', 'E05_aliquot_5_workflow_1_9_1'), ('ylim_hist', 1000)])), ('E05_aliquot_2_workflow_1_9_1', OrderedDict([('machine', 'KWIAT51'), ('directory', 'E05_aliquot_2_workflow_1_9_1'), ('ylim_hist', 1000)])), ('E05_aliquot_4_workflow_1_9_1', OrderedDict([('machine', 'KWIAT51'), ('directory', 'E05_aliquot_4_workflow_1_9_1'), ('ylim_hist', 1000)])), ('E05_aliquot_6_workflow_1_9_1', OrderedDict([('machine', 'KWIAT51'), ('directory', 'E05_aliquot_6_workflow_1_9_1'), ('ylim_hist', 1000)]))])"
       ]
      }
     ],
     "prompt_number": 229
    },
    {
     "cell_type": "code",
     "collapsed": false,
     "input": [
      "reference_genomes = OrderedDict([\n",
      "    ('ont_lambda', '/data/minion/reference_genomes/lambda/lambda_ref.fasta'),\n",
      "    ('cs', '/data/minion/reference_genomes/cs/dna_cs.fasta'),\n",
      "    ('3D7_V3', '/data/minion/reference_genomes/3D7_V3/3D7_V3.fasta'),\n",
      "    ('AgamP3', '/data/minion/reference_genomes/AgamP3/Anopheles-gambiae-PEST_CHROMOSOMES_AgamP3.fasta')\n",
      "])\n"
     ],
     "language": "python",
     "metadata": {},
     "outputs": [],
     "prompt_number": 122
    },
    {
     "cell_type": "code",
     "collapsed": false,
     "input": [
      "read_types = ['template', 'complement', '2D']\n"
     ],
     "language": "python",
     "metadata": {},
     "outputs": [],
     "prompt_number": 123
    },
    {
     "cell_type": "code",
     "collapsed": false,
     "input": [
      "import brewer2mpl\n",
      "set1 = brewer2mpl.get_map('Set1', 'qualitative', 8).mpl_colors\n",
      "set3 = brewer2mpl.get_map('Set3', 'qualitative', 12).mpl_colors\n"
     ],
     "language": "python",
     "metadata": {},
     "outputs": [],
     "prompt_number": 124
    },
    {
     "cell_type": "heading",
     "level": 1,
     "metadata": {},
     "source": [
      "Plan"
     ]
    },
    {
     "cell_type": "markdown",
     "metadata": {},
     "source": [
      "- For each read get\n",
      "    - \n",
      "- Summary of logs from https://nanoporetech.atlassian.net/wiki/download/attachments/2983444/summarise_ont_logs.py.txt?version=1&modificationDate=1402616251617&api=v2\n",
      "- Extract template, complement and 2D reads to fastq\n",
      "- Ensure can get last running on fastq and outputting base qualities. Also, any way of getting mapping qualities? And does last give multiple mappings for any reads?\n",
      "- Create report of number of reads mapped for template, complement and 2D\n",
      "- Figure out how to get a sequence identity metric for each read\n",
      "- Run last with multiple different parameters\n",
      "- For each set of parameters, calculate number of fast5 files, number base called, %2D, %template only, %reads mapping, mean identity of mapped reads, total read length, number of variants (SNPs and indels) after GATK calling (UG and HC), best perfect kmer, median best perfect kmer\n",
      "- Best perfect kmer per read distribution\n",
      "- Also try using BLAST via Biopython\n",
      "- \n",
      "- Is there anything in big file that is not in individual reads files?\n",
      "- Are there time stamps in fast5 reads files? If so, change fast5stats to write out times. Also, maybe include num of events and possibly other data\n"
     ]
    },
    {
     "cell_type": "heading",
     "level": 1,
     "metadata": {},
     "source": [
      "Functions"
     ]
    },
    {
     "cell_type": "code",
     "collapsed": false,
     "input": [
      "ids = OrderedDict([\n",
      "        ('2D basecalling successful'                  , 'Basecalling 2D hairpin data'),\n",
      "        ('Missing Complement data'                    , 'Splitter indicates no complement data. Workflow cannot continue'),\n",
      "        ('Missing Template data'                      , 'Splitter indicates no template data. Workflow cannot continue'),\n",
      "        ('Too few events'                             , 'Read has too few events. Workflow cannot continue'),\n",
      "        ('Poor ratio of template to complement data'  , 'Ratio of template to complement data is no good. Workflow cannot continue'),\n",
      "        ('Inconsistent template vs complement events' , 'Number of template events out of range aligning template'),\n",
      "        ('Inconsistent complement vs template events' , 'Number of complement events out of range aligning'),\n",
      "        ('Failed template to complement alignment'    , 'Template to complement alignment has failed'),\n",
      "        ('Base calling script score scaling error'    , 'Basecall score increased during scaling'),\n",
      "        ('Base calling script IndexError'             , 'IndexError: index out of bounds'),\n",
      "        ('Base calling script ValueError'             , 'ValueError')\n",
      "])\n",
      "\n",
      "def classify_read_from_log(log_filename='/data/minion/PROCESSED_DATA/KWIAT50/expt01_workflow_1_9_1/KWIAT50_K50_expt01_std_lambda_DNA_140619_A_4429_1_ch102_file11_strand.log'):\n",
      "    if log_filename.endswith('.log') and os.path.exists(log_filename):\n",
      "        f = open(log_filename,'r')\n",
      "        filecontents = f.read()\n",
      "        flag=0\n",
      "        for i,v in ids.iteritems():\n",
      "            if v in filecontents:\n",
      "                f.close()\n",
      "                return i\n",
      "        f.close()\n",
      "        return None\n",
      "    else:\n",
      "        return None\n",
      "    \n",
      "def classify_reads_from_logs(processed_reads_dir):\n",
      "    freqs=OrderedDict()\n",
      "    for i,v in ids.iteritems():\n",
      "            freqs[i]=0\n",
      "    \n",
      "    number_of_files=0\n",
      "    for filename in os.listdir(processed_reads_dir):\n",
      "        filename = os.path.join(processed_reads_dir, filename)\n",
      "        if filename.endswith('.log'):\n",
      "            number_of_files = number_of_files + 1\n",
      "            f = open(filename,'r')\n",
      "            filecontents = f.read()\n",
      "            flag=0\n",
      "            for i,v in ids.iteritems():\n",
      "                if v in filecontents:\n",
      "                            freqs[i]=freqs[i]+1\n",
      "                            flag=1\n",
      "            if flag==0:\n",
      "                print filename\n",
      "    total=0\n",
      "    for i,v in freqs.iteritems():\n",
      "            total = total + v\n",
      "    for i,v in freqs.iteritems():\n",
      "            percent = round(100*float(v)/float(total),2)\n",
      "            print \"%50s %4i (%2.0f percent)\" % (i,v,percent)\n",
      "    \n",
      "    print \"%50s %i\" % ('Total', total)\n",
      "    print \"%50s %i\" % ('Number of files', number_of_files)\n",
      "    \n",
      "    return freqs\n",
      "\n",
      "classify_read_from_log()\n"
     ],
     "language": "python",
     "metadata": {},
     "outputs": [
      {
       "metadata": {},
       "output_type": "pyout",
       "prompt_number": 125,
       "text": [
        "'2D basecalling successful'"
       ]
      }
     ],
     "prompt_number": 125
    },
    {
     "cell_type": "code",
     "collapsed": false,
     "input": [
      "def blast_summary(fastq_record, hit_def='Enterobacteria phage lambda, complete genome'):\n",
      "    result_handle = NCBIWWW.qblast(\"blastn\", \"nt\", fastq_record.seq)\n",
      "    blast_record = NCBIXML.read(result_handle)\n",
      "    \n",
      "    query_cover = 0\n",
      "    hsp_identities = 0\n",
      "    hsp_query_lengths = 0\n",
      "    \n",
      "    for alignment in blast_record.alignments:\n",
      "        if alignment.hit_def == hit_def:\n",
      "            for hsp in alignment.hsps:\n",
      "                query_cover = query_cover + (hsp.query_end - hsp.query_start)\n",
      "                hsp_identities = hsp_identities + hsp.identities\n",
      "                hsp_query_lengths = hsp_query_lengths + len(hsp.query)\n",
      "    if hsp_query_lengths == 0:\n",
      "        return (0.0, 0.0)\n",
      "    else:\n",
      "        return (query_cover*1.0/len(fastq_record.seq), hsp_identities*1.0/hsp_query_lengths)\n",
      "\n",
      "# hdf = h5py.File('/data/minion/PROCESSED_DATA/KWIAT50/expt01_workflow_1_9_1/KWIAT50_K50_expt01_std_lambda_DNA_140619_A_4429_1_ch102_file11_strand.fast5', 'r')\n",
      "# fastq_record = SeqIO.read(StringIO(hdf['Analyses/Basecall_2D_000/BaseCalled_2D/Fastq'][()]), 'fastq')\n",
      "# blast_summary(fastq_record)\n"
     ],
     "language": "python",
     "metadata": {},
     "outputs": [],
     "prompt_number": 126
    },
    {
     "cell_type": "code",
     "collapsed": false,
     "input": [
      "def read_summary_from_fast5(fast5_filename='/data/minion/PROCESSED_DATA/KWIAT50/expt01_workflow_1_9_1/KWIAT50_K50_expt01_std_lambda_DNA_140619_A_4429_1_ch102_file11_strand.fast5'):\n",
      "#     print '.',\n",
      "    read_summary_dtype = [\n",
      "        ('fast5_filename', 'a200'),\n",
      "        ('read_type_from_log', 'a100'),\n",
      "        ('channel_number', np.int),\n",
      "        ('read_number', np.int),\n",
      "        ('device_id', 'S100'),\n",
      "        ('asic_id', 'S100'),\n",
      "        ('flow_cell_id', 'S100'),\n",
      "        ('asic_temp', np.float),\n",
      "        ('heatsink_temp', np.float),\n",
      "        ('exp_start_time', np.int),\n",
      "        ('version_name', 'S100'),\n",
      "        ('run_id', 'S100'),\n",
      "        ('is_analysed', np.bool),\n",
      "        ('is_base_called_2d', np.bool),\n",
      "        ('has_template_read', np.bool),\n",
      "        ('has_complement_read', np.bool),\n",
      "        ('has_2D_read', np.bool),\n",
      "        ('read_length_template', np.int),\n",
      "        ('read_length_complement', np.int),\n",
      "        ('read_length_2D', np.int),\n",
      "        ('start_time_read', np.float),\n",
      "        ('duration_read', np.float),\n",
      "        ('start_time_template', np.float),\n",
      "        ('duration_template', np.float),\n",
      "        ('start_time_complement', np.float),\n",
      "        ('duration_complement', np.float),\n",
      "        ('basecall_called_events_template', np.int),\n",
      "        ('basecall_num_events_template', np.int),\n",
      "        ('basecall_num_skips_template', np.int),\n",
      "        ('basecall_num_stays_template', np.int),\n",
      "        ('basecall_mean_qscore_template', np.float),\n",
      "        ('basecall_strand_score_template', np.float),\n",
      "        ('basecall_called_events_complement', np.int),\n",
      "        ('basecall_num_events_complement', np.int),\n",
      "        ('basecall_num_skips_complement', np.int),\n",
      "        ('basecall_num_stays_complement', np.int),\n",
      "        ('basecall_mean_qscore_complement', np.float),\n",
      "        ('basecall_strand_score_complement', np.float),\n",
      "        ('basecall_mean_qscore_2D', np.float),\n",
      "        ('basecall_sequence_length_2D', np.int),\n",
      "        ('basecall_num_raw_events_template', np.int),\n",
      "        ('basecall_num_merged_events_template', np.int),\n",
      "        ('basecall_num_raw_events_complement', np.int),\n",
      "        ('basecall_num_merged_events_complement', np.int),\n",
      "    ]\n",
      "    hdf = h5py.File(fast5_filename, 'r')\n",
      "    \n",
      "    channel_number =  hdf['UniqueGlobalKey/read_id'].attrs['channel_number']\n",
      "    read_number =  hdf['UniqueGlobalKey/read_id'].attrs['read_number']\n",
      "    device_id =  hdf['UniqueGlobalKey/tracking_id'].attrs['device_id']\n",
      "    asic_id =  hdf['UniqueGlobalKey/tracking_id'].attrs['asic_id']\n",
      "    flow_cell_id =  hdf['UniqueGlobalKey/tracking_id'].attrs['flow_cell_id']\n",
      "    asic_temp =  hdf['UniqueGlobalKey/tracking_id'].attrs['asic_temp']\n",
      "    heatsink_temp =  hdf['UniqueGlobalKey/tracking_id'].attrs['heatsink_temp']\n",
      "    exp_start_time =  hdf['UniqueGlobalKey/tracking_id'].attrs['exp_start_time']\n",
      "    version_name =  hdf['UniqueGlobalKey/tracking_id'].attrs['version_name']\n",
      "    run_id =  hdf['UniqueGlobalKey/tracking_id'].attrs['run_id']\n",
      "    log_filename = fast5_filename.replace('.fast5', '.log')\n",
      "    read_type_from_log = classify_read_from_log(log_filename)\n",
      "    is_analysed = 'Analyses' in hdf.keys()\n",
      "    is_base_called_2d = False if is_analysed==False else 'Basecall_2D_000' in hdf['Analyses'].keys()\n",
      "    has_template_read = False if is_base_called_2d==False else 'BaseCalled_template' in hdf['Analyses/Basecall_2D_000'].keys()\n",
      "    has_complement_read = False if is_base_called_2d==False else 'BaseCalled_complement' in hdf['Analyses/Basecall_2D_000'].keys()\n",
      "    has_2D_read = False if is_base_called_2d==False else 'BaseCalled_2D' in hdf['Analyses/Basecall_2D_000'].keys()\n",
      "    read_length_template = 0 if has_template_read==False else len(SeqIO.read(StringIO(hdf['Analyses/Basecall_2D_000/BaseCalled_template/Fastq'][()]), 'fastq').seq)\n",
      "    read_length_complement = 0 if has_complement_read==False else len(SeqIO.read(StringIO(hdf['Analyses/Basecall_2D_000/BaseCalled_complement/Fastq'][()]), 'fastq').seq)\n",
      "    read_length_2D = 0 if has_2D_read==False else len(SeqIO.read(StringIO(hdf['Analyses/Basecall_2D_000/BaseCalled_2D/Fastq'][()]), 'fastq').seq)\n",
      "    start_time_read = hdf['Analyses/EventDetection_000/Reads/Read_%s/Events' % read_number].attrs['start_time']\n",
      "    duration_read = hdf['Analyses/EventDetection_000/Reads/Read_%s/Events' % read_number].attrs['duration']\n",
      "    start_time_template = 0.0 if has_template_read==False else hdf['Analyses/Basecall_2D_000/BaseCalled_template/Events'].attrs['start_time']\n",
      "    duration_template = 0.0 if has_template_read==False else hdf['Analyses/Basecall_2D_000/BaseCalled_template/Events'].attrs['duration']\n",
      "    start_time_complement = 0.0 if has_complement_read==False else hdf['Analyses/Basecall_2D_000/BaseCalled_complement/Events'].attrs['start_time']\n",
      "    duration_complement = 0.0 if has_complement_read==False else hdf['Analyses/Basecall_2D_000/BaseCalled_complement/Events'].attrs['duration']\n",
      "\n",
      "    basecall_called_events_template = 0 if has_template_read==False else hdf['Analyses/Basecall_2D_000/Summary/basecall_1d_template'].attrs['called_events']\n",
      "    basecall_num_events_template = 0 if has_template_read==False else hdf['Analyses/Basecall_2D_000/Summary/basecall_1d_template'].attrs['num_events']\n",
      "    basecall_num_skips_template = 0 if has_template_read==False else hdf['Analyses/Basecall_2D_000/Summary/basecall_1d_template'].attrs['num_skips']\n",
      "    basecall_num_stays_template = 0 if has_template_read==False else hdf['Analyses/Basecall_2D_000/Summary/basecall_1d_template'].attrs['num_stays']\n",
      "    basecall_mean_qscore_template = 0.0 if has_template_read==False else hdf['Analyses/Basecall_2D_000/Summary/basecall_1d_template'].attrs['mean_qscore']\n",
      "    basecall_strand_score_template = 0.0 if has_template_read==False else hdf['Analyses/Basecall_2D_000/Summary/basecall_1d_template'].attrs['strand_score']\n",
      "    basecall_called_events_complement = 0 if has_complement_read==False else hdf['Analyses/Basecall_2D_000/Summary/basecall_1d_complement'].attrs['called_events']\n",
      "    basecall_num_events_complement = 0 if has_complement_read==False else hdf['Analyses/Basecall_2D_000/Summary/basecall_1d_complement'].attrs['num_events']\n",
      "    basecall_num_skips_complement = 0 if has_complement_read==False else hdf['Analyses/Basecall_2D_000/Summary/basecall_1d_complement'].attrs['num_skips']\n",
      "    basecall_num_stays_complement = 0 if has_complement_read==False else hdf['Analyses/Basecall_2D_000/Summary/basecall_1d_complement'].attrs['num_stays']\n",
      "    basecall_mean_qscore_complement = 0.0 if has_complement_read==False else hdf['Analyses/Basecall_2D_000/Summary/basecall_1d_complement'].attrs['mean_qscore']\n",
      "    basecall_strand_score_complement = 0.0 if has_complement_read==False else hdf['Analyses/Basecall_2D_000/Summary/basecall_1d_complement'].attrs['strand_score']\n",
      "    basecall_mean_qscore_2D = 0.0 if has_2D_read==False else hdf['Analyses/Basecall_2D_000/Summary/basecall_2d'].attrs['mean_qscore']\n",
      "    basecall_sequence_length_2D = 0 if has_2D_read==False else hdf['Analyses/Basecall_2D_000/Summary/basecall_2d'].attrs['sequence_length']\n",
      "    basecall_num_raw_events_template = 0 if has_template_read==False else hdf['Analyses/Basecall_2D_000/Summary/post_processing_template'].attrs['num_raw_events']\n",
      "    basecall_num_merged_events_template = 0 if has_template_read==False else hdf['Analyses/Basecall_2D_000/Summary/post_processing_template'].attrs['num_merged_events']\n",
      "    basecall_num_raw_events_complement = 0 if has_complement_read==False else hdf['Analyses/Basecall_2D_000/Summary/post_processing_complement'].attrs['num_raw_events']\n",
      "    basecall_num_merged_events_complement = 0 if has_complement_read==False else hdf['Analyses/Basecall_2D_000/Summary/post_processing_complement'].attrs['num_merged_events']\n",
      "    \n",
      "    read_summary = np.array(\n",
      "        (\n",
      "            fast5_filename,\n",
      "            read_type_from_log,\n",
      "            channel_number,\n",
      "            read_number,\n",
      "            device_id,\n",
      "            asic_id,\n",
      "            flow_cell_id,\n",
      "            asic_temp,\n",
      "            heatsink_temp,\n",
      "            exp_start_time,\n",
      "            version_name,\n",
      "            run_id,\n",
      "            is_analysed,\n",
      "            is_base_called_2d,\n",
      "            has_template_read,\n",
      "            has_complement_read,\n",
      "            has_2D_read,\n",
      "            read_length_template,\n",
      "            read_length_complement,\n",
      "            read_length_2D,\n",
      "            start_time_read,\n",
      "            duration_read,\n",
      "            start_time_template,\n",
      "            duration_template,\n",
      "            start_time_complement,\n",
      "            duration_complement,\n",
      "            basecall_called_events_template,\n",
      "            basecall_num_events_template,\n",
      "            basecall_num_skips_template,\n",
      "            basecall_num_stays_template,\n",
      "            basecall_mean_qscore_template,\n",
      "            basecall_strand_score_template,\n",
      "            basecall_called_events_complement,\n",
      "            basecall_num_events_complement,\n",
      "            basecall_num_skips_complement,\n",
      "            basecall_num_stays_complement,\n",
      "            basecall_mean_qscore_complement,\n",
      "            basecall_strand_score_complement,\n",
      "            basecall_mean_qscore_2D,\n",
      "            basecall_sequence_length_2D,\n",
      "            basecall_num_raw_events_template,\n",
      "            basecall_num_merged_events_template,\n",
      "            basecall_num_raw_events_complement,\n",
      "            basecall_num_merged_events_complement,\n",
      "        ),\n",
      "        dtype=read_summary_dtype\n",
      "    )\n",
      "\n",
      "    hdf.close()\n",
      "    \n",
      "    return read_summary\n",
      "\n",
      "print read_summary_from_fast5()\n",
      "# No 2D data\n",
      "print read_summary_from_fast5('/data/minion/PROCESSED_DATA/KWIAT50/expt01_workflow_1_9_1/KWIAT50_K50_expt01_std_lambda_DNA_140619_A_4429_1_ch101_file13_strand.fast5')\n",
      "# RAW fast5 file\n",
      "# print read_summary_from_fast5('/data/minion/RAW_DATA/KWIAT50/E01/reads_expt01/KWIAT50_K50_expt01_std_lambda_DNA_140619_A_4429_1_ch102_file11_strand.fast5')\n"
     ],
     "language": "python",
     "metadata": {},
     "outputs": [
      {
       "output_type": "stream",
       "stream": "stdout",
       "text": [
        "('/data/minion/PROCESSED_DATA/KWIAT50/expt01_workflow_1_9_1/KWIAT50_K50_expt01_std_lambda_DNA_140619_A_4429_1_ch102_file11_strand.fast5', '2D basecalling successful', 102, 11, 'MN02837', '50349', '', 37.6, 35.75, 1403178270, '0.45.1.6 b201406111512', '8752daf03928c6f48c7f5da5b812fc2f5f901821', True, True, True, True, True, 12026, 9597, 12260, 1717.6172000000001, 873.8914, 1721.9808, 520.2396000000001, 2244.5382, 346.3326000000002, 11269, 11324, 962, 210, 7.23141526692167, 2.356058213523678, 9846, 9875, 300, 554, 4.8929873918933, 3.180247118805643, 7.971778140293638, 12260, 11414, 11324, 9919, 9875)\n",
        "('/data/minion/PROCESSED_DATA/KWIAT50/expt01_workflow_1_9_1/KWIAT50_K50_expt01_std_lambda_DNA_140619_A_4429_1_ch101_file13_strand.fast5', 'Poor ratio of template to complement data', 101, 13, 'MN02837', '50349', '', 37.6, 35.75, 1403178270, '0.45.1.6 b201406111512', '8752daf03928c6f48c7f5da5b812fc2f5f901821', True, True, True, True, False, 10104, 6049, 0, 2659.8694, 730.1922, 2664.6192, 500.0133999999998, 3167.4714000000004, 222.36359999999968, 9786, 9871, 690, 377, 6.563143309580364, 2.3937913453080206, 5683, 5710, 522, 161, 4.889237890560423, 3.507407417161314, 0.0, 0, 10084, 9871, 5761, 5710)\n"
       ]
      }
     ],
     "prompt_number": 127
    },
    {
     "cell_type": "code",
     "collapsed": false,
     "input": [
      "def blast_summary_from_fast5(fast5_filename='/data/minion/PROCESSED_DATA/KWIAT50/expt01_workflow_1_9_1/KWIAT50_K50_expt01_std_lambda_DNA_140619_A_4429_1_ch102_file11_strand.fast5'):\n",
      "    print '.',\n",
      "    blast_summary_dtype = [\n",
      "        ('blast_query_cover_template', np.float),\n",
      "        ('blast_identity_template', np.float),\n",
      "        ('blast_query_cover_complement', np.float),\n",
      "        ('blast_identity_complement', np.float),\n",
      "        ('blast_query_cover_2D', np.float),\n",
      "        ('blast_identity_2D', np.float),\n",
      "    ]\n",
      "    hdf = h5py.File(fast5_filename, 'r')\n",
      "    \n",
      "    (blast_query_cover_template, blast_identity_template) = (0.0, 0.0) if has_template_read==False else blast_summary(SeqIO.read(StringIO(hdf['Analyses/Basecall_2D_000/BaseCalled_template/Fastq'][()]), 'fastq'))\n",
      "    (blast_query_cover_complement, blast_identity_complement) = (0.0, 0.0) if has_complement_read==False else blast_summary(SeqIO.read(StringIO(hdf['Analyses/Basecall_2D_000/BaseCalled_complement/Fastq'][()]), 'fastq'))\n",
      "    (blast_query_cover_2D, blast_identity_2D) = (0.0, 0.0) if has_2D_read==False else blast_summary(SeqIO.read(StringIO(hdf['Analyses/Basecall_2D_000/BaseCalled_2D/Fastq'][()]), 'fastq'))\n",
      "    \n",
      "    blast_summary = np.array(\n",
      "        (\n",
      "            blast_query_cover_template,\n",
      "            blast_identity_template,\n",
      "            blast_query_cover_complement,\n",
      "            blast_identity_complement,\n",
      "            blast_query_cover_2D,\n",
      "            blast_identity_2D,\n",
      "        ),\n",
      "        dtype=blast_summary_dtype\n",
      "    )\n",
      "\n",
      "    hdf.close()\n",
      "    \n",
      "    return blast_summary\n",
      "\n",
      "# print read_summary_from_fast5()\n",
      "# # No 2D data\n",
      "# print read_summary_from_fast5('/data/minion/PROCESSED_DATA/KWIAT50/expt01_workflow_1_9_1/KWIAT50_K50_expt01_std_lambda_DNA_140619_A_4429_1_ch101_file13_strand.fast5')\n",
      "# # RAW fast5 file\n",
      "# # print read_summary_from_fast5('/data/minion/RAW_DATA/KWIAT50/E01/reads_expt01/KWIAT50_K50_expt01_std_lambda_DNA_140619_A_4429_1_ch102_file11_strand.fast5')\n"
     ],
     "language": "python",
     "metadata": {},
     "outputs": [],
     "prompt_number": 128
    },
    {
     "cell_type": "code",
     "collapsed": false,
     "input": [
      "def determine_read_summaries(processed_reads_dir='/data/minion/PROCESSED_DATA/KWIAT50/expt03_workflow_1_9_1'):\n",
      "    filenames = list()\n",
      "    for filename in os.listdir(processed_reads_dir):\n",
      "        filename = os.path.join(processed_reads_dir, filename)\n",
      "        if filename.endswith('.fast5'):\n",
      "            filenames.append(filename)\n",
      "    print len(filenames)\n",
      "    fast5_summaries_list = [read_summary_from_fast5(filename) for filename in filenames]\n",
      "    fast5_summaries_array = np.hstack(fast5_summaries_list).view(recarray)\n",
      "    return fast5_summaries_array\n",
      "\n",
      "# temp = determine_read_summaries()\n"
     ],
     "language": "python",
     "metadata": {},
     "outputs": [],
     "prompt_number": 129
    },
    {
     "cell_type": "code",
     "collapsed": false,
     "input": [
      "def summarise_bam_reads(all_reads):\n",
      "    qnames = np.array(map(lambda x: x.qname, all_reads))\n",
      "    inferred_lengths = np.array(map(lambda x: x.inferred_length, all_reads))\n",
      "    mismatches = np.array(map(lambda x: dict(x.tags)['NM'], all_reads))\n",
      "    Ns = np.array(map(lambda x: np.sum([y == 'N' for y in x.seq]), all_reads))\n",
      "    deletions = np.array(map(lambda x: np.sum(map(lambda y: y == None, np.array(x.aligned_pairs)[:, 0])), all_reads))\n",
      "    insertions = np.array(map(lambda x: np.sum(map(lambda y: y == None, np.array(x.aligned_pairs)[:, 1])), all_reads))\n",
      "\n",
      "    read_names = np.unique( qnames )\n",
      "    fragments_per_read = np.array([np.sum(qnames == x) for x in read_names])\n",
      "    total_fragment_length = np.array([np.sum(inferred_lengths[qnames == x]) for x in read_names])\n",
      "    mean_fragment_length = np.array([np.mean(inferred_lengths[qnames == x]) for x in read_names])\n",
      "    min_fragment_length = np.array([np.min(inferred_lengths[qnames == x]) for x in read_names])\n",
      "    max_fragment_length = np.array([np.max(inferred_lengths[qnames == x]) for x in read_names])\n",
      "    mismatches_per_read = np.array([np.sum(mismatches[qnames == x]) for x in read_names])\n",
      "    Ns_per_read = np.array([np.sum(Ns[qnames == x]) for x in read_names])\n",
      "    deletions_per_read = np.array([np.sum(deletions[qnames == x]) for x in read_names])\n",
      "    insertions_per_read = np.array([np.sum(insertions[qnames == x]) for x in read_names])\n",
      "    \n",
      "    read_summaries = np.core.records.fromarrays(\n",
      "        [\n",
      "            read_names,\n",
      "            fragments_per_read,\n",
      "            total_fragment_length,\n",
      "            mean_fragment_length,\n",
      "            min_fragment_length,\n",
      "            max_fragment_length,\n",
      "            mismatches_per_read,\n",
      "            Ns_per_read,\n",
      "            deletions_per_read,\n",
      "            insertions_per_read\n",
      "        ],\n",
      "        names='read_names,fragments,total_fragment_length,mean_fragment_length,min_fragment_length,max_fragment_length,mismatches,Ns,deletions,insertions'\n",
      "    )\n",
      "    \n",
      "    return read_summaries\n",
      "\n",
      "temp_read_summaries = summarise_bam_reads(all_reads)\n"
     ],
     "language": "python",
     "metadata": {},
     "outputs": [],
     "prompt_number": 130
    },
    {
     "cell_type": "code",
     "collapsed": false,
     "input": [
      "import time\n",
      "def convert_time(YOUR_EPOCH_TIME):\n",
      "    return time.strftime('%Y-%m-%d %H:%M:%S', time.gmtime(YOUR_EPOCH_TIME))\n",
      "convert_time(1403178270)"
     ],
     "language": "python",
     "metadata": {},
     "outputs": [
      {
       "metadata": {},
       "output_type": "pyout",
       "prompt_number": 246,
       "text": [
        "'2014-06-19 11:44:30'"
       ]
      }
     ],
     "prompt_number": 246
    },
    {
     "cell_type": "heading",
     "level": 1,
     "metadata": {},
     "source": [
      "QC fast5 files"
     ]
    },
    {
     "cell_type": "code",
     "collapsed": false,
     "input": [
      "processed_reads_dirs = OrderedDict()\n",
      "read_summaries = OrderedDict()\n",
      "\n",
      "for experiment in experiments:\n",
      "    print experiment\n",
      "    processed_reads_dirs[experiment] = processed_reads_dir_format.format(\n",
      "        machine=experiments[experiment]['machine'],\n",
      "        directory=experiments[experiment]['directory']\n",
      "    )\n",
      "    read_summaries[experiment] = determine_read_summaries(processed_reads_dirs[experiment])\n"
     ],
     "language": "python",
     "metadata": {},
     "outputs": [
      {
       "output_type": "stream",
       "stream": "stdout",
       "text": [
        "expt01_workflow_1_8_4\n",
        "7362"
       ]
      },
      {
       "output_type": "stream",
       "stream": "stdout",
       "text": [
        "\n",
        "expt01_workflow_1_9"
       ]
      },
      {
       "output_type": "stream",
       "stream": "stdout",
       "text": [
        "\n",
        "7362"
       ]
      },
      {
       "output_type": "stream",
       "stream": "stdout",
       "text": [
        "\n",
        "expt01_workflow_1_9_1"
       ]
      },
      {
       "output_type": "stream",
       "stream": "stdout",
       "text": [
        "\n",
        "7358"
       ]
      },
      {
       "output_type": "stream",
       "stream": "stdout",
       "text": [
        "\n",
        "expt02_workflow_1_9_1"
       ]
      },
      {
       "output_type": "stream",
       "stream": "stdout",
       "text": [
        "\n",
        "294\n",
        "expt03_workflow_1_9_1"
       ]
      },
      {
       "output_type": "stream",
       "stream": "stdout",
       "text": [
        "\n",
        "358\n",
        "expt04_workflow_1_9_1"
       ]
      },
      {
       "output_type": "stream",
       "stream": "stdout",
       "text": [
        "\n",
        "413\n",
        "expt05_aliquot_1_workflow_1_9_1"
       ]
      },
      {
       "output_type": "stream",
       "stream": "stdout",
       "text": [
        "\n",
        "61038"
       ]
      },
      {
       "output_type": "stream",
       "stream": "stdout",
       "text": [
        "\n",
        "E05_aliquot_3_workflow_1_9_1"
       ]
      },
      {
       "output_type": "stream",
       "stream": "stdout",
       "text": [
        "\n",
        "9540"
       ]
      },
      {
       "output_type": "stream",
       "stream": "stdout",
       "text": [
        "\n",
        "E05_aliquot_5_workflow_1_9_1"
       ]
      },
      {
       "output_type": "stream",
       "stream": "stdout",
       "text": [
        "\n",
        "6165"
       ]
      },
      {
       "output_type": "stream",
       "stream": "stdout",
       "text": [
        "\n",
        "E05_aliquot_2_workflow_1_9_1"
       ]
      },
      {
       "output_type": "stream",
       "stream": "stdout",
       "text": [
        "\n",
        "19546"
       ]
      },
      {
       "output_type": "stream",
       "stream": "stdout",
       "text": [
        "\n",
        "E05_aliquot_4_workflow_1_9_1"
       ]
      },
      {
       "output_type": "stream",
       "stream": "stdout",
       "text": [
        "\n",
        "18452"
       ]
      },
      {
       "output_type": "stream",
       "stream": "stdout",
       "text": [
        "\n",
        "E05_aliquot_6_workflow_1_9_1"
       ]
      },
      {
       "output_type": "stream",
       "stream": "stdout",
       "text": [
        "\n",
        "26250"
       ]
      },
      {
       "ename": "KeyError",
       "evalue": "\"unable to open object (Symbol table: Can't open object)\"",
       "output_type": "pyerr",
       "traceback": [
        "\u001b[0;31m---------------------------------------------------------------------------\u001b[0m\n\u001b[0;31mKeyError\u001b[0m                                  Traceback (most recent call last)",
        "\u001b[0;32m<ipython-input-227-bc47ba3a34e6>\u001b[0m in \u001b[0;36m<module>\u001b[0;34m()\u001b[0m\n\u001b[1;32m      8\u001b[0m         \u001b[0mdirectory\u001b[0m\u001b[0;34m=\u001b[0m\u001b[0mexperiments\u001b[0m\u001b[0;34m[\u001b[0m\u001b[0mexperiment\u001b[0m\u001b[0;34m]\u001b[0m\u001b[0;34m[\u001b[0m\u001b[0;34m'directory'\u001b[0m\u001b[0;34m]\u001b[0m\u001b[0;34m\u001b[0m\u001b[0m\n\u001b[1;32m      9\u001b[0m     )\n\u001b[0;32m---> 10\u001b[0;31m     \u001b[0mread_summaries\u001b[0m\u001b[0;34m[\u001b[0m\u001b[0mexperiment\u001b[0m\u001b[0;34m]\u001b[0m \u001b[0;34m=\u001b[0m \u001b[0mdetermine_read_summaries\u001b[0m\u001b[0;34m(\u001b[0m\u001b[0mprocessed_reads_dirs\u001b[0m\u001b[0;34m[\u001b[0m\u001b[0mexperiment\u001b[0m\u001b[0;34m]\u001b[0m\u001b[0;34m)\u001b[0m\u001b[0;34m\u001b[0m\u001b[0m\n\u001b[0m",
        "\u001b[0;32m<ipython-input-129-d50ac981f5b5>\u001b[0m in \u001b[0;36mdetermine_read_summaries\u001b[0;34m(processed_reads_dir)\u001b[0m\n\u001b[1;32m      6\u001b[0m             \u001b[0mfilenames\u001b[0m\u001b[0;34m.\u001b[0m\u001b[0mappend\u001b[0m\u001b[0;34m(\u001b[0m\u001b[0mfilename\u001b[0m\u001b[0;34m)\u001b[0m\u001b[0;34m\u001b[0m\u001b[0m\n\u001b[1;32m      7\u001b[0m     \u001b[0;32mprint\u001b[0m \u001b[0mlen\u001b[0m\u001b[0;34m(\u001b[0m\u001b[0mfilenames\u001b[0m\u001b[0;34m)\u001b[0m\u001b[0;34m\u001b[0m\u001b[0m\n\u001b[0;32m----> 8\u001b[0;31m     \u001b[0mfast5_summaries_list\u001b[0m \u001b[0;34m=\u001b[0m \u001b[0;34m[\u001b[0m\u001b[0mread_summary_from_fast5\u001b[0m\u001b[0;34m(\u001b[0m\u001b[0mfilename\u001b[0m\u001b[0;34m)\u001b[0m \u001b[0;32mfor\u001b[0m \u001b[0mfilename\u001b[0m \u001b[0;32min\u001b[0m \u001b[0mfilenames\u001b[0m\u001b[0;34m]\u001b[0m\u001b[0;34m\u001b[0m\u001b[0m\n\u001b[0m\u001b[1;32m      9\u001b[0m     \u001b[0mfast5_summaries_array\u001b[0m \u001b[0;34m=\u001b[0m \u001b[0mnp\u001b[0m\u001b[0;34m.\u001b[0m\u001b[0mhstack\u001b[0m\u001b[0;34m(\u001b[0m\u001b[0mfast5_summaries_list\u001b[0m\u001b[0;34m)\u001b[0m\u001b[0;34m.\u001b[0m\u001b[0mview\u001b[0m\u001b[0;34m(\u001b[0m\u001b[0mrecarray\u001b[0m\u001b[0;34m)\u001b[0m\u001b[0;34m\u001b[0m\u001b[0m\n\u001b[1;32m     10\u001b[0m     \u001b[0;32mreturn\u001b[0m \u001b[0mfast5_summaries_array\u001b[0m\u001b[0;34m\u001b[0m\u001b[0m\n",
        "\u001b[0;32m<ipython-input-127-ca914df5e497>\u001b[0m in \u001b[0;36mread_summary_from_fast5\u001b[0;34m(fast5_filename)\u001b[0m\n\u001b[1;32m     69\u001b[0m     \u001b[0mread_length_complement\u001b[0m \u001b[0;34m=\u001b[0m \u001b[0;36m0\u001b[0m \u001b[0;32mif\u001b[0m \u001b[0mhas_complement_read\u001b[0m\u001b[0;34m==\u001b[0m\u001b[0mFalse\u001b[0m \u001b[0;32melse\u001b[0m \u001b[0mlen\u001b[0m\u001b[0;34m(\u001b[0m\u001b[0mSeqIO\u001b[0m\u001b[0;34m.\u001b[0m\u001b[0mread\u001b[0m\u001b[0;34m(\u001b[0m\u001b[0mStringIO\u001b[0m\u001b[0;34m(\u001b[0m\u001b[0mhdf\u001b[0m\u001b[0;34m[\u001b[0m\u001b[0;34m'Analyses/Basecall_2D_000/BaseCalled_complement/Fastq'\u001b[0m\u001b[0;34m]\u001b[0m\u001b[0;34m[\u001b[0m\u001b[0;34m(\u001b[0m\u001b[0;34m)\u001b[0m\u001b[0;34m]\u001b[0m\u001b[0;34m)\u001b[0m\u001b[0;34m,\u001b[0m \u001b[0;34m'fastq'\u001b[0m\u001b[0;34m)\u001b[0m\u001b[0;34m.\u001b[0m\u001b[0mseq\u001b[0m\u001b[0;34m)\u001b[0m\u001b[0;34m\u001b[0m\u001b[0m\n\u001b[1;32m     70\u001b[0m     \u001b[0mread_length_2D\u001b[0m \u001b[0;34m=\u001b[0m \u001b[0;36m0\u001b[0m \u001b[0;32mif\u001b[0m \u001b[0mhas_2D_read\u001b[0m\u001b[0;34m==\u001b[0m\u001b[0mFalse\u001b[0m \u001b[0;32melse\u001b[0m \u001b[0mlen\u001b[0m\u001b[0;34m(\u001b[0m\u001b[0mSeqIO\u001b[0m\u001b[0;34m.\u001b[0m\u001b[0mread\u001b[0m\u001b[0;34m(\u001b[0m\u001b[0mStringIO\u001b[0m\u001b[0;34m(\u001b[0m\u001b[0mhdf\u001b[0m\u001b[0;34m[\u001b[0m\u001b[0;34m'Analyses/Basecall_2D_000/BaseCalled_2D/Fastq'\u001b[0m\u001b[0;34m]\u001b[0m\u001b[0;34m[\u001b[0m\u001b[0;34m(\u001b[0m\u001b[0;34m)\u001b[0m\u001b[0;34m]\u001b[0m\u001b[0;34m)\u001b[0m\u001b[0;34m,\u001b[0m \u001b[0;34m'fastq'\u001b[0m\u001b[0;34m)\u001b[0m\u001b[0;34m.\u001b[0m\u001b[0mseq\u001b[0m\u001b[0;34m)\u001b[0m\u001b[0;34m\u001b[0m\u001b[0m\n\u001b[0;32m---> 71\u001b[0;31m     \u001b[0mstart_time_read\u001b[0m \u001b[0;34m=\u001b[0m \u001b[0mhdf\u001b[0m\u001b[0;34m[\u001b[0m\u001b[0;34m'Analyses/EventDetection_000/Reads/Read_%s/Events'\u001b[0m \u001b[0;34m%\u001b[0m \u001b[0mread_number\u001b[0m\u001b[0;34m]\u001b[0m\u001b[0;34m.\u001b[0m\u001b[0mattrs\u001b[0m\u001b[0;34m[\u001b[0m\u001b[0;34m'start_time'\u001b[0m\u001b[0;34m]\u001b[0m\u001b[0;34m\u001b[0m\u001b[0m\n\u001b[0m\u001b[1;32m     72\u001b[0m     \u001b[0mduration_read\u001b[0m \u001b[0;34m=\u001b[0m \u001b[0mhdf\u001b[0m\u001b[0;34m[\u001b[0m\u001b[0;34m'Analyses/EventDetection_000/Reads/Read_%s/Events'\u001b[0m \u001b[0;34m%\u001b[0m \u001b[0mread_number\u001b[0m\u001b[0;34m]\u001b[0m\u001b[0;34m.\u001b[0m\u001b[0mattrs\u001b[0m\u001b[0;34m[\u001b[0m\u001b[0;34m'duration'\u001b[0m\u001b[0;34m]\u001b[0m\u001b[0;34m\u001b[0m\u001b[0m\n\u001b[1;32m     73\u001b[0m     \u001b[0mstart_time_template\u001b[0m \u001b[0;34m=\u001b[0m \u001b[0;36m0.0\u001b[0m \u001b[0;32mif\u001b[0m \u001b[0mhas_template_read\u001b[0m\u001b[0;34m==\u001b[0m\u001b[0mFalse\u001b[0m \u001b[0;32melse\u001b[0m \u001b[0mhdf\u001b[0m\u001b[0;34m[\u001b[0m\u001b[0;34m'Analyses/Basecall_2D_000/BaseCalled_template/Events'\u001b[0m\u001b[0;34m]\u001b[0m\u001b[0;34m.\u001b[0m\u001b[0mattrs\u001b[0m\u001b[0;34m[\u001b[0m\u001b[0;34m'start_time'\u001b[0m\u001b[0;34m]\u001b[0m\u001b[0;34m\u001b[0m\u001b[0m\n",
        "\u001b[0;32m/Users/rpearson/Library/Enthought/Canopy_64bit/User/lib/python2.7/site-packages/h5py/_hl/group.pyc\u001b[0m in \u001b[0;36m__getitem__\u001b[0;34m(self, name)\u001b[0m\n\u001b[1;32m    151\u001b[0m                 \u001b[0;32mraise\u001b[0m \u001b[0mValueError\u001b[0m\u001b[0;34m(\u001b[0m\u001b[0;34m\"Invalid HDF5 object reference\"\u001b[0m\u001b[0;34m)\u001b[0m\u001b[0;34m\u001b[0m\u001b[0m\n\u001b[1;32m    152\u001b[0m         \u001b[0;32melse\u001b[0m\u001b[0;34m:\u001b[0m\u001b[0;34m\u001b[0m\u001b[0m\n\u001b[0;32m--> 153\u001b[0;31m             \u001b[0moid\u001b[0m \u001b[0;34m=\u001b[0m \u001b[0mh5o\u001b[0m\u001b[0;34m.\u001b[0m\u001b[0mopen\u001b[0m\u001b[0;34m(\u001b[0m\u001b[0mself\u001b[0m\u001b[0;34m.\u001b[0m\u001b[0mid\u001b[0m\u001b[0;34m,\u001b[0m \u001b[0mself\u001b[0m\u001b[0;34m.\u001b[0m\u001b[0m_e\u001b[0m\u001b[0;34m(\u001b[0m\u001b[0mname\u001b[0m\u001b[0;34m)\u001b[0m\u001b[0;34m,\u001b[0m \u001b[0mlapl\u001b[0m\u001b[0;34m=\u001b[0m\u001b[0mself\u001b[0m\u001b[0;34m.\u001b[0m\u001b[0m_lapl\u001b[0m\u001b[0;34m)\u001b[0m\u001b[0;34m\u001b[0m\u001b[0m\n\u001b[0m\u001b[1;32m    154\u001b[0m \u001b[0;34m\u001b[0m\u001b[0m\n\u001b[1;32m    155\u001b[0m         \u001b[0motype\u001b[0m \u001b[0;34m=\u001b[0m \u001b[0mh5i\u001b[0m\u001b[0;34m.\u001b[0m\u001b[0mget_type\u001b[0m\u001b[0;34m(\u001b[0m\u001b[0moid\u001b[0m\u001b[0;34m)\u001b[0m\u001b[0;34m\u001b[0m\u001b[0m\n",
        "\u001b[0;32m/Users/rpearson/Library/Enthought/Canopy_64bit/User/lib/python2.7/site-packages/h5py/h5o.so\u001b[0m in \u001b[0;36mh5py.h5o.open (h5py/h5o.c:3127)\u001b[0;34m()\u001b[0m\n",
        "\u001b[0;31mKeyError\u001b[0m: \"unable to open object (Symbol table: Can't open object)\""
       ]
      },
      {
       "output_type": "stream",
       "stream": "stdout",
       "text": [
        "\n"
       ]
      }
     ],
     "prompt_number": 227
    },
    {
     "cell_type": "heading",
     "level": 1,
     "metadata": {},
     "source": [
      "Create fastq files"
     ]
    },
    {
     "cell_type": "code",
     "collapsed": false,
     "input": [
      "processed_reads_dirs = OrderedDict()\n",
      "output_dirs = OrderedDict()\n",
      "\n",
      "for experiment in experiments:\n",
      "    processed_reads_dirs[experiment] = processed_reads_dir_format.format(\n",
      "        machine=experiments[experiment]['machine'],\n",
      "        directory=experiments[experiment]['directory']\n",
      "    )\n",
      "    output_dirs[experiment] = output_dir_format.format(\n",
      "        directory=experiments[experiment]['directory']\n",
      "    )\n",
      "\n",
      "    if not os.path.exists(os.path.join(output_dirs[experiment], 'fastq')):\n",
      "        !mkdir -p {output_dirs[experiment]}/fastq\n",
      "    if not os.path.exists(os.path.join(output_dirs[experiment], 'fasta')):\n",
      "        !mkdir -p {output_dirs[experiment]}/fasta\n",
      "    for read_type in read_types:\n",
      "        print experiment, read_type\n",
      "        if not os.path.exists(os.path.join(output_dirs[experiment], 'fastq', 'reads_%s.fastq' % read_type)):\n",
      "            !../alignment/fast5extractbytype.py {processed_reads_dirs[experiment]} {read_type} fastq {output_dirs[experiment]}/fastq\n",
      "        if not os.path.exists(os.path.join(output_dirs[experiment], 'fasta', 'reads_%s.fasta' % read_type)):\n",
      "            !../alignment/fast5extractbytype.py {processed_reads_dirs[experiment]} {read_type} fasta {output_dirs[experiment]}/fasta\n"
     ],
     "language": "python",
     "metadata": {},
     "outputs": [
      {
       "output_type": "stream",
       "stream": "stdout",
       "text": [
        "expt01_workflow_1_8_4 template\n",
        "expt01_workflow_1_8_4 complement\n",
        "expt01_workflow_1_8_4 2D\n",
        "expt01_workflow_1_9 template\n",
        "expt01_workflow_1_9 complement\n",
        "expt01_workflow_1_9 2D\n",
        "expt01_workflow_1_9_1 template\n",
        "expt01_workflow_1_9_1 complement\n",
        "expt01_workflow_1_9_1 2D\n",
        "expt02_workflow_1_9_1 template\n",
        "expt02_workflow_1_9_1 complement\n",
        "expt02_workflow_1_9_1 2D\n",
        "expt03_workflow_1_9_1 template\n",
        "expt03_workflow_1_9_1 complement\n",
        "expt03_workflow_1_9_1 2D\n",
        "expt04_workflow_1_9_1 template\n",
        "expt04_workflow_1_9_1 complement\n",
        "expt04_workflow_1_9_1 2D\n"
       ]
      },
      {
       "output_type": "stream",
       "stream": "stdout",
       "text": [
        "expt05_aliquot_1_workflow_1_9_1 template\n"
       ]
      },
      {
       "output_type": "stream",
       "stream": "stdout",
       "text": [
        "expt05_aliquot_1_workflow_1_9_1 complement\n"
       ]
      },
      {
       "output_type": "stream",
       "stream": "stdout",
       "text": [
        "expt05_aliquot_1_workflow_1_9_1 2D\n"
       ]
      },
      {
       "output_type": "stream",
       "stream": "stdout",
       "text": [
        "E05_aliquot_3_workflow_1_9_1 template\n"
       ]
      },
      {
       "output_type": "stream",
       "stream": "stdout",
       "text": [
        "E05_aliquot_3_workflow_1_9_1 complement\n"
       ]
      },
      {
       "output_type": "stream",
       "stream": "stdout",
       "text": [
        "E05_aliquot_3_workflow_1_9_1 2D\n"
       ]
      },
      {
       "output_type": "stream",
       "stream": "stdout",
       "text": [
        "E05_aliquot_5_workflow_1_9_1 template\n"
       ]
      },
      {
       "output_type": "stream",
       "stream": "stdout",
       "text": [
        "E05_aliquot_5_workflow_1_9_1 complement\n"
       ]
      },
      {
       "output_type": "stream",
       "stream": "stdout",
       "text": [
        "E05_aliquot_5_workflow_1_9_1 2D\n"
       ]
      },
      {
       "output_type": "stream",
       "stream": "stdout",
       "text": [
        "E05_aliquot_2_workflow_1_9_1 template\n"
       ]
      },
      {
       "output_type": "stream",
       "stream": "stdout",
       "text": [
        "E05_aliquot_2_workflow_1_9_1 complement\n"
       ]
      },
      {
       "output_type": "stream",
       "stream": "stdout",
       "text": [
        "E05_aliquot_2_workflow_1_9_1 2D\n"
       ]
      },
      {
       "output_type": "stream",
       "stream": "stdout",
       "text": [
        "E05_aliquot_4_workflow_1_9_1 template\n"
       ]
      },
      {
       "output_type": "stream",
       "stream": "stdout",
       "text": [
        "E05_aliquot_4_workflow_1_9_1 complement\n"
       ]
      },
      {
       "output_type": "stream",
       "stream": "stdout",
       "text": [
        "E05_aliquot_4_workflow_1_9_1 2D\n"
       ]
      }
     ],
     "prompt_number": 233
    },
    {
     "cell_type": "heading",
     "level": 1,
     "metadata": {},
     "source": [
      "Map reads with LAST"
     ]
    },
    {
     "cell_type": "code",
     "collapsed": false,
     "input": [
      "for experiment in experiments:\n",
      "    for reference_genome in reference_genomes:\n",
      "        if not os.path.exists(os.path.join(output_dirs[experiment], 'last', reference_genome)):\n",
      "            !mkdir -p {output_dirs[experiment]}/last/{reference_genome}\n",
      "        for read_type in read_types:\n",
      "            print experiment, read_type, reference_genome\n",
      "            !../alignment/ont_mapwithlast.sh {output_dirs[experiment]}/fasta/reads_{read_type}.fasta {reference_genomes[reference_genome]} {output_dirs[experiment]}/last/{reference_genome}\n"
     ],
     "language": "python",
     "metadata": {},
     "outputs": [
      {
       "output_type": "stream",
       "stream": "stdout",
       "text": [
        "expt01_workflow_1_8_4 template ont_lambda\n",
        "Info: /data/minion/work/expt01_workflow_1_8_4/last/ont_lambda/lambda_ref.lastindex.* files already exist\r\n",
        "Info: last output already exists  + /data/minion/work/expt01_workflow_1_8_4/last/ont_lambda/reads_template.last.txt\r\n",
        "Info: mapped reads in sam format already exist  + /data/minion/work/expt01_workflow_1_8_4/last/ont_lambda/reads_template.last.sam\r\n",
        "Info: sorted bam file already exists  + /data/minion/work/expt01_workflow_1_8_4/last/ont_lambda/reads_template.last.sorted.bam\r\n",
        "Info: sorted bam index file already exists  + /data/minion/work/expt01_workflow_1_8_4/last/ont_lambda/reads_template.last.sorted.bam.bai\r\n",
        "Finished successfully : /data/minion/work/expt01_workflow_1_8_4/fasta/reads_template.fasta /data/minion/reference_genomes/lambda/lambda_ref.fasta /data/minion/work/expt01_workflow_1_8_4/last/ont_lambda\r\n"
       ]
      },
      {
       "output_type": "stream",
       "stream": "stdout",
       "text": [
        "expt01_workflow_1_8_4 complement ont_lambda\n",
        "Info: /data/minion/work/expt01_workflow_1_8_4/last/ont_lambda/lambda_ref.lastindex.* files already exist\r\n",
        "Info: last output already exists  + /data/minion/work/expt01_workflow_1_8_4/last/ont_lambda/reads_complement.last.txt\r\n",
        "Info: mapped reads in sam format already exist  + /data/minion/work/expt01_workflow_1_8_4/last/ont_lambda/reads_complement.last.sam\r\n",
        "Info: sorted bam file already exists  + /data/minion/work/expt01_workflow_1_8_4/last/ont_lambda/reads_complement.last.sorted.bam\r\n",
        "Info: sorted bam index file already exists  + /data/minion/work/expt01_workflow_1_8_4/last/ont_lambda/reads_complement.last.sorted.bam.bai\r\n",
        "Finished successfully : /data/minion/work/expt01_workflow_1_8_4/fasta/reads_complement.fasta /data/minion/reference_genomes/lambda/lambda_ref.fasta /data/minion/work/expt01_workflow_1_8_4/last/ont_lambda\r\n"
       ]
      },
      {
       "output_type": "stream",
       "stream": "stdout",
       "text": [
        "expt01_workflow_1_8_4 2D ont_lambda\n",
        "Info: /data/minion/work/expt01_workflow_1_8_4/last/ont_lambda/lambda_ref.lastindex.* files already exist\r\n",
        "Info: last output already exists  + /data/minion/work/expt01_workflow_1_8_4/last/ont_lambda/reads_2D.last.txt\r\n",
        "Info: mapped reads in sam format already exist  + /data/minion/work/expt01_workflow_1_8_4/last/ont_lambda/reads_2D.last.sam\r\n",
        "Info: sorted bam file already exists  + /data/minion/work/expt01_workflow_1_8_4/last/ont_lambda/reads_2D.last.sorted.bam\r\n",
        "Info: sorted bam index file already exists  + /data/minion/work/expt01_workflow_1_8_4/last/ont_lambda/reads_2D.last.sorted.bam.bai\r\n",
        "Finished successfully : /data/minion/work/expt01_workflow_1_8_4/fasta/reads_2D.fasta /data/minion/reference_genomes/lambda/lambda_ref.fasta /data/minion/work/expt01_workflow_1_8_4/last/ont_lambda\r\n"
       ]
      },
      {
       "output_type": "stream",
       "stream": "stdout",
       "text": [
        "expt01_workflow_1_8_4 template cs\n",
        "Info: /data/minion/work/expt01_workflow_1_8_4/last/cs/dna_cs.lastindex.* files already exist\r\n",
        "Info: last output already exists  + /data/minion/work/expt01_workflow_1_8_4/last/cs/reads_template.last.txt\r\n",
        "Info: mapped reads in sam format already exist  + /data/minion/work/expt01_workflow_1_8_4/last/cs/reads_template.last.sam\r\n",
        "Info: sorted bam file already exists  + /data/minion/work/expt01_workflow_1_8_4/last/cs/reads_template.last.sorted.bam\r\n",
        "Info: sorted bam index file already exists  + /data/minion/work/expt01_workflow_1_8_4/last/cs/reads_template.last.sorted.bam.bai\r\n",
        "Finished successfully : /data/minion/work/expt01_workflow_1_8_4/fasta/reads_template.fasta /data/minion/reference_genomes/cs/dna_cs.fasta /data/minion/work/expt01_workflow_1_8_4/last/cs\r\n"
       ]
      },
      {
       "output_type": "stream",
       "stream": "stdout",
       "text": [
        "expt01_workflow_1_8_4 complement cs\n",
        "Info: /data/minion/work/expt01_workflow_1_8_4/last/cs/dna_cs.lastindex.* files already exist\r\n",
        "Info: last output already exists  + /data/minion/work/expt01_workflow_1_8_4/last/cs/reads_complement.last.txt\r\n",
        "Info: mapped reads in sam format already exist  + /data/minion/work/expt01_workflow_1_8_4/last/cs/reads_complement.last.sam\r\n",
        "Info: sorted bam file already exists  + /data/minion/work/expt01_workflow_1_8_4/last/cs/reads_complement.last.sorted.bam\r\n",
        "Info: sorted bam index file already exists  + /data/minion/work/expt01_workflow_1_8_4/last/cs/reads_complement.last.sorted.bam.bai\r\n",
        "Finished successfully : /data/minion/work/expt01_workflow_1_8_4/fasta/reads_complement.fasta /data/minion/reference_genomes/cs/dna_cs.fasta /data/minion/work/expt01_workflow_1_8_4/last/cs\r\n"
       ]
      },
      {
       "output_type": "stream",
       "stream": "stdout",
       "text": [
        "expt01_workflow_1_8_4 2D cs\n",
        "Info: /data/minion/work/expt01_workflow_1_8_4/last/cs/dna_cs.lastindex.* files already exist\r\n",
        "Info: last output already exists  + /data/minion/work/expt01_workflow_1_8_4/last/cs/reads_2D.last.txt\r\n",
        "Info: mapped reads in sam format already exist  + /data/minion/work/expt01_workflow_1_8_4/last/cs/reads_2D.last.sam\r\n",
        "Info: sorted bam file already exists  + /data/minion/work/expt01_workflow_1_8_4/last/cs/reads_2D.last.sorted.bam\r\n",
        "Info: sorted bam index file already exists  + /data/minion/work/expt01_workflow_1_8_4/last/cs/reads_2D.last.sorted.bam.bai\r\n",
        "Finished successfully : /data/minion/work/expt01_workflow_1_8_4/fasta/reads_2D.fasta /data/minion/reference_genomes/cs/dna_cs.fasta /data/minion/work/expt01_workflow_1_8_4/last/cs\r\n"
       ]
      },
      {
       "output_type": "stream",
       "stream": "stdout",
       "text": [
        "expt01_workflow_1_8_4 template 3D7_V3\n",
        "Info: /data/minion/work/expt01_workflow_1_8_4/last/3D7_V3/3D7_V3.lastindex.* files already exist\r\n",
        "Info: last output already exists  + /data/minion/work/expt01_workflow_1_8_4/last/3D7_V3/reads_template.last.txt\r\n",
        "Info: mapped reads in sam format already exist  + /data/minion/work/expt01_workflow_1_8_4/last/3D7_V3/reads_template.last.sam\r\n",
        "Info: sorted bam file already exists  + /data/minion/work/expt01_workflow_1_8_4/last/3D7_V3/reads_template.last.sorted.bam\r\n",
        "Info: sorted bam index file already exists  + /data/minion/work/expt01_workflow_1_8_4/last/3D7_V3/reads_template.last.sorted.bam.bai\r\n",
        "Finished successfully : /data/minion/work/expt01_workflow_1_8_4/fasta/reads_template.fasta /data/minion/reference_genomes/3D7_V3/3D7_V3.fasta /data/minion/work/expt01_workflow_1_8_4/last/3D7_V3\r\n"
       ]
      },
      {
       "output_type": "stream",
       "stream": "stdout",
       "text": [
        "expt01_workflow_1_8_4 complement 3D7_V3\n",
        "Info: /data/minion/work/expt01_workflow_1_8_4/last/3D7_V3/3D7_V3.lastindex.* files already exist\r\n",
        "Info: last output already exists  + /data/minion/work/expt01_workflow_1_8_4/last/3D7_V3/reads_complement.last.txt\r\n",
        "Info: mapped reads in sam format already exist  + /data/minion/work/expt01_workflow_1_8_4/last/3D7_V3/reads_complement.last.sam\r\n",
        "Info: sorted bam file already exists  + /data/minion/work/expt01_workflow_1_8_4/last/3D7_V3/reads_complement.last.sorted.bam\r\n",
        "Info: sorted bam index file already exists  + /data/minion/work/expt01_workflow_1_8_4/last/3D7_V3/reads_complement.last.sorted.bam.bai\r\n",
        "Finished successfully : /data/minion/work/expt01_workflow_1_8_4/fasta/reads_complement.fasta /data/minion/reference_genomes/3D7_V3/3D7_V3.fasta /data/minion/work/expt01_workflow_1_8_4/last/3D7_V3\r\n"
       ]
      },
      {
       "output_type": "stream",
       "stream": "stdout",
       "text": [
        "expt01_workflow_1_8_4 2D 3D7_V3\n",
        "Info: /data/minion/work/expt01_workflow_1_8_4/last/3D7_V3/3D7_V3.lastindex.* files already exist\r\n",
        "Info: last output already exists  + /data/minion/work/expt01_workflow_1_8_4/last/3D7_V3/reads_2D.last.txt\r\n",
        "Info: mapped reads in sam format already exist  + /data/minion/work/expt01_workflow_1_8_4/last/3D7_V3/reads_2D.last.sam\r\n",
        "Info: sorted bam file already exists  + /data/minion/work/expt01_workflow_1_8_4/last/3D7_V3/reads_2D.last.sorted.bam\r\n",
        "Info: sorted bam index file already exists  + /data/minion/work/expt01_workflow_1_8_4/last/3D7_V3/reads_2D.last.sorted.bam.bai\r\n",
        "Finished successfully : /data/minion/work/expt01_workflow_1_8_4/fasta/reads_2D.fasta /data/minion/reference_genomes/3D7_V3/3D7_V3.fasta /data/minion/work/expt01_workflow_1_8_4/last/3D7_V3\r\n"
       ]
      },
      {
       "output_type": "stream",
       "stream": "stdout",
       "text": [
        "expt01_workflow_1_8_4 template AgamP3\n",
        "Info: /data/minion/work/expt01_workflow_1_8_4/last/AgamP3/Anopheles-gambiae-PEST_CHROMOSOMES_AgamP3.lastindex.* files already exist\r\n",
        "Info: last output already exists  + /data/minion/work/expt01_workflow_1_8_4/last/AgamP3/reads_template.last.txt\r\n",
        "Info: mapped reads in sam format already exist  + /data/minion/work/expt01_workflow_1_8_4/last/AgamP3/reads_template.last.sam\r\n",
        "Info: sorted bam file already exists  + /data/minion/work/expt01_workflow_1_8_4/last/AgamP3/reads_template.last.sorted.bam\r\n",
        "Info: sorted bam index file already exists  + /data/minion/work/expt01_workflow_1_8_4/last/AgamP3/reads_template.last.sorted.bam.bai\r\n",
        "Finished successfully : /data/minion/work/expt01_workflow_1_8_4/fasta/reads_template.fasta /data/minion/reference_genomes/AgamP3/Anopheles-gambiae-PEST_CHROMOSOMES_AgamP3.fasta /data/minion/work/expt01_workflow_1_8_4/last/AgamP3\r\n"
       ]
      },
      {
       "output_type": "stream",
       "stream": "stdout",
       "text": [
        "expt01_workflow_1_8_4 complement AgamP3\n",
        "Info: /data/minion/work/expt01_workflow_1_8_4/last/AgamP3/Anopheles-gambiae-PEST_CHROMOSOMES_AgamP3.lastindex.* files already exist\r\n",
        "Info: last output already exists  + /data/minion/work/expt01_workflow_1_8_4/last/AgamP3/reads_complement.last.txt\r\n",
        "Info: mapped reads in sam format already exist  + /data/minion/work/expt01_workflow_1_8_4/last/AgamP3/reads_complement.last.sam\r\n",
        "Info: sorted bam file already exists  + /data/minion/work/expt01_workflow_1_8_4/last/AgamP3/reads_complement.last.sorted.bam\r\n",
        "Info: sorted bam index file already exists  + /data/minion/work/expt01_workflow_1_8_4/last/AgamP3/reads_complement.last.sorted.bam.bai\r\n",
        "Finished successfully : /data/minion/work/expt01_workflow_1_8_4/fasta/reads_complement.fasta /data/minion/reference_genomes/AgamP3/Anopheles-gambiae-PEST_CHROMOSOMES_AgamP3.fasta /data/minion/work/expt01_workflow_1_8_4/last/AgamP3\r\n"
       ]
      },
      {
       "output_type": "stream",
       "stream": "stdout",
       "text": [
        "expt01_workflow_1_8_4 2D AgamP3\n",
        "Info: /data/minion/work/expt01_workflow_1_8_4/last/AgamP3/Anopheles-gambiae-PEST_CHROMOSOMES_AgamP3.lastindex.* files already exist\r\n",
        "Info: last output already exists  + /data/minion/work/expt01_workflow_1_8_4/last/AgamP3/reads_2D.last.txt\r\n",
        "Info: mapped reads in sam format already exist  + /data/minion/work/expt01_workflow_1_8_4/last/AgamP3/reads_2D.last.sam\r\n",
        "Info: sorted bam file already exists  + /data/minion/work/expt01_workflow_1_8_4/last/AgamP3/reads_2D.last.sorted.bam\r\n",
        "Info: sorted bam index file already exists  + /data/minion/work/expt01_workflow_1_8_4/last/AgamP3/reads_2D.last.sorted.bam.bai\r\n",
        "Finished successfully : /data/minion/work/expt01_workflow_1_8_4/fasta/reads_2D.fasta /data/minion/reference_genomes/AgamP3/Anopheles-gambiae-PEST_CHROMOSOMES_AgamP3.fasta /data/minion/work/expt01_workflow_1_8_4/last/AgamP3\r\n"
       ]
      },
      {
       "output_type": "stream",
       "stream": "stdout",
       "text": [
        "expt01_workflow_1_9 template ont_lambda\n",
        "Info: /data/minion/work/expt01_workflow_1_9/last/ont_lambda/lambda_ref.lastindex.* files already exist\r\n",
        "Info: last output already exists  + /data/minion/work/expt01_workflow_1_9/last/ont_lambda/reads_template.last.txt\r\n",
        "Info: mapped reads in sam format already exist  + /data/minion/work/expt01_workflow_1_9/last/ont_lambda/reads_template.last.sam\r\n",
        "Info: sorted bam file already exists  + /data/minion/work/expt01_workflow_1_9/last/ont_lambda/reads_template.last.sorted.bam\r\n",
        "Info: sorted bam index file already exists  + /data/minion/work/expt01_workflow_1_9/last/ont_lambda/reads_template.last.sorted.bam.bai\r\n",
        "Finished successfully : /data/minion/work/expt01_workflow_1_9/fasta/reads_template.fasta /data/minion/reference_genomes/lambda/lambda_ref.fasta /data/minion/work/expt01_workflow_1_9/last/ont_lambda\r\n"
       ]
      },
      {
       "output_type": "stream",
       "stream": "stdout",
       "text": [
        "expt01_workflow_1_9 complement ont_lambda\n",
        "Info: /data/minion/work/expt01_workflow_1_9/last/ont_lambda/lambda_ref.lastindex.* files already exist\r\n",
        "Info: last output already exists  + /data/minion/work/expt01_workflow_1_9/last/ont_lambda/reads_complement.last.txt\r\n",
        "Info: mapped reads in sam format already exist  + /data/minion/work/expt01_workflow_1_9/last/ont_lambda/reads_complement.last.sam\r\n",
        "Info: sorted bam file already exists  + /data/minion/work/expt01_workflow_1_9/last/ont_lambda/reads_complement.last.sorted.bam\r\n",
        "Info: sorted bam index file already exists  + /data/minion/work/expt01_workflow_1_9/last/ont_lambda/reads_complement.last.sorted.bam.bai\r\n",
        "Finished successfully : /data/minion/work/expt01_workflow_1_9/fasta/reads_complement.fasta /data/minion/reference_genomes/lambda/lambda_ref.fasta /data/minion/work/expt01_workflow_1_9/last/ont_lambda\r\n"
       ]
      },
      {
       "output_type": "stream",
       "stream": "stdout",
       "text": [
        "expt01_workflow_1_9 2D ont_lambda\n",
        "Info: /data/minion/work/expt01_workflow_1_9/last/ont_lambda/lambda_ref.lastindex.* files already exist\r\n",
        "Info: last output already exists  + /data/minion/work/expt01_workflow_1_9/last/ont_lambda/reads_2D.last.txt\r\n",
        "Info: mapped reads in sam format already exist  + /data/minion/work/expt01_workflow_1_9/last/ont_lambda/reads_2D.last.sam\r\n",
        "Info: sorted bam file already exists  + /data/minion/work/expt01_workflow_1_9/last/ont_lambda/reads_2D.last.sorted.bam\r\n",
        "Info: sorted bam index file already exists  + /data/minion/work/expt01_workflow_1_9/last/ont_lambda/reads_2D.last.sorted.bam.bai\r\n",
        "Finished successfully : /data/minion/work/expt01_workflow_1_9/fasta/reads_2D.fasta /data/minion/reference_genomes/lambda/lambda_ref.fasta /data/minion/work/expt01_workflow_1_9/last/ont_lambda\r\n"
       ]
      },
      {
       "output_type": "stream",
       "stream": "stdout",
       "text": [
        "expt01_workflow_1_9 template cs\n",
        "Info: /data/minion/work/expt01_workflow_1_9/last/cs/dna_cs.lastindex.* files already exist\r\n",
        "Info: last output already exists  + /data/minion/work/expt01_workflow_1_9/last/cs/reads_template.last.txt\r\n",
        "Info: mapped reads in sam format already exist  + /data/minion/work/expt01_workflow_1_9/last/cs/reads_template.last.sam\r\n",
        "Info: sorted bam file already exists  + /data/minion/work/expt01_workflow_1_9/last/cs/reads_template.last.sorted.bam\r\n",
        "Info: sorted bam index file already exists  + /data/minion/work/expt01_workflow_1_9/last/cs/reads_template.last.sorted.bam.bai\r\n",
        "Finished successfully : /data/minion/work/expt01_workflow_1_9/fasta/reads_template.fasta /data/minion/reference_genomes/cs/dna_cs.fasta /data/minion/work/expt01_workflow_1_9/last/cs\r\n"
       ]
      },
      {
       "output_type": "stream",
       "stream": "stdout",
       "text": [
        "expt01_workflow_1_9 complement cs\n",
        "Info: /data/minion/work/expt01_workflow_1_9/last/cs/dna_cs.lastindex.* files already exist\r\n",
        "Info: last output already exists  + /data/minion/work/expt01_workflow_1_9/last/cs/reads_complement.last.txt\r\n",
        "Info: mapped reads in sam format already exist  + /data/minion/work/expt01_workflow_1_9/last/cs/reads_complement.last.sam\r\n",
        "Info: sorted bam file already exists  + /data/minion/work/expt01_workflow_1_9/last/cs/reads_complement.last.sorted.bam\r\n",
        "Info: sorted bam index file already exists  + /data/minion/work/expt01_workflow_1_9/last/cs/reads_complement.last.sorted.bam.bai\r\n",
        "Finished successfully : /data/minion/work/expt01_workflow_1_9/fasta/reads_complement.fasta /data/minion/reference_genomes/cs/dna_cs.fasta /data/minion/work/expt01_workflow_1_9/last/cs\r\n"
       ]
      },
      {
       "output_type": "stream",
       "stream": "stdout",
       "text": [
        "expt01_workflow_1_9 2D cs\n",
        "Info: /data/minion/work/expt01_workflow_1_9/last/cs/dna_cs.lastindex.* files already exist\r\n",
        "Info: last output already exists  + /data/minion/work/expt01_workflow_1_9/last/cs/reads_2D.last.txt\r\n",
        "Info: mapped reads in sam format already exist  + /data/minion/work/expt01_workflow_1_9/last/cs/reads_2D.last.sam\r\n",
        "Info: sorted bam file already exists  + /data/minion/work/expt01_workflow_1_9/last/cs/reads_2D.last.sorted.bam\r\n",
        "Info: sorted bam index file already exists  + /data/minion/work/expt01_workflow_1_9/last/cs/reads_2D.last.sorted.bam.bai\r\n",
        "Finished successfully : /data/minion/work/expt01_workflow_1_9/fasta/reads_2D.fasta /data/minion/reference_genomes/cs/dna_cs.fasta /data/minion/work/expt01_workflow_1_9/last/cs\r\n"
       ]
      },
      {
       "output_type": "stream",
       "stream": "stdout",
       "text": [
        "expt01_workflow_1_9 template 3D7_V3\n",
        "Info: /data/minion/work/expt01_workflow_1_9/last/3D7_V3/3D7_V3.lastindex.* files already exist\r\n",
        "Info: last output already exists  + /data/minion/work/expt01_workflow_1_9/last/3D7_V3/reads_template.last.txt\r\n",
        "Info: mapped reads in sam format already exist  + /data/minion/work/expt01_workflow_1_9/last/3D7_V3/reads_template.last.sam\r\n",
        "Info: sorted bam file already exists  + /data/minion/work/expt01_workflow_1_9/last/3D7_V3/reads_template.last.sorted.bam\r\n",
        "Info: sorted bam index file already exists  + /data/minion/work/expt01_workflow_1_9/last/3D7_V3/reads_template.last.sorted.bam.bai\r\n",
        "Finished successfully : /data/minion/work/expt01_workflow_1_9/fasta/reads_template.fasta /data/minion/reference_genomes/3D7_V3/3D7_V3.fasta /data/minion/work/expt01_workflow_1_9/last/3D7_V3\r\n"
       ]
      },
      {
       "output_type": "stream",
       "stream": "stdout",
       "text": [
        "expt01_workflow_1_9 complement 3D7_V3\n",
        "Info: /data/minion/work/expt01_workflow_1_9/last/3D7_V3/3D7_V3.lastindex.* files already exist\r\n",
        "Info: last output already exists  + /data/minion/work/expt01_workflow_1_9/last/3D7_V3/reads_complement.last.txt\r\n",
        "Info: mapped reads in sam format already exist  + /data/minion/work/expt01_workflow_1_9/last/3D7_V3/reads_complement.last.sam\r\n",
        "Info: sorted bam file already exists  + /data/minion/work/expt01_workflow_1_9/last/3D7_V3/reads_complement.last.sorted.bam\r\n",
        "Info: sorted bam index file already exists  + /data/minion/work/expt01_workflow_1_9/last/3D7_V3/reads_complement.last.sorted.bam.bai\r\n",
        "Finished successfully : /data/minion/work/expt01_workflow_1_9/fasta/reads_complement.fasta /data/minion/reference_genomes/3D7_V3/3D7_V3.fasta /data/minion/work/expt01_workflow_1_9/last/3D7_V3\r\n"
       ]
      },
      {
       "output_type": "stream",
       "stream": "stdout",
       "text": [
        "expt01_workflow_1_9 2D 3D7_V3\n",
        "Info: /data/minion/work/expt01_workflow_1_9/last/3D7_V3/3D7_V3.lastindex.* files already exist\r\n",
        "Info: last output already exists  + /data/minion/work/expt01_workflow_1_9/last/3D7_V3/reads_2D.last.txt\r\n",
        "Info: mapped reads in sam format already exist  + /data/minion/work/expt01_workflow_1_9/last/3D7_V3/reads_2D.last.sam\r\n",
        "Info: sorted bam file already exists  + /data/minion/work/expt01_workflow_1_9/last/3D7_V3/reads_2D.last.sorted.bam\r\n",
        "Info: sorted bam index file already exists  + /data/minion/work/expt01_workflow_1_9/last/3D7_V3/reads_2D.last.sorted.bam.bai\r\n",
        "Finished successfully : /data/minion/work/expt01_workflow_1_9/fasta/reads_2D.fasta /data/minion/reference_genomes/3D7_V3/3D7_V3.fasta /data/minion/work/expt01_workflow_1_9/last/3D7_V3\r\n"
       ]
      },
      {
       "output_type": "stream",
       "stream": "stdout",
       "text": [
        "expt01_workflow_1_9 template AgamP3\n",
        "Info: /data/minion/work/expt01_workflow_1_9/last/AgamP3/Anopheles-gambiae-PEST_CHROMOSOMES_AgamP3.lastindex.* files already exist\r\n",
        "Info: last output already exists  + /data/minion/work/expt01_workflow_1_9/last/AgamP3/reads_template.last.txt\r\n",
        "Info: mapped reads in sam format already exist  + /data/minion/work/expt01_workflow_1_9/last/AgamP3/reads_template.last.sam\r\n",
        "Info: sorted bam file already exists  + /data/minion/work/expt01_workflow_1_9/last/AgamP3/reads_template.last.sorted.bam\r\n",
        "Info: sorted bam index file already exists  + /data/minion/work/expt01_workflow_1_9/last/AgamP3/reads_template.last.sorted.bam.bai\r\n",
        "Finished successfully : /data/minion/work/expt01_workflow_1_9/fasta/reads_template.fasta /data/minion/reference_genomes/AgamP3/Anopheles-gambiae-PEST_CHROMOSOMES_AgamP3.fasta /data/minion/work/expt01_workflow_1_9/last/AgamP3\r\n"
       ]
      },
      {
       "output_type": "stream",
       "stream": "stdout",
       "text": [
        "expt01_workflow_1_9 complement AgamP3\n",
        "Info: /data/minion/work/expt01_workflow_1_9/last/AgamP3/Anopheles-gambiae-PEST_CHROMOSOMES_AgamP3.lastindex.* files already exist\r\n",
        "Info: last output already exists  + /data/minion/work/expt01_workflow_1_9/last/AgamP3/reads_complement.last.txt\r\n",
        "Info: mapped reads in sam format already exist  + /data/minion/work/expt01_workflow_1_9/last/AgamP3/reads_complement.last.sam\r\n",
        "Info: sorted bam file already exists  + /data/minion/work/expt01_workflow_1_9/last/AgamP3/reads_complement.last.sorted.bam\r\n",
        "Info: sorted bam index file already exists  + /data/minion/work/expt01_workflow_1_9/last/AgamP3/reads_complement.last.sorted.bam.bai\r\n",
        "Finished successfully : /data/minion/work/expt01_workflow_1_9/fasta/reads_complement.fasta /data/minion/reference_genomes/AgamP3/Anopheles-gambiae-PEST_CHROMOSOMES_AgamP3.fasta /data/minion/work/expt01_workflow_1_9/last/AgamP3\r\n"
       ]
      },
      {
       "output_type": "stream",
       "stream": "stdout",
       "text": [
        "expt01_workflow_1_9 2D AgamP3\n",
        "Info: /data/minion/work/expt01_workflow_1_9/last/AgamP3/Anopheles-gambiae-PEST_CHROMOSOMES_AgamP3.lastindex.* files already exist\r\n",
        "Info: last output already exists  + /data/minion/work/expt01_workflow_1_9/last/AgamP3/reads_2D.last.txt\r\n",
        "Info: mapped reads in sam format already exist  + /data/minion/work/expt01_workflow_1_9/last/AgamP3/reads_2D.last.sam\r\n",
        "Info: sorted bam file already exists  + /data/minion/work/expt01_workflow_1_9/last/AgamP3/reads_2D.last.sorted.bam\r\n",
        "Info: sorted bam index file already exists  + /data/minion/work/expt01_workflow_1_9/last/AgamP3/reads_2D.last.sorted.bam.bai\r\n",
        "Finished successfully : /data/minion/work/expt01_workflow_1_9/fasta/reads_2D.fasta /data/minion/reference_genomes/AgamP3/Anopheles-gambiae-PEST_CHROMOSOMES_AgamP3.fasta /data/minion/work/expt01_workflow_1_9/last/AgamP3\r\n"
       ]
      },
      {
       "output_type": "stream",
       "stream": "stdout",
       "text": [
        "expt01_workflow_1_9_1 template ont_lambda\n",
        "Info: /data/minion/work/expt01_workflow_1_9_1/last/ont_lambda/lambda_ref.lastindex.* files already exist\r\n",
        "Info: last output already exists  + /data/minion/work/expt01_workflow_1_9_1/last/ont_lambda/reads_template.last.txt\r\n",
        "Info: mapped reads in sam format already exist  + /data/minion/work/expt01_workflow_1_9_1/last/ont_lambda/reads_template.last.sam\r\n",
        "Info: sorted bam file already exists  + /data/minion/work/expt01_workflow_1_9_1/last/ont_lambda/reads_template.last.sorted.bam\r\n",
        "Info: sorted bam index file already exists  + /data/minion/work/expt01_workflow_1_9_1/last/ont_lambda/reads_template.last.sorted.bam.bai\r\n",
        "Finished successfully : /data/minion/work/expt01_workflow_1_9_1/fasta/reads_template.fasta /data/minion/reference_genomes/lambda/lambda_ref.fasta /data/minion/work/expt01_workflow_1_9_1/last/ont_lambda\r\n"
       ]
      },
      {
       "output_type": "stream",
       "stream": "stdout",
       "text": [
        "expt01_workflow_1_9_1 complement ont_lambda\n",
        "Info: /data/minion/work/expt01_workflow_1_9_1/last/ont_lambda/lambda_ref.lastindex.* files already exist\r\n",
        "Info: last output already exists  + /data/minion/work/expt01_workflow_1_9_1/last/ont_lambda/reads_complement.last.txt\r\n",
        "Info: mapped reads in sam format already exist  + /data/minion/work/expt01_workflow_1_9_1/last/ont_lambda/reads_complement.last.sam\r\n",
        "Info: sorted bam file already exists  + /data/minion/work/expt01_workflow_1_9_1/last/ont_lambda/reads_complement.last.sorted.bam\r\n",
        "Info: sorted bam index file already exists  + /data/minion/work/expt01_workflow_1_9_1/last/ont_lambda/reads_complement.last.sorted.bam.bai\r\n",
        "Finished successfully : /data/minion/work/expt01_workflow_1_9_1/fasta/reads_complement.fasta /data/minion/reference_genomes/lambda/lambda_ref.fasta /data/minion/work/expt01_workflow_1_9_1/last/ont_lambda\r\n"
       ]
      },
      {
       "output_type": "stream",
       "stream": "stdout",
       "text": [
        "expt01_workflow_1_9_1 2D ont_lambda\n",
        "Info: /data/minion/work/expt01_workflow_1_9_1/last/ont_lambda/lambda_ref.lastindex.* files already exist\r\n",
        "Info: last output already exists  + /data/minion/work/expt01_workflow_1_9_1/last/ont_lambda/reads_2D.last.txt\r\n",
        "Info: mapped reads in sam format already exist  + /data/minion/work/expt01_workflow_1_9_1/last/ont_lambda/reads_2D.last.sam\r\n",
        "Info: sorted bam file already exists  + /data/minion/work/expt01_workflow_1_9_1/last/ont_lambda/reads_2D.last.sorted.bam\r\n",
        "Info: sorted bam index file already exists  + /data/minion/work/expt01_workflow_1_9_1/last/ont_lambda/reads_2D.last.sorted.bam.bai\r\n",
        "Finished successfully : /data/minion/work/expt01_workflow_1_9_1/fasta/reads_2D.fasta /data/minion/reference_genomes/lambda/lambda_ref.fasta /data/minion/work/expt01_workflow_1_9_1/last/ont_lambda\r\n"
       ]
      },
      {
       "output_type": "stream",
       "stream": "stdout",
       "text": [
        "expt01_workflow_1_9_1 template cs\n",
        "Info: /data/minion/work/expt01_workflow_1_9_1/last/cs/dna_cs.lastindex.* files already exist\r\n",
        "Info: last output already exists  + /data/minion/work/expt01_workflow_1_9_1/last/cs/reads_template.last.txt\r\n",
        "Info: mapped reads in sam format already exist  + /data/minion/work/expt01_workflow_1_9_1/last/cs/reads_template.last.sam\r\n",
        "Info: sorted bam file already exists  + /data/minion/work/expt01_workflow_1_9_1/last/cs/reads_template.last.sorted.bam\r\n",
        "Info: sorted bam index file already exists  + /data/minion/work/expt01_workflow_1_9_1/last/cs/reads_template.last.sorted.bam.bai\r\n",
        "Finished successfully : /data/minion/work/expt01_workflow_1_9_1/fasta/reads_template.fasta /data/minion/reference_genomes/cs/dna_cs.fasta /data/minion/work/expt01_workflow_1_9_1/last/cs\r\n"
       ]
      },
      {
       "output_type": "stream",
       "stream": "stdout",
       "text": [
        "expt01_workflow_1_9_1 complement cs\n",
        "Info: /data/minion/work/expt01_workflow_1_9_1/last/cs/dna_cs.lastindex.* files already exist\r\n",
        "Info: last output already exists  + /data/minion/work/expt01_workflow_1_9_1/last/cs/reads_complement.last.txt\r\n",
        "Info: mapped reads in sam format already exist  + /data/minion/work/expt01_workflow_1_9_1/last/cs/reads_complement.last.sam\r\n",
        "Info: sorted bam file already exists  + /data/minion/work/expt01_workflow_1_9_1/last/cs/reads_complement.last.sorted.bam\r\n",
        "Info: sorted bam index file already exists  + /data/minion/work/expt01_workflow_1_9_1/last/cs/reads_complement.last.sorted.bam.bai\r\n",
        "Finished successfully : /data/minion/work/expt01_workflow_1_9_1/fasta/reads_complement.fasta /data/minion/reference_genomes/cs/dna_cs.fasta /data/minion/work/expt01_workflow_1_9_1/last/cs\r\n"
       ]
      },
      {
       "output_type": "stream",
       "stream": "stdout",
       "text": [
        "expt01_workflow_1_9_1 2D cs\n",
        "Info: /data/minion/work/expt01_workflow_1_9_1/last/cs/dna_cs.lastindex.* files already exist\r\n",
        "Info: last output already exists  + /data/minion/work/expt01_workflow_1_9_1/last/cs/reads_2D.last.txt\r\n",
        "Info: mapped reads in sam format already exist  + /data/minion/work/expt01_workflow_1_9_1/last/cs/reads_2D.last.sam\r\n",
        "Info: sorted bam file already exists  + /data/minion/work/expt01_workflow_1_9_1/last/cs/reads_2D.last.sorted.bam\r\n",
        "Info: sorted bam index file already exists  + /data/minion/work/expt01_workflow_1_9_1/last/cs/reads_2D.last.sorted.bam.bai\r\n",
        "Finished successfully : /data/minion/work/expt01_workflow_1_9_1/fasta/reads_2D.fasta /data/minion/reference_genomes/cs/dna_cs.fasta /data/minion/work/expt01_workflow_1_9_1/last/cs\r\n"
       ]
      },
      {
       "output_type": "stream",
       "stream": "stdout",
       "text": [
        "expt01_workflow_1_9_1 template 3D7_V3\n",
        "Info: /data/minion/work/expt01_workflow_1_9_1/last/3D7_V3/3D7_V3.lastindex.* files already exist\r\n",
        "Info: last output already exists  + /data/minion/work/expt01_workflow_1_9_1/last/3D7_V3/reads_template.last.txt\r\n",
        "Info: mapped reads in sam format already exist  + /data/minion/work/expt01_workflow_1_9_1/last/3D7_V3/reads_template.last.sam\r\n",
        "Info: sorted bam file already exists  + /data/minion/work/expt01_workflow_1_9_1/last/3D7_V3/reads_template.last.sorted.bam\r\n",
        "Info: sorted bam index file already exists  + /data/minion/work/expt01_workflow_1_9_1/last/3D7_V3/reads_template.last.sorted.bam.bai\r\n",
        "Finished successfully : /data/minion/work/expt01_workflow_1_9_1/fasta/reads_template.fasta /data/minion/reference_genomes/3D7_V3/3D7_V3.fasta /data/minion/work/expt01_workflow_1_9_1/last/3D7_V3\r\n"
       ]
      },
      {
       "output_type": "stream",
       "stream": "stdout",
       "text": [
        "expt01_workflow_1_9_1 complement 3D7_V3\n",
        "Info: /data/minion/work/expt01_workflow_1_9_1/last/3D7_V3/3D7_V3.lastindex.* files already exist\r\n",
        "Info: last output already exists  + /data/minion/work/expt01_workflow_1_9_1/last/3D7_V3/reads_complement.last.txt\r\n",
        "Info: mapped reads in sam format already exist  + /data/minion/work/expt01_workflow_1_9_1/last/3D7_V3/reads_complement.last.sam\r\n",
        "Info: sorted bam file already exists  + /data/minion/work/expt01_workflow_1_9_1/last/3D7_V3/reads_complement.last.sorted.bam\r\n",
        "Info: sorted bam index file already exists  + /data/minion/work/expt01_workflow_1_9_1/last/3D7_V3/reads_complement.last.sorted.bam.bai\r\n",
        "Finished successfully : /data/minion/work/expt01_workflow_1_9_1/fasta/reads_complement.fasta /data/minion/reference_genomes/3D7_V3/3D7_V3.fasta /data/minion/work/expt01_workflow_1_9_1/last/3D7_V3\r\n"
       ]
      },
      {
       "output_type": "stream",
       "stream": "stdout",
       "text": [
        "expt01_workflow_1_9_1 2D 3D7_V3\n",
        "Info: /data/minion/work/expt01_workflow_1_9_1/last/3D7_V3/3D7_V3.lastindex.* files already exist\r\n",
        "Info: last output already exists  + /data/minion/work/expt01_workflow_1_9_1/last/3D7_V3/reads_2D.last.txt\r\n",
        "Info: mapped reads in sam format already exist  + /data/minion/work/expt01_workflow_1_9_1/last/3D7_V3/reads_2D.last.sam\r\n",
        "Info: sorted bam file already exists  + /data/minion/work/expt01_workflow_1_9_1/last/3D7_V3/reads_2D.last.sorted.bam\r\n",
        "Info: sorted bam index file already exists  + /data/minion/work/expt01_workflow_1_9_1/last/3D7_V3/reads_2D.last.sorted.bam.bai\r\n",
        "Finished successfully : /data/minion/work/expt01_workflow_1_9_1/fasta/reads_2D.fasta /data/minion/reference_genomes/3D7_V3/3D7_V3.fasta /data/minion/work/expt01_workflow_1_9_1/last/3D7_V3\r\n"
       ]
      },
      {
       "output_type": "stream",
       "stream": "stdout",
       "text": [
        "expt01_workflow_1_9_1 template AgamP3\n",
        "Info: /data/minion/work/expt01_workflow_1_9_1/last/AgamP3/Anopheles-gambiae-PEST_CHROMOSOMES_AgamP3.lastindex.* files already exist\r\n",
        "Info: last output already exists  + /data/minion/work/expt01_workflow_1_9_1/last/AgamP3/reads_template.last.txt\r\n",
        "Info: mapped reads in sam format already exist  + /data/minion/work/expt01_workflow_1_9_1/last/AgamP3/reads_template.last.sam\r\n",
        "Info: sorted bam file already exists  + /data/minion/work/expt01_workflow_1_9_1/last/AgamP3/reads_template.last.sorted.bam\r\n",
        "Info: sorted bam index file already exists  + /data/minion/work/expt01_workflow_1_9_1/last/AgamP3/reads_template.last.sorted.bam.bai\r\n",
        "Finished successfully : /data/minion/work/expt01_workflow_1_9_1/fasta/reads_template.fasta /data/minion/reference_genomes/AgamP3/Anopheles-gambiae-PEST_CHROMOSOMES_AgamP3.fasta /data/minion/work/expt01_workflow_1_9_1/last/AgamP3\r\n"
       ]
      },
      {
       "output_type": "stream",
       "stream": "stdout",
       "text": [
        "expt01_workflow_1_9_1 complement AgamP3\n",
        "Info: /data/minion/work/expt01_workflow_1_9_1/last/AgamP3/Anopheles-gambiae-PEST_CHROMOSOMES_AgamP3.lastindex.* files already exist\r\n",
        "Info: last output already exists  + /data/minion/work/expt01_workflow_1_9_1/last/AgamP3/reads_complement.last.txt\r\n",
        "Info: mapped reads in sam format already exist  + /data/minion/work/expt01_workflow_1_9_1/last/AgamP3/reads_complement.last.sam\r\n",
        "Info: sorted bam file already exists  + /data/minion/work/expt01_workflow_1_9_1/last/AgamP3/reads_complement.last.sorted.bam\r\n",
        "Info: sorted bam index file already exists  + /data/minion/work/expt01_workflow_1_9_1/last/AgamP3/reads_complement.last.sorted.bam.bai\r\n",
        "Finished successfully : /data/minion/work/expt01_workflow_1_9_1/fasta/reads_complement.fasta /data/minion/reference_genomes/AgamP3/Anopheles-gambiae-PEST_CHROMOSOMES_AgamP3.fasta /data/minion/work/expt01_workflow_1_9_1/last/AgamP3\r\n"
       ]
      },
      {
       "output_type": "stream",
       "stream": "stdout",
       "text": [
        "expt01_workflow_1_9_1 2D AgamP3\n",
        "Info: /data/minion/work/expt01_workflow_1_9_1/last/AgamP3/Anopheles-gambiae-PEST_CHROMOSOMES_AgamP3.lastindex.* files already exist\r\n",
        "Info: last output already exists  + /data/minion/work/expt01_workflow_1_9_1/last/AgamP3/reads_2D.last.txt\r\n",
        "Info: mapped reads in sam format already exist  + /data/minion/work/expt01_workflow_1_9_1/last/AgamP3/reads_2D.last.sam\r\n",
        "Info: sorted bam file already exists  + /data/minion/work/expt01_workflow_1_9_1/last/AgamP3/reads_2D.last.sorted.bam\r\n",
        "Info: sorted bam index file already exists  + /data/minion/work/expt01_workflow_1_9_1/last/AgamP3/reads_2D.last.sorted.bam.bai\r\n",
        "Finished successfully : /data/minion/work/expt01_workflow_1_9_1/fasta/reads_2D.fasta /data/minion/reference_genomes/AgamP3/Anopheles-gambiae-PEST_CHROMOSOMES_AgamP3.fasta /data/minion/work/expt01_workflow_1_9_1/last/AgamP3\r\n"
       ]
      },
      {
       "output_type": "stream",
       "stream": "stdout",
       "text": [
        "expt02_workflow_1_9_1 template ont_lambda\n",
        "Info: /data/minion/work/expt02_workflow_1_9_1/last/ont_lambda/lambda_ref.lastindex.* files already exist\r\n",
        "Info: last output already exists  + /data/minion/work/expt02_workflow_1_9_1/last/ont_lambda/reads_template.last.txt\r\n",
        "Info: mapped reads in sam format already exist  + /data/minion/work/expt02_workflow_1_9_1/last/ont_lambda/reads_template.last.sam\r\n",
        "Info: sorted bam file already exists  + /data/minion/work/expt02_workflow_1_9_1/last/ont_lambda/reads_template.last.sorted.bam\r\n",
        "Info: sorted bam index file already exists  + /data/minion/work/expt02_workflow_1_9_1/last/ont_lambda/reads_template.last.sorted.bam.bai\r\n",
        "Finished successfully : /data/minion/work/expt02_workflow_1_9_1/fasta/reads_template.fasta /data/minion/reference_genomes/lambda/lambda_ref.fasta /data/minion/work/expt02_workflow_1_9_1/last/ont_lambda\r\n"
       ]
      },
      {
       "output_type": "stream",
       "stream": "stdout",
       "text": [
        "expt02_workflow_1_9_1 complement ont_lambda\n",
        "Info: /data/minion/work/expt02_workflow_1_9_1/last/ont_lambda/lambda_ref.lastindex.* files already exist\r\n",
        "Info: last output already exists  + /data/minion/work/expt02_workflow_1_9_1/last/ont_lambda/reads_complement.last.txt\r\n",
        "Info: mapped reads in sam format already exist  + /data/minion/work/expt02_workflow_1_9_1/last/ont_lambda/reads_complement.last.sam\r\n",
        "Info: sorted bam file already exists  + /data/minion/work/expt02_workflow_1_9_1/last/ont_lambda/reads_complement.last.sorted.bam\r\n",
        "Info: sorted bam index file already exists  + /data/minion/work/expt02_workflow_1_9_1/last/ont_lambda/reads_complement.last.sorted.bam.bai\r\n",
        "Finished successfully : /data/minion/work/expt02_workflow_1_9_1/fasta/reads_complement.fasta /data/minion/reference_genomes/lambda/lambda_ref.fasta /data/minion/work/expt02_workflow_1_9_1/last/ont_lambda\r\n"
       ]
      },
      {
       "output_type": "stream",
       "stream": "stdout",
       "text": [
        "expt02_workflow_1_9_1 2D ont_lambda\n",
        "Info: /data/minion/work/expt02_workflow_1_9_1/last/ont_lambda/lambda_ref.lastindex.* files already exist\r\n",
        "Info: last output already exists  + /data/minion/work/expt02_workflow_1_9_1/last/ont_lambda/reads_2D.last.txt\r\n",
        "Info: mapped reads in sam format already exist  + /data/minion/work/expt02_workflow_1_9_1/last/ont_lambda/reads_2D.last.sam\r\n",
        "Info: sorted bam file already exists  + /data/minion/work/expt02_workflow_1_9_1/last/ont_lambda/reads_2D.last.sorted.bam\r\n",
        "Info: sorted bam index file already exists  + /data/minion/work/expt02_workflow_1_9_1/last/ont_lambda/reads_2D.last.sorted.bam.bai\r\n",
        "Finished successfully : /data/minion/work/expt02_workflow_1_9_1/fasta/reads_2D.fasta /data/minion/reference_genomes/lambda/lambda_ref.fasta /data/minion/work/expt02_workflow_1_9_1/last/ont_lambda\r\n"
       ]
      },
      {
       "output_type": "stream",
       "stream": "stdout",
       "text": [
        "expt02_workflow_1_9_1 template cs\n",
        "Info: /data/minion/work/expt02_workflow_1_9_1/last/cs/dna_cs.lastindex.* files already exist\r\n",
        "Info: last output already exists  + /data/minion/work/expt02_workflow_1_9_1/last/cs/reads_template.last.txt\r\n",
        "Info: mapped reads in sam format already exist  + /data/minion/work/expt02_workflow_1_9_1/last/cs/reads_template.last.sam\r\n",
        "Info: sorted bam file already exists  + /data/minion/work/expt02_workflow_1_9_1/last/cs/reads_template.last.sorted.bam\r\n",
        "Info: sorted bam index file already exists  + /data/minion/work/expt02_workflow_1_9_1/last/cs/reads_template.last.sorted.bam.bai\r\n",
        "Finished successfully : /data/minion/work/expt02_workflow_1_9_1/fasta/reads_template.fasta /data/minion/reference_genomes/cs/dna_cs.fasta /data/minion/work/expt02_workflow_1_9_1/last/cs\r\n"
       ]
      },
      {
       "output_type": "stream",
       "stream": "stdout",
       "text": [
        "expt02_workflow_1_9_1 complement cs\n",
        "Info: /data/minion/work/expt02_workflow_1_9_1/last/cs/dna_cs.lastindex.* files already exist\r\n",
        "Info: last output already exists  + /data/minion/work/expt02_workflow_1_9_1/last/cs/reads_complement.last.txt\r\n",
        "Info: mapped reads in sam format already exist  + /data/minion/work/expt02_workflow_1_9_1/last/cs/reads_complement.last.sam\r\n",
        "Info: sorted bam file already exists  + /data/minion/work/expt02_workflow_1_9_1/last/cs/reads_complement.last.sorted.bam\r\n",
        "Info: sorted bam index file already exists  + /data/minion/work/expt02_workflow_1_9_1/last/cs/reads_complement.last.sorted.bam.bai\r\n",
        "Finished successfully : /data/minion/work/expt02_workflow_1_9_1/fasta/reads_complement.fasta /data/minion/reference_genomes/cs/dna_cs.fasta /data/minion/work/expt02_workflow_1_9_1/last/cs\r\n"
       ]
      },
      {
       "output_type": "stream",
       "stream": "stdout",
       "text": [
        "expt02_workflow_1_9_1 2D cs\n",
        "Info: /data/minion/work/expt02_workflow_1_9_1/last/cs/dna_cs.lastindex.* files already exist\r\n",
        "Info: last output already exists  + /data/minion/work/expt02_workflow_1_9_1/last/cs/reads_2D.last.txt\r\n",
        "Info: mapped reads in sam format already exist  + /data/minion/work/expt02_workflow_1_9_1/last/cs/reads_2D.last.sam\r\n",
        "Info: sorted bam file already exists  + /data/minion/work/expt02_workflow_1_9_1/last/cs/reads_2D.last.sorted.bam\r\n",
        "Info: sorted bam index file already exists  + /data/minion/work/expt02_workflow_1_9_1/last/cs/reads_2D.last.sorted.bam.bai\r\n",
        "Finished successfully : /data/minion/work/expt02_workflow_1_9_1/fasta/reads_2D.fasta /data/minion/reference_genomes/cs/dna_cs.fasta /data/minion/work/expt02_workflow_1_9_1/last/cs\r\n"
       ]
      },
      {
       "output_type": "stream",
       "stream": "stdout",
       "text": [
        "expt02_workflow_1_9_1 template 3D7_V3\n",
        "Info: /data/minion/work/expt02_workflow_1_9_1/last/3D7_V3/3D7_V3.lastindex.* files already exist\r\n",
        "Info: last output already exists  + /data/minion/work/expt02_workflow_1_9_1/last/3D7_V3/reads_template.last.txt\r\n",
        "Info: mapped reads in sam format already exist  + /data/minion/work/expt02_workflow_1_9_1/last/3D7_V3/reads_template.last.sam\r\n",
        "Info: sorted bam file already exists  + /data/minion/work/expt02_workflow_1_9_1/last/3D7_V3/reads_template.last.sorted.bam\r\n",
        "Info: sorted bam index file already exists  + /data/minion/work/expt02_workflow_1_9_1/last/3D7_V3/reads_template.last.sorted.bam.bai\r\n",
        "Finished successfully : /data/minion/work/expt02_workflow_1_9_1/fasta/reads_template.fasta /data/minion/reference_genomes/3D7_V3/3D7_V3.fasta /data/minion/work/expt02_workflow_1_9_1/last/3D7_V3\r\n"
       ]
      },
      {
       "output_type": "stream",
       "stream": "stdout",
       "text": [
        "expt02_workflow_1_9_1 complement 3D7_V3\n",
        "Info: /data/minion/work/expt02_workflow_1_9_1/last/3D7_V3/3D7_V3.lastindex.* files already exist\r\n",
        "Info: last output already exists  + /data/minion/work/expt02_workflow_1_9_1/last/3D7_V3/reads_complement.last.txt\r\n",
        "Info: mapped reads in sam format already exist  + /data/minion/work/expt02_workflow_1_9_1/last/3D7_V3/reads_complement.last.sam\r\n",
        "Info: sorted bam file already exists  + /data/minion/work/expt02_workflow_1_9_1/last/3D7_V3/reads_complement.last.sorted.bam\r\n",
        "Info: sorted bam index file already exists  + /data/minion/work/expt02_workflow_1_9_1/last/3D7_V3/reads_complement.last.sorted.bam.bai\r\n",
        "Finished successfully : /data/minion/work/expt02_workflow_1_9_1/fasta/reads_complement.fasta /data/minion/reference_genomes/3D7_V3/3D7_V3.fasta /data/minion/work/expt02_workflow_1_9_1/last/3D7_V3\r\n"
       ]
      },
      {
       "output_type": "stream",
       "stream": "stdout",
       "text": [
        "expt02_workflow_1_9_1 2D 3D7_V3\n",
        "Info: /data/minion/work/expt02_workflow_1_9_1/last/3D7_V3/3D7_V3.lastindex.* files already exist\r\n",
        "Info: last output already exists  + /data/minion/work/expt02_workflow_1_9_1/last/3D7_V3/reads_2D.last.txt\r\n",
        "Info: mapped reads in sam format already exist  + /data/minion/work/expt02_workflow_1_9_1/last/3D7_V3/reads_2D.last.sam\r\n",
        "Info: sorted bam file already exists  + /data/minion/work/expt02_workflow_1_9_1/last/3D7_V3/reads_2D.last.sorted.bam\r\n",
        "Info: sorted bam index file already exists  + /data/minion/work/expt02_workflow_1_9_1/last/3D7_V3/reads_2D.last.sorted.bam.bai\r\n",
        "Finished successfully : /data/minion/work/expt02_workflow_1_9_1/fasta/reads_2D.fasta /data/minion/reference_genomes/3D7_V3/3D7_V3.fasta /data/minion/work/expt02_workflow_1_9_1/last/3D7_V3\r\n"
       ]
      },
      {
       "output_type": "stream",
       "stream": "stdout",
       "text": [
        "expt02_workflow_1_9_1 template AgamP3\n",
        "Info: /data/minion/work/expt02_workflow_1_9_1/last/AgamP3/Anopheles-gambiae-PEST_CHROMOSOMES_AgamP3.lastindex.* files already exist\r\n",
        "Info: last output already exists  + /data/minion/work/expt02_workflow_1_9_1/last/AgamP3/reads_template.last.txt\r\n",
        "Info: mapped reads in sam format already exist  + /data/minion/work/expt02_workflow_1_9_1/last/AgamP3/reads_template.last.sam\r\n",
        "Info: sorted bam file already exists  + /data/minion/work/expt02_workflow_1_9_1/last/AgamP3/reads_template.last.sorted.bam\r\n",
        "Info: sorted bam index file already exists  + /data/minion/work/expt02_workflow_1_9_1/last/AgamP3/reads_template.last.sorted.bam.bai\r\n",
        "Finished successfully : /data/minion/work/expt02_workflow_1_9_1/fasta/reads_template.fasta /data/minion/reference_genomes/AgamP3/Anopheles-gambiae-PEST_CHROMOSOMES_AgamP3.fasta /data/minion/work/expt02_workflow_1_9_1/last/AgamP3\r\n"
       ]
      },
      {
       "output_type": "stream",
       "stream": "stdout",
       "text": [
        "expt02_workflow_1_9_1 complement AgamP3\n",
        "Info: /data/minion/work/expt02_workflow_1_9_1/last/AgamP3/Anopheles-gambiae-PEST_CHROMOSOMES_AgamP3.lastindex.* files already exist\r\n",
        "Info: last output already exists  + /data/minion/work/expt02_workflow_1_9_1/last/AgamP3/reads_complement.last.txt\r\n",
        "Info: mapped reads in sam format already exist  + /data/minion/work/expt02_workflow_1_9_1/last/AgamP3/reads_complement.last.sam\r\n",
        "Info: sorted bam file already exists  + /data/minion/work/expt02_workflow_1_9_1/last/AgamP3/reads_complement.last.sorted.bam\r\n",
        "Info: sorted bam index file already exists  + /data/minion/work/expt02_workflow_1_9_1/last/AgamP3/reads_complement.last.sorted.bam.bai\r\n",
        "Finished successfully : /data/minion/work/expt02_workflow_1_9_1/fasta/reads_complement.fasta /data/minion/reference_genomes/AgamP3/Anopheles-gambiae-PEST_CHROMOSOMES_AgamP3.fasta /data/minion/work/expt02_workflow_1_9_1/last/AgamP3\r\n"
       ]
      },
      {
       "output_type": "stream",
       "stream": "stdout",
       "text": [
        "expt02_workflow_1_9_1 2D AgamP3\n",
        "Info: /data/minion/work/expt02_workflow_1_9_1/last/AgamP3/Anopheles-gambiae-PEST_CHROMOSOMES_AgamP3.lastindex.* files already exist\r\n",
        "Info: last output already exists  + /data/minion/work/expt02_workflow_1_9_1/last/AgamP3/reads_2D.last.txt\r\n",
        "Info: mapped reads in sam format already exist  + /data/minion/work/expt02_workflow_1_9_1/last/AgamP3/reads_2D.last.sam\r\n",
        "Info: sorted bam file already exists  + /data/minion/work/expt02_workflow_1_9_1/last/AgamP3/reads_2D.last.sorted.bam\r\n",
        "Info: sorted bam index file already exists  + /data/minion/work/expt02_workflow_1_9_1/last/AgamP3/reads_2D.last.sorted.bam.bai\r\n",
        "Finished successfully : /data/minion/work/expt02_workflow_1_9_1/fasta/reads_2D.fasta /data/minion/reference_genomes/AgamP3/Anopheles-gambiae-PEST_CHROMOSOMES_AgamP3.fasta /data/minion/work/expt02_workflow_1_9_1/last/AgamP3\r\n"
       ]
      },
      {
       "output_type": "stream",
       "stream": "stdout",
       "text": [
        "expt03_workflow_1_9_1 template ont_lambda\n",
        "Info: /data/minion/work/expt03_workflow_1_9_1/last/ont_lambda/lambda_ref.lastindex.* files already exist\r\n",
        "Info: last output already exists  + /data/minion/work/expt03_workflow_1_9_1/last/ont_lambda/reads_template.last.txt\r\n",
        "Info: mapped reads in sam format already exist  + /data/minion/work/expt03_workflow_1_9_1/last/ont_lambda/reads_template.last.sam\r\n",
        "Info: sorted bam file already exists  + /data/minion/work/expt03_workflow_1_9_1/last/ont_lambda/reads_template.last.sorted.bam\r\n",
        "Info: sorted bam index file already exists  + /data/minion/work/expt03_workflow_1_9_1/last/ont_lambda/reads_template.last.sorted.bam.bai\r\n",
        "Finished successfully : /data/minion/work/expt03_workflow_1_9_1/fasta/reads_template.fasta /data/minion/reference_genomes/lambda/lambda_ref.fasta /data/minion/work/expt03_workflow_1_9_1/last/ont_lambda\r\n"
       ]
      },
      {
       "output_type": "stream",
       "stream": "stdout",
       "text": [
        "expt03_workflow_1_9_1 complement ont_lambda\n",
        "Info: /data/minion/work/expt03_workflow_1_9_1/last/ont_lambda/lambda_ref.lastindex.* files already exist\r\n",
        "Info: last output already exists  + /data/minion/work/expt03_workflow_1_9_1/last/ont_lambda/reads_complement.last.txt\r\n",
        "Info: mapped reads in sam format already exist  + /data/minion/work/expt03_workflow_1_9_1/last/ont_lambda/reads_complement.last.sam\r\n",
        "Info: sorted bam file already exists  + /data/minion/work/expt03_workflow_1_9_1/last/ont_lambda/reads_complement.last.sorted.bam\r\n",
        "Info: sorted bam index file already exists  + /data/minion/work/expt03_workflow_1_9_1/last/ont_lambda/reads_complement.last.sorted.bam.bai\r\n",
        "Finished successfully : /data/minion/work/expt03_workflow_1_9_1/fasta/reads_complement.fasta /data/minion/reference_genomes/lambda/lambda_ref.fasta /data/minion/work/expt03_workflow_1_9_1/last/ont_lambda\r\n"
       ]
      },
      {
       "output_type": "stream",
       "stream": "stdout",
       "text": [
        "expt03_workflow_1_9_1 2D ont_lambda\n",
        "Info: /data/minion/work/expt03_workflow_1_9_1/last/ont_lambda/lambda_ref.lastindex.* files already exist\r\n",
        "Info: last output already exists  + /data/minion/work/expt03_workflow_1_9_1/last/ont_lambda/reads_2D.last.txt\r\n",
        "Info: mapped reads in sam format already exist  + /data/minion/work/expt03_workflow_1_9_1/last/ont_lambda/reads_2D.last.sam\r\n",
        "Info: sorted bam file already exists  + /data/minion/work/expt03_workflow_1_9_1/last/ont_lambda/reads_2D.last.sorted.bam\r\n",
        "Info: sorted bam index file already exists  + /data/minion/work/expt03_workflow_1_9_1/last/ont_lambda/reads_2D.last.sorted.bam.bai\r\n",
        "Finished successfully : /data/minion/work/expt03_workflow_1_9_1/fasta/reads_2D.fasta /data/minion/reference_genomes/lambda/lambda_ref.fasta /data/minion/work/expt03_workflow_1_9_1/last/ont_lambda\r\n"
       ]
      },
      {
       "output_type": "stream",
       "stream": "stdout",
       "text": [
        "expt03_workflow_1_9_1 template cs\n",
        "Info: /data/minion/work/expt03_workflow_1_9_1/last/cs/dna_cs.lastindex.* files already exist\r\n",
        "Info: last output already exists  + /data/minion/work/expt03_workflow_1_9_1/last/cs/reads_template.last.txt\r\n",
        "Info: mapped reads in sam format already exist  + /data/minion/work/expt03_workflow_1_9_1/last/cs/reads_template.last.sam\r\n",
        "Info: sorted bam file already exists  + /data/minion/work/expt03_workflow_1_9_1/last/cs/reads_template.last.sorted.bam\r\n",
        "Info: sorted bam index file already exists  + /data/minion/work/expt03_workflow_1_9_1/last/cs/reads_template.last.sorted.bam.bai\r\n",
        "Finished successfully : /data/minion/work/expt03_workflow_1_9_1/fasta/reads_template.fasta /data/minion/reference_genomes/cs/dna_cs.fasta /data/minion/work/expt03_workflow_1_9_1/last/cs\r\n"
       ]
      },
      {
       "output_type": "stream",
       "stream": "stdout",
       "text": [
        "expt03_workflow_1_9_1 complement cs\n",
        "Info: /data/minion/work/expt03_workflow_1_9_1/last/cs/dna_cs.lastindex.* files already exist\r\n",
        "Info: last output already exists  + /data/minion/work/expt03_workflow_1_9_1/last/cs/reads_complement.last.txt\r\n",
        "Info: mapped reads in sam format already exist  + /data/minion/work/expt03_workflow_1_9_1/last/cs/reads_complement.last.sam\r\n",
        "Info: sorted bam file already exists  + /data/minion/work/expt03_workflow_1_9_1/last/cs/reads_complement.last.sorted.bam\r\n",
        "Info: sorted bam index file already exists  + /data/minion/work/expt03_workflow_1_9_1/last/cs/reads_complement.last.sorted.bam.bai\r\n",
        "Finished successfully : /data/minion/work/expt03_workflow_1_9_1/fasta/reads_complement.fasta /data/minion/reference_genomes/cs/dna_cs.fasta /data/minion/work/expt03_workflow_1_9_1/last/cs\r\n"
       ]
      },
      {
       "output_type": "stream",
       "stream": "stdout",
       "text": [
        "expt03_workflow_1_9_1 2D cs\n",
        "Info: /data/minion/work/expt03_workflow_1_9_1/last/cs/dna_cs.lastindex.* files already exist\r\n",
        "Info: last output already exists  + /data/minion/work/expt03_workflow_1_9_1/last/cs/reads_2D.last.txt\r\n",
        "Info: mapped reads in sam format already exist  + /data/minion/work/expt03_workflow_1_9_1/last/cs/reads_2D.last.sam\r\n",
        "Info: sorted bam file already exists  + /data/minion/work/expt03_workflow_1_9_1/last/cs/reads_2D.last.sorted.bam\r\n",
        "Info: sorted bam index file already exists  + /data/minion/work/expt03_workflow_1_9_1/last/cs/reads_2D.last.sorted.bam.bai\r\n",
        "Finished successfully : /data/minion/work/expt03_workflow_1_9_1/fasta/reads_2D.fasta /data/minion/reference_genomes/cs/dna_cs.fasta /data/minion/work/expt03_workflow_1_9_1/last/cs\r\n"
       ]
      },
      {
       "output_type": "stream",
       "stream": "stdout",
       "text": [
        "expt03_workflow_1_9_1 template 3D7_V3\n",
        "Info: /data/minion/work/expt03_workflow_1_9_1/last/3D7_V3/3D7_V3.lastindex.* files already exist\r\n",
        "Info: last output already exists  + /data/minion/work/expt03_workflow_1_9_1/last/3D7_V3/reads_template.last.txt\r\n",
        "Info: mapped reads in sam format already exist  + /data/minion/work/expt03_workflow_1_9_1/last/3D7_V3/reads_template.last.sam\r\n",
        "Info: sorted bam file already exists  + /data/minion/work/expt03_workflow_1_9_1/last/3D7_V3/reads_template.last.sorted.bam\r\n",
        "Info: sorted bam index file already exists  + /data/minion/work/expt03_workflow_1_9_1/last/3D7_V3/reads_template.last.sorted.bam.bai\r\n",
        "Finished successfully : /data/minion/work/expt03_workflow_1_9_1/fasta/reads_template.fasta /data/minion/reference_genomes/3D7_V3/3D7_V3.fasta /data/minion/work/expt03_workflow_1_9_1/last/3D7_V3\r\n"
       ]
      },
      {
       "output_type": "stream",
       "stream": "stdout",
       "text": [
        "expt03_workflow_1_9_1 complement 3D7_V3\n",
        "Info: /data/minion/work/expt03_workflow_1_9_1/last/3D7_V3/3D7_V3.lastindex.* files already exist\r\n",
        "Info: last output already exists  + /data/minion/work/expt03_workflow_1_9_1/last/3D7_V3/reads_complement.last.txt\r\n",
        "Info: mapped reads in sam format already exist  + /data/minion/work/expt03_workflow_1_9_1/last/3D7_V3/reads_complement.last.sam\r\n",
        "Info: sorted bam file already exists  + /data/minion/work/expt03_workflow_1_9_1/last/3D7_V3/reads_complement.last.sorted.bam\r\n",
        "Info: sorted bam index file already exists  + /data/minion/work/expt03_workflow_1_9_1/last/3D7_V3/reads_complement.last.sorted.bam.bai\r\n",
        "Finished successfully : /data/minion/work/expt03_workflow_1_9_1/fasta/reads_complement.fasta /data/minion/reference_genomes/3D7_V3/3D7_V3.fasta /data/minion/work/expt03_workflow_1_9_1/last/3D7_V3\r\n"
       ]
      },
      {
       "output_type": "stream",
       "stream": "stdout",
       "text": [
        "expt03_workflow_1_9_1 2D 3D7_V3\n",
        "Info: /data/minion/work/expt03_workflow_1_9_1/last/3D7_V3/3D7_V3.lastindex.* files already exist\r\n",
        "Info: last output already exists  + /data/minion/work/expt03_workflow_1_9_1/last/3D7_V3/reads_2D.last.txt\r\n",
        "Info: mapped reads in sam format already exist  + /data/minion/work/expt03_workflow_1_9_1/last/3D7_V3/reads_2D.last.sam\r\n",
        "Info: sorted bam file already exists  + /data/minion/work/expt03_workflow_1_9_1/last/3D7_V3/reads_2D.last.sorted.bam\r\n",
        "Info: sorted bam index file already exists  + /data/minion/work/expt03_workflow_1_9_1/last/3D7_V3/reads_2D.last.sorted.bam.bai\r\n",
        "Finished successfully : /data/minion/work/expt03_workflow_1_9_1/fasta/reads_2D.fasta /data/minion/reference_genomes/3D7_V3/3D7_V3.fasta /data/minion/work/expt03_workflow_1_9_1/last/3D7_V3\r\n"
       ]
      },
      {
       "output_type": "stream",
       "stream": "stdout",
       "text": [
        "expt03_workflow_1_9_1 template AgamP3\n",
        "Info: /data/minion/work/expt03_workflow_1_9_1/last/AgamP3/Anopheles-gambiae-PEST_CHROMOSOMES_AgamP3.lastindex.* files already exist\r\n",
        "Info: last output already exists  + /data/minion/work/expt03_workflow_1_9_1/last/AgamP3/reads_template.last.txt\r\n",
        "Info: mapped reads in sam format already exist  + /data/minion/work/expt03_workflow_1_9_1/last/AgamP3/reads_template.last.sam\r\n",
        "Info: sorted bam file already exists  + /data/minion/work/expt03_workflow_1_9_1/last/AgamP3/reads_template.last.sorted.bam\r\n",
        "Info: sorted bam index file already exists  + /data/minion/work/expt03_workflow_1_9_1/last/AgamP3/reads_template.last.sorted.bam.bai\r\n",
        "Finished successfully : /data/minion/work/expt03_workflow_1_9_1/fasta/reads_template.fasta /data/minion/reference_genomes/AgamP3/Anopheles-gambiae-PEST_CHROMOSOMES_AgamP3.fasta /data/minion/work/expt03_workflow_1_9_1/last/AgamP3\r\n"
       ]
      },
      {
       "output_type": "stream",
       "stream": "stdout",
       "text": [
        "expt03_workflow_1_9_1 complement AgamP3\n",
        "Info: /data/minion/work/expt03_workflow_1_9_1/last/AgamP3/Anopheles-gambiae-PEST_CHROMOSOMES_AgamP3.lastindex.* files already exist\r\n",
        "Info: last output already exists  + /data/minion/work/expt03_workflow_1_9_1/last/AgamP3/reads_complement.last.txt\r\n",
        "Info: mapped reads in sam format already exist  + /data/minion/work/expt03_workflow_1_9_1/last/AgamP3/reads_complement.last.sam\r\n",
        "Info: sorted bam file already exists  + /data/minion/work/expt03_workflow_1_9_1/last/AgamP3/reads_complement.last.sorted.bam\r\n",
        "Info: sorted bam index file already exists  + /data/minion/work/expt03_workflow_1_9_1/last/AgamP3/reads_complement.last.sorted.bam.bai\r\n",
        "Finished successfully : /data/minion/work/expt03_workflow_1_9_1/fasta/reads_complement.fasta /data/minion/reference_genomes/AgamP3/Anopheles-gambiae-PEST_CHROMOSOMES_AgamP3.fasta /data/minion/work/expt03_workflow_1_9_1/last/AgamP3\r\n"
       ]
      },
      {
       "output_type": "stream",
       "stream": "stdout",
       "text": [
        "expt03_workflow_1_9_1 2D AgamP3\n",
        "Info: /data/minion/work/expt03_workflow_1_9_1/last/AgamP3/Anopheles-gambiae-PEST_CHROMOSOMES_AgamP3.lastindex.* files already exist\r\n",
        "Info: last output already exists  + /data/minion/work/expt03_workflow_1_9_1/last/AgamP3/reads_2D.last.txt\r\n",
        "Info: mapped reads in sam format already exist  + /data/minion/work/expt03_workflow_1_9_1/last/AgamP3/reads_2D.last.sam\r\n",
        "Info: sorted bam file already exists  + /data/minion/work/expt03_workflow_1_9_1/last/AgamP3/reads_2D.last.sorted.bam\r\n",
        "Info: sorted bam index file already exists  + /data/minion/work/expt03_workflow_1_9_1/last/AgamP3/reads_2D.last.sorted.bam.bai\r\n",
        "Finished successfully : /data/minion/work/expt03_workflow_1_9_1/fasta/reads_2D.fasta /data/minion/reference_genomes/AgamP3/Anopheles-gambiae-PEST_CHROMOSOMES_AgamP3.fasta /data/minion/work/expt03_workflow_1_9_1/last/AgamP3\r\n"
       ]
      },
      {
       "output_type": "stream",
       "stream": "stdout",
       "text": [
        "expt04_workflow_1_9_1 template ont_lambda\n",
        "Info: /data/minion/work/expt04_workflow_1_9_1/last/ont_lambda/lambda_ref.lastindex.* files already exist\r\n",
        "Info: last output already exists  + /data/minion/work/expt04_workflow_1_9_1/last/ont_lambda/reads_template.last.txt\r\n",
        "Info: mapped reads in sam format already exist  + /data/minion/work/expt04_workflow_1_9_1/last/ont_lambda/reads_template.last.sam\r\n",
        "Info: sorted bam file already exists  + /data/minion/work/expt04_workflow_1_9_1/last/ont_lambda/reads_template.last.sorted.bam\r\n",
        "Info: sorted bam index file already exists  + /data/minion/work/expt04_workflow_1_9_1/last/ont_lambda/reads_template.last.sorted.bam.bai\r\n",
        "Finished successfully : /data/minion/work/expt04_workflow_1_9_1/fasta/reads_template.fasta /data/minion/reference_genomes/lambda/lambda_ref.fasta /data/minion/work/expt04_workflow_1_9_1/last/ont_lambda\r\n"
       ]
      },
      {
       "output_type": "stream",
       "stream": "stdout",
       "text": [
        "expt04_workflow_1_9_1 complement ont_lambda\n",
        "Info: /data/minion/work/expt04_workflow_1_9_1/last/ont_lambda/lambda_ref.lastindex.* files already exist\r\n",
        "Info: last output already exists  + /data/minion/work/expt04_workflow_1_9_1/last/ont_lambda/reads_complement.last.txt\r\n",
        "Info: mapped reads in sam format already exist  + /data/minion/work/expt04_workflow_1_9_1/last/ont_lambda/reads_complement.last.sam\r\n",
        "Info: sorted bam file already exists  + /data/minion/work/expt04_workflow_1_9_1/last/ont_lambda/reads_complement.last.sorted.bam\r\n",
        "Info: sorted bam index file already exists  + /data/minion/work/expt04_workflow_1_9_1/last/ont_lambda/reads_complement.last.sorted.bam.bai\r\n",
        "Finished successfully : /data/minion/work/expt04_workflow_1_9_1/fasta/reads_complement.fasta /data/minion/reference_genomes/lambda/lambda_ref.fasta /data/minion/work/expt04_workflow_1_9_1/last/ont_lambda\r\n"
       ]
      },
      {
       "output_type": "stream",
       "stream": "stdout",
       "text": [
        "expt04_workflow_1_9_1 2D ont_lambda\n",
        "Info: /data/minion/work/expt04_workflow_1_9_1/last/ont_lambda/lambda_ref.lastindex.* files already exist\r\n",
        "Info: last output already exists  + /data/minion/work/expt04_workflow_1_9_1/last/ont_lambda/reads_2D.last.txt\r\n",
        "Info: mapped reads in sam format already exist  + /data/minion/work/expt04_workflow_1_9_1/last/ont_lambda/reads_2D.last.sam\r\n",
        "Info: sorted bam file already exists  + /data/minion/work/expt04_workflow_1_9_1/last/ont_lambda/reads_2D.last.sorted.bam\r\n",
        "Info: sorted bam index file already exists  + /data/minion/work/expt04_workflow_1_9_1/last/ont_lambda/reads_2D.last.sorted.bam.bai\r\n",
        "Finished successfully : /data/minion/work/expt04_workflow_1_9_1/fasta/reads_2D.fasta /data/minion/reference_genomes/lambda/lambda_ref.fasta /data/minion/work/expt04_workflow_1_9_1/last/ont_lambda\r\n"
       ]
      },
      {
       "output_type": "stream",
       "stream": "stdout",
       "text": [
        "expt04_workflow_1_9_1 template cs\n",
        "Info: /data/minion/work/expt04_workflow_1_9_1/last/cs/dna_cs.lastindex.* files already exist\r\n",
        "Info: last output already exists  + /data/minion/work/expt04_workflow_1_9_1/last/cs/reads_template.last.txt\r\n",
        "Info: mapped reads in sam format already exist  + /data/minion/work/expt04_workflow_1_9_1/last/cs/reads_template.last.sam\r\n",
        "Info: sorted bam file already exists  + /data/minion/work/expt04_workflow_1_9_1/last/cs/reads_template.last.sorted.bam\r\n",
        "Info: sorted bam index file already exists  + /data/minion/work/expt04_workflow_1_9_1/last/cs/reads_template.last.sorted.bam.bai\r\n",
        "Finished successfully : /data/minion/work/expt04_workflow_1_9_1/fasta/reads_template.fasta /data/minion/reference_genomes/cs/dna_cs.fasta /data/minion/work/expt04_workflow_1_9_1/last/cs\r\n"
       ]
      },
      {
       "output_type": "stream",
       "stream": "stdout",
       "text": [
        "expt04_workflow_1_9_1 complement cs\n",
        "Info: /data/minion/work/expt04_workflow_1_9_1/last/cs/dna_cs.lastindex.* files already exist\r\n",
        "Info: last output already exists  + /data/minion/work/expt04_workflow_1_9_1/last/cs/reads_complement.last.txt\r\n",
        "Info: mapped reads in sam format already exist  + /data/minion/work/expt04_workflow_1_9_1/last/cs/reads_complement.last.sam\r\n",
        "Info: sorted bam file already exists  + /data/minion/work/expt04_workflow_1_9_1/last/cs/reads_complement.last.sorted.bam\r\n",
        "Info: sorted bam index file already exists  + /data/minion/work/expt04_workflow_1_9_1/last/cs/reads_complement.last.sorted.bam.bai\r\n",
        "Finished successfully : /data/minion/work/expt04_workflow_1_9_1/fasta/reads_complement.fasta /data/minion/reference_genomes/cs/dna_cs.fasta /data/minion/work/expt04_workflow_1_9_1/last/cs\r\n"
       ]
      },
      {
       "output_type": "stream",
       "stream": "stdout",
       "text": [
        "expt04_workflow_1_9_1 2D cs\n",
        "Info: /data/minion/work/expt04_workflow_1_9_1/last/cs/dna_cs.lastindex.* files already exist\r\n",
        "Info: last output already exists  + /data/minion/work/expt04_workflow_1_9_1/last/cs/reads_2D.last.txt\r\n",
        "Info: mapped reads in sam format already exist  + /data/minion/work/expt04_workflow_1_9_1/last/cs/reads_2D.last.sam\r\n",
        "Info: sorted bam file already exists  + /data/minion/work/expt04_workflow_1_9_1/last/cs/reads_2D.last.sorted.bam\r\n",
        "Info: sorted bam index file already exists  + /data/minion/work/expt04_workflow_1_9_1/last/cs/reads_2D.last.sorted.bam.bai\r\n",
        "Finished successfully : /data/minion/work/expt04_workflow_1_9_1/fasta/reads_2D.fasta /data/minion/reference_genomes/cs/dna_cs.fasta /data/minion/work/expt04_workflow_1_9_1/last/cs\r\n"
       ]
      },
      {
       "output_type": "stream",
       "stream": "stdout",
       "text": [
        "expt04_workflow_1_9_1 template 3D7_V3\n",
        "Info: /data/minion/work/expt04_workflow_1_9_1/last/3D7_V3/3D7_V3.lastindex.* files already exist\r\n",
        "Info: last output already exists  + /data/minion/work/expt04_workflow_1_9_1/last/3D7_V3/reads_template.last.txt\r\n",
        "Info: mapped reads in sam format already exist  + /data/minion/work/expt04_workflow_1_9_1/last/3D7_V3/reads_template.last.sam\r\n",
        "Info: sorted bam file already exists  + /data/minion/work/expt04_workflow_1_9_1/last/3D7_V3/reads_template.last.sorted.bam\r\n",
        "Info: sorted bam index file already exists  + /data/minion/work/expt04_workflow_1_9_1/last/3D7_V3/reads_template.last.sorted.bam.bai\r\n",
        "Finished successfully : /data/minion/work/expt04_workflow_1_9_1/fasta/reads_template.fasta /data/minion/reference_genomes/3D7_V3/3D7_V3.fasta /data/minion/work/expt04_workflow_1_9_1/last/3D7_V3\r\n"
       ]
      },
      {
       "output_type": "stream",
       "stream": "stdout",
       "text": [
        "expt04_workflow_1_9_1 complement 3D7_V3\n",
        "Info: /data/minion/work/expt04_workflow_1_9_1/last/3D7_V3/3D7_V3.lastindex.* files already exist\r\n",
        "Info: last output already exists  + /data/minion/work/expt04_workflow_1_9_1/last/3D7_V3/reads_complement.last.txt\r\n",
        "Info: mapped reads in sam format already exist  + /data/minion/work/expt04_workflow_1_9_1/last/3D7_V3/reads_complement.last.sam\r\n",
        "Info: sorted bam file already exists  + /data/minion/work/expt04_workflow_1_9_1/last/3D7_V3/reads_complement.last.sorted.bam\r\n",
        "Info: sorted bam index file already exists  + /data/minion/work/expt04_workflow_1_9_1/last/3D7_V3/reads_complement.last.sorted.bam.bai\r\n",
        "Finished successfully : /data/minion/work/expt04_workflow_1_9_1/fasta/reads_complement.fasta /data/minion/reference_genomes/3D7_V3/3D7_V3.fasta /data/minion/work/expt04_workflow_1_9_1/last/3D7_V3\r\n"
       ]
      },
      {
       "output_type": "stream",
       "stream": "stdout",
       "text": [
        "expt04_workflow_1_9_1 2D 3D7_V3\n",
        "Info: /data/minion/work/expt04_workflow_1_9_1/last/3D7_V3/3D7_V3.lastindex.* files already exist\r\n",
        "Info: last output already exists  + /data/minion/work/expt04_workflow_1_9_1/last/3D7_V3/reads_2D.last.txt\r\n",
        "Info: mapped reads in sam format already exist  + /data/minion/work/expt04_workflow_1_9_1/last/3D7_V3/reads_2D.last.sam\r\n",
        "Info: sorted bam file already exists  + /data/minion/work/expt04_workflow_1_9_1/last/3D7_V3/reads_2D.last.sorted.bam\r\n",
        "Info: sorted bam index file already exists  + /data/minion/work/expt04_workflow_1_9_1/last/3D7_V3/reads_2D.last.sorted.bam.bai\r\n",
        "Finished successfully : /data/minion/work/expt04_workflow_1_9_1/fasta/reads_2D.fasta /data/minion/reference_genomes/3D7_V3/3D7_V3.fasta /data/minion/work/expt04_workflow_1_9_1/last/3D7_V3\r\n"
       ]
      },
      {
       "output_type": "stream",
       "stream": "stdout",
       "text": [
        "expt04_workflow_1_9_1 template AgamP3\n",
        "Info: /data/minion/work/expt04_workflow_1_9_1/last/AgamP3/Anopheles-gambiae-PEST_CHROMOSOMES_AgamP3.lastindex.* files already exist\r\n",
        "Info: last output already exists  + /data/minion/work/expt04_workflow_1_9_1/last/AgamP3/reads_template.last.txt\r\n",
        "Info: mapped reads in sam format already exist  + /data/minion/work/expt04_workflow_1_9_1/last/AgamP3/reads_template.last.sam\r\n",
        "Info: sorted bam file already exists  + /data/minion/work/expt04_workflow_1_9_1/last/AgamP3/reads_template.last.sorted.bam\r\n",
        "Info: sorted bam index file already exists  + /data/minion/work/expt04_workflow_1_9_1/last/AgamP3/reads_template.last.sorted.bam.bai\r\n",
        "Finished successfully : /data/minion/work/expt04_workflow_1_9_1/fasta/reads_template.fasta /data/minion/reference_genomes/AgamP3/Anopheles-gambiae-PEST_CHROMOSOMES_AgamP3.fasta /data/minion/work/expt04_workflow_1_9_1/last/AgamP3\r\n"
       ]
      },
      {
       "output_type": "stream",
       "stream": "stdout",
       "text": [
        "expt04_workflow_1_9_1 complement AgamP3\n",
        "Info: /data/minion/work/expt04_workflow_1_9_1/last/AgamP3/Anopheles-gambiae-PEST_CHROMOSOMES_AgamP3.lastindex.* files already exist\r\n",
        "Info: last output already exists  + /data/minion/work/expt04_workflow_1_9_1/last/AgamP3/reads_complement.last.txt\r\n",
        "Info: mapped reads in sam format already exist  + /data/minion/work/expt04_workflow_1_9_1/last/AgamP3/reads_complement.last.sam\r\n",
        "Info: sorted bam file already exists  + /data/minion/work/expt04_workflow_1_9_1/last/AgamP3/reads_complement.last.sorted.bam\r\n",
        "Info: sorted bam index file already exists  + /data/minion/work/expt04_workflow_1_9_1/last/AgamP3/reads_complement.last.sorted.bam.bai\r\n",
        "Finished successfully : /data/minion/work/expt04_workflow_1_9_1/fasta/reads_complement.fasta /data/minion/reference_genomes/AgamP3/Anopheles-gambiae-PEST_CHROMOSOMES_AgamP3.fasta /data/minion/work/expt04_workflow_1_9_1/last/AgamP3\r\n"
       ]
      },
      {
       "output_type": "stream",
       "stream": "stdout",
       "text": [
        "expt04_workflow_1_9_1 2D AgamP3\n",
        "Info: /data/minion/work/expt04_workflow_1_9_1/last/AgamP3/Anopheles-gambiae-PEST_CHROMOSOMES_AgamP3.lastindex.* files already exist\r\n",
        "Info: last output already exists  + /data/minion/work/expt04_workflow_1_9_1/last/AgamP3/reads_2D.last.txt\r\n",
        "Info: mapped reads in sam format already exist  + /data/minion/work/expt04_workflow_1_9_1/last/AgamP3/reads_2D.last.sam\r\n",
        "Info: sorted bam file already exists  + /data/minion/work/expt04_workflow_1_9_1/last/AgamP3/reads_2D.last.sorted.bam\r\n",
        "Info: sorted bam index file already exists  + /data/minion/work/expt04_workflow_1_9_1/last/AgamP3/reads_2D.last.sorted.bam.bai\r\n",
        "Finished successfully : /data/minion/work/expt04_workflow_1_9_1/fasta/reads_2D.fasta /data/minion/reference_genomes/AgamP3/Anopheles-gambiae-PEST_CHROMOSOMES_AgamP3.fasta /data/minion/work/expt04_workflow_1_9_1/last/AgamP3\r\n"
       ]
      },
      {
       "output_type": "stream",
       "stream": "stdout",
       "text": [
        "expt05_aliquot_1_workflow_1_9_1 template ont_lambda\n",
        "Info: /data/minion/work/expt05_aliquot_1_workflow_1_9_1/last/ont_lambda/lambda_ref.lastindex.* files already exist\r\n",
        "Cmd : lastal -s 2 -T 0 -Q 0 -a 1 -m 1 /data/minion/reference_genomes/lambda/lambda_ref.lastindex /data/minion/work/expt05_aliquot_1_workflow_1_9_1/fasta/reads_template.fasta > /data/minion/work/expt05_aliquot_1_workflow_1_9_1/last/ont_lambda/reads_template.last.txt\r\n"
       ]
      },
      {
       "output_type": "stream",
       "stream": "stdout",
       "text": [
        "Cmd : maf-convert.py sam /data/minion/work/expt05_aliquot_1_workflow_1_9_1/last/ont_lambda/reads_template.last.txt > /data/minion/work/expt05_aliquot_1_workflow_1_9_1/last/ont_lambda/reads_template.last.sam\r\n"
       ]
      },
      {
       "output_type": "stream",
       "stream": "stdout",
       "text": [
        "Cmd : samtools view -T /data/minion/reference_genomes/lambda/lambda_ref.fasta -bS /data/minion/work/expt05_aliquot_1_workflow_1_9_1/last/ont_lambda/reads_template.last.sam | samtools sort - /data/minion/work/expt05_aliquot_1_workflow_1_9_1/last/ont_lambda/reads_template.last.sorted\r\n",
        "[bam_header_read] EOF marker is absent. The input is probably truncated.\r\n"
       ]
      },
      {
       "output_type": "stream",
       "stream": "stdout",
       "text": [
        "[sam_header_read2] 1 sequences loaded.\r\n"
       ]
      },
      {
       "output_type": "stream",
       "stream": "stdout",
       "text": [
        "Cmd : samtools index /data/minion/work/expt05_aliquot_1_workflow_1_9_1/last/ont_lambda/reads_template.last.sorted.bam\r\n",
        "Finished successfully : /data/minion/work/expt05_aliquot_1_workflow_1_9_1/fasta/reads_template.fasta /data/minion/reference_genomes/lambda/lambda_ref.fasta /data/minion/work/expt05_aliquot_1_workflow_1_9_1/last/ont_lambda\r\n"
       ]
      },
      {
       "output_type": "stream",
       "stream": "stdout",
       "text": [
        "expt05_aliquot_1_workflow_1_9_1 complement ont_lambda\n",
        "Info: /data/minion/work/expt05_aliquot_1_workflow_1_9_1/last/ont_lambda/lambda_ref.lastindex.* files already exist\r\n",
        "Cmd : lastal -s 2 -T 0 -Q 0 -a 1 -m 1 /data/minion/reference_genomes/lambda/lambda_ref.lastindex /data/minion/work/expt05_aliquot_1_workflow_1_9_1/fasta/reads_complement.fasta > /data/minion/work/expt05_aliquot_1_workflow_1_9_1/last/ont_lambda/reads_complement.last.txt\r\n"
       ]
      },
      {
       "output_type": "stream",
       "stream": "stdout",
       "text": [
        "Cmd : maf-convert.py sam /data/minion/work/expt05_aliquot_1_workflow_1_9_1/last/ont_lambda/reads_complement.last.txt > /data/minion/work/expt05_aliquot_1_workflow_1_9_1/last/ont_lambda/reads_complement.last.sam\r\n"
       ]
      },
      {
       "output_type": "stream",
       "stream": "stdout",
       "text": [
        "Cmd : samtools view -T /data/minion/reference_genomes/lambda/lambda_ref.fasta -bS /data/minion/work/expt05_aliquot_1_workflow_1_9_1/last/ont_lambda/reads_complement.last.sam | samtools sort - /data/minion/work/expt05_aliquot_1_workflow_1_9_1/last/ont_lambda/reads_complement.last.sorted\r\n",
        "[bam_header_read] EOF marker is absent. The input is probably truncated.\r\n",
        "[sam_header_read2] 1 sequences loaded.\r\n",
        "Cmd : samtools index /data/minion/work/expt05_aliquot_1_workflow_1_9_1/last/ont_lambda/reads_complement.last.sorted.bam\r\n",
        "Finished successfully : /data/minion/work/expt05_aliquot_1_workflow_1_9_1/fasta/reads_complement.fasta /data/minion/reference_genomes/lambda/lambda_ref.fasta /data/minion/work/expt05_aliquot_1_workflow_1_9_1/last/ont_lambda\r\n"
       ]
      },
      {
       "output_type": "stream",
       "stream": "stdout",
       "text": [
        "expt05_aliquot_1_workflow_1_9_1 2D ont_lambda\n",
        "Info: /data/minion/work/expt05_aliquot_1_workflow_1_9_1/last/ont_lambda/lambda_ref.lastindex.* files already exist\r\n",
        "Cmd : lastal -s 2 -T 0 -Q 0 -a 1 -m 1 /data/minion/reference_genomes/lambda/lambda_ref.lastindex /data/minion/work/expt05_aliquot_1_workflow_1_9_1/fasta/reads_2D.fasta > /data/minion/work/expt05_aliquot_1_workflow_1_9_1/last/ont_lambda/reads_2D.last.txt\r\n"
       ]
      },
      {
       "output_type": "stream",
       "stream": "stdout",
       "text": [
        "Cmd : maf-convert.py sam /data/minion/work/expt05_aliquot_1_workflow_1_9_1/last/ont_lambda/reads_2D.last.txt > /data/minion/work/expt05_aliquot_1_workflow_1_9_1/last/ont_lambda/reads_2D.last.sam\r\n"
       ]
      },
      {
       "output_type": "stream",
       "stream": "stdout",
       "text": [
        "Cmd : samtools view -T /data/minion/reference_genomes/lambda/lambda_ref.fasta -bS /data/minion/work/expt05_aliquot_1_workflow_1_9_1/last/ont_lambda/reads_2D.last.sam | samtools sort - /data/minion/work/expt05_aliquot_1_workflow_1_9_1/last/ont_lambda/reads_2D.last.sorted\r\n"
       ]
      },
      {
       "output_type": "stream",
       "stream": "stdout",
       "text": [
        "[bam_header_read] EOF marker is absent. The input is probably truncated.\r\n",
        "[sam_header_read2] 1 sequences loaded.\r\n"
       ]
      },
      {
       "output_type": "stream",
       "stream": "stdout",
       "text": [
        "Cmd : samtools index /data/minion/work/expt05_aliquot_1_workflow_1_9_1/last/ont_lambda/reads_2D.last.sorted.bam\r\n",
        "Finished successfully : /data/minion/work/expt05_aliquot_1_workflow_1_9_1/fasta/reads_2D.fasta /data/minion/reference_genomes/lambda/lambda_ref.fasta /data/minion/work/expt05_aliquot_1_workflow_1_9_1/last/ont_lambda\r\n"
       ]
      },
      {
       "output_type": "stream",
       "stream": "stdout",
       "text": [
        "expt05_aliquot_1_workflow_1_9_1 template cs\n",
        "Info: /data/minion/work/expt05_aliquot_1_workflow_1_9_1/last/cs/dna_cs.lastindex.* files already exist\r\n",
        "Cmd : lastal -s 2 -T 0 -Q 0 -a 1 -m 1 /data/minion/reference_genomes/cs/dna_cs.lastindex /data/minion/work/expt05_aliquot_1_workflow_1_9_1/fasta/reads_template.fasta > /data/minion/work/expt05_aliquot_1_workflow_1_9_1/last/cs/reads_template.last.txt\r\n"
       ]
      },
      {
       "output_type": "stream",
       "stream": "stdout",
       "text": [
        "Cmd : maf-convert.py sam /data/minion/work/expt05_aliquot_1_workflow_1_9_1/last/cs/reads_template.last.txt > /data/minion/work/expt05_aliquot_1_workflow_1_9_1/last/cs/reads_template.last.sam\r\n"
       ]
      },
      {
       "output_type": "stream",
       "stream": "stdout",
       "text": [
        "Cmd : samtools view -T /data/minion/reference_genomes/cs/dna_cs.fasta -bS /data/minion/work/expt05_aliquot_1_workflow_1_9_1/last/cs/reads_template.last.sam | samtools sort - /data/minion/work/expt05_aliquot_1_workflow_1_9_1/last/cs/reads_template.last.sorted\r\n",
        "[bam_header_read] EOF marker is absent. The input is probably truncated.\r\n"
       ]
      },
      {
       "output_type": "stream",
       "stream": "stdout",
       "text": [
        "[sam_header_read2] 1 sequences loaded.\r\n"
       ]
      },
      {
       "output_type": "stream",
       "stream": "stdout",
       "text": [
        "Cmd : samtools index /data/minion/work/expt05_aliquot_1_workflow_1_9_1/last/cs/reads_template.last.sorted.bam\r\n",
        "Finished successfully : /data/minion/work/expt05_aliquot_1_workflow_1_9_1/fasta/reads_template.fasta /data/minion/reference_genomes/cs/dna_cs.fasta /data/minion/work/expt05_aliquot_1_workflow_1_9_1/last/cs\r\n"
       ]
      },
      {
       "output_type": "stream",
       "stream": "stdout",
       "text": [
        "expt05_aliquot_1_workflow_1_9_1 complement cs\n",
        "Info: /data/minion/work/expt05_aliquot_1_workflow_1_9_1/last/cs/dna_cs.lastindex.* files already exist\r\n",
        "Cmd : lastal -s 2 -T 0 -Q 0 -a 1 -m 1 /data/minion/reference_genomes/cs/dna_cs.lastindex /data/minion/work/expt05_aliquot_1_workflow_1_9_1/fasta/reads_complement.fasta > /data/minion/work/expt05_aliquot_1_workflow_1_9_1/last/cs/reads_complement.last.txt\r\n"
       ]
      },
      {
       "output_type": "stream",
       "stream": "stdout",
       "text": [
        "Cmd : maf-convert.py sam /data/minion/work/expt05_aliquot_1_workflow_1_9_1/last/cs/reads_complement.last.txt > /data/minion/work/expt05_aliquot_1_workflow_1_9_1/last/cs/reads_complement.last.sam\r\n"
       ]
      },
      {
       "output_type": "stream",
       "stream": "stdout",
       "text": [
        "Cmd : samtools view -T /data/minion/reference_genomes/cs/dna_cs.fasta -bS /data/minion/work/expt05_aliquot_1_workflow_1_9_1/last/cs/reads_complement.last.sam | samtools sort - /data/minion/work/expt05_aliquot_1_workflow_1_9_1/last/cs/reads_complement.last.sorted\r\n",
        "[bam_header_read] EOF marker is absent. The input is probably truncated.\r\n",
        "[sam_header_read2] 1 sequences loaded.\r\n",
        "Cmd : samtools index /data/minion/work/expt05_aliquot_1_workflow_1_9_1/last/cs/reads_complement.last.sorted.bam\r\n",
        "Finished successfully : /data/minion/work/expt05_aliquot_1_workflow_1_9_1/fasta/reads_complement.fasta /data/minion/reference_genomes/cs/dna_cs.fasta /data/minion/work/expt05_aliquot_1_workflow_1_9_1/last/cs\r\n"
       ]
      },
      {
       "output_type": "stream",
       "stream": "stdout",
       "text": [
        "expt05_aliquot_1_workflow_1_9_1 2D cs\n",
        "Info: /data/minion/work/expt05_aliquot_1_workflow_1_9_1/last/cs/dna_cs.lastindex.* files already exist\r\n",
        "Cmd : lastal -s 2 -T 0 -Q 0 -a 1 -m 1 /data/minion/reference_genomes/cs/dna_cs.lastindex /data/minion/work/expt05_aliquot_1_workflow_1_9_1/fasta/reads_2D.fasta > /data/minion/work/expt05_aliquot_1_workflow_1_9_1/last/cs/reads_2D.last.txt\r\n"
       ]
      },
      {
       "output_type": "stream",
       "stream": "stdout",
       "text": [
        "Cmd : maf-convert.py sam /data/minion/work/expt05_aliquot_1_workflow_1_9_1/last/cs/reads_2D.last.txt > /data/minion/work/expt05_aliquot_1_workflow_1_9_1/last/cs/reads_2D.last.sam\r\n"
       ]
      },
      {
       "output_type": "stream",
       "stream": "stdout",
       "text": [
        "Cmd : samtools view -T /data/minion/reference_genomes/cs/dna_cs.fasta -bS /data/minion/work/expt05_aliquot_1_workflow_1_9_1/last/cs/reads_2D.last.sam | samtools sort - /data/minion/work/expt05_aliquot_1_workflow_1_9_1/last/cs/reads_2D.last.sorted\r\n",
        "[bam_header_read] EOF marker is absent. The input is probably truncated.\r\n",
        "[sam_header_read2] 1 sequences loaded.\r\n"
       ]
      },
      {
       "output_type": "stream",
       "stream": "stdout",
       "text": [
        "Cmd : samtools index /data/minion/work/expt05_aliquot_1_workflow_1_9_1/last/cs/reads_2D.last.sorted.bam\r\n",
        "Finished successfully : /data/minion/work/expt05_aliquot_1_workflow_1_9_1/fasta/reads_2D.fasta /data/minion/reference_genomes/cs/dna_cs.fasta /data/minion/work/expt05_aliquot_1_workflow_1_9_1/last/cs\r\n"
       ]
      },
      {
       "output_type": "stream",
       "stream": "stdout",
       "text": [
        "expt05_aliquot_1_workflow_1_9_1 template 3D7_V3\n",
        "Info: /data/minion/work/expt05_aliquot_1_workflow_1_9_1/last/3D7_V3/3D7_V3.lastindex.* files already exist\r\n",
        "Cmd : lastal -s 2 -T 0 -Q 0 -a 1 -m 1 /data/minion/reference_genomes/3D7_V3/3D7_V3.lastindex /data/minion/work/expt05_aliquot_1_workflow_1_9_1/fasta/reads_template.fasta > /data/minion/work/expt05_aliquot_1_workflow_1_9_1/last/3D7_V3/reads_template.last.txt\r\n"
       ]
      },
      {
       "output_type": "stream",
       "stream": "stdout",
       "text": [
        "Cmd : maf-convert.py sam /data/minion/work/expt05_aliquot_1_workflow_1_9_1/last/3D7_V3/reads_template.last.txt > /data/minion/work/expt05_aliquot_1_workflow_1_9_1/last/3D7_V3/reads_template.last.sam\r\n"
       ]
      },
      {
       "output_type": "stream",
       "stream": "stdout",
       "text": [
        "Cmd : samtools view -T /data/minion/reference_genomes/3D7_V3/3D7_V3.fasta -bS /data/minion/work/expt05_aliquot_1_workflow_1_9_1/last/3D7_V3/reads_template.last.sam | samtools sort - /data/minion/work/expt05_aliquot_1_workflow_1_9_1/last/3D7_V3/reads_template.last.sorted\r\n",
        "[bam_header_read] EOF marker is absent. The input is probably truncated.\r\n"
       ]
      },
      {
       "output_type": "stream",
       "stream": "stdout",
       "text": [
        "[sam_header_read2] 16 sequences loaded.\r\n"
       ]
      },
      {
       "output_type": "stream",
       "stream": "stdout",
       "text": [
        "Cmd : samtools index /data/minion/work/expt05_aliquot_1_workflow_1_9_1/last/3D7_V3/reads_template.last.sorted.bam\r\n"
       ]
      },
      {
       "output_type": "stream",
       "stream": "stdout",
       "text": [
        "Finished successfully : /data/minion/work/expt05_aliquot_1_workflow_1_9_1/fasta/reads_template.fasta /data/minion/reference_genomes/3D7_V3/3D7_V3.fasta /data/minion/work/expt05_aliquot_1_workflow_1_9_1/last/3D7_V3\r\n"
       ]
      },
      {
       "output_type": "stream",
       "stream": "stdout",
       "text": [
        "expt05_aliquot_1_workflow_1_9_1 complement 3D7_V3\n",
        "Info: /data/minion/work/expt05_aliquot_1_workflow_1_9_1/last/3D7_V3/3D7_V3.lastindex.* files already exist\r\n",
        "Cmd : lastal -s 2 -T 0 -Q 0 -a 1 -m 1 /data/minion/reference_genomes/3D7_V3/3D7_V3.lastindex /data/minion/work/expt05_aliquot_1_workflow_1_9_1/fasta/reads_complement.fasta > /data/minion/work/expt05_aliquot_1_workflow_1_9_1/last/3D7_V3/reads_complement.last.txt\r\n"
       ]
      },
      {
       "output_type": "stream",
       "stream": "stdout",
       "text": [
        "Cmd : maf-convert.py sam /data/minion/work/expt05_aliquot_1_workflow_1_9_1/last/3D7_V3/reads_complement.last.txt > /data/minion/work/expt05_aliquot_1_workflow_1_9_1/last/3D7_V3/reads_complement.last.sam\r\n"
       ]
      },
      {
       "output_type": "stream",
       "stream": "stdout",
       "text": [
        "Cmd : samtools view -T /data/minion/reference_genomes/3D7_V3/3D7_V3.fasta -bS /data/minion/work/expt05_aliquot_1_workflow_1_9_1/last/3D7_V3/reads_complement.last.sam | samtools sort - /data/minion/work/expt05_aliquot_1_workflow_1_9_1/last/3D7_V3/reads_complement.last.sorted\r\n",
        "[bam_header_read] EOF marker is absent. The input is probably truncated.\r\n",
        "[sam_header_read2] 16 sequences loaded.\r\n"
       ]
      },
      {
       "output_type": "stream",
       "stream": "stdout",
       "text": [
        "Cmd : samtools index /data/minion/work/expt05_aliquot_1_workflow_1_9_1/last/3D7_V3/reads_complement.last.sorted.bam\r\n",
        "Finished successfully : /data/minion/work/expt05_aliquot_1_workflow_1_9_1/fasta/reads_complement.fasta /data/minion/reference_genomes/3D7_V3/3D7_V3.fasta /data/minion/work/expt05_aliquot_1_workflow_1_9_1/last/3D7_V3\r\n"
       ]
      },
      {
       "output_type": "stream",
       "stream": "stdout",
       "text": [
        "expt05_aliquot_1_workflow_1_9_1 2D 3D7_V3\n",
        "Info: /data/minion/work/expt05_aliquot_1_workflow_1_9_1/last/3D7_V3/3D7_V3.lastindex.* files already exist\r\n",
        "Cmd : lastal -s 2 -T 0 -Q 0 -a 1 -m 1 /data/minion/reference_genomes/3D7_V3/3D7_V3.lastindex /data/minion/work/expt05_aliquot_1_workflow_1_9_1/fasta/reads_2D.fasta > /data/minion/work/expt05_aliquot_1_workflow_1_9_1/last/3D7_V3/reads_2D.last.txt\r\n"
       ]
      },
      {
       "output_type": "stream",
       "stream": "stdout",
       "text": [
        "Cmd : maf-convert.py sam /data/minion/work/expt05_aliquot_1_workflow_1_9_1/last/3D7_V3/reads_2D.last.txt > /data/minion/work/expt05_aliquot_1_workflow_1_9_1/last/3D7_V3/reads_2D.last.sam\r\n"
       ]
      },
      {
       "output_type": "stream",
       "stream": "stdout",
       "text": [
        "Cmd : samtools view -T /data/minion/reference_genomes/3D7_V3/3D7_V3.fasta -bS /data/minion/work/expt05_aliquot_1_workflow_1_9_1/last/3D7_V3/reads_2D.last.sam | samtools sort - /data/minion/work/expt05_aliquot_1_workflow_1_9_1/last/3D7_V3/reads_2D.last.sorted\r\n",
        "[bam_header_read] EOF marker is absent. The input is probably truncated.\r\n",
        "[sam_header_read2] 16 sequences loaded.\r\n",
        "Cmd : samtools index /data/minion/work/expt05_aliquot_1_workflow_1_9_1/last/3D7_V3/reads_2D.last.sorted.bam\r\n",
        "Finished successfully : /data/minion/work/expt05_aliquot_1_workflow_1_9_1/fasta/reads_2D.fasta /data/minion/reference_genomes/3D7_V3/3D7_V3.fasta /data/minion/work/expt05_aliquot_1_workflow_1_9_1/last/3D7_V3\r\n"
       ]
      },
      {
       "output_type": "stream",
       "stream": "stdout",
       "text": [
        "expt05_aliquot_1_workflow_1_9_1 template AgamP3\n",
        "Info: /data/minion/work/expt05_aliquot_1_workflow_1_9_1/last/AgamP3/Anopheles-gambiae-PEST_CHROMOSOMES_AgamP3.lastindex.* files already exist\r\n",
        "Cmd : lastal -s 2 -T 0 -Q 0 -a 1 -m 1 /data/minion/reference_genomes/AgamP3/Anopheles-gambiae-PEST_CHROMOSOMES_AgamP3.lastindex /data/minion/work/expt05_aliquot_1_workflow_1_9_1/fasta/reads_template.fasta > /data/minion/work/expt05_aliquot_1_workflow_1_9_1/last/AgamP3/reads_template.last.txt\r\n"
       ]
      },
      {
       "output_type": "stream",
       "stream": "stdout",
       "text": [
        "Cmd : maf-convert.py sam /data/minion/work/expt05_aliquot_1_workflow_1_9_1/last/AgamP3/reads_template.last.txt > /data/minion/work/expt05_aliquot_1_workflow_1_9_1/last/AgamP3/reads_template.last.sam\r\n"
       ]
      },
      {
       "output_type": "stream",
       "stream": "stdout",
       "text": [
        "Cmd : samtools view -T /data/minion/reference_genomes/AgamP3/Anopheles-gambiae-PEST_CHROMOSOMES_AgamP3.fasta -bS /data/minion/work/expt05_aliquot_1_workflow_1_9_1/last/AgamP3/reads_template.last.sam | samtools sort - /data/minion/work/expt05_aliquot_1_workflow_1_9_1/last/AgamP3/reads_template.last.sorted\r\n"
       ]
      },
      {
       "output_type": "stream",
       "stream": "stdout",
       "text": [
        "[bam_header_read] EOF marker is absent. The input is probably truncated.\r\n"
       ]
      },
      {
       "output_type": "stream",
       "stream": "stdout",
       "text": [
        "[sam_header_read2] 7 sequences loaded.\r\n"
       ]
      },
      {
       "output_type": "stream",
       "stream": "stdout",
       "text": [
        "Cmd : samtools index /data/minion/work/expt05_aliquot_1_workflow_1_9_1/last/AgamP3/reads_template.last.sorted.bam\r\n",
        "Finished successfully : /data/minion/work/expt05_aliquot_1_workflow_1_9_1/fasta/reads_template.fasta /data/minion/reference_genomes/AgamP3/Anopheles-gambiae-PEST_CHROMOSOMES_AgamP3.fasta /data/minion/work/expt05_aliquot_1_workflow_1_9_1/last/AgamP3\r\n"
       ]
      },
      {
       "output_type": "stream",
       "stream": "stdout",
       "text": [
        "expt05_aliquot_1_workflow_1_9_1 complement AgamP3\n",
        "Info: /data/minion/work/expt05_aliquot_1_workflow_1_9_1/last/AgamP3/Anopheles-gambiae-PEST_CHROMOSOMES_AgamP3.lastindex.* files already exist\r\n",
        "Cmd : lastal -s 2 -T 0 -Q 0 -a 1 -m 1 /data/minion/reference_genomes/AgamP3/Anopheles-gambiae-PEST_CHROMOSOMES_AgamP3.lastindex /data/minion/work/expt05_aliquot_1_workflow_1_9_1/fasta/reads_complement.fasta > /data/minion/work/expt05_aliquot_1_workflow_1_9_1/last/AgamP3/reads_complement.last.txt\r\n"
       ]
      },
      {
       "output_type": "stream",
       "stream": "stdout",
       "text": [
        "Cmd : maf-convert.py sam /data/minion/work/expt05_aliquot_1_workflow_1_9_1/last/AgamP3/reads_complement.last.txt > /data/minion/work/expt05_aliquot_1_workflow_1_9_1/last/AgamP3/reads_complement.last.sam\r\n"
       ]
      },
      {
       "output_type": "stream",
       "stream": "stdout",
       "text": [
        "Cmd : samtools view -T /data/minion/reference_genomes/AgamP3/Anopheles-gambiae-PEST_CHROMOSOMES_AgamP3.fasta -bS /data/minion/work/expt05_aliquot_1_workflow_1_9_1/last/AgamP3/reads_complement.last.sam | samtools sort - /data/minion/work/expt05_aliquot_1_workflow_1_9_1/last/AgamP3/reads_complement.last.sorted\r\n",
        "[bam_header_read] EOF marker is absent. The input is probably truncated.\r\n",
        "[sam_header_read2] 7 sequences loaded.\r\n"
       ]
      },
      {
       "output_type": "stream",
       "stream": "stdout",
       "text": [
        "Cmd : samtools index /data/minion/work/expt05_aliquot_1_workflow_1_9_1/last/AgamP3/reads_complement.last.sorted.bam\r\n",
        "Finished successfully : /data/minion/work/expt05_aliquot_1_workflow_1_9_1/fasta/reads_complement.fasta /data/minion/reference_genomes/AgamP3/Anopheles-gambiae-PEST_CHROMOSOMES_AgamP3.fasta /data/minion/work/expt05_aliquot_1_workflow_1_9_1/last/AgamP3\r\n"
       ]
      },
      {
       "output_type": "stream",
       "stream": "stdout",
       "text": [
        "expt05_aliquot_1_workflow_1_9_1 2D AgamP3\n",
        "Info: /data/minion/work/expt05_aliquot_1_workflow_1_9_1/last/AgamP3/Anopheles-gambiae-PEST_CHROMOSOMES_AgamP3.lastindex.* files already exist\r\n",
        "Cmd : lastal -s 2 -T 0 -Q 0 -a 1 -m 1 /data/minion/reference_genomes/AgamP3/Anopheles-gambiae-PEST_CHROMOSOMES_AgamP3.lastindex /data/minion/work/expt05_aliquot_1_workflow_1_9_1/fasta/reads_2D.fasta > /data/minion/work/expt05_aliquot_1_workflow_1_9_1/last/AgamP3/reads_2D.last.txt\r\n"
       ]
      },
      {
       "output_type": "stream",
       "stream": "stdout",
       "text": [
        "Cmd : maf-convert.py sam /data/minion/work/expt05_aliquot_1_workflow_1_9_1/last/AgamP3/reads_2D.last.txt > /data/minion/work/expt05_aliquot_1_workflow_1_9_1/last/AgamP3/reads_2D.last.sam\r\n"
       ]
      },
      {
       "output_type": "stream",
       "stream": "stdout",
       "text": [
        "Cmd : samtools view -T /data/minion/reference_genomes/AgamP3/Anopheles-gambiae-PEST_CHROMOSOMES_AgamP3.fasta -bS /data/minion/work/expt05_aliquot_1_workflow_1_9_1/last/AgamP3/reads_2D.last.sam | samtools sort - /data/minion/work/expt05_aliquot_1_workflow_1_9_1/last/AgamP3/reads_2D.last.sorted\r\n",
        "[bam_header_read] EOF marker is absent. The input is probably truncated.\r\n",
        "[sam_header_read2] 7 sequences loaded.\r\n",
        "Cmd : samtools index /data/minion/work/expt05_aliquot_1_workflow_1_9_1/last/AgamP3/reads_2D.last.sorted.bam\r\n",
        "Finished successfully : /data/minion/work/expt05_aliquot_1_workflow_1_9_1/fasta/reads_2D.fasta /data/minion/reference_genomes/AgamP3/Anopheles-gambiae-PEST_CHROMOSOMES_AgamP3.fasta /data/minion/work/expt05_aliquot_1_workflow_1_9_1/last/AgamP3\r\n"
       ]
      },
      {
       "output_type": "stream",
       "stream": "stdout",
       "text": [
        "E05_aliquot_3_workflow_1_9_1 template ont_lambda\n",
        "Info: /data/minion/work/E05_aliquot_3_workflow_1_9_1/last/ont_lambda/lambda_ref.lastindex.* files already exist\r\n",
        "Cmd : lastal -s 2 -T 0 -Q 0 -a 1 -m 1 /data/minion/reference_genomes/lambda/lambda_ref.lastindex /data/minion/work/E05_aliquot_3_workflow_1_9_1/fasta/reads_template.fasta > /data/minion/work/E05_aliquot_3_workflow_1_9_1/last/ont_lambda/reads_template.last.txt\r\n"
       ]
      },
      {
       "output_type": "stream",
       "stream": "stdout",
       "text": [
        "Cmd : maf-convert.py sam /data/minion/work/E05_aliquot_3_workflow_1_9_1/last/ont_lambda/reads_template.last.txt > /data/minion/work/E05_aliquot_3_workflow_1_9_1/last/ont_lambda/reads_template.last.sam\r\n"
       ]
      },
      {
       "output_type": "stream",
       "stream": "stdout",
       "text": [
        "Cmd : samtools view -T /data/minion/reference_genomes/lambda/lambda_ref.fasta -bS /data/minion/work/E05_aliquot_3_workflow_1_9_1/last/ont_lambda/reads_template.last.sam | samtools sort - /data/minion/work/E05_aliquot_3_workflow_1_9_1/last/ont_lambda/reads_template.last.sorted\r\n",
        "[bam_header_read] EOF marker is absent. The input is probably truncated.\r\n"
       ]
      },
      {
       "output_type": "stream",
       "stream": "stdout",
       "text": [
        "[sam_header_read2] 1 sequences loaded.\r\n"
       ]
      },
      {
       "output_type": "stream",
       "stream": "stdout",
       "text": [
        "Cmd : samtools index /data/minion/work/E05_aliquot_3_workflow_1_9_1/last/ont_lambda/reads_template.last.sorted.bam\r\n",
        "Finished successfully : /data/minion/work/E05_aliquot_3_workflow_1_9_1/fasta/reads_template.fasta /data/minion/reference_genomes/lambda/lambda_ref.fasta /data/minion/work/E05_aliquot_3_workflow_1_9_1/last/ont_lambda\r\n"
       ]
      },
      {
       "output_type": "stream",
       "stream": "stdout",
       "text": [
        "E05_aliquot_3_workflow_1_9_1 complement ont_lambda\n",
        "Info: /data/minion/work/E05_aliquot_3_workflow_1_9_1/last/ont_lambda/lambda_ref.lastindex.* files already exist\r\n",
        "Cmd : lastal -s 2 -T 0 -Q 0 -a 1 -m 1 /data/minion/reference_genomes/lambda/lambda_ref.lastindex /data/minion/work/E05_aliquot_3_workflow_1_9_1/fasta/reads_complement.fasta > /data/minion/work/E05_aliquot_3_workflow_1_9_1/last/ont_lambda/reads_complement.last.txt\r\n"
       ]
      },
      {
       "output_type": "stream",
       "stream": "stdout",
       "text": [
        "Cmd : maf-convert.py sam /data/minion/work/E05_aliquot_3_workflow_1_9_1/last/ont_lambda/reads_complement.last.txt > /data/minion/work/E05_aliquot_3_workflow_1_9_1/last/ont_lambda/reads_complement.last.sam\r\n"
       ]
      },
      {
       "output_type": "stream",
       "stream": "stdout",
       "text": [
        "Cmd : samtools view -T /data/minion/reference_genomes/lambda/lambda_ref.fasta -bS /data/minion/work/E05_aliquot_3_workflow_1_9_1/last/ont_lambda/reads_complement.last.sam | samtools sort - /data/minion/work/E05_aliquot_3_workflow_1_9_1/last/ont_lambda/reads_complement.last.sorted\r\n",
        "[bam_header_read] EOF marker is absent. The input is probably truncated.\r\n",
        "[sam_header_read2] 1 sequences loaded.\r\n",
        "[sam_read1] reference 'VN:1.3\tSO:unsorted\r\n",
        "' is recognized as '*'.\r\n",
        "[main_samview] truncated file.\r\n",
        "Cmd : samtools index /data/minion/work/E05_aliquot_3_workflow_1_9_1/last/ont_lambda/reads_complement.last.sorted.bam\r\n"
       ]
      },
      {
       "output_type": "stream",
       "stream": "stdout",
       "text": [
        "Finished successfully : /data/minion/work/E05_aliquot_3_workflow_1_9_1/fasta/reads_complement.fasta /data/minion/reference_genomes/lambda/lambda_ref.fasta /data/minion/work/E05_aliquot_3_workflow_1_9_1/last/ont_lambda\r\n"
       ]
      },
      {
       "output_type": "stream",
       "stream": "stdout",
       "text": [
        "E05_aliquot_3_workflow_1_9_1 2D ont_lambda\n",
        "Info: /data/minion/work/E05_aliquot_3_workflow_1_9_1/last/ont_lambda/lambda_ref.lastindex.* files already exist\r\n",
        "Cmd : lastal -s 2 -T 0 -Q 0 -a 1 -m 1 /data/minion/reference_genomes/lambda/lambda_ref.lastindex /data/minion/work/E05_aliquot_3_workflow_1_9_1/fasta/reads_2D.fasta > /data/minion/work/E05_aliquot_3_workflow_1_9_1/last/ont_lambda/reads_2D.last.txt\r\n"
       ]
      },
      {
       "output_type": "stream",
       "stream": "stdout",
       "text": [
        "Cmd : maf-convert.py sam /data/minion/work/E05_aliquot_3_workflow_1_9_1/last/ont_lambda/reads_2D.last.txt > /data/minion/work/E05_aliquot_3_workflow_1_9_1/last/ont_lambda/reads_2D.last.sam\r\n"
       ]
      },
      {
       "output_type": "stream",
       "stream": "stdout",
       "text": [
        "Cmd : samtools view -T /data/minion/reference_genomes/lambda/lambda_ref.fasta -bS /data/minion/work/E05_aliquot_3_workflow_1_9_1/last/ont_lambda/reads_2D.last.sam | samtools sort - /data/minion/work/E05_aliquot_3_workflow_1_9_1/last/ont_lambda/reads_2D.last.sorted\r\n",
        "[bam_header_read] EOF marker is absent. The input is probably truncated.\r\n",
        "[sam_header_read2] 1 sequences loaded.\r\n",
        "Cmd : samtools index /data/minion/work/E05_aliquot_3_workflow_1_9_1/last/ont_lambda/reads_2D.last.sorted.bam\r\n"
       ]
      },
      {
       "output_type": "stream",
       "stream": "stdout",
       "text": [
        "Finished successfully : /data/minion/work/E05_aliquot_3_workflow_1_9_1/fasta/reads_2D.fasta /data/minion/reference_genomes/lambda/lambda_ref.fasta /data/minion/work/E05_aliquot_3_workflow_1_9_1/last/ont_lambda\r\n"
       ]
      },
      {
       "output_type": "stream",
       "stream": "stdout",
       "text": [
        "E05_aliquot_3_workflow_1_9_1 template cs\n",
        "Info: /data/minion/work/E05_aliquot_3_workflow_1_9_1/last/cs/dna_cs.lastindex.* files already exist\r\n",
        "Cmd : lastal -s 2 -T 0 -Q 0 -a 1 -m 1 /data/minion/reference_genomes/cs/dna_cs.lastindex /data/minion/work/E05_aliquot_3_workflow_1_9_1/fasta/reads_template.fasta > /data/minion/work/E05_aliquot_3_workflow_1_9_1/last/cs/reads_template.last.txt\r\n"
       ]
      },
      {
       "output_type": "stream",
       "stream": "stdout",
       "text": [
        "Cmd : maf-convert.py sam /data/minion/work/E05_aliquot_3_workflow_1_9_1/last/cs/reads_template.last.txt > /data/minion/work/E05_aliquot_3_workflow_1_9_1/last/cs/reads_template.last.sam\r\n"
       ]
      },
      {
       "output_type": "stream",
       "stream": "stdout",
       "text": [
        "Cmd : samtools view -T /data/minion/reference_genomes/cs/dna_cs.fasta -bS /data/minion/work/E05_aliquot_3_workflow_1_9_1/last/cs/reads_template.last.sam | samtools sort - /data/minion/work/E05_aliquot_3_workflow_1_9_1/last/cs/reads_template.last.sorted\r\n",
        "[bam_header_read] EOF marker is absent. The input is probably truncated.\r\n",
        "[sam_header_read2] 1 sequences loaded.\r\n"
       ]
      },
      {
       "output_type": "stream",
       "stream": "stdout",
       "text": [
        "Cmd : samtools index /data/minion/work/E05_aliquot_3_workflow_1_9_1/last/cs/reads_template.last.sorted.bam\r\n",
        "Finished successfully : /data/minion/work/E05_aliquot_3_workflow_1_9_1/fasta/reads_template.fasta /data/minion/reference_genomes/cs/dna_cs.fasta /data/minion/work/E05_aliquot_3_workflow_1_9_1/last/cs\r\n"
       ]
      },
      {
       "output_type": "stream",
       "stream": "stdout",
       "text": [
        "E05_aliquot_3_workflow_1_9_1 complement cs\n",
        "Info: /data/minion/work/E05_aliquot_3_workflow_1_9_1/last/cs/dna_cs.lastindex.* files already exist\r\n",
        "Cmd : lastal -s 2 -T 0 -Q 0 -a 1 -m 1 /data/minion/reference_genomes/cs/dna_cs.lastindex /data/minion/work/E05_aliquot_3_workflow_1_9_1/fasta/reads_complement.fasta > /data/minion/work/E05_aliquot_3_workflow_1_9_1/last/cs/reads_complement.last.txt\r\n"
       ]
      },
      {
       "output_type": "stream",
       "stream": "stdout",
       "text": [
        "Cmd : maf-convert.py sam /data/minion/work/E05_aliquot_3_workflow_1_9_1/last/cs/reads_complement.last.txt > /data/minion/work/E05_aliquot_3_workflow_1_9_1/last/cs/reads_complement.last.sam\r\n"
       ]
      },
      {
       "output_type": "stream",
       "stream": "stdout",
       "text": [
        "Cmd : samtools view -T /data/minion/reference_genomes/cs/dna_cs.fasta -bS /data/minion/work/E05_aliquot_3_workflow_1_9_1/last/cs/reads_complement.last.sam | samtools sort - /data/minion/work/E05_aliquot_3_workflow_1_9_1/last/cs/reads_complement.last.sorted\r\n",
        "[bam_header_read] EOF marker is absent. The input is probably truncated.\r\n",
        "[sam_header_read2] 1 sequences loaded.\r\n",
        "Cmd : samtools index /data/minion/work/E05_aliquot_3_workflow_1_9_1/last/cs/reads_complement.last.sorted.bam\r\n",
        "Finished successfully : /data/minion/work/E05_aliquot_3_workflow_1_9_1/fasta/reads_complement.fasta /data/minion/reference_genomes/cs/dna_cs.fasta /data/minion/work/E05_aliquot_3_workflow_1_9_1/last/cs\r\n"
       ]
      },
      {
       "output_type": "stream",
       "stream": "stdout",
       "text": [
        "E05_aliquot_3_workflow_1_9_1 2D cs\n",
        "Info: /data/minion/work/E05_aliquot_3_workflow_1_9_1/last/cs/dna_cs.lastindex.* files already exist\r\n",
        "Cmd : lastal -s 2 -T 0 -Q 0 -a 1 -m 1 /data/minion/reference_genomes/cs/dna_cs.lastindex /data/minion/work/E05_aliquot_3_workflow_1_9_1/fasta/reads_2D.fasta > /data/minion/work/E05_aliquot_3_workflow_1_9_1/last/cs/reads_2D.last.txt\r\n"
       ]
      },
      {
       "output_type": "stream",
       "stream": "stdout",
       "text": [
        "Cmd : maf-convert.py sam /data/minion/work/E05_aliquot_3_workflow_1_9_1/last/cs/reads_2D.last.txt > /data/minion/work/E05_aliquot_3_workflow_1_9_1/last/cs/reads_2D.last.sam\r\n"
       ]
      },
      {
       "output_type": "stream",
       "stream": "stdout",
       "text": [
        "Cmd : samtools view -T /data/minion/reference_genomes/cs/dna_cs.fasta -bS /data/minion/work/E05_aliquot_3_workflow_1_9_1/last/cs/reads_2D.last.sam | samtools sort - /data/minion/work/E05_aliquot_3_workflow_1_9_1/last/cs/reads_2D.last.sorted\r\n",
        "[bam_header_read] EOF marker is absent. The input is probably truncated.\r\n",
        "[sam_header_read2] 1 sequences loaded.\r\n"
       ]
      },
      {
       "output_type": "stream",
       "stream": "stdout",
       "text": [
        "Cmd : samtools index /data/minion/work/E05_aliquot_3_workflow_1_9_1/last/cs/reads_2D.last.sorted.bam\r\n",
        "Finished successfully : /data/minion/work/E05_aliquot_3_workflow_1_9_1/fasta/reads_2D.fasta /data/minion/reference_genomes/cs/dna_cs.fasta /data/minion/work/E05_aliquot_3_workflow_1_9_1/last/cs\r\n"
       ]
      },
      {
       "output_type": "stream",
       "stream": "stdout",
       "text": [
        "E05_aliquot_3_workflow_1_9_1 template 3D7_V3\n",
        "Info: /data/minion/work/E05_aliquot_3_workflow_1_9_1/last/3D7_V3/3D7_V3.lastindex.* files already exist\r\n",
        "Cmd : lastal -s 2 -T 0 -Q 0 -a 1 -m 1 /data/minion/reference_genomes/3D7_V3/3D7_V3.lastindex /data/minion/work/E05_aliquot_3_workflow_1_9_1/fasta/reads_template.fasta > /data/minion/work/E05_aliquot_3_workflow_1_9_1/last/3D7_V3/reads_template.last.txt\r\n"
       ]
      },
      {
       "output_type": "stream",
       "stream": "stdout",
       "text": [
        "Cmd : maf-convert.py sam /data/minion/work/E05_aliquot_3_workflow_1_9_1/last/3D7_V3/reads_template.last.txt > /data/minion/work/E05_aliquot_3_workflow_1_9_1/last/3D7_V3/reads_template.last.sam\r\n"
       ]
      },
      {
       "output_type": "stream",
       "stream": "stdout",
       "text": [
        "Cmd : samtools view -T /data/minion/reference_genomes/3D7_V3/3D7_V3.fasta -bS /data/minion/work/E05_aliquot_3_workflow_1_9_1/last/3D7_V3/reads_template.last.sam | samtools sort - /data/minion/work/E05_aliquot_3_workflow_1_9_1/last/3D7_V3/reads_template.last.sorted\r\n",
        "[bam_header_read] EOF marker is absent. The input is probably truncated.\r\n"
       ]
      },
      {
       "output_type": "stream",
       "stream": "stdout",
       "text": [
        "[sam_header_read2] 16 sequences loaded.\r\n"
       ]
      },
      {
       "output_type": "stream",
       "stream": "stdout",
       "text": [
        "Cmd : samtools index /data/minion/work/E05_aliquot_3_workflow_1_9_1/last/3D7_V3/reads_template.last.sorted.bam\r\n",
        "Finished successfully : /data/minion/work/E05_aliquot_3_workflow_1_9_1/fasta/reads_template.fasta /data/minion/reference_genomes/3D7_V3/3D7_V3.fasta /data/minion/work/E05_aliquot_3_workflow_1_9_1/last/3D7_V3\r\n"
       ]
      },
      {
       "output_type": "stream",
       "stream": "stdout",
       "text": [
        "E05_aliquot_3_workflow_1_9_1 complement 3D7_V3\n",
        "Info: /data/minion/work/E05_aliquot_3_workflow_1_9_1/last/3D7_V3/3D7_V3.lastindex.* files already exist\r\n",
        "Cmd : lastal -s 2 -T 0 -Q 0 -a 1 -m 1 /data/minion/reference_genomes/3D7_V3/3D7_V3.lastindex /data/minion/work/E05_aliquot_3_workflow_1_9_1/fasta/reads_complement.fasta > /data/minion/work/E05_aliquot_3_workflow_1_9_1/last/3D7_V3/reads_complement.last.txt\r\n"
       ]
      },
      {
       "output_type": "stream",
       "stream": "stdout",
       "text": [
        "Cmd : maf-convert.py sam /data/minion/work/E05_aliquot_3_workflow_1_9_1/last/3D7_V3/reads_complement.last.txt > /data/minion/work/E05_aliquot_3_workflow_1_9_1/last/3D7_V3/reads_complement.last.sam\r\n"
       ]
      },
      {
       "output_type": "stream",
       "stream": "stdout",
       "text": [
        "Cmd : samtools view -T /data/minion/reference_genomes/3D7_V3/3D7_V3.fasta -bS /data/minion/work/E05_aliquot_3_workflow_1_9_1/last/3D7_V3/reads_complement.last.sam | samtools sort - /data/minion/work/E05_aliquot_3_workflow_1_9_1/last/3D7_V3/reads_complement.last.sorted\r\n",
        "[bam_header_read] EOF marker is absent. The input is probably truncated.\r\n",
        "[sam_header_read2] 16 sequences loaded.\r\n"
       ]
      },
      {
       "output_type": "stream",
       "stream": "stdout",
       "text": [
        "Cmd : samtools index /data/minion/work/E05_aliquot_3_workflow_1_9_1/last/3D7_V3/reads_complement.last.sorted.bam\r\n",
        "Finished successfully : /data/minion/work/E05_aliquot_3_workflow_1_9_1/fasta/reads_complement.fasta /data/minion/reference_genomes/3D7_V3/3D7_V3.fasta /data/minion/work/E05_aliquot_3_workflow_1_9_1/last/3D7_V3\r\n"
       ]
      },
      {
       "output_type": "stream",
       "stream": "stdout",
       "text": [
        "E05_aliquot_3_workflow_1_9_1 2D 3D7_V3\n",
        "Info: /data/minion/work/E05_aliquot_3_workflow_1_9_1/last/3D7_V3/3D7_V3.lastindex.* files already exist\r\n",
        "Cmd : lastal -s 2 -T 0 -Q 0 -a 1 -m 1 /data/minion/reference_genomes/3D7_V3/3D7_V3.lastindex /data/minion/work/E05_aliquot_3_workflow_1_9_1/fasta/reads_2D.fasta > /data/minion/work/E05_aliquot_3_workflow_1_9_1/last/3D7_V3/reads_2D.last.txt\r\n"
       ]
      },
      {
       "output_type": "stream",
       "stream": "stdout",
       "text": [
        "Cmd : maf-convert.py sam /data/minion/work/E05_aliquot_3_workflow_1_9_1/last/3D7_V3/reads_2D.last.txt > /data/minion/work/E05_aliquot_3_workflow_1_9_1/last/3D7_V3/reads_2D.last.sam\r\n"
       ]
      },
      {
       "output_type": "stream",
       "stream": "stdout",
       "text": [
        "Cmd : samtools view -T /data/minion/reference_genomes/3D7_V3/3D7_V3.fasta -bS /data/minion/work/E05_aliquot_3_workflow_1_9_1/last/3D7_V3/reads_2D.last.sam | samtools sort - /data/minion/work/E05_aliquot_3_workflow_1_9_1/last/3D7_V3/reads_2D.last.sorted\r\n"
       ]
      },
      {
       "output_type": "stream",
       "stream": "stdout",
       "text": [
        "[bam_header_read] EOF marker is absent. The input is probably truncated.\r\n",
        "[sam_header_read2] 16 sequences loaded.\r\n",
        "Cmd : samtools index /data/minion/work/E05_aliquot_3_workflow_1_9_1/last/3D7_V3/reads_2D.last.sorted.bam\r\n",
        "Finished successfully : /data/minion/work/E05_aliquot_3_workflow_1_9_1/fasta/reads_2D.fasta /data/minion/reference_genomes/3D7_V3/3D7_V3.fasta /data/minion/work/E05_aliquot_3_workflow_1_9_1/last/3D7_V3\r\n"
       ]
      },
      {
       "output_type": "stream",
       "stream": "stdout",
       "text": [
        "E05_aliquot_3_workflow_1_9_1 template AgamP3\n",
        "Info: /data/minion/work/E05_aliquot_3_workflow_1_9_1/last/AgamP3/Anopheles-gambiae-PEST_CHROMOSOMES_AgamP3.lastindex.* files already exist\r\n",
        "Cmd : lastal -s 2 -T 0 -Q 0 -a 1 -m 1 /data/minion/reference_genomes/AgamP3/Anopheles-gambiae-PEST_CHROMOSOMES_AgamP3.lastindex /data/minion/work/E05_aliquot_3_workflow_1_9_1/fasta/reads_template.fasta > /data/minion/work/E05_aliquot_3_workflow_1_9_1/last/AgamP3/reads_template.last.txt\r\n"
       ]
      },
      {
       "output_type": "stream",
       "stream": "stdout",
       "text": [
        "Cmd : maf-convert.py sam /data/minion/work/E05_aliquot_3_workflow_1_9_1/last/AgamP3/reads_template.last.txt > /data/minion/work/E05_aliquot_3_workflow_1_9_1/last/AgamP3/reads_template.last.sam\r\n"
       ]
      },
      {
       "output_type": "stream",
       "stream": "stdout",
       "text": [
        "Cmd : samtools view -T /data/minion/reference_genomes/AgamP3/Anopheles-gambiae-PEST_CHROMOSOMES_AgamP3.fasta -bS /data/minion/work/E05_aliquot_3_workflow_1_9_1/last/AgamP3/reads_template.last.sam | samtools sort - /data/minion/work/E05_aliquot_3_workflow_1_9_1/last/AgamP3/reads_template.last.sorted\r\n",
        "[bam_header_read] EOF marker is absent. The input is probably truncated.\r\n",
        "[sam_header_read2] 7 sequences loaded.\r\n"
       ]
      },
      {
       "output_type": "stream",
       "stream": "stdout",
       "text": [
        "Cmd : samtools index /data/minion/work/E05_aliquot_3_workflow_1_9_1/last/AgamP3/reads_template.last.sorted.bam\r\n",
        "Finished successfully : /data/minion/work/E05_aliquot_3_workflow_1_9_1/fasta/reads_template.fasta /data/minion/reference_genomes/AgamP3/Anopheles-gambiae-PEST_CHROMOSOMES_AgamP3.fasta /data/minion/work/E05_aliquot_3_workflow_1_9_1/last/AgamP3\r\n"
       ]
      },
      {
       "output_type": "stream",
       "stream": "stdout",
       "text": [
        "E05_aliquot_3_workflow_1_9_1 complement AgamP3\n",
        "Info: /data/minion/work/E05_aliquot_3_workflow_1_9_1/last/AgamP3/Anopheles-gambiae-PEST_CHROMOSOMES_AgamP3.lastindex.* files already exist\r\n",
        "Cmd : lastal -s 2 -T 0 -Q 0 -a 1 -m 1 /data/minion/reference_genomes/AgamP3/Anopheles-gambiae-PEST_CHROMOSOMES_AgamP3.lastindex /data/minion/work/E05_aliquot_3_workflow_1_9_1/fasta/reads_complement.fasta > /data/minion/work/E05_aliquot_3_workflow_1_9_1/last/AgamP3/reads_complement.last.txt\r\n"
       ]
      },
      {
       "output_type": "stream",
       "stream": "stdout",
       "text": [
        "Cmd : maf-convert.py sam /data/minion/work/E05_aliquot_3_workflow_1_9_1/last/AgamP3/reads_complement.last.txt > /data/minion/work/E05_aliquot_3_workflow_1_9_1/last/AgamP3/reads_complement.last.sam\r\n"
       ]
      },
      {
       "output_type": "stream",
       "stream": "stdout",
       "text": [
        "Cmd : samtools view -T /data/minion/reference_genomes/AgamP3/Anopheles-gambiae-PEST_CHROMOSOMES_AgamP3.fasta -bS /data/minion/work/E05_aliquot_3_workflow_1_9_1/last/AgamP3/reads_complement.last.sam | samtools sort - /data/minion/work/E05_aliquot_3_workflow_1_9_1/last/AgamP3/reads_complement.last.sorted\r\n",
        "[bam_header_read] EOF marker is absent. The input is probably truncated.\r\n",
        "[sam_header_read2] 7 sequences loaded.\r\n"
       ]
      },
      {
       "output_type": "stream",
       "stream": "stdout",
       "text": [
        "Cmd : samtools index /data/minion/work/E05_aliquot_3_workflow_1_9_1/last/AgamP3/reads_complement.last.sorted.bam\r\n",
        "Finished successfully : /data/minion/work/E05_aliquot_3_workflow_1_9_1/fasta/reads_complement.fasta /data/minion/reference_genomes/AgamP3/Anopheles-gambiae-PEST_CHROMOSOMES_AgamP3.fasta /data/minion/work/E05_aliquot_3_workflow_1_9_1/last/AgamP3\r\n"
       ]
      },
      {
       "output_type": "stream",
       "stream": "stdout",
       "text": [
        "E05_aliquot_3_workflow_1_9_1 2D AgamP3\n",
        "Info: /data/minion/work/E05_aliquot_3_workflow_1_9_1/last/AgamP3/Anopheles-gambiae-PEST_CHROMOSOMES_AgamP3.lastindex.* files already exist\r\n",
        "Cmd : lastal -s 2 -T 0 -Q 0 -a 1 -m 1 /data/minion/reference_genomes/AgamP3/Anopheles-gambiae-PEST_CHROMOSOMES_AgamP3.lastindex /data/minion/work/E05_aliquot_3_workflow_1_9_1/fasta/reads_2D.fasta > /data/minion/work/E05_aliquot_3_workflow_1_9_1/last/AgamP3/reads_2D.last.txt\r\n"
       ]
      },
      {
       "output_type": "stream",
       "stream": "stdout",
       "text": [
        "Cmd : maf-convert.py sam /data/minion/work/E05_aliquot_3_workflow_1_9_1/last/AgamP3/reads_2D.last.txt > /data/minion/work/E05_aliquot_3_workflow_1_9_1/last/AgamP3/reads_2D.last.sam\r\n"
       ]
      },
      {
       "output_type": "stream",
       "stream": "stdout",
       "text": [
        "Cmd : samtools view -T /data/minion/reference_genomes/AgamP3/Anopheles-gambiae-PEST_CHROMOSOMES_AgamP3.fasta -bS /data/minion/work/E05_aliquot_3_workflow_1_9_1/last/AgamP3/reads_2D.last.sam | samtools sort - /data/minion/work/E05_aliquot_3_workflow_1_9_1/last/AgamP3/reads_2D.last.sorted\r\n",
        "[bam_header_read] EOF marker is absent. The input is probably truncated.\r\n",
        "[sam_header_read2] 7 sequences loaded.\r\n",
        "Cmd : samtools index /data/minion/work/E05_aliquot_3_workflow_1_9_1/last/AgamP3/reads_2D.last.sorted.bam\r\n",
        "Finished successfully : /data/minion/work/E05_aliquot_3_workflow_1_9_1/fasta/reads_2D.fasta /data/minion/reference_genomes/AgamP3/Anopheles-gambiae-PEST_CHROMOSOMES_AgamP3.fasta /data/minion/work/E05_aliquot_3_workflow_1_9_1/last/AgamP3\r\n"
       ]
      },
      {
       "output_type": "stream",
       "stream": "stdout",
       "text": [
        "E05_aliquot_5_workflow_1_9_1 template ont_lambda\n",
        "Info: /data/minion/work/E05_aliquot_5_workflow_1_9_1/last/ont_lambda/lambda_ref.lastindex.* files already exist\r\n",
        "Cmd : lastal -s 2 -T 0 -Q 0 -a 1 -m 1 /data/minion/reference_genomes/lambda/lambda_ref.lastindex /data/minion/work/E05_aliquot_5_workflow_1_9_1/fasta/reads_template.fasta > /data/minion/work/E05_aliquot_5_workflow_1_9_1/last/ont_lambda/reads_template.last.txt\r\n"
       ]
      },
      {
       "output_type": "stream",
       "stream": "stdout",
       "text": [
        "Cmd : maf-convert.py sam /data/minion/work/E05_aliquot_5_workflow_1_9_1/last/ont_lambda/reads_template.last.txt > /data/minion/work/E05_aliquot_5_workflow_1_9_1/last/ont_lambda/reads_template.last.sam\r\n"
       ]
      },
      {
       "output_type": "stream",
       "stream": "stdout",
       "text": [
        "Cmd : samtools view -T /data/minion/reference_genomes/lambda/lambda_ref.fasta -bS /data/minion/work/E05_aliquot_5_workflow_1_9_1/last/ont_lambda/reads_template.last.sam | samtools sort - /data/minion/work/E05_aliquot_5_workflow_1_9_1/last/ont_lambda/reads_template.last.sorted\r\n",
        "[bam_header_read] EOF marker is absent. The input is probably truncated.\r\n",
        "[sam_header_read2] 1 sequences loaded.\r\n"
       ]
      },
      {
       "output_type": "stream",
       "stream": "stdout",
       "text": [
        "Cmd : samtools index /data/minion/work/E05_aliquot_5_workflow_1_9_1/last/ont_lambda/reads_template.last.sorted.bam\r\n",
        "Finished successfully : /data/minion/work/E05_aliquot_5_workflow_1_9_1/fasta/reads_template.fasta /data/minion/reference_genomes/lambda/lambda_ref.fasta /data/minion/work/E05_aliquot_5_workflow_1_9_1/last/ont_lambda\r\n"
       ]
      },
      {
       "output_type": "stream",
       "stream": "stdout",
       "text": [
        "E05_aliquot_5_workflow_1_9_1 complement ont_lambda\n",
        "Info: /data/minion/work/E05_aliquot_5_workflow_1_9_1/last/ont_lambda/lambda_ref.lastindex.* files already exist\r\n",
        "Cmd : lastal -s 2 -T 0 -Q 0 -a 1 -m 1 /data/minion/reference_genomes/lambda/lambda_ref.lastindex /data/minion/work/E05_aliquot_5_workflow_1_9_1/fasta/reads_complement.fasta > /data/minion/work/E05_aliquot_5_workflow_1_9_1/last/ont_lambda/reads_complement.last.txt\r\n"
       ]
      },
      {
       "output_type": "stream",
       "stream": "stdout",
       "text": [
        "Cmd : maf-convert.py sam /data/minion/work/E05_aliquot_5_workflow_1_9_1/last/ont_lambda/reads_complement.last.txt > /data/minion/work/E05_aliquot_5_workflow_1_9_1/last/ont_lambda/reads_complement.last.sam\r\n"
       ]
      },
      {
       "output_type": "stream",
       "stream": "stdout",
       "text": [
        "Cmd : samtools view -T /data/minion/reference_genomes/lambda/lambda_ref.fasta -bS /data/minion/work/E05_aliquot_5_workflow_1_9_1/last/ont_lambda/reads_complement.last.sam | samtools sort - /data/minion/work/E05_aliquot_5_workflow_1_9_1/last/ont_lambda/reads_complement.last.sorted\r\n",
        "[bam_header_read] EOF marker is absent. The input is probably truncated.\r\n",
        "[sam_header_read2] 1 sequences loaded.\r\n",
        "[sam_read1] reference 'VN:1.3\tSO:unsorted\r\n",
        "' is recognized as '*'.\r\n",
        "[main_samview] truncated file.\r\n",
        "Cmd : samtools index /data/minion/work/E05_aliquot_5_workflow_1_9_1/last/ont_lambda/reads_complement.last.sorted.bam\r\n"
       ]
      },
      {
       "output_type": "stream",
       "stream": "stdout",
       "text": [
        "Finished successfully : /data/minion/work/E05_aliquot_5_workflow_1_9_1/fasta/reads_complement.fasta /data/minion/reference_genomes/lambda/lambda_ref.fasta /data/minion/work/E05_aliquot_5_workflow_1_9_1/last/ont_lambda\r\n"
       ]
      },
      {
       "output_type": "stream",
       "stream": "stdout",
       "text": [
        "E05_aliquot_5_workflow_1_9_1 2D ont_lambda\n",
        "Info: /data/minion/work/E05_aliquot_5_workflow_1_9_1/last/ont_lambda/lambda_ref.lastindex.* files already exist\r\n",
        "Cmd : lastal -s 2 -T 0 -Q 0 -a 1 -m 1 /data/minion/reference_genomes/lambda/lambda_ref.lastindex /data/minion/work/E05_aliquot_5_workflow_1_9_1/fasta/reads_2D.fasta > /data/minion/work/E05_aliquot_5_workflow_1_9_1/last/ont_lambda/reads_2D.last.txt\r\n"
       ]
      },
      {
       "output_type": "stream",
       "stream": "stdout",
       "text": [
        "Cmd : maf-convert.py sam /data/minion/work/E05_aliquot_5_workflow_1_9_1/last/ont_lambda/reads_2D.last.txt > /data/minion/work/E05_aliquot_5_workflow_1_9_1/last/ont_lambda/reads_2D.last.sam\r\n"
       ]
      },
      {
       "output_type": "stream",
       "stream": "stdout",
       "text": [
        "Cmd : samtools view -T /data/minion/reference_genomes/lambda/lambda_ref.fasta -bS /data/minion/work/E05_aliquot_5_workflow_1_9_1/last/ont_lambda/reads_2D.last.sam | samtools sort - /data/minion/work/E05_aliquot_5_workflow_1_9_1/last/ont_lambda/reads_2D.last.sorted\r\n",
        "[bam_header_read] EOF marker is absent. The input is probably truncated.\r\n",
        "[sam_header_read2] 1 sequences loaded.\r\n",
        "Cmd : samtools index /data/minion/work/E05_aliquot_5_workflow_1_9_1/last/ont_lambda/reads_2D.last.sorted.bam\r\n",
        "Finished successfully : /data/minion/work/E05_aliquot_5_workflow_1_9_1/fasta/reads_2D.fasta /data/minion/reference_genomes/lambda/lambda_ref.fasta /data/minion/work/E05_aliquot_5_workflow_1_9_1/last/ont_lambda\r\n"
       ]
      },
      {
       "output_type": "stream",
       "stream": "stdout",
       "text": [
        "E05_aliquot_5_workflow_1_9_1 template cs\n",
        "Info: /data/minion/work/E05_aliquot_5_workflow_1_9_1/last/cs/dna_cs.lastindex.* files already exist\r\n",
        "Cmd : lastal -s 2 -T 0 -Q 0 -a 1 -m 1 /data/minion/reference_genomes/cs/dna_cs.lastindex /data/minion/work/E05_aliquot_5_workflow_1_9_1/fasta/reads_template.fasta > /data/minion/work/E05_aliquot_5_workflow_1_9_1/last/cs/reads_template.last.txt\r\n"
       ]
      },
      {
       "output_type": "stream",
       "stream": "stdout",
       "text": [
        "Cmd : maf-convert.py sam /data/minion/work/E05_aliquot_5_workflow_1_9_1/last/cs/reads_template.last.txt > /data/minion/work/E05_aliquot_5_workflow_1_9_1/last/cs/reads_template.last.sam\r\n"
       ]
      },
      {
       "output_type": "stream",
       "stream": "stdout",
       "text": [
        "Cmd : samtools view -T /data/minion/reference_genomes/cs/dna_cs.fasta -bS /data/minion/work/E05_aliquot_5_workflow_1_9_1/last/cs/reads_template.last.sam | samtools sort - /data/minion/work/E05_aliquot_5_workflow_1_9_1/last/cs/reads_template.last.sorted\r\n",
        "[bam_header_read] EOF marker is absent. The input is probably truncated.\r\n",
        "[sam_header_read2] 1 sequences loaded.\r\n"
       ]
      },
      {
       "output_type": "stream",
       "stream": "stdout",
       "text": [
        "Cmd : samtools index /data/minion/work/E05_aliquot_5_workflow_1_9_1/last/cs/reads_template.last.sorted.bam\r\n",
        "Finished successfully : /data/minion/work/E05_aliquot_5_workflow_1_9_1/fasta/reads_template.fasta /data/minion/reference_genomes/cs/dna_cs.fasta /data/minion/work/E05_aliquot_5_workflow_1_9_1/last/cs\r\n"
       ]
      },
      {
       "output_type": "stream",
       "stream": "stdout",
       "text": [
        "E05_aliquot_5_workflow_1_9_1 complement cs\n",
        "Info: /data/minion/work/E05_aliquot_5_workflow_1_9_1/last/cs/dna_cs.lastindex.* files already exist\r\n",
        "Cmd : lastal -s 2 -T 0 -Q 0 -a 1 -m 1 /data/minion/reference_genomes/cs/dna_cs.lastindex /data/minion/work/E05_aliquot_5_workflow_1_9_1/fasta/reads_complement.fasta > /data/minion/work/E05_aliquot_5_workflow_1_9_1/last/cs/reads_complement.last.txt\r\n"
       ]
      },
      {
       "output_type": "stream",
       "stream": "stdout",
       "text": [
        "Cmd : maf-convert.py sam /data/minion/work/E05_aliquot_5_workflow_1_9_1/last/cs/reads_complement.last.txt > /data/minion/work/E05_aliquot_5_workflow_1_9_1/last/cs/reads_complement.last.sam\r\n"
       ]
      },
      {
       "output_type": "stream",
       "stream": "stdout",
       "text": [
        "Cmd : samtools view -T /data/minion/reference_genomes/cs/dna_cs.fasta -bS /data/minion/work/E05_aliquot_5_workflow_1_9_1/last/cs/reads_complement.last.sam | samtools sort - /data/minion/work/E05_aliquot_5_workflow_1_9_1/last/cs/reads_complement.last.sorted\r\n",
        "[bam_header_read] EOF marker is absent. The input is probably truncated.\r\n",
        "[sam_header_read2] 1 sequences loaded.\r\n",
        "[sam_read1] reference 'VN:1.3\tSO:unsorted\r\n",
        "' is recognized as '*'.\r\n",
        "[main_samview] truncated file.\r\n",
        "Cmd : samtools index /data/minion/work/E05_aliquot_5_workflow_1_9_1/last/cs/reads_complement.last.sorted.bam\r\n",
        "Finished successfully : /data/minion/work/E05_aliquot_5_workflow_1_9_1/fasta/reads_complement.fasta /data/minion/reference_genomes/cs/dna_cs.fasta /data/minion/work/E05_aliquot_5_workflow_1_9_1/last/cs\r\n"
       ]
      },
      {
       "output_type": "stream",
       "stream": "stdout",
       "text": [
        "E05_aliquot_5_workflow_1_9_1 2D cs\n",
        "Info: /data/minion/work/E05_aliquot_5_workflow_1_9_1/last/cs/dna_cs.lastindex.* files already exist\r\n",
        "Cmd : lastal -s 2 -T 0 -Q 0 -a 1 -m 1 /data/minion/reference_genomes/cs/dna_cs.lastindex /data/minion/work/E05_aliquot_5_workflow_1_9_1/fasta/reads_2D.fasta > /data/minion/work/E05_aliquot_5_workflow_1_9_1/last/cs/reads_2D.last.txt\r\n"
       ]
      },
      {
       "output_type": "stream",
       "stream": "stdout",
       "text": [
        "Cmd : maf-convert.py sam /data/minion/work/E05_aliquot_5_workflow_1_9_1/last/cs/reads_2D.last.txt > /data/minion/work/E05_aliquot_5_workflow_1_9_1/last/cs/reads_2D.last.sam\r\n"
       ]
      },
      {
       "output_type": "stream",
       "stream": "stdout",
       "text": [
        "Cmd : samtools view -T /data/minion/reference_genomes/cs/dna_cs.fasta -bS /data/minion/work/E05_aliquot_5_workflow_1_9_1/last/cs/reads_2D.last.sam | samtools sort - /data/minion/work/E05_aliquot_5_workflow_1_9_1/last/cs/reads_2D.last.sorted\r\n",
        "[bam_header_read] EOF marker is absent. The input is probably truncated.\r\n",
        "[sam_header_read2] 1 sequences loaded.\r\n",
        "Cmd : samtools index /data/minion/work/E05_aliquot_5_workflow_1_9_1/last/cs/reads_2D.last.sorted.bam\r\n",
        "Finished successfully : /data/minion/work/E05_aliquot_5_workflow_1_9_1/fasta/reads_2D.fasta /data/minion/reference_genomes/cs/dna_cs.fasta /data/minion/work/E05_aliquot_5_workflow_1_9_1/last/cs\r\n"
       ]
      },
      {
       "output_type": "stream",
       "stream": "stdout",
       "text": [
        "E05_aliquot_5_workflow_1_9_1 template 3D7_V3\n",
        "Info: /data/minion/work/E05_aliquot_5_workflow_1_9_1/last/3D7_V3/3D7_V3.lastindex.* files already exist\r\n",
        "Cmd : lastal -s 2 -T 0 -Q 0 -a 1 -m 1 /data/minion/reference_genomes/3D7_V3/3D7_V3.lastindex /data/minion/work/E05_aliquot_5_workflow_1_9_1/fasta/reads_template.fasta > /data/minion/work/E05_aliquot_5_workflow_1_9_1/last/3D7_V3/reads_template.last.txt\r\n"
       ]
      },
      {
       "output_type": "stream",
       "stream": "stdout",
       "text": [
        "Cmd : maf-convert.py sam /data/minion/work/E05_aliquot_5_workflow_1_9_1/last/3D7_V3/reads_template.last.txt > /data/minion/work/E05_aliquot_5_workflow_1_9_1/last/3D7_V3/reads_template.last.sam\r\n"
       ]
      },
      {
       "output_type": "stream",
       "stream": "stdout",
       "text": [
        "Cmd : samtools view -T /data/minion/reference_genomes/3D7_V3/3D7_V3.fasta -bS /data/minion/work/E05_aliquot_5_workflow_1_9_1/last/3D7_V3/reads_template.last.sam | samtools sort - /data/minion/work/E05_aliquot_5_workflow_1_9_1/last/3D7_V3/reads_template.last.sorted\r\n",
        "[bam_header_read] EOF marker is absent. The input is probably truncated.\r\n",
        "[sam_header_read2] 16 sequences loaded.\r\n"
       ]
      },
      {
       "output_type": "stream",
       "stream": "stdout",
       "text": [
        "Cmd : samtools index /data/minion/work/E05_aliquot_5_workflow_1_9_1/last/3D7_V3/reads_template.last.sorted.bam\r\n",
        "Finished successfully : /data/minion/work/E05_aliquot_5_workflow_1_9_1/fasta/reads_template.fasta /data/minion/reference_genomes/3D7_V3/3D7_V3.fasta /data/minion/work/E05_aliquot_5_workflow_1_9_1/last/3D7_V3\r\n"
       ]
      },
      {
       "output_type": "stream",
       "stream": "stdout",
       "text": [
        "E05_aliquot_5_workflow_1_9_1 complement 3D7_V3\n",
        "Info: /data/minion/work/E05_aliquot_5_workflow_1_9_1/last/3D7_V3/3D7_V3.lastindex.* files already exist\r\n",
        "Cmd : lastal -s 2 -T 0 -Q 0 -a 1 -m 1 /data/minion/reference_genomes/3D7_V3/3D7_V3.lastindex /data/minion/work/E05_aliquot_5_workflow_1_9_1/fasta/reads_complement.fasta > /data/minion/work/E05_aliquot_5_workflow_1_9_1/last/3D7_V3/reads_complement.last.txt\r\n"
       ]
      },
      {
       "output_type": "stream",
       "stream": "stdout",
       "text": [
        "Cmd : maf-convert.py sam /data/minion/work/E05_aliquot_5_workflow_1_9_1/last/3D7_V3/reads_complement.last.txt > /data/minion/work/E05_aliquot_5_workflow_1_9_1/last/3D7_V3/reads_complement.last.sam\r\n"
       ]
      },
      {
       "output_type": "stream",
       "stream": "stdout",
       "text": [
        "Cmd : samtools view -T /data/minion/reference_genomes/3D7_V3/3D7_V3.fasta -bS /data/minion/work/E05_aliquot_5_workflow_1_9_1/last/3D7_V3/reads_complement.last.sam | samtools sort - /data/minion/work/E05_aliquot_5_workflow_1_9_1/last/3D7_V3/reads_complement.last.sorted\r\n",
        "[bam_header_read] EOF marker is absent. The input is probably truncated.\r\n",
        "[sam_header_read2] 16 sequences loaded.\r\n",
        "Cmd : samtools index /data/minion/work/E05_aliquot_5_workflow_1_9_1/last/3D7_V3/reads_complement.last.sorted.bam\r\n"
       ]
      },
      {
       "output_type": "stream",
       "stream": "stdout",
       "text": [
        "Finished successfully : /data/minion/work/E05_aliquot_5_workflow_1_9_1/fasta/reads_complement.fasta /data/minion/reference_genomes/3D7_V3/3D7_V3.fasta /data/minion/work/E05_aliquot_5_workflow_1_9_1/last/3D7_V3\r\n"
       ]
      },
      {
       "output_type": "stream",
       "stream": "stdout",
       "text": [
        "E05_aliquot_5_workflow_1_9_1 2D 3D7_V3\n",
        "Info: /data/minion/work/E05_aliquot_5_workflow_1_9_1/last/3D7_V3/3D7_V3.lastindex.* files already exist\r\n",
        "Cmd : lastal -s 2 -T 0 -Q 0 -a 1 -m 1 /data/minion/reference_genomes/3D7_V3/3D7_V3.lastindex /data/minion/work/E05_aliquot_5_workflow_1_9_1/fasta/reads_2D.fasta > /data/minion/work/E05_aliquot_5_workflow_1_9_1/last/3D7_V3/reads_2D.last.txt\r\n"
       ]
      },
      {
       "output_type": "stream",
       "stream": "stdout",
       "text": [
        "Cmd : maf-convert.py sam /data/minion/work/E05_aliquot_5_workflow_1_9_1/last/3D7_V3/reads_2D.last.txt > /data/minion/work/E05_aliquot_5_workflow_1_9_1/last/3D7_V3/reads_2D.last.sam\r\n"
       ]
      },
      {
       "output_type": "stream",
       "stream": "stdout",
       "text": [
        "Cmd : samtools view -T /data/minion/reference_genomes/3D7_V3/3D7_V3.fasta -bS /data/minion/work/E05_aliquot_5_workflow_1_9_1/last/3D7_V3/reads_2D.last.sam | samtools sort - /data/minion/work/E05_aliquot_5_workflow_1_9_1/last/3D7_V3/reads_2D.last.sorted\r\n",
        "[bam_header_read] EOF marker is absent. The input is probably truncated.\r\n",
        "[sam_header_read2] 16 sequences loaded.\r\n",
        "[sam_read1] reference 'VN:1.3\tSO:unsorted\r\n",
        "' is recognized as '*'.\r\n",
        "[main_samview] truncated file.\r\n",
        "Cmd : samtools index /data/minion/work/E05_aliquot_5_workflow_1_9_1/last/3D7_V3/reads_2D.last.sorted.bam\r\n",
        "Finished successfully : /data/minion/work/E05_aliquot_5_workflow_1_9_1/fasta/reads_2D.fasta /data/minion/reference_genomes/3D7_V3/3D7_V3.fasta /data/minion/work/E05_aliquot_5_workflow_1_9_1/last/3D7_V3\r\n"
       ]
      },
      {
       "output_type": "stream",
       "stream": "stdout",
       "text": [
        "E05_aliquot_5_workflow_1_9_1 template AgamP3\n",
        "Info: /data/minion/work/E05_aliquot_5_workflow_1_9_1/last/AgamP3/Anopheles-gambiae-PEST_CHROMOSOMES_AgamP3.lastindex.* files already exist\r\n",
        "Cmd : lastal -s 2 -T 0 -Q 0 -a 1 -m 1 /data/minion/reference_genomes/AgamP3/Anopheles-gambiae-PEST_CHROMOSOMES_AgamP3.lastindex /data/minion/work/E05_aliquot_5_workflow_1_9_1/fasta/reads_template.fasta > /data/minion/work/E05_aliquot_5_workflow_1_9_1/last/AgamP3/reads_template.last.txt\r\n"
       ]
      },
      {
       "output_type": "stream",
       "stream": "stdout",
       "text": [
        "Cmd : maf-convert.py sam /data/minion/work/E05_aliquot_5_workflow_1_9_1/last/AgamP3/reads_template.last.txt > /data/minion/work/E05_aliquot_5_workflow_1_9_1/last/AgamP3/reads_template.last.sam\r\n"
       ]
      },
      {
       "output_type": "stream",
       "stream": "stdout",
       "text": [
        "Cmd : samtools view -T /data/minion/reference_genomes/AgamP3/Anopheles-gambiae-PEST_CHROMOSOMES_AgamP3.fasta -bS /data/minion/work/E05_aliquot_5_workflow_1_9_1/last/AgamP3/reads_template.last.sam | samtools sort - /data/minion/work/E05_aliquot_5_workflow_1_9_1/last/AgamP3/reads_template.last.sorted\r\n",
        "[bam_header_read] EOF marker is absent. The input is probably truncated.\r\n",
        "[sam_header_read2] 7 sequences loaded.\r\n",
        "Cmd : samtools index /data/minion/work/E05_aliquot_5_workflow_1_9_1/last/AgamP3/reads_template.last.sorted.bam\r\n",
        "Finished successfully : /data/minion/work/E05_aliquot_5_workflow_1_9_1/fasta/reads_template.fasta /data/minion/reference_genomes/AgamP3/Anopheles-gambiae-PEST_CHROMOSOMES_AgamP3.fasta /data/minion/work/E05_aliquot_5_workflow_1_9_1/last/AgamP3\r\n"
       ]
      },
      {
       "output_type": "stream",
       "stream": "stdout",
       "text": [
        "E05_aliquot_5_workflow_1_9_1 complement AgamP3\n",
        "Info: /data/minion/work/E05_aliquot_5_workflow_1_9_1/last/AgamP3/Anopheles-gambiae-PEST_CHROMOSOMES_AgamP3.lastindex.* files already exist\r\n",
        "Cmd : lastal -s 2 -T 0 -Q 0 -a 1 -m 1 /data/minion/reference_genomes/AgamP3/Anopheles-gambiae-PEST_CHROMOSOMES_AgamP3.lastindex /data/minion/work/E05_aliquot_5_workflow_1_9_1/fasta/reads_complement.fasta > /data/minion/work/E05_aliquot_5_workflow_1_9_1/last/AgamP3/reads_complement.last.txt\r\n"
       ]
      },
      {
       "output_type": "stream",
       "stream": "stdout",
       "text": [
        "Cmd : maf-convert.py sam /data/minion/work/E05_aliquot_5_workflow_1_9_1/last/AgamP3/reads_complement.last.txt > /data/minion/work/E05_aliquot_5_workflow_1_9_1/last/AgamP3/reads_complement.last.sam\r\n"
       ]
      },
      {
       "output_type": "stream",
       "stream": "stdout",
       "text": [
        "Cmd : samtools view -T /data/minion/reference_genomes/AgamP3/Anopheles-gambiae-PEST_CHROMOSOMES_AgamP3.fasta -bS /data/minion/work/E05_aliquot_5_workflow_1_9_1/last/AgamP3/reads_complement.last.sam | samtools sort - /data/minion/work/E05_aliquot_5_workflow_1_9_1/last/AgamP3/reads_complement.last.sorted\r\n",
        "[bam_header_read] EOF marker is absent. The input is probably truncated.\r\n",
        "[sam_header_read2] 7 sequences loaded.\r\n",
        "Cmd : samtools index /data/minion/work/E05_aliquot_5_workflow_1_9_1/last/AgamP3/reads_complement.last.sorted.bam\r\n",
        "Finished successfully : /data/minion/work/E05_aliquot_5_workflow_1_9_1/fasta/reads_complement.fasta /data/minion/reference_genomes/AgamP3/Anopheles-gambiae-PEST_CHROMOSOMES_AgamP3.fasta /data/minion/work/E05_aliquot_5_workflow_1_9_1/last/AgamP3\r\n"
       ]
      },
      {
       "output_type": "stream",
       "stream": "stdout",
       "text": [
        "E05_aliquot_5_workflow_1_9_1 2D AgamP3\n",
        "Info: /data/minion/work/E05_aliquot_5_workflow_1_9_1/last/AgamP3/Anopheles-gambiae-PEST_CHROMOSOMES_AgamP3.lastindex.* files already exist\r\n",
        "Cmd : lastal -s 2 -T 0 -Q 0 -a 1 -m 1 /data/minion/reference_genomes/AgamP3/Anopheles-gambiae-PEST_CHROMOSOMES_AgamP3.lastindex /data/minion/work/E05_aliquot_5_workflow_1_9_1/fasta/reads_2D.fasta > /data/minion/work/E05_aliquot_5_workflow_1_9_1/last/AgamP3/reads_2D.last.txt\r\n"
       ]
      },
      {
       "output_type": "stream",
       "stream": "stdout",
       "text": [
        "Cmd : maf-convert.py sam /data/minion/work/E05_aliquot_5_workflow_1_9_1/last/AgamP3/reads_2D.last.txt > /data/minion/work/E05_aliquot_5_workflow_1_9_1/last/AgamP3/reads_2D.last.sam\r\n"
       ]
      },
      {
       "output_type": "stream",
       "stream": "stdout",
       "text": [
        "Cmd : samtools view -T /data/minion/reference_genomes/AgamP3/Anopheles-gambiae-PEST_CHROMOSOMES_AgamP3.fasta -bS /data/minion/work/E05_aliquot_5_workflow_1_9_1/last/AgamP3/reads_2D.last.sam | samtools sort - /data/minion/work/E05_aliquot_5_workflow_1_9_1/last/AgamP3/reads_2D.last.sorted\r\n",
        "[bam_header_read] EOF marker is absent. The input is probably truncated.\r\n",
        "[sam_header_read2] 7 sequences loaded.\r\n",
        "[sam_read1] reference 'VN:1.3\tSO:unsorted\r\n",
        "' is recognized as '*'.\r\n",
        "[main_samview] truncated file.\r\n"
       ]
      },
      {
       "output_type": "stream",
       "stream": "stdout",
       "text": [
        "Cmd : samtools index /data/minion/work/E05_aliquot_5_workflow_1_9_1/last/AgamP3/reads_2D.last.sorted.bam\r\n",
        "Finished successfully : /data/minion/work/E05_aliquot_5_workflow_1_9_1/fasta/reads_2D.fasta /data/minion/reference_genomes/AgamP3/Anopheles-gambiae-PEST_CHROMOSOMES_AgamP3.fasta /data/minion/work/E05_aliquot_5_workflow_1_9_1/last/AgamP3\r\n"
       ]
      },
      {
       "output_type": "stream",
       "stream": "stdout",
       "text": [
        "E05_aliquot_2_workflow_1_9_1 template ont_lambda\n",
        "Info: /data/minion/work/E05_aliquot_2_workflow_1_9_1/last/ont_lambda/lambda_ref.lastindex.* files already exist\r\n",
        "Cmd : lastal -s 2 -T 0 -Q 0 -a 1 -m 1 /data/minion/reference_genomes/lambda/lambda_ref.lastindex /data/minion/work/E05_aliquot_2_workflow_1_9_1/fasta/reads_template.fasta > /data/minion/work/E05_aliquot_2_workflow_1_9_1/last/ont_lambda/reads_template.last.txt\r\n"
       ]
      },
      {
       "output_type": "stream",
       "stream": "stdout",
       "text": [
        "Cmd : maf-convert.py sam /data/minion/work/E05_aliquot_2_workflow_1_9_1/last/ont_lambda/reads_template.last.txt > /data/minion/work/E05_aliquot_2_workflow_1_9_1/last/ont_lambda/reads_template.last.sam\r\n"
       ]
      },
      {
       "output_type": "stream",
       "stream": "stdout",
       "text": [
        "Cmd : samtools view -T /data/minion/reference_genomes/lambda/lambda_ref.fasta -bS /data/minion/work/E05_aliquot_2_workflow_1_9_1/last/ont_lambda/reads_template.last.sam | samtools sort - /data/minion/work/E05_aliquot_2_workflow_1_9_1/last/ont_lambda/reads_template.last.sorted\r\n",
        "[bam_header_read] EOF marker is absent. The input is probably truncated.\r\n"
       ]
      },
      {
       "output_type": "stream",
       "stream": "stdout",
       "text": [
        "[sam_header_read2] 1 sequences loaded.\r\n"
       ]
      },
      {
       "output_type": "stream",
       "stream": "stdout",
       "text": [
        "Cmd : samtools index /data/minion/work/E05_aliquot_2_workflow_1_9_1/last/ont_lambda/reads_template.last.sorted.bam\r\n",
        "Finished successfully : /data/minion/work/E05_aliquot_2_workflow_1_9_1/fasta/reads_template.fasta /data/minion/reference_genomes/lambda/lambda_ref.fasta /data/minion/work/E05_aliquot_2_workflow_1_9_1/last/ont_lambda\r\n"
       ]
      },
      {
       "output_type": "stream",
       "stream": "stdout",
       "text": [
        "E05_aliquot_2_workflow_1_9_1 complement ont_lambda\n",
        "Info: /data/minion/work/E05_aliquot_2_workflow_1_9_1/last/ont_lambda/lambda_ref.lastindex.* files already exist\r\n",
        "Cmd : lastal -s 2 -T 0 -Q 0 -a 1 -m 1 /data/minion/reference_genomes/lambda/lambda_ref.lastindex /data/minion/work/E05_aliquot_2_workflow_1_9_1/fasta/reads_complement.fasta > /data/minion/work/E05_aliquot_2_workflow_1_9_1/last/ont_lambda/reads_complement.last.txt\r\n"
       ]
      },
      {
       "output_type": "stream",
       "stream": "stdout",
       "text": [
        "Cmd : maf-convert.py sam /data/minion/work/E05_aliquot_2_workflow_1_9_1/last/ont_lambda/reads_complement.last.txt > /data/minion/work/E05_aliquot_2_workflow_1_9_1/last/ont_lambda/reads_complement.last.sam\r\n"
       ]
      },
      {
       "output_type": "stream",
       "stream": "stdout",
       "text": [
        "Cmd : samtools view -T /data/minion/reference_genomes/lambda/lambda_ref.fasta -bS /data/minion/work/E05_aliquot_2_workflow_1_9_1/last/ont_lambda/reads_complement.last.sam | samtools sort - /data/minion/work/E05_aliquot_2_workflow_1_9_1/last/ont_lambda/reads_complement.last.sorted\r\n",
        "[bam_header_read] EOF marker is absent. The input is probably truncated.\r\n",
        "[sam_header_read2] 1 sequences loaded.\r\n",
        "[sam_read1] reference 'VN:1.3\tSO:unsorted\r\n",
        "' is recognized as '*'.\r\n",
        "[main_samview] truncated file.\r\n",
        "Cmd : samtools index /data/minion/work/E05_aliquot_2_workflow_1_9_1/last/ont_lambda/reads_complement.last.sorted.bam\r\n",
        "Finished successfully : /data/minion/work/E05_aliquot_2_workflow_1_9_1/fasta/reads_complement.fasta /data/minion/reference_genomes/lambda/lambda_ref.fasta /data/minion/work/E05_aliquot_2_workflow_1_9_1/last/ont_lambda\r\n"
       ]
      },
      {
       "output_type": "stream",
       "stream": "stdout",
       "text": [
        "E05_aliquot_2_workflow_1_9_1 2D ont_lambda\n",
        "Info: /data/minion/work/E05_aliquot_2_workflow_1_9_1/last/ont_lambda/lambda_ref.lastindex.* files already exist\r\n",
        "Cmd : lastal -s 2 -T 0 -Q 0 -a 1 -m 1 /data/minion/reference_genomes/lambda/lambda_ref.lastindex /data/minion/work/E05_aliquot_2_workflow_1_9_1/fasta/reads_2D.fasta > /data/minion/work/E05_aliquot_2_workflow_1_9_1/last/ont_lambda/reads_2D.last.txt\r\n"
       ]
      },
      {
       "output_type": "stream",
       "stream": "stdout",
       "text": [
        "Cmd : maf-convert.py sam /data/minion/work/E05_aliquot_2_workflow_1_9_1/last/ont_lambda/reads_2D.last.txt > /data/minion/work/E05_aliquot_2_workflow_1_9_1/last/ont_lambda/reads_2D.last.sam\r\n"
       ]
      },
      {
       "output_type": "stream",
       "stream": "stdout",
       "text": [
        "Cmd : samtools view -T /data/minion/reference_genomes/lambda/lambda_ref.fasta -bS /data/minion/work/E05_aliquot_2_workflow_1_9_1/last/ont_lambda/reads_2D.last.sam | samtools sort - /data/minion/work/E05_aliquot_2_workflow_1_9_1/last/ont_lambda/reads_2D.last.sorted\r\n",
        "[bam_header_read] EOF marker is absent. The input is probably truncated.\r\n",
        "[sam_header_read2] 1 sequences loaded.\r\n"
       ]
      },
      {
       "output_type": "stream",
       "stream": "stdout",
       "text": [
        "Cmd : samtools index /data/minion/work/E05_aliquot_2_workflow_1_9_1/last/ont_lambda/reads_2D.last.sorted.bam\r\n",
        "Finished successfully : /data/minion/work/E05_aliquot_2_workflow_1_9_1/fasta/reads_2D.fasta /data/minion/reference_genomes/lambda/lambda_ref.fasta /data/minion/work/E05_aliquot_2_workflow_1_9_1/last/ont_lambda\r\n"
       ]
      },
      {
       "output_type": "stream",
       "stream": "stdout",
       "text": [
        "E05_aliquot_2_workflow_1_9_1 template cs\n",
        "Info: /data/minion/work/E05_aliquot_2_workflow_1_9_1/last/cs/dna_cs.lastindex.* files already exist\r\n",
        "Cmd : lastal -s 2 -T 0 -Q 0 -a 1 -m 1 /data/minion/reference_genomes/cs/dna_cs.lastindex /data/minion/work/E05_aliquot_2_workflow_1_9_1/fasta/reads_template.fasta > /data/minion/work/E05_aliquot_2_workflow_1_9_1/last/cs/reads_template.last.txt\r\n"
       ]
      },
      {
       "output_type": "stream",
       "stream": "stdout",
       "text": [
        "Cmd : maf-convert.py sam /data/minion/work/E05_aliquot_2_workflow_1_9_1/last/cs/reads_template.last.txt > /data/minion/work/E05_aliquot_2_workflow_1_9_1/last/cs/reads_template.last.sam\r\n"
       ]
      },
      {
       "output_type": "stream",
       "stream": "stdout",
       "text": [
        "Cmd : samtools view -T /data/minion/reference_genomes/cs/dna_cs.fasta -bS /data/minion/work/E05_aliquot_2_workflow_1_9_1/last/cs/reads_template.last.sam | samtools sort - /data/minion/work/E05_aliquot_2_workflow_1_9_1/last/cs/reads_template.last.sorted\r\n",
        "[bam_header_read] EOF marker is absent. The input is probably truncated.\r\n"
       ]
      },
      {
       "output_type": "stream",
       "stream": "stdout",
       "text": [
        "[sam_header_read2] 1 sequences loaded.\r\n"
       ]
      },
      {
       "output_type": "stream",
       "stream": "stdout",
       "text": [
        "Cmd : samtools index /data/minion/work/E05_aliquot_2_workflow_1_9_1/last/cs/reads_template.last.sorted.bam\r\n",
        "Finished successfully : /data/minion/work/E05_aliquot_2_workflow_1_9_1/fasta/reads_template.fasta /data/minion/reference_genomes/cs/dna_cs.fasta /data/minion/work/E05_aliquot_2_workflow_1_9_1/last/cs\r\n"
       ]
      },
      {
       "output_type": "stream",
       "stream": "stdout",
       "text": [
        "E05_aliquot_2_workflow_1_9_1 complement cs\n",
        "Info: /data/minion/work/E05_aliquot_2_workflow_1_9_1/last/cs/dna_cs.lastindex.* files already exist\r\n",
        "Cmd : lastal -s 2 -T 0 -Q 0 -a 1 -m 1 /data/minion/reference_genomes/cs/dna_cs.lastindex /data/minion/work/E05_aliquot_2_workflow_1_9_1/fasta/reads_complement.fasta > /data/minion/work/E05_aliquot_2_workflow_1_9_1/last/cs/reads_complement.last.txt\r\n"
       ]
      },
      {
       "output_type": "stream",
       "stream": "stdout",
       "text": [
        "Cmd : maf-convert.py sam /data/minion/work/E05_aliquot_2_workflow_1_9_1/last/cs/reads_complement.last.txt > /data/minion/work/E05_aliquot_2_workflow_1_9_1/last/cs/reads_complement.last.sam\r\n"
       ]
      },
      {
       "output_type": "stream",
       "stream": "stdout",
       "text": [
        "Cmd : samtools view -T /data/minion/reference_genomes/cs/dna_cs.fasta -bS /data/minion/work/E05_aliquot_2_workflow_1_9_1/last/cs/reads_complement.last.sam | samtools sort - /data/minion/work/E05_aliquot_2_workflow_1_9_1/last/cs/reads_complement.last.sorted\r\n",
        "[bam_header_read] EOF marker is absent. The input is probably truncated.\r\n"
       ]
      },
      {
       "output_type": "stream",
       "stream": "stdout",
       "text": [
        "[sam_header_read2] 1 sequences loaded.\r\n",
        "Cmd : samtools index /data/minion/work/E05_aliquot_2_workflow_1_9_1/last/cs/reads_complement.last.sorted.bam\r\n",
        "Finished successfully : /data/minion/work/E05_aliquot_2_workflow_1_9_1/fasta/reads_complement.fasta /data/minion/reference_genomes/cs/dna_cs.fasta /data/minion/work/E05_aliquot_2_workflow_1_9_1/last/cs\r\n"
       ]
      },
      {
       "output_type": "stream",
       "stream": "stdout",
       "text": [
        "E05_aliquot_2_workflow_1_9_1 2D cs\n",
        "Info: /data/minion/work/E05_aliquot_2_workflow_1_9_1/last/cs/dna_cs.lastindex.* files already exist\r\n",
        "Cmd : lastal -s 2 -T 0 -Q 0 -a 1 -m 1 /data/minion/reference_genomes/cs/dna_cs.lastindex /data/minion/work/E05_aliquot_2_workflow_1_9_1/fasta/reads_2D.fasta > /data/minion/work/E05_aliquot_2_workflow_1_9_1/last/cs/reads_2D.last.txt\r\n"
       ]
      },
      {
       "output_type": "stream",
       "stream": "stdout",
       "text": [
        "Cmd : maf-convert.py sam /data/minion/work/E05_aliquot_2_workflow_1_9_1/last/cs/reads_2D.last.txt > /data/minion/work/E05_aliquot_2_workflow_1_9_1/last/cs/reads_2D.last.sam\r\n"
       ]
      },
      {
       "output_type": "stream",
       "stream": "stdout",
       "text": [
        "Cmd : samtools view -T /data/minion/reference_genomes/cs/dna_cs.fasta -bS /data/minion/work/E05_aliquot_2_workflow_1_9_1/last/cs/reads_2D.last.sam | samtools sort - /data/minion/work/E05_aliquot_2_workflow_1_9_1/last/cs/reads_2D.last.sorted\r\n",
        "[bam_header_read] EOF marker is absent. The input is probably truncated.\r\n",
        "[sam_header_read2] 1 sequences loaded.\r\n"
       ]
      },
      {
       "output_type": "stream",
       "stream": "stdout",
       "text": [
        "Cmd : samtools index /data/minion/work/E05_aliquot_2_workflow_1_9_1/last/cs/reads_2D.last.sorted.bam\r\n",
        "Finished successfully : /data/minion/work/E05_aliquot_2_workflow_1_9_1/fasta/reads_2D.fasta /data/minion/reference_genomes/cs/dna_cs.fasta /data/minion/work/E05_aliquot_2_workflow_1_9_1/last/cs\r\n"
       ]
      },
      {
       "output_type": "stream",
       "stream": "stdout",
       "text": [
        "E05_aliquot_2_workflow_1_9_1 template 3D7_V3\n",
        "Info: /data/minion/work/E05_aliquot_2_workflow_1_9_1/last/3D7_V3/3D7_V3.lastindex.* files already exist\r\n",
        "Cmd : lastal -s 2 -T 0 -Q 0 -a 1 -m 1 /data/minion/reference_genomes/3D7_V3/3D7_V3.lastindex /data/minion/work/E05_aliquot_2_workflow_1_9_1/fasta/reads_template.fasta > /data/minion/work/E05_aliquot_2_workflow_1_9_1/last/3D7_V3/reads_template.last.txt\r\n"
       ]
      },
      {
       "output_type": "stream",
       "stream": "stdout",
       "text": [
        "Cmd : maf-convert.py sam /data/minion/work/E05_aliquot_2_workflow_1_9_1/last/3D7_V3/reads_template.last.txt > /data/minion/work/E05_aliquot_2_workflow_1_9_1/last/3D7_V3/reads_template.last.sam\r\n"
       ]
      },
      {
       "output_type": "stream",
       "stream": "stdout",
       "text": [
        "Cmd : samtools view -T /data/minion/reference_genomes/3D7_V3/3D7_V3.fasta -bS /data/minion/work/E05_aliquot_2_workflow_1_9_1/last/3D7_V3/reads_template.last.sam | samtools sort - /data/minion/work/E05_aliquot_2_workflow_1_9_1/last/3D7_V3/reads_template.last.sorted\r\n",
        "[bam_header_read] EOF marker is absent. The input is probably truncated.\r\n"
       ]
      },
      {
       "output_type": "stream",
       "stream": "stdout",
       "text": [
        "[sam_header_read2] 16 sequences loaded.\r\n"
       ]
      },
      {
       "output_type": "stream",
       "stream": "stdout",
       "text": [
        "Cmd : samtools index /data/minion/work/E05_aliquot_2_workflow_1_9_1/last/3D7_V3/reads_template.last.sorted.bam\r\n"
       ]
      },
      {
       "output_type": "stream",
       "stream": "stdout",
       "text": [
        "Finished successfully : /data/minion/work/E05_aliquot_2_workflow_1_9_1/fasta/reads_template.fasta /data/minion/reference_genomes/3D7_V3/3D7_V3.fasta /data/minion/work/E05_aliquot_2_workflow_1_9_1/last/3D7_V3\r\n"
       ]
      },
      {
       "output_type": "stream",
       "stream": "stdout",
       "text": [
        "E05_aliquot_2_workflow_1_9_1 complement 3D7_V3\n",
        "Info: /data/minion/work/E05_aliquot_2_workflow_1_9_1/last/3D7_V3/3D7_V3.lastindex.* files already exist\r\n",
        "Cmd : lastal -s 2 -T 0 -Q 0 -a 1 -m 1 /data/minion/reference_genomes/3D7_V3/3D7_V3.lastindex /data/minion/work/E05_aliquot_2_workflow_1_9_1/fasta/reads_complement.fasta > /data/minion/work/E05_aliquot_2_workflow_1_9_1/last/3D7_V3/reads_complement.last.txt\r\n"
       ]
      },
      {
       "output_type": "stream",
       "stream": "stdout",
       "text": [
        "Cmd : maf-convert.py sam /data/minion/work/E05_aliquot_2_workflow_1_9_1/last/3D7_V3/reads_complement.last.txt > /data/minion/work/E05_aliquot_2_workflow_1_9_1/last/3D7_V3/reads_complement.last.sam\r\n"
       ]
      },
      {
       "output_type": "stream",
       "stream": "stdout",
       "text": [
        "Cmd : samtools view -T /data/minion/reference_genomes/3D7_V3/3D7_V3.fasta -bS /data/minion/work/E05_aliquot_2_workflow_1_9_1/last/3D7_V3/reads_complement.last.sam | samtools sort - /data/minion/work/E05_aliquot_2_workflow_1_9_1/last/3D7_V3/reads_complement.last.sorted\r\n",
        "[bam_header_read] EOF marker is absent. The input is probably truncated.\r\n",
        "[sam_header_read2] 16 sequences loaded.\r\n",
        "Cmd : samtools index /data/minion/work/E05_aliquot_2_workflow_1_9_1/last/3D7_V3/reads_complement.last.sorted.bam\r\n"
       ]
      },
      {
       "output_type": "stream",
       "stream": "stdout",
       "text": [
        "Finished successfully : /data/minion/work/E05_aliquot_2_workflow_1_9_1/fasta/reads_complement.fasta /data/minion/reference_genomes/3D7_V3/3D7_V3.fasta /data/minion/work/E05_aliquot_2_workflow_1_9_1/last/3D7_V3\r\n"
       ]
      },
      {
       "output_type": "stream",
       "stream": "stdout",
       "text": [
        "E05_aliquot_2_workflow_1_9_1 2D 3D7_V3\n",
        "Info: /data/minion/work/E05_aliquot_2_workflow_1_9_1/last/3D7_V3/3D7_V3.lastindex.* files already exist\r\n",
        "Cmd : lastal -s 2 -T 0 -Q 0 -a 1 -m 1 /data/minion/reference_genomes/3D7_V3/3D7_V3.lastindex /data/minion/work/E05_aliquot_2_workflow_1_9_1/fasta/reads_2D.fasta > /data/minion/work/E05_aliquot_2_workflow_1_9_1/last/3D7_V3/reads_2D.last.txt\r\n"
       ]
      },
      {
       "output_type": "stream",
       "stream": "stdout",
       "text": [
        "Cmd : maf-convert.py sam /data/minion/work/E05_aliquot_2_workflow_1_9_1/last/3D7_V3/reads_2D.last.txt > /data/minion/work/E05_aliquot_2_workflow_1_9_1/last/3D7_V3/reads_2D.last.sam\r\n"
       ]
      },
      {
       "output_type": "stream",
       "stream": "stdout",
       "text": [
        "Cmd : samtools view -T /data/minion/reference_genomes/3D7_V3/3D7_V3.fasta -bS /data/minion/work/E05_aliquot_2_workflow_1_9_1/last/3D7_V3/reads_2D.last.sam | samtools sort - /data/minion/work/E05_aliquot_2_workflow_1_9_1/last/3D7_V3/reads_2D.last.sorted\r\n",
        "[bam_header_read] EOF marker is absent. The input is probably truncated.\r\n",
        "[sam_header_read2] 16 sequences loaded.\r\n",
        "Cmd : samtools index /data/minion/work/E05_aliquot_2_workflow_1_9_1/last/3D7_V3/reads_2D.last.sorted.bam\r\n",
        "Finished successfully : /data/minion/work/E05_aliquot_2_workflow_1_9_1/fasta/reads_2D.fasta /data/minion/reference_genomes/3D7_V3/3D7_V3.fasta /data/minion/work/E05_aliquot_2_workflow_1_9_1/last/3D7_V3\r\n"
       ]
      },
      {
       "output_type": "stream",
       "stream": "stdout",
       "text": [
        "E05_aliquot_2_workflow_1_9_1 template AgamP3\n",
        "Info: /data/minion/work/E05_aliquot_2_workflow_1_9_1/last/AgamP3/Anopheles-gambiae-PEST_CHROMOSOMES_AgamP3.lastindex.* files already exist\r\n",
        "Cmd : lastal -s 2 -T 0 -Q 0 -a 1 -m 1 /data/minion/reference_genomes/AgamP3/Anopheles-gambiae-PEST_CHROMOSOMES_AgamP3.lastindex /data/minion/work/E05_aliquot_2_workflow_1_9_1/fasta/reads_template.fasta > /data/minion/work/E05_aliquot_2_workflow_1_9_1/last/AgamP3/reads_template.last.txt\r\n"
       ]
      },
      {
       "output_type": "stream",
       "stream": "stdout",
       "text": [
        "Cmd : maf-convert.py sam /data/minion/work/E05_aliquot_2_workflow_1_9_1/last/AgamP3/reads_template.last.txt > /data/minion/work/E05_aliquot_2_workflow_1_9_1/last/AgamP3/reads_template.last.sam\r\n"
       ]
      },
      {
       "output_type": "stream",
       "stream": "stdout",
       "text": [
        "Cmd : samtools view -T /data/minion/reference_genomes/AgamP3/Anopheles-gambiae-PEST_CHROMOSOMES_AgamP3.fasta -bS /data/minion/work/E05_aliquot_2_workflow_1_9_1/last/AgamP3/reads_template.last.sam | samtools sort - /data/minion/work/E05_aliquot_2_workflow_1_9_1/last/AgamP3/reads_template.last.sorted\r\n",
        "[bam_header_read] EOF marker is absent. The input is probably truncated.\r\n",
        "[sam_header_read2] 7 sequences loaded.\r\n"
       ]
      },
      {
       "output_type": "stream",
       "stream": "stdout",
       "text": [
        "Cmd : samtools index /data/minion/work/E05_aliquot_2_workflow_1_9_1/last/AgamP3/reads_template.last.sorted.bam\r\n",
        "Finished successfully : /data/minion/work/E05_aliquot_2_workflow_1_9_1/fasta/reads_template.fasta /data/minion/reference_genomes/AgamP3/Anopheles-gambiae-PEST_CHROMOSOMES_AgamP3.fasta /data/minion/work/E05_aliquot_2_workflow_1_9_1/last/AgamP3\r\n"
       ]
      },
      {
       "output_type": "stream",
       "stream": "stdout",
       "text": [
        "E05_aliquot_2_workflow_1_9_1 complement AgamP3\n",
        "Info: /data/minion/work/E05_aliquot_2_workflow_1_9_1/last/AgamP3/Anopheles-gambiae-PEST_CHROMOSOMES_AgamP3.lastindex.* files already exist\r\n",
        "Cmd : lastal -s 2 -T 0 -Q 0 -a 1 -m 1 /data/minion/reference_genomes/AgamP3/Anopheles-gambiae-PEST_CHROMOSOMES_AgamP3.lastindex /data/minion/work/E05_aliquot_2_workflow_1_9_1/fasta/reads_complement.fasta > /data/minion/work/E05_aliquot_2_workflow_1_9_1/last/AgamP3/reads_complement.last.txt\r\n"
       ]
      },
      {
       "output_type": "stream",
       "stream": "stdout",
       "text": [
        "Cmd : maf-convert.py sam /data/minion/work/E05_aliquot_2_workflow_1_9_1/last/AgamP3/reads_complement.last.txt > /data/minion/work/E05_aliquot_2_workflow_1_9_1/last/AgamP3/reads_complement.last.sam\r\n"
       ]
      },
      {
       "output_type": "stream",
       "stream": "stdout",
       "text": [
        "Cmd : samtools view -T /data/minion/reference_genomes/AgamP3/Anopheles-gambiae-PEST_CHROMOSOMES_AgamP3.fasta -bS /data/minion/work/E05_aliquot_2_workflow_1_9_1/last/AgamP3/reads_complement.last.sam | samtools sort - /data/minion/work/E05_aliquot_2_workflow_1_9_1/last/AgamP3/reads_complement.last.sorted\r\n",
        "[bam_header_read] EOF marker is absent. The input is probably truncated.\r\n",
        "[sam_header_read2] 7 sequences loaded.\r\n",
        "Cmd : samtools index /data/minion/work/E05_aliquot_2_workflow_1_9_1/last/AgamP3/reads_complement.last.sorted.bam\r\n",
        "Finished successfully : /data/minion/work/E05_aliquot_2_workflow_1_9_1/fasta/reads_complement.fasta /data/minion/reference_genomes/AgamP3/Anopheles-gambiae-PEST_CHROMOSOMES_AgamP3.fasta /data/minion/work/E05_aliquot_2_workflow_1_9_1/last/AgamP3\r\n"
       ]
      },
      {
       "output_type": "stream",
       "stream": "stdout",
       "text": [
        "E05_aliquot_2_workflow_1_9_1 2D AgamP3\n",
        "Info: /data/minion/work/E05_aliquot_2_workflow_1_9_1/last/AgamP3/Anopheles-gambiae-PEST_CHROMOSOMES_AgamP3.lastindex.* files already exist\r\n",
        "Cmd : lastal -s 2 -T 0 -Q 0 -a 1 -m 1 /data/minion/reference_genomes/AgamP3/Anopheles-gambiae-PEST_CHROMOSOMES_AgamP3.lastindex /data/minion/work/E05_aliquot_2_workflow_1_9_1/fasta/reads_2D.fasta > /data/minion/work/E05_aliquot_2_workflow_1_9_1/last/AgamP3/reads_2D.last.txt\r\n"
       ]
      },
      {
       "output_type": "stream",
       "stream": "stdout",
       "text": [
        "Cmd : maf-convert.py sam /data/minion/work/E05_aliquot_2_workflow_1_9_1/last/AgamP3/reads_2D.last.txt > /data/minion/work/E05_aliquot_2_workflow_1_9_1/last/AgamP3/reads_2D.last.sam\r\n"
       ]
      },
      {
       "output_type": "stream",
       "stream": "stdout",
       "text": [
        "Cmd : samtools view -T /data/minion/reference_genomes/AgamP3/Anopheles-gambiae-PEST_CHROMOSOMES_AgamP3.fasta -bS /data/minion/work/E05_aliquot_2_workflow_1_9_1/last/AgamP3/reads_2D.last.sam | samtools sort - /data/minion/work/E05_aliquot_2_workflow_1_9_1/last/AgamP3/reads_2D.last.sorted\r\n",
        "[bam_header_read] EOF marker is absent. The input is probably truncated.\r\n",
        "[sam_header_read2] 7 sequences loaded.\r\n",
        "Cmd : samtools index /data/minion/work/E05_aliquot_2_workflow_1_9_1/last/AgamP3/reads_2D.last.sorted.bam\r\n",
        "Finished successfully : /data/minion/work/E05_aliquot_2_workflow_1_9_1/fasta/reads_2D.fasta /data/minion/reference_genomes/AgamP3/Anopheles-gambiae-PEST_CHROMOSOMES_AgamP3.fasta /data/minion/work/E05_aliquot_2_workflow_1_9_1/last/AgamP3\r\n"
       ]
      },
      {
       "output_type": "stream",
       "stream": "stdout",
       "text": [
        "E05_aliquot_4_workflow_1_9_1 template ont_lambda\n",
        "Info: /data/minion/work/E05_aliquot_4_workflow_1_9_1/last/ont_lambda/lambda_ref.lastindex.* files already exist\r\n",
        "Cmd : lastal -s 2 -T 0 -Q 0 -a 1 -m 1 /data/minion/reference_genomes/lambda/lambda_ref.lastindex /data/minion/work/E05_aliquot_4_workflow_1_9_1/fasta/reads_template.fasta > /data/minion/work/E05_aliquot_4_workflow_1_9_1/last/ont_lambda/reads_template.last.txt\r\n"
       ]
      },
      {
       "output_type": "stream",
       "stream": "stdout",
       "text": [
        "Cmd : maf-convert.py sam /data/minion/work/E05_aliquot_4_workflow_1_9_1/last/ont_lambda/reads_template.last.txt > /data/minion/work/E05_aliquot_4_workflow_1_9_1/last/ont_lambda/reads_template.last.sam\r\n"
       ]
      },
      {
       "output_type": "stream",
       "stream": "stdout",
       "text": [
        "Cmd : samtools view -T /data/minion/reference_genomes/lambda/lambda_ref.fasta -bS /data/minion/work/E05_aliquot_4_workflow_1_9_1/last/ont_lambda/reads_template.last.sam | samtools sort - /data/minion/work/E05_aliquot_4_workflow_1_9_1/last/ont_lambda/reads_template.last.sorted\r\n",
        "[bam_header_read] EOF marker is absent. The input is probably truncated.\r\n"
       ]
      },
      {
       "output_type": "stream",
       "stream": "stdout",
       "text": [
        "[sam_header_read2] 1 sequences loaded.\r\n"
       ]
      },
      {
       "output_type": "stream",
       "stream": "stdout",
       "text": [
        "Cmd : samtools index /data/minion/work/E05_aliquot_4_workflow_1_9_1/last/ont_lambda/reads_template.last.sorted.bam\r\n",
        "Finished successfully : /data/minion/work/E05_aliquot_4_workflow_1_9_1/fasta/reads_template.fasta /data/minion/reference_genomes/lambda/lambda_ref.fasta /data/minion/work/E05_aliquot_4_workflow_1_9_1/last/ont_lambda\r\n"
       ]
      },
      {
       "output_type": "stream",
       "stream": "stdout",
       "text": [
        "E05_aliquot_4_workflow_1_9_1 complement ont_lambda\n",
        "Info: /data/minion/work/E05_aliquot_4_workflow_1_9_1/last/ont_lambda/lambda_ref.lastindex.* files already exist\r\n",
        "Cmd : lastal -s 2 -T 0 -Q 0 -a 1 -m 1 /data/minion/reference_genomes/lambda/lambda_ref.lastindex /data/minion/work/E05_aliquot_4_workflow_1_9_1/fasta/reads_complement.fasta > /data/minion/work/E05_aliquot_4_workflow_1_9_1/last/ont_lambda/reads_complement.last.txt\r\n"
       ]
      },
      {
       "output_type": "stream",
       "stream": "stdout",
       "text": [
        "Cmd : maf-convert.py sam /data/minion/work/E05_aliquot_4_workflow_1_9_1/last/ont_lambda/reads_complement.last.txt > /data/minion/work/E05_aliquot_4_workflow_1_9_1/last/ont_lambda/reads_complement.last.sam\r\n"
       ]
      },
      {
       "output_type": "stream",
       "stream": "stdout",
       "text": [
        "Cmd : samtools view -T /data/minion/reference_genomes/lambda/lambda_ref.fasta -bS /data/minion/work/E05_aliquot_4_workflow_1_9_1/last/ont_lambda/reads_complement.last.sam | samtools sort - /data/minion/work/E05_aliquot_4_workflow_1_9_1/last/ont_lambda/reads_complement.last.sorted\r\n",
        "[bam_header_read] EOF marker is absent. The input is probably truncated.\r\n",
        "[sam_header_read2] 1 sequences loaded.\r\n",
        "Cmd : samtools index /data/minion/work/E05_aliquot_4_workflow_1_9_1/last/ont_lambda/reads_complement.last.sorted.bam\r\n",
        "Finished successfully : /data/minion/work/E05_aliquot_4_workflow_1_9_1/fasta/reads_complement.fasta /data/minion/reference_genomes/lambda/lambda_ref.fasta /data/minion/work/E05_aliquot_4_workflow_1_9_1/last/ont_lambda\r\n"
       ]
      },
      {
       "output_type": "stream",
       "stream": "stdout",
       "text": [
        "E05_aliquot_4_workflow_1_9_1 2D ont_lambda\n",
        "Info: /data/minion/work/E05_aliquot_4_workflow_1_9_1/last/ont_lambda/lambda_ref.lastindex.* files already exist\r\n",
        "Cmd : lastal -s 2 -T 0 -Q 0 -a 1 -m 1 /data/minion/reference_genomes/lambda/lambda_ref.lastindex /data/minion/work/E05_aliquot_4_workflow_1_9_1/fasta/reads_2D.fasta > /data/minion/work/E05_aliquot_4_workflow_1_9_1/last/ont_lambda/reads_2D.last.txt\r\n"
       ]
      },
      {
       "output_type": "stream",
       "stream": "stdout",
       "text": [
        "Cmd : maf-convert.py sam /data/minion/work/E05_aliquot_4_workflow_1_9_1/last/ont_lambda/reads_2D.last.txt > /data/minion/work/E05_aliquot_4_workflow_1_9_1/last/ont_lambda/reads_2D.last.sam\r\n"
       ]
      },
      {
       "output_type": "stream",
       "stream": "stdout",
       "text": [
        "Cmd : samtools view -T /data/minion/reference_genomes/lambda/lambda_ref.fasta -bS /data/minion/work/E05_aliquot_4_workflow_1_9_1/last/ont_lambda/reads_2D.last.sam | samtools sort - /data/minion/work/E05_aliquot_4_workflow_1_9_1/last/ont_lambda/reads_2D.last.sorted\r\n",
        "[bam_header_read] EOF marker is absent. The input is probably truncated.\r\n",
        "[sam_header_read2] 1 sequences loaded.\r\n",
        "Cmd : samtools index /data/minion/work/E05_aliquot_4_workflow_1_9_1/last/ont_lambda/reads_2D.last.sorted.bam\r\n"
       ]
      },
      {
       "output_type": "stream",
       "stream": "stdout",
       "text": [
        "Finished successfully : /data/minion/work/E05_aliquot_4_workflow_1_9_1/fasta/reads_2D.fasta /data/minion/reference_genomes/lambda/lambda_ref.fasta /data/minion/work/E05_aliquot_4_workflow_1_9_1/last/ont_lambda\r\n"
       ]
      },
      {
       "output_type": "stream",
       "stream": "stdout",
       "text": [
        "E05_aliquot_4_workflow_1_9_1 template cs\n",
        "Info: /data/minion/work/E05_aliquot_4_workflow_1_9_1/last/cs/dna_cs.lastindex.* files already exist\r\n",
        "Cmd : lastal -s 2 -T 0 -Q 0 -a 1 -m 1 /data/minion/reference_genomes/cs/dna_cs.lastindex /data/minion/work/E05_aliquot_4_workflow_1_9_1/fasta/reads_template.fasta > /data/minion/work/E05_aliquot_4_workflow_1_9_1/last/cs/reads_template.last.txt\r\n"
       ]
      },
      {
       "output_type": "stream",
       "stream": "stdout",
       "text": [
        "Cmd : maf-convert.py sam /data/minion/work/E05_aliquot_4_workflow_1_9_1/last/cs/reads_template.last.txt > /data/minion/work/E05_aliquot_4_workflow_1_9_1/last/cs/reads_template.last.sam\r\n"
       ]
      },
      {
       "output_type": "stream",
       "stream": "stdout",
       "text": [
        "Cmd : samtools view -T /data/minion/reference_genomes/cs/dna_cs.fasta -bS /data/minion/work/E05_aliquot_4_workflow_1_9_1/last/cs/reads_template.last.sam | samtools sort - /data/minion/work/E05_aliquot_4_workflow_1_9_1/last/cs/reads_template.last.sorted\r\n",
        "[bam_header_read] EOF marker is absent. The input is probably truncated.\r\n"
       ]
      },
      {
       "output_type": "stream",
       "stream": "stdout",
       "text": [
        "[sam_header_read2] 1 sequences loaded.\r\n"
       ]
      },
      {
       "output_type": "stream",
       "stream": "stdout",
       "text": [
        "Cmd : samtools index /data/minion/work/E05_aliquot_4_workflow_1_9_1/last/cs/reads_template.last.sorted.bam\r\n",
        "Finished successfully : /data/minion/work/E05_aliquot_4_workflow_1_9_1/fasta/reads_template.fasta /data/minion/reference_genomes/cs/dna_cs.fasta /data/minion/work/E05_aliquot_4_workflow_1_9_1/last/cs\r\n"
       ]
      },
      {
       "output_type": "stream",
       "stream": "stdout",
       "text": [
        "E05_aliquot_4_workflow_1_9_1 complement cs\n",
        "Info: /data/minion/work/E05_aliquot_4_workflow_1_9_1/last/cs/dna_cs.lastindex.* files already exist\r\n",
        "Cmd : lastal -s 2 -T 0 -Q 0 -a 1 -m 1 /data/minion/reference_genomes/cs/dna_cs.lastindex /data/minion/work/E05_aliquot_4_workflow_1_9_1/fasta/reads_complement.fasta > /data/minion/work/E05_aliquot_4_workflow_1_9_1/last/cs/reads_complement.last.txt\r\n"
       ]
      },
      {
       "output_type": "stream",
       "stream": "stdout",
       "text": [
        "Cmd : maf-convert.py sam /data/minion/work/E05_aliquot_4_workflow_1_9_1/last/cs/reads_complement.last.txt > /data/minion/work/E05_aliquot_4_workflow_1_9_1/last/cs/reads_complement.last.sam\r\n"
       ]
      },
      {
       "output_type": "stream",
       "stream": "stdout",
       "text": [
        "Cmd : samtools view -T /data/minion/reference_genomes/cs/dna_cs.fasta -bS /data/minion/work/E05_aliquot_4_workflow_1_9_1/last/cs/reads_complement.last.sam | samtools sort - /data/minion/work/E05_aliquot_4_workflow_1_9_1/last/cs/reads_complement.last.sorted\r\n",
        "[bam_header_read] EOF marker is absent. The input is probably truncated.\r\n",
        "[sam_header_read2] 1 sequences loaded.\r\n",
        "Cmd : samtools index /data/minion/work/E05_aliquot_4_workflow_1_9_1/last/cs/reads_complement.last.sorted.bam\r\n",
        "Finished successfully : /data/minion/work/E05_aliquot_4_workflow_1_9_1/fasta/reads_complement.fasta /data/minion/reference_genomes/cs/dna_cs.fasta /data/minion/work/E05_aliquot_4_workflow_1_9_1/last/cs\r\n"
       ]
      },
      {
       "output_type": "stream",
       "stream": "stdout",
       "text": [
        "E05_aliquot_4_workflow_1_9_1 2D cs\n",
        "Info: /data/minion/work/E05_aliquot_4_workflow_1_9_1/last/cs/dna_cs.lastindex.* files already exist\r\n",
        "Cmd : lastal -s 2 -T 0 -Q 0 -a 1 -m 1 /data/minion/reference_genomes/cs/dna_cs.lastindex /data/minion/work/E05_aliquot_4_workflow_1_9_1/fasta/reads_2D.fasta > /data/minion/work/E05_aliquot_4_workflow_1_9_1/last/cs/reads_2D.last.txt\r\n"
       ]
      },
      {
       "output_type": "stream",
       "stream": "stdout",
       "text": [
        "Cmd : maf-convert.py sam /data/minion/work/E05_aliquot_4_workflow_1_9_1/last/cs/reads_2D.last.txt > /data/minion/work/E05_aliquot_4_workflow_1_9_1/last/cs/reads_2D.last.sam\r\n"
       ]
      },
      {
       "output_type": "stream",
       "stream": "stdout",
       "text": [
        "Cmd : samtools view -T /data/minion/reference_genomes/cs/dna_cs.fasta -bS /data/minion/work/E05_aliquot_4_workflow_1_9_1/last/cs/reads_2D.last.sam | samtools sort - /data/minion/work/E05_aliquot_4_workflow_1_9_1/last/cs/reads_2D.last.sorted\r\n",
        "[bam_header_read] EOF marker is absent. The input is probably truncated.\r\n",
        "[sam_header_read2] 1 sequences loaded.\r\n"
       ]
      },
      {
       "output_type": "stream",
       "stream": "stdout",
       "text": [
        "Cmd : samtools index /data/minion/work/E05_aliquot_4_workflow_1_9_1/last/cs/reads_2D.last.sorted.bam\r\n",
        "Finished successfully : /data/minion/work/E05_aliquot_4_workflow_1_9_1/fasta/reads_2D.fasta /data/minion/reference_genomes/cs/dna_cs.fasta /data/minion/work/E05_aliquot_4_workflow_1_9_1/last/cs\r\n"
       ]
      },
      {
       "output_type": "stream",
       "stream": "stdout",
       "text": [
        "E05_aliquot_4_workflow_1_9_1 template 3D7_V3\n",
        "Info: /data/minion/work/E05_aliquot_4_workflow_1_9_1/last/3D7_V3/3D7_V3.lastindex.* files already exist\r\n",
        "Cmd : lastal -s 2 -T 0 -Q 0 -a 1 -m 1 /data/minion/reference_genomes/3D7_V3/3D7_V3.lastindex /data/minion/work/E05_aliquot_4_workflow_1_9_1/fasta/reads_template.fasta > /data/minion/work/E05_aliquot_4_workflow_1_9_1/last/3D7_V3/reads_template.last.txt\r\n"
       ]
      },
      {
       "output_type": "stream",
       "stream": "stdout",
       "text": [
        "Cmd : maf-convert.py sam /data/minion/work/E05_aliquot_4_workflow_1_9_1/last/3D7_V3/reads_template.last.txt > /data/minion/work/E05_aliquot_4_workflow_1_9_1/last/3D7_V3/reads_template.last.sam\r\n"
       ]
      },
      {
       "output_type": "stream",
       "stream": "stdout",
       "text": [
        "Cmd : samtools view -T /data/minion/reference_genomes/3D7_V3/3D7_V3.fasta -bS /data/minion/work/E05_aliquot_4_workflow_1_9_1/last/3D7_V3/reads_template.last.sam | samtools sort - /data/minion/work/E05_aliquot_4_workflow_1_9_1/last/3D7_V3/reads_template.last.sorted\r\n",
        "[bam_header_read] EOF marker is absent. The input is probably truncated.\r\n"
       ]
      },
      {
       "output_type": "stream",
       "stream": "stdout",
       "text": [
        "[sam_header_read2] 16 sequences loaded.\r\n"
       ]
      },
      {
       "output_type": "stream",
       "stream": "stdout",
       "text": [
        "Cmd : samtools index /data/minion/work/E05_aliquot_4_workflow_1_9_1/last/3D7_V3/reads_template.last.sorted.bam\r\n",
        "Finished successfully : /data/minion/work/E05_aliquot_4_workflow_1_9_1/fasta/reads_template.fasta /data/minion/reference_genomes/3D7_V3/3D7_V3.fasta /data/minion/work/E05_aliquot_4_workflow_1_9_1/last/3D7_V3\r\n"
       ]
      },
      {
       "output_type": "stream",
       "stream": "stdout",
       "text": [
        "E05_aliquot_4_workflow_1_9_1 complement 3D7_V3\n",
        "Info: /data/minion/work/E05_aliquot_4_workflow_1_9_1/last/3D7_V3/3D7_V3.lastindex.* files already exist\r\n",
        "Cmd : lastal -s 2 -T 0 -Q 0 -a 1 -m 1 /data/minion/reference_genomes/3D7_V3/3D7_V3.lastindex /data/minion/work/E05_aliquot_4_workflow_1_9_1/fasta/reads_complement.fasta > /data/minion/work/E05_aliquot_4_workflow_1_9_1/last/3D7_V3/reads_complement.last.txt\r\n"
       ]
      },
      {
       "output_type": "stream",
       "stream": "stdout",
       "text": [
        "Cmd : maf-convert.py sam /data/minion/work/E05_aliquot_4_workflow_1_9_1/last/3D7_V3/reads_complement.last.txt > /data/minion/work/E05_aliquot_4_workflow_1_9_1/last/3D7_V3/reads_complement.last.sam\r\n"
       ]
      },
      {
       "output_type": "stream",
       "stream": "stdout",
       "text": [
        "Cmd : samtools view -T /data/minion/reference_genomes/3D7_V3/3D7_V3.fasta -bS /data/minion/work/E05_aliquot_4_workflow_1_9_1/last/3D7_V3/reads_complement.last.sam | samtools sort - /data/minion/work/E05_aliquot_4_workflow_1_9_1/last/3D7_V3/reads_complement.last.sorted\r\n",
        "[bam_header_read] EOF marker is absent. The input is probably truncated.\r\n"
       ]
      },
      {
       "output_type": "stream",
       "stream": "stdout",
       "text": [
        "[sam_header_read2] 16 sequences loaded.\r\n"
       ]
      },
      {
       "output_type": "stream",
       "stream": "stdout",
       "text": [
        "Cmd : samtools index /data/minion/work/E05_aliquot_4_workflow_1_9_1/last/3D7_V3/reads_complement.last.sorted.bam\r\n",
        "Finished successfully : /data/minion/work/E05_aliquot_4_workflow_1_9_1/fasta/reads_complement.fasta /data/minion/reference_genomes/3D7_V3/3D7_V3.fasta /data/minion/work/E05_aliquot_4_workflow_1_9_1/last/3D7_V3\r\n"
       ]
      },
      {
       "output_type": "stream",
       "stream": "stdout",
       "text": [
        "E05_aliquot_4_workflow_1_9_1 2D 3D7_V3\n",
        "Info: /data/minion/work/E05_aliquot_4_workflow_1_9_1/last/3D7_V3/3D7_V3.lastindex.* files already exist\r\n",
        "Cmd : lastal -s 2 -T 0 -Q 0 -a 1 -m 1 /data/minion/reference_genomes/3D7_V3/3D7_V3.lastindex /data/minion/work/E05_aliquot_4_workflow_1_9_1/fasta/reads_2D.fasta > /data/minion/work/E05_aliquot_4_workflow_1_9_1/last/3D7_V3/reads_2D.last.txt\r\n"
       ]
      },
      {
       "output_type": "stream",
       "stream": "stdout",
       "text": [
        "Cmd : maf-convert.py sam /data/minion/work/E05_aliquot_4_workflow_1_9_1/last/3D7_V3/reads_2D.last.txt > /data/minion/work/E05_aliquot_4_workflow_1_9_1/last/3D7_V3/reads_2D.last.sam\r\n"
       ]
      },
      {
       "output_type": "stream",
       "stream": "stdout",
       "text": [
        "Cmd : samtools view -T /data/minion/reference_genomes/3D7_V3/3D7_V3.fasta -bS /data/minion/work/E05_aliquot_4_workflow_1_9_1/last/3D7_V3/reads_2D.last.sam | samtools sort - /data/minion/work/E05_aliquot_4_workflow_1_9_1/last/3D7_V3/reads_2D.last.sorted\r\n",
        "[bam_header_read] EOF marker is absent. The input is probably truncated.\r\n",
        "[sam_header_read2] 16 sequences loaded.\r\n",
        "Cmd : samtools index /data/minion/work/E05_aliquot_4_workflow_1_9_1/last/3D7_V3/reads_2D.last.sorted.bam\r\n",
        "Finished successfully : /data/minion/work/E05_aliquot_4_workflow_1_9_1/fasta/reads_2D.fasta /data/minion/reference_genomes/3D7_V3/3D7_V3.fasta /data/minion/work/E05_aliquot_4_workflow_1_9_1/last/3D7_V3\r\n"
       ]
      },
      {
       "output_type": "stream",
       "stream": "stdout",
       "text": [
        "E05_aliquot_4_workflow_1_9_1 template AgamP3\n",
        "Info: /data/minion/work/E05_aliquot_4_workflow_1_9_1/last/AgamP3/Anopheles-gambiae-PEST_CHROMOSOMES_AgamP3.lastindex.* files already exist\r\n",
        "Cmd : lastal -s 2 -T 0 -Q 0 -a 1 -m 1 /data/minion/reference_genomes/AgamP3/Anopheles-gambiae-PEST_CHROMOSOMES_AgamP3.lastindex /data/minion/work/E05_aliquot_4_workflow_1_9_1/fasta/reads_template.fasta > /data/minion/work/E05_aliquot_4_workflow_1_9_1/last/AgamP3/reads_template.last.txt\r\n"
       ]
      },
      {
       "output_type": "stream",
       "stream": "stdout",
       "text": [
        "Cmd : maf-convert.py sam /data/minion/work/E05_aliquot_4_workflow_1_9_1/last/AgamP3/reads_template.last.txt > /data/minion/work/E05_aliquot_4_workflow_1_9_1/last/AgamP3/reads_template.last.sam\r\n"
       ]
      },
      {
       "output_type": "stream",
       "stream": "stdout",
       "text": [
        "Cmd : samtools view -T /data/minion/reference_genomes/AgamP3/Anopheles-gambiae-PEST_CHROMOSOMES_AgamP3.fasta -bS /data/minion/work/E05_aliquot_4_workflow_1_9_1/last/AgamP3/reads_template.last.sam | samtools sort - /data/minion/work/E05_aliquot_4_workflow_1_9_1/last/AgamP3/reads_template.last.sorted\r\n",
        "[bam_header_read] EOF marker is absent. The input is probably truncated.\r\n",
        "[sam_header_read2] 7 sequences loaded.\r\n"
       ]
      },
      {
       "output_type": "stream",
       "stream": "stdout",
       "text": [
        "Cmd : samtools index /data/minion/work/E05_aliquot_4_workflow_1_9_1/last/AgamP3/reads_template.last.sorted.bam\r\n",
        "Finished successfully : /data/minion/work/E05_aliquot_4_workflow_1_9_1/fasta/reads_template.fasta /data/minion/reference_genomes/AgamP3/Anopheles-gambiae-PEST_CHROMOSOMES_AgamP3.fasta /data/minion/work/E05_aliquot_4_workflow_1_9_1/last/AgamP3\r\n"
       ]
      },
      {
       "output_type": "stream",
       "stream": "stdout",
       "text": [
        "E05_aliquot_4_workflow_1_9_1 complement AgamP3\n",
        "Info: /data/minion/work/E05_aliquot_4_workflow_1_9_1/last/AgamP3/Anopheles-gambiae-PEST_CHROMOSOMES_AgamP3.lastindex.* files already exist\r\n",
        "Cmd : lastal -s 2 -T 0 -Q 0 -a 1 -m 1 /data/minion/reference_genomes/AgamP3/Anopheles-gambiae-PEST_CHROMOSOMES_AgamP3.lastindex /data/minion/work/E05_aliquot_4_workflow_1_9_1/fasta/reads_complement.fasta > /data/minion/work/E05_aliquot_4_workflow_1_9_1/last/AgamP3/reads_complement.last.txt\r\n"
       ]
      },
      {
       "output_type": "stream",
       "stream": "stdout",
       "text": [
        "Cmd : maf-convert.py sam /data/minion/work/E05_aliquot_4_workflow_1_9_1/last/AgamP3/reads_complement.last.txt > /data/minion/work/E05_aliquot_4_workflow_1_9_1/last/AgamP3/reads_complement.last.sam\r\n"
       ]
      },
      {
       "output_type": "stream",
       "stream": "stdout",
       "text": [
        "Cmd : samtools view -T /data/minion/reference_genomes/AgamP3/Anopheles-gambiae-PEST_CHROMOSOMES_AgamP3.fasta -bS /data/minion/work/E05_aliquot_4_workflow_1_9_1/last/AgamP3/reads_complement.last.sam | samtools sort - /data/minion/work/E05_aliquot_4_workflow_1_9_1/last/AgamP3/reads_complement.last.sorted\r\n",
        "[bam_header_read] EOF marker is absent. The input is probably truncated.\r\n",
        "[sam_header_read2] 7 sequences loaded.\r\n"
       ]
      },
      {
       "output_type": "stream",
       "stream": "stdout",
       "text": [
        "Cmd : samtools index /data/minion/work/E05_aliquot_4_workflow_1_9_1/last/AgamP3/reads_complement.last.sorted.bam\r\n",
        "Finished successfully : /data/minion/work/E05_aliquot_4_workflow_1_9_1/fasta/reads_complement.fasta /data/minion/reference_genomes/AgamP3/Anopheles-gambiae-PEST_CHROMOSOMES_AgamP3.fasta /data/minion/work/E05_aliquot_4_workflow_1_9_1/last/AgamP3\r\n"
       ]
      },
      {
       "output_type": "stream",
       "stream": "stdout",
       "text": [
        "E05_aliquot_4_workflow_1_9_1 2D AgamP3\n",
        "Info: /data/minion/work/E05_aliquot_4_workflow_1_9_1/last/AgamP3/Anopheles-gambiae-PEST_CHROMOSOMES_AgamP3.lastindex.* files already exist\r\n",
        "Cmd : lastal -s 2 -T 0 -Q 0 -a 1 -m 1 /data/minion/reference_genomes/AgamP3/Anopheles-gambiae-PEST_CHROMOSOMES_AgamP3.lastindex /data/minion/work/E05_aliquot_4_workflow_1_9_1/fasta/reads_2D.fasta > /data/minion/work/E05_aliquot_4_workflow_1_9_1/last/AgamP3/reads_2D.last.txt\r\n"
       ]
      },
      {
       "output_type": "stream",
       "stream": "stdout",
       "text": [
        "Cmd : maf-convert.py sam /data/minion/work/E05_aliquot_4_workflow_1_9_1/last/AgamP3/reads_2D.last.txt > /data/minion/work/E05_aliquot_4_workflow_1_9_1/last/AgamP3/reads_2D.last.sam\r\n"
       ]
      },
      {
       "output_type": "stream",
       "stream": "stdout",
       "text": [
        "Cmd : samtools view -T /data/minion/reference_genomes/AgamP3/Anopheles-gambiae-PEST_CHROMOSOMES_AgamP3.fasta -bS /data/minion/work/E05_aliquot_4_workflow_1_9_1/last/AgamP3/reads_2D.last.sam | samtools sort - /data/minion/work/E05_aliquot_4_workflow_1_9_1/last/AgamP3/reads_2D.last.sorted\r\n",
        "[bam_header_read] EOF marker is absent. The input is probably truncated.\r\n",
        "[sam_header_read2] 7 sequences loaded.\r\n",
        "Cmd : samtools index /data/minion/work/E05_aliquot_4_workflow_1_9_1/last/AgamP3/reads_2D.last.sorted.bam\r\n",
        "Finished successfully : /data/minion/work/E05_aliquot_4_workflow_1_9_1/fasta/reads_2D.fasta /data/minion/reference_genomes/AgamP3/Anopheles-gambiae-PEST_CHROMOSOMES_AgamP3.fasta /data/minion/work/E05_aliquot_4_workflow_1_9_1/last/AgamP3\r\n"
       ]
      }
     ],
     "prompt_number": 234
    },
    {
     "cell_type": "code",
     "collapsed": false,
     "input": [
      "mapped_read_summaries = OrderedDict()\n",
      "\n",
      "for experiment in experiments:\n",
      "    mapped_read_summaries[experiment] = OrderedDict()\n",
      "    for reference_genome in reference_genomes:\n",
      "        mapped_read_summaries[experiment][reference_genome] = OrderedDict()\n",
      "        for read_type in read_types:\n",
      "            print experiment, reference_genome, read_type\n",
      "            samfile = pysam.Samfile(\"/data/minion/work/%s/last/%s/reads_%s.last.sorted.bam\" %(experiment, reference_genome, read_type), \"rb\" )\n",
      "            all_reads = list(samfile.fetch())\n",
      "            samfile.close()\n",
      "            mapped_read_summaries[experiment][reference_genome][read_type] = summarise_bam_reads(all_reads)\n"
     ],
     "language": "python",
     "metadata": {},
     "outputs": [
      {
       "output_type": "stream",
       "stream": "stdout",
       "text": [
        "expt01_workflow_1_8_4 ont_lambda template\n",
        "expt01_workflow_1_8_4 ont_lambda complement\n",
        "expt01_workflow_1_8_4 ont_lambda 2D\n",
        "expt01_workflow_1_8_4 cs template\n",
        "expt01_workflow_1_8_4 cs complement\n",
        "expt01_workflow_1_8_4 cs 2D\n",
        "expt01_workflow_1_8_4 3D7_V3 template\n",
        "expt01_workflow_1_8_4 3D7_V3 complement\n",
        "expt01_workflow_1_8_4 3D7_V3 2D\n",
        "expt01_workflow_1_8_4 AgamP3 template\n",
        "expt01_workflow_1_8_4 AgamP3 complement\n",
        "expt01_workflow_1_8_4 AgamP3 2D\n",
        "expt01_workflow_1_9 ont_lambda template\n",
        "expt01_workflow_1_9"
       ]
      },
      {
       "output_type": "stream",
       "stream": "stdout",
       "text": [
        " ont_lambda complement\n",
        "expt01_workflow_1_9"
       ]
      },
      {
       "output_type": "stream",
       "stream": "stdout",
       "text": [
        " ont_lambda 2D\n",
        "expt01_workflow_1_9"
       ]
      },
      {
       "output_type": "stream",
       "stream": "stdout",
       "text": [
        " cs template\n",
        "expt01_workflow_1_9"
       ]
      },
      {
       "output_type": "stream",
       "stream": "stdout",
       "text": [
        " cs complement\n",
        "expt01_workflow_1_9"
       ]
      },
      {
       "output_type": "stream",
       "stream": "stdout",
       "text": [
        " cs 2D\n",
        "expt01_workflow_1_9"
       ]
      },
      {
       "output_type": "stream",
       "stream": "stdout",
       "text": [
        " 3D7_V3 template\n",
        "expt01_workflow_1_9"
       ]
      },
      {
       "output_type": "stream",
       "stream": "stdout",
       "text": [
        " 3D7_V3 complement\n",
        "expt01_workflow_1_9"
       ]
      },
      {
       "output_type": "stream",
       "stream": "stdout",
       "text": [
        " 3D7_V3 2D\n",
        "expt01_workflow_1_9 AgamP3 template\n",
        "expt01_workflow_1_9"
       ]
      },
      {
       "output_type": "stream",
       "stream": "stdout",
       "text": [
        " AgamP3 complement\n",
        "expt01_workflow_1_9 AgamP3 2D\n",
        "expt01_workflow_1_9_1 ont_lambda template\n",
        "expt01_workflow_1_9_1"
       ]
      },
      {
       "output_type": "stream",
       "stream": "stdout",
       "text": [
        " ont_lambda complement\n",
        "expt01_workflow_1_9_1"
       ]
      },
      {
       "output_type": "stream",
       "stream": "stdout",
       "text": [
        " ont_lambda 2D\n",
        "expt01_workflow_1_9_1"
       ]
      },
      {
       "output_type": "stream",
       "stream": "stdout",
       "text": [
        " cs template\n",
        "expt01_workflow_1_9_1"
       ]
      },
      {
       "output_type": "stream",
       "stream": "stdout",
       "text": [
        " cs complement\n",
        "expt01_workflow_1_9_1"
       ]
      },
      {
       "output_type": "stream",
       "stream": "stdout",
       "text": [
        " cs 2D\n",
        "expt01_workflow_1_9_1"
       ]
      },
      {
       "output_type": "stream",
       "stream": "stdout",
       "text": [
        " 3D7_V3 template\n",
        "expt01_workflow_1_9_1 3D7_V3 complement\n",
        "expt01_workflow_1_9_1"
       ]
      },
      {
       "output_type": "stream",
       "stream": "stdout",
       "text": [
        " 3D7_V3 2D\n",
        "expt01_workflow_1_9_1 AgamP3 template\n",
        "expt01_workflow_1_9_1 AgamP3 complement\n",
        "expt01_workflow_1_9_1"
       ]
      },
      {
       "output_type": "stream",
       "stream": "stdout",
       "text": [
        " AgamP3 2D\n",
        "expt02_workflow_1_9_1 ont_lambda template\n",
        "expt02_workflow_1_9_1 ont_lambda complement\n",
        "expt02_workflow_1_9_1 ont_lambda 2D\n",
        "expt02_workflow_1_9_1 cs template\n",
        "expt02_workflow_1_9_1"
       ]
      },
      {
       "output_type": "stream",
       "stream": "stdout",
       "text": [
        " cs complement\n",
        "expt02_workflow_1_9_1 cs 2D\n",
        "expt02_workflow_1_9_1 3D7_V3 template\n",
        "expt02_workflow_1_9_1"
       ]
      },
      {
       "output_type": "stream",
       "stream": "stdout",
       "text": [
        " 3D7_V3 complement\n",
        "expt02_workflow_1_9_1 3D7_V3 2D\n",
        "expt02_workflow_1_9_1 AgamP3 template\n",
        "expt02_workflow_1_9_1"
       ]
      },
      {
       "output_type": "stream",
       "stream": "stdout",
       "text": [
        " AgamP3 complement\n",
        "expt02_workflow_1_9_1 AgamP3 2D\n",
        "expt03_workflow_1_9_1 ont_lambda template\n",
        "expt03_workflow_1_9_1 ont_lambda complement\n",
        "expt03_workflow_1_9_1 ont_lambda 2D\n",
        "expt03_workflow_1_9_1 cs template\n",
        "expt03_workflow_1_9_1"
       ]
      },
      {
       "output_type": "stream",
       "stream": "stdout",
       "text": [
        " cs complement\n",
        "expt03_workflow_1_9_1 cs 2D\n",
        "expt03_workflow_1_9_1 3D7_V3 template\n",
        "expt03_workflow_1_9_1 3D7_V3 complement\n",
        "expt03_workflow_1_9_1 3D7_V3 2D\n",
        "expt03_workflow_1_9_1 AgamP3 template\n",
        "expt03_workflow_1_9_1 AgamP3 complement\n",
        "expt03_workflow_1_9_1"
       ]
      },
      {
       "output_type": "stream",
       "stream": "stdout",
       "text": [
        " AgamP3 2D\n",
        "expt04_workflow_1_9_1 ont_lambda template\n",
        "expt04_workflow_1_9_1"
       ]
      },
      {
       "output_type": "stream",
       "stream": "stdout",
       "text": [
        " ont_lambda complement\n",
        "expt04_workflow_1_9_1 ont_lambda 2D\n",
        "expt04_workflow_1_9_1 cs template\n",
        "expt04_workflow_1_9_1 cs complement\n",
        "expt04_workflow_1_9_1 cs 2D\n",
        "expt04_workflow_1_9_1 3D7_V3 template\n",
        "expt04_workflow_1_9_1"
       ]
      },
      {
       "output_type": "stream",
       "stream": "stdout",
       "text": [
        " 3D7_V3 complement\n",
        "expt04_workflow_1_9_1 3D7_V3 2D\n",
        "expt04_workflow_1_9_1 AgamP3 template\n",
        "expt04_workflow_1_9_1"
       ]
      },
      {
       "output_type": "stream",
       "stream": "stdout",
       "text": [
        " AgamP3 complement\n",
        "expt04_workflow_1_9_1 AgamP3 2D\n",
        "expt05_aliquot_1_workflow_1_9_1 ont_lambda template\n",
        "expt05_aliquot_1_workflow_1_9_1"
       ]
      },
      {
       "output_type": "stream",
       "stream": "stdout",
       "text": [
        " ont_lambda complement\n",
        "expt05_aliquot_1_workflow_1_9_1 ont_lambda 2D\n",
        "expt05_aliquot_1_workflow_1_9_1"
       ]
      },
      {
       "output_type": "stream",
       "stream": "stdout",
       "text": [
        " cs template\n",
        "expt05_aliquot_1_workflow_1_9_1"
       ]
      },
      {
       "output_type": "stream",
       "stream": "stdout",
       "text": [
        " cs complement\n",
        "expt05_aliquot_1_workflow_1_9_1 cs 2D\n",
        "expt05_aliquot_1_workflow_1_9_1"
       ]
      },
      {
       "output_type": "stream",
       "stream": "stdout",
       "text": [
        " 3D7_V3 template\n",
        "expt05_aliquot_1_workflow_1_9_1"
       ]
      },
      {
       "output_type": "stream",
       "stream": "stdout",
       "text": [
        " 3D7_V3 complement\n",
        "expt05_aliquot_1_workflow_1_9_1"
       ]
      },
      {
       "output_type": "stream",
       "stream": "stdout",
       "text": [
        " 3D7_V3 2D\n",
        "expt05_aliquot_1_workflow_1_9_1 AgamP3 template\n",
        "expt05_aliquot_1_workflow_1_9_1"
       ]
      },
      {
       "output_type": "stream",
       "stream": "stdout",
       "text": [
        " AgamP3 complement\n",
        "expt05_aliquot_1_workflow_1_9_1"
       ]
      },
      {
       "output_type": "stream",
       "stream": "stdout",
       "text": [
        " AgamP3 2D\n",
        "E05_aliquot_3_workflow_1_9_1 ont_lambda template\n",
        "E05_aliquot_3_workflow_1_9_1"
       ]
      },
      {
       "output_type": "stream",
       "stream": "stdout",
       "text": [
        " ont_lambda complement\n",
        "E05_aliquot_3_workflow_1_9_1 ont_lambda 2D\n",
        "E05_aliquot_3_workflow_1_9_1"
       ]
      },
      {
       "output_type": "stream",
       "stream": "stdout",
       "text": [
        " cs template\n",
        "E05_aliquot_3_workflow_1_9_1"
       ]
      },
      {
       "output_type": "stream",
       "stream": "stdout",
       "text": [
        " cs complement\n",
        "E05_aliquot_3_workflow_1_9_1 cs 2D\n",
        "E05_aliquot_3_workflow_1_9_1"
       ]
      },
      {
       "output_type": "stream",
       "stream": "stdout",
       "text": [
        " 3D7_V3 template\n",
        "E05_aliquot_3_workflow_1_9_1"
       ]
      },
      {
       "output_type": "stream",
       "stream": "stdout",
       "text": [
        " 3D7_V3 complement\n",
        "E05_aliquot_3_workflow_1_9_1"
       ]
      },
      {
       "output_type": "stream",
       "stream": "stdout",
       "text": [
        " 3D7_V3 2D\n",
        "E05_aliquot_3_workflow_1_9_1 AgamP3 template\n",
        "E05_aliquot_3_workflow_1_9_1"
       ]
      },
      {
       "output_type": "stream",
       "stream": "stdout",
       "text": [
        " AgamP3 complement\n",
        "E05_aliquot_3_workflow_1_9_1"
       ]
      },
      {
       "output_type": "stream",
       "stream": "stdout",
       "text": [
        " AgamP3 2D\n",
        "E05_aliquot_5_workflow_1_9_1 ont_lambda template\n",
        "E05_aliquot_5_workflow_1_9_1"
       ]
      },
      {
       "output_type": "stream",
       "stream": "stdout",
       "text": [
        " ont_lambda complement\n",
        "E05_aliquot_5_workflow_1_9_1 ont_lambda 2D\n",
        "E05_aliquot_5_workflow_1_9_1 cs template\n",
        "E05_aliquot_5_workflow_1_9_1"
       ]
      },
      {
       "output_type": "stream",
       "stream": "stdout",
       "text": [
        " cs complement\n",
        "E05_aliquot_5_workflow_1_9_1 cs 2D\n",
        "E05_aliquot_5_workflow_1_9_1 3D7_V3 template\n",
        "E05_aliquot_5_workflow_1_9_1"
       ]
      },
      {
       "output_type": "stream",
       "stream": "stdout",
       "text": [
        " 3D7_V3 complement\n",
        "E05_aliquot_5_workflow_1_9_1 3D7_V3 2D\n",
        "E05_aliquot_5_workflow_1_9_1 AgamP3 template\n",
        "E05_aliquot_5_workflow_1_9_1"
       ]
      },
      {
       "output_type": "stream",
       "stream": "stdout",
       "text": [
        " AgamP3 complement\n",
        "E05_aliquot_5_workflow_1_9_1 AgamP3 2D\n",
        "E05_aliquot_2_workflow_1_9_1 ont_lambda template\n",
        "E05_aliquot_2_workflow_1_9_1"
       ]
      },
      {
       "output_type": "stream",
       "stream": "stdout",
       "text": [
        " ont_lambda complement\n",
        "E05_aliquot_2_workflow_1_9_1 ont_lambda 2D\n",
        "E05_aliquot_2_workflow_1_9_1"
       ]
      },
      {
       "output_type": "stream",
       "stream": "stdout",
       "text": [
        " cs template\n",
        "E05_aliquot_2_workflow_1_9_1"
       ]
      },
      {
       "output_type": "stream",
       "stream": "stdout",
       "text": [
        " cs complement\n",
        "E05_aliquot_2_workflow_1_9_1 cs 2D\n",
        "E05_aliquot_2_workflow_1_9_1"
       ]
      },
      {
       "output_type": "stream",
       "stream": "stdout",
       "text": [
        " 3D7_V3 template\n",
        "E05_aliquot_2_workflow_1_9_1"
       ]
      },
      {
       "output_type": "stream",
       "stream": "stdout",
       "text": [
        " 3D7_V3 complement\n",
        "E05_aliquot_2_workflow_1_9_1"
       ]
      },
      {
       "output_type": "stream",
       "stream": "stdout",
       "text": [
        " 3D7_V3 2D\n",
        "E05_aliquot_2_workflow_1_9_1 AgamP3 template\n",
        "E05_aliquot_2_workflow_1_9_1"
       ]
      },
      {
       "output_type": "stream",
       "stream": "stdout",
       "text": [
        " AgamP3 complement\n",
        "E05_aliquot_2_workflow_1_9_1 AgamP3 2D\n",
        "E05_aliquot_4_workflow_1_9_1 ont_lambda template\n",
        "E05_aliquot_4_workflow_1_9_1"
       ]
      },
      {
       "output_type": "stream",
       "stream": "stdout",
       "text": [
        " ont_lambda complement\n",
        "E05_aliquot_4_workflow_1_9_1 ont_lambda 2D\n",
        "E05_aliquot_4_workflow_1_9_1"
       ]
      },
      {
       "output_type": "stream",
       "stream": "stdout",
       "text": [
        " cs template\n",
        "E05_aliquot_4_workflow_1_9_1"
       ]
      },
      {
       "output_type": "stream",
       "stream": "stdout",
       "text": [
        " cs complement\n",
        "E05_aliquot_4_workflow_1_9_1 cs 2D\n",
        "E05_aliquot_4_workflow_1_9_1"
       ]
      },
      {
       "output_type": "stream",
       "stream": "stdout",
       "text": [
        " 3D7_V3 template\n",
        "E05_aliquot_4_workflow_1_9_1"
       ]
      },
      {
       "output_type": "stream",
       "stream": "stdout",
       "text": [
        " 3D7_V3 complement\n",
        "E05_aliquot_4_workflow_1_9_1"
       ]
      },
      {
       "output_type": "stream",
       "stream": "stdout",
       "text": [
        " 3D7_V3 2D\n",
        "E05_aliquot_4_workflow_1_9_1 AgamP3 template\n",
        "E05_aliquot_4_workflow_1_9_1"
       ]
      },
      {
       "output_type": "stream",
       "stream": "stdout",
       "text": [
        " AgamP3 complement\n",
        "E05_aliquot_4_workflow_1_9_1"
       ]
      },
      {
       "output_type": "stream",
       "stream": "stdout",
       "text": [
        " AgamP3 2D\n"
       ]
      }
     ],
     "prompt_number": 235
    },
    {
     "cell_type": "code",
     "collapsed": false,
     "input": [
      "mapped_read_summaries['expt01_workflow_1_9_1']['ont_lambda']['template']\n"
     ],
     "language": "python",
     "metadata": {},
     "outputs": [
      {
       "metadata": {},
       "output_type": "pyout",
       "prompt_number": 236,
       "text": [
        "rec.array([ ('channel_101_read_0_template', 1, 4551, 4551.0, 4551, 4551, 1500, 0, 569, 171),\n",
        "       ('channel_101_read_10_template', 1, 7290, 7290.0, 7290, 7290, 2593, 0, 903, 396),\n",
        "       ('channel_101_read_13_template', 1, 10054, 10054.0, 10054, 10054, 3491, 0, 1207, 528),\n",
        "       ...,\n",
        "       ('channel_97_read_2_template', 1, 2786, 2786.0, 2786, 2786, 1220, 0, 475, 123),\n",
        "       ('channel_97_read_5_template', 1, 970, 970.0, 970, 970, 491, 0, 206, 43),\n",
        "       ('channel_97_read_8_template', 1, 2330, 2330.0, 2330, 2330, 946, 0, 235, 240)], \n",
        "      dtype=[('read_names', 'S28'), ('fragments', '<i8'), ('total_fragment_length', '<i8'), ('mean_fragment_length', '<f8'), ('min_fragment_length', '<i8'), ('max_fragment_length', '<i8'), ('mismatches', '<i8'), ('Ns', '<i8'), ('deletions', '<i8'), ('insertions', '<i8')])"
       ]
      }
     ],
     "prompt_number": 236
    },
    {
     "cell_type": "code",
     "collapsed": false,
     "input": [
      "mapped_read_summaries['expt04_workflow_1_9_1']['ont_lambda']['2D']\n"
     ],
     "language": "python",
     "metadata": {},
     "outputs": [
      {
       "metadata": {},
       "output_type": "pyout",
       "prompt_number": 237,
       "text": [
        "rec.array([ ('channel_172_read_3_2D', 3, 2287, 762.3333333333334, 273, 1721, 1039, 205, 516, 46),\n",
        "       ('channel_385_read_15_2D', 1, 79, 79.0, 79, 79, 20, 3, 9, 0),\n",
        "       ('channel_56_read_2_2D', 3, 3488, 1162.6666666666667, 604, 2198, 1742, 457, 777, 115)], \n",
        "      dtype=[('read_names', 'S22'), ('fragments', '<i8'), ('total_fragment_length', '<i8'), ('mean_fragment_length', '<f8'), ('min_fragment_length', '<i8'), ('max_fragment_length', '<i8'), ('mismatches', '<i8'), ('Ns', '<i8'), ('deletions', '<i8'), ('insertions', '<i8')])"
       ]
      }
     ],
     "prompt_number": 237
    },
    {
     "cell_type": "code",
     "collapsed": false,
     "input": [
      "full_read_summaries = OrderedDict()\n",
      "read_summary_tables = OrderedDict()\n",
      "# mapped_read_intial_tables = OrderedDict()\n",
      "# read_summary_initial_tables = OrderedDict()\n",
      "# read_summary_intermediate_tables = OrderedDict()\n",
      "# read_summary_intermediate_tables_2 = OrderedDict()\n",
      "\n",
      "for experiment in experiments:\n",
      "    print experiment\n",
      "    read_summary_table = (etl\n",
      "        .fromarray(read_summaries[experiment])\n",
      "    )\n",
      "#     read_summary_initial_tables[experiment] = read_summary_table\n",
      "#     mapped_read_intial_tables[experiment] = OrderedDict()\n",
      "#     read_summary_intermediate_tables[experiment] = OrderedDict()\n",
      "#     read_summary_intermediate_tables_2[experiment] = OrderedDict()\n",
      "    for reference_genome in reference_genomes:\n",
      "#         mapped_read_intial_tables[experiment][reference_genome] = OrderedDict()\n",
      "#         read_summary_intermediate_tables[experiment][reference_genome] = OrderedDict()\n",
      "#         read_summary_intermediate_tables_2[experiment][reference_genome] = OrderedDict()\n",
      "        for read_type in read_types:\n",
      "            print experiment, reference_genome, read_type\n",
      "            mapped_read_table = (etl\n",
      "                .fromarray(mapped_read_summaries[experiment][reference_genome][read_type])\n",
      "                .rename(\n",
      "                    dict(\n",
      "                        zip(\n",
      "                            etl.fromarray(mapped_read_summaries[experiment][reference_genome][read_type]).header(),\n",
      "                            map(\n",
      "                                lambda x: x + '_%s_%s' % (reference_genome, read_type),\n",
      "                                etl.fromarray(mapped_read_summaries[experiment][reference_genome][read_type]).header()\n",
      "                            )\n",
      "                        )\n",
      "                    )\n",
      "                )\n",
      "            )\n",
      "#             mapped_read_intial_tables[experiment][reference_genome][read_type] = mapped_read_table\n",
      "#             read_summary_intermediate_tables[experiment][reference_genome][read_type] = mapped_read_table\n",
      "            read_type_field_name = 'read_type_%s_%s' % (reference_genome, read_type)\n",
      "            read_name_temp_field_name = 'read_names_temp_%s_%s' % (reference_genome, read_type)\n",
      "            read_name_field_name = 'read_names_%s_%s' % (reference_genome, read_type)\n",
      "            read_name_field_format = 'channel_%%d_read_%%d_%s' % (read_type)\n",
      "            print read_name_field_name, read_name_field_format\n",
      "#             read_summary_intermediate_tables[experiment][reference_genome][read_type] = (read_summary_table\n",
      "#                 .addfield(read_name_field_name, lambda(rec): read_name_field_format % (rec['channel_number'], rec['read_number']))\n",
      "#             )\n",
      "            print read_type\n",
      "#                 .addfield(read_name_field_name, lambda(rec): ('channel_%%d_read_%%d_%s' % (read_type)) % (rec['channel_number'], rec['read_number']))  \n",
      "            temp_read_summary_table = (read_summary_table\n",
      "                .addfield('read_type', read_type)\n",
      "                .addfield('read_name_temp', lambda(rec): 'channel_%d_read_%d' % (rec['channel_number'], rec['read_number']))\n",
      "                .addfield('read_name', lambda(rec): rec['read_name_temp'] + '_' + rec['read_type'])\n",
      "            )\n",
      "            read_summary_table = (temp_read_summary_table\n",
      "                .rename('read_name', read_name_field_name)\n",
      "                .cutout('read_type')\n",
      "                .cutout('read_name_temp')\n",
      "                .leftjoin(mapped_read_table, missing=0)\n",
      "            )\n",
      "#             read_summary_table = (read_summary_table\n",
      "#                 .leftjoin(mapped_read_table)\n",
      "#             )\n",
      "#             read_summary_table = (read_summary_table\n",
      "#                 .addfield(read_type_field_name, read_type)\n",
      "#                 .addfield(read_name_temp_field_name, lambda(rec): 'channel_%d_read_%d' % (rec['channel_number'], rec['read_number']))\n",
      "#                 .addfield(read_name_field_name, lambda(rec): rec[read_type_field_name] + '_' + rec[read_name_temp_field_name])\n",
      "# #                 .addfield(read_name_field_name, lambda(rec): 'channel_%d_read_%d_%s' % (rec['channel_number'], rec['read_number'], rec[read_type_field_name]))\n",
      "# #                 .addfield(read_name_field_name, lambda(rec): ('channel_%d_read_%d_' % (rec['channel_number'], rec['read_number'])) + read_type)\n",
      "# #                 .addfield(read_name_field_name, lambda(rec): read_name_field_value(rec, read_type))\n",
      "# #                 .convert(read_name_field_name, lambda rec: rec[read_name_field_name] + rec[read_type_field_name])\n",
      "# #                 .leftjoin(mapped_read_table)\n",
      "#             )\n",
      "#             new_read_type = read_type.copy()\n",
      "#             print new_read_type\n",
      "#             read_summary_table.convert(read_name_field_name, lambda v: v + new_read_type)\n",
      "            print read_type\n",
      "#             read_summary_intermediate_tables_2[experiment][reference_genome][read_type] = read_summary_table\n",
      "\n",
      "\n",
      "            print experiment, reference_genome, read_type\n",
      "            samfile = pysam.Samfile(\"/data/minion/work/%s/last/%s/reads_%s.last.sorted.bam\" %(experiment, reference_genome, read_type), \"rb\" )\n",
      "            all_reads = list(samfile.fetch())\n",
      "            samfile.close()\n",
      "            mapped_read_summaries[experiment][reference_genome][read_type] = summarise_bam_reads(all_reads)\n",
      "    read_summary_tables[experiment] = read_summary_table\n"
     ],
     "language": "python",
     "metadata": {},
     "outputs": [
      {
       "output_type": "stream",
       "stream": "stdout",
       "text": [
        "expt01_workflow_1_8_4\n",
        "expt01_workflow_1_8_4 ont_lambda template\n",
        "read_names_ont_lambda_template channel_%d_read_%d_template\n",
        "template\n",
        "template\n",
        "expt01_workflow_1_8_4 ont_lambda template\n",
        "expt01_workflow_1_8_4 ont_lambda complement\n",
        "read_names_ont_lambda_complement channel_%d_read_%d_complement\n",
        "complement\n",
        "complement\n",
        "expt01_workflow_1_8_4 ont_lambda complement\n",
        "expt01_workflow_1_8_4 ont_lambda 2D\n",
        "read_names_ont_lambda_2D channel_%d_read_%d_2D\n",
        "2D\n",
        "2D\n",
        "expt01_workflow_1_8_4 ont_lambda 2D\n",
        "expt01_workflow_1_8_4 cs template\n",
        "read_names_cs_template channel_%d_read_%d_template\n",
        "template\n",
        "template\n",
        "expt01_workflow_1_8_4 cs template\n",
        "expt01_workflow_1_8_4 cs complement\n",
        "read_names_cs_complement channel_%d_read_%d_complement\n",
        "complement\n",
        "complement\n",
        "expt01_workflow_1_8_4 cs complement\n",
        "expt01_workflow_1_8_4 cs 2D\n",
        "read_names_cs_2D channel_%d_read_%d_2D\n",
        "2D\n",
        "2D\n",
        "expt01_workflow_1_8_4 cs 2D\n",
        "expt01_workflow_1_8_4 3D7_V3 template\n",
        "read_names_3D7_V3_template channel_%d_read_%d_template\n",
        "template\n",
        "template\n",
        "expt01_workflow_1_8_4 3D7_V3 template\n",
        "expt01_workflow_1_8_4 3D7_V3 complement\n",
        "read_names_3D7_V3_complement channel_%d_read_%d_complement\n",
        "complement\n",
        "complement\n",
        "expt01_workflow_1_8_4 3D7_V3 complement\n",
        "expt01_workflow_1_8_4 3D7_V3 2D\n",
        "read_names_3D7_V3_2D channel_%d_read_%d_2D\n",
        "2D\n",
        "2D\n",
        "expt01_workflow_1_8_4 3D7_V3 2D\n",
        "expt01_workflow_1_8_4 AgamP3 template\n",
        "read_names_AgamP3_template channel_%d_read_%d_template\n",
        "template\n",
        "template\n",
        "expt01_workflow_1_8_4 AgamP3 template\n",
        "expt01_workflow_1_8_4 AgamP3 complement\n",
        "read_names_AgamP3_complement channel_%d_read_%d_complement\n",
        "complement\n",
        "complement\n",
        "expt01_workflow_1_8_4 AgamP3 complement\n",
        "expt01_workflow_1_8_4 AgamP3 2D\n",
        "read_names_AgamP3_2D channel_%d_read_%d_2D\n",
        "2D\n",
        "2D\n",
        "expt01_workflow_1_8_4 AgamP3 2D\n",
        "expt01_workflow_1_9\n",
        "expt01_workflow_1_9 ont_lambda template\n",
        "read_names_ont_lambda_template channel_%d_read_%d_template\n",
        "template\n",
        "template\n",
        "expt01_workflow_1_9 ont_lambda template\n",
        "expt01_workflow_1_9"
       ]
      },
      {
       "output_type": "stream",
       "stream": "stdout",
       "text": [
        " ont_lambda complement\n",
        "read_names_ont_lambda_complement channel_%d_read_%d_complement\n",
        "complement\n",
        "complement\n",
        "expt01_workflow_1_9 ont_lambda complement\n",
        "expt01_workflow_1_9"
       ]
      },
      {
       "output_type": "stream",
       "stream": "stdout",
       "text": [
        " ont_lambda 2D\n",
        "read_names_ont_lambda_2D channel_%d_read_%d_2D\n",
        "2D\n",
        "2D\n",
        "expt01_workflow_1_9 ont_lambda 2D\n",
        "expt01_workflow_1_9"
       ]
      },
      {
       "output_type": "stream",
       "stream": "stdout",
       "text": [
        " cs template\n",
        "read_names_cs_template channel_%d_read_%d_template\n",
        "template\n",
        "template\n",
        "expt01_workflow_1_9 cs template\n",
        "expt01_workflow_1_9"
       ]
      },
      {
       "output_type": "stream",
       "stream": "stdout",
       "text": [
        " cs complement\n",
        "read_names_cs_complement channel_%d_read_%d_complement\n",
        "complement\n",
        "complement\n",
        "expt01_workflow_1_9 cs complement\n",
        "expt01_workflow_1_9"
       ]
      },
      {
       "output_type": "stream",
       "stream": "stdout",
       "text": [
        " cs 2D\n",
        "read_names_cs_2D channel_%d_read_%d_2D\n",
        "2D\n",
        "2D\n",
        "expt01_workflow_1_9 cs 2D\n",
        "expt01_workflow_1_9"
       ]
      },
      {
       "output_type": "stream",
       "stream": "stdout",
       "text": [
        " 3D7_V3 template\n",
        "read_names_3D7_V3_template channel_%d_read_%d_template\n",
        "template\n",
        "template\n",
        "expt01_workflow_1_9 3D7_V3 template\n",
        "expt01_workflow_1_9"
       ]
      },
      {
       "output_type": "stream",
       "stream": "stdout",
       "text": [
        " 3D7_V3 complement\n",
        "read_names_3D7_V3_complement channel_%d_read_%d_complement\n",
        "complement\n",
        "complement\n",
        "expt01_workflow_1_9 3D7_V3 complement\n",
        "expt01_workflow_1_9"
       ]
      },
      {
       "output_type": "stream",
       "stream": "stdout",
       "text": [
        " 3D7_V3 2D\n",
        "read_names_3D7_V3_2D channel_%d_read_%d_2D\n",
        "2D\n",
        "2D\n",
        "expt01_workflow_1_9 3D7_V3 2D\n",
        "expt01_workflow_1_9 AgamP3 template\n",
        "read_names_AgamP3_template channel_%d_read_%d_template\n",
        "template\n",
        "template\n",
        "expt01_workflow_1_9 AgamP3 template\n",
        "expt01_workflow_1_9 AgamP3 complement\n",
        "read_names_AgamP3_complement channel_%d_read_%d_complement\n",
        "complement\n",
        "complement\n",
        "expt01_workflow_1_9 AgamP3 complement\n",
        "expt01_workflow_1_9"
       ]
      },
      {
       "output_type": "stream",
       "stream": "stdout",
       "text": [
        " AgamP3 2D\n",
        "read_names_AgamP3_2D channel_%d_read_%d_2D\n",
        "2D\n",
        "2D\n",
        "expt01_workflow_1_9 AgamP3 2D\n",
        "expt01_workflow_1_9_1\n",
        "expt01_workflow_1_9_1 ont_lambda template\n",
        "read_names_ont_lambda_template channel_%d_read_%d_template\n",
        "template\n",
        "template\n",
        "expt01_workflow_1_9_1 ont_lambda template\n",
        "expt01_workflow_1_9_1"
       ]
      },
      {
       "output_type": "stream",
       "stream": "stdout",
       "text": [
        " ont_lambda complement\n",
        "read_names_ont_lambda_complement channel_%d_read_%d_complement\n",
        "complement\n",
        "complement\n",
        "expt01_workflow_1_9_1 ont_lambda complement\n",
        "expt01_workflow_1_9_1"
       ]
      },
      {
       "output_type": "stream",
       "stream": "stdout",
       "text": [
        " ont_lambda 2D\n",
        "read_names_ont_lambda_2D channel_%d_read_%d_2D\n",
        "2D\n",
        "2D\n",
        "expt01_workflow_1_9_1 ont_lambda 2D\n",
        "expt01_workflow_1_9_1"
       ]
      },
      {
       "output_type": "stream",
       "stream": "stdout",
       "text": [
        " cs template\n",
        "read_names_cs_template channel_%d_read_%d_template\n",
        "template\n",
        "template\n",
        "expt01_workflow_1_9_1 cs template\n",
        "expt01_workflow_1_9_1"
       ]
      },
      {
       "output_type": "stream",
       "stream": "stdout",
       "text": [
        " cs complement\n",
        "read_names_cs_complement channel_%d_read_%d_complement\n",
        "complement\n",
        "complement\n",
        "expt01_workflow_1_9_1 cs complement\n",
        "expt01_workflow_1_9_1"
       ]
      },
      {
       "output_type": "stream",
       "stream": "stdout",
       "text": [
        " cs 2D\n",
        "read_names_cs_2D channel_%d_read_%d_2D\n",
        "2D\n",
        "2D\n",
        "expt01_workflow_1_9_1 cs 2D\n",
        "expt01_workflow_1_9_1"
       ]
      },
      {
       "output_type": "stream",
       "stream": "stdout",
       "text": [
        " 3D7_V3 template\n",
        "read_names_3D7_V3_template channel_%d_read_%d_template\n",
        "template\n",
        "template\n",
        "expt01_workflow_1_9_1 3D7_V3 template\n",
        "expt01_workflow_1_9_1 3D7_V3 complement\n",
        "read_names_3D7_V3_complement channel_%d_read_%d_complement\n",
        "complement\n",
        "complement\n",
        "expt01_workflow_1_9_1 3D7_V3 complement\n",
        "expt01_workflow_1_9_1"
       ]
      },
      {
       "output_type": "stream",
       "stream": "stdout",
       "text": [
        " 3D7_V3 2D\n",
        "read_names_3D7_V3_2D channel_%d_read_%d_2D\n",
        "2D\n",
        "2D\n",
        "expt01_workflow_1_9_1 3D7_V3 2D\n",
        "expt01_workflow_1_9_1 AgamP3 template\n",
        "read_names_AgamP3_template channel_%d_read_%d_template\n",
        "template\n",
        "template\n",
        "expt01_workflow_1_9_1 AgamP3 template\n",
        "expt01_workflow_1_9_1 AgamP3 complement\n",
        "read_names_AgamP3_complement channel_%d_read_%d_complement\n",
        "complement\n",
        "complement\n",
        "expt01_workflow_1_9_1 AgamP3 complement\n",
        "expt01_workflow_1_9_1"
       ]
      },
      {
       "output_type": "stream",
       "stream": "stdout",
       "text": [
        " AgamP3 2D\n",
        "read_names_AgamP3_2D channel_%d_read_%d_2D\n",
        "2D\n",
        "2D\n",
        "expt01_workflow_1_9_1 AgamP3 2D\n",
        "expt02_workflow_1_9_1\n",
        "expt02_workflow_1_9_1 ont_lambda template\n",
        "read_names_ont_lambda_template channel_%d_read_%d_template\n",
        "template\n",
        "template\n",
        "expt02_workflow_1_9_1 ont_lambda template\n",
        "expt02_workflow_1_9_1 ont_lambda complement\n",
        "read_names_ont_lambda_complement channel_%d_read_%d_complement\n",
        "complement\n",
        "complement\n",
        "expt02_workflow_1_9_1 ont_lambda complement\n",
        "expt02_workflow_1_9_1 ont_lambda 2D\n",
        "read_names_ont_lambda_2D channel_%d_read_%d_2D\n",
        "2D\n",
        "2D\n",
        "expt02_workflow_1_9_1 ont_lambda 2D\n",
        "expt02_workflow_1_9_1 cs template\n",
        "read_names_cs_template channel_%d_read_%d_template\n",
        "template\n",
        "template\n",
        "expt02_workflow_1_9_1 cs template\n",
        "expt02_workflow_1_9_1"
       ]
      },
      {
       "output_type": "stream",
       "stream": "stdout",
       "text": [
        " cs complement\n",
        "read_names_cs_complement channel_%d_read_%d_complement\n",
        "complement\n",
        "complement\n",
        "expt02_workflow_1_9_1 cs complement\n",
        "expt02_workflow_1_9_1 cs 2D\n",
        "read_names_cs_2D channel_%d_read_%d_2D\n",
        "2D\n",
        "2D\n",
        "expt02_workflow_1_9_1 cs 2D\n",
        "expt02_workflow_1_9_1 3D7_V3 template\n",
        "read_names_3D7_V3_template channel_%d_read_%d_template\n",
        "template\n",
        "template\n",
        "expt02_workflow_1_9_1 3D7_V3 template\n",
        "expt02_workflow_1_9_1"
       ]
      },
      {
       "output_type": "stream",
       "stream": "stdout",
       "text": [
        " 3D7_V3 complement\n",
        "read_names_3D7_V3_complement channel_%d_read_%d_complement\n",
        "complement\n",
        "complement\n",
        "expt02_workflow_1_9_1 3D7_V3 complement\n",
        "expt02_workflow_1_9_1 3D7_V3 2D\n",
        "read_names_3D7_V3_2D channel_%d_read_%d_2D\n",
        "2D\n",
        "2D\n",
        "expt02_workflow_1_9_1 3D7_V3 2D\n",
        "expt02_workflow_1_9_1 AgamP3 template\n",
        "read_names_AgamP3_template channel_%d_read_%d_template\n",
        "template\n",
        "template\n",
        "expt02_workflow_1_9_1 AgamP3 template\n",
        "expt02_workflow_1_9_1"
       ]
      },
      {
       "output_type": "stream",
       "stream": "stdout",
       "text": [
        " AgamP3 complement\n",
        "read_names_AgamP3_complement channel_%d_read_%d_complement\n",
        "complement\n",
        "complement\n",
        "expt02_workflow_1_9_1 AgamP3 complement\n",
        "expt02_workflow_1_9_1 AgamP3 2D\n",
        "read_names_AgamP3_2D channel_%d_read_%d_2D\n",
        "2D\n",
        "2D\n",
        "expt02_workflow_1_9_1 AgamP3 2D\n",
        "expt03_workflow_1_9_1\n",
        "expt03_workflow_1_9_1 ont_lambda template\n",
        "read_names_ont_lambda_template channel_%d_read_%d_template\n",
        "template\n",
        "template\n",
        "expt03_workflow_1_9_1 ont_lambda template\n",
        "expt03_workflow_1_9_1 ont_lambda complement\n",
        "read_names_ont_lambda_complement channel_%d_read_%d_complement\n",
        "complement\n",
        "complement\n",
        "expt03_workflow_1_9_1 ont_lambda complement\n",
        "expt03_workflow_1_9_1 ont_lambda 2D\n",
        "read_names_ont_lambda_2D channel_%d_read_%d_2D\n",
        "2D\n",
        "2D\n",
        "expt03_workflow_1_9_1 ont_lambda 2D\n",
        "expt03_workflow_1_9_1 cs template\n",
        "read_names_cs_template channel_%d_read_%d_template\n",
        "template\n",
        "template\n",
        "expt03_workflow_1_9_1 cs template\n",
        "expt03_workflow_1_9_1 cs complement\n",
        "read_names_cs_complement channel_%d_read_%d_complement\n",
        "complement\n",
        "complement\n",
        "expt03_workflow_1_9_1 cs complement\n",
        "expt03_workflow_1_9_1 cs 2D\n",
        "read_names_cs_2D channel_%d_read_%d_2D\n",
        "2D\n",
        "2D\n",
        "expt03_workflow_1_9_1 cs 2D\n",
        "expt03_workflow_1_9_1 3D7_V3 template\n",
        "read_names_3D7_V3_template channel_%d_read_%d_template\n",
        "template\n",
        "template\n",
        "expt03_workflow_1_9_1 3D7_V3 template\n",
        "expt03_workflow_1_9_1"
       ]
      },
      {
       "output_type": "stream",
       "stream": "stdout",
       "text": [
        " 3D7_V3 complement\n",
        "read_names_3D7_V3_complement channel_%d_read_%d_complement\n",
        "complement\n",
        "complement\n",
        "expt03_workflow_1_9_1 3D7_V3 complement\n",
        "expt03_workflow_1_9_1 3D7_V3 2D\n",
        "read_names_3D7_V3_2D channel_%d_read_%d_2D\n",
        "2D\n",
        "2D\n",
        "expt03_workflow_1_9_1 3D7_V3 2D\n",
        "expt03_workflow_1_9_1 AgamP3 template\n",
        "read_names_AgamP3_template channel_%d_read_%d_template\n",
        "template\n",
        "template\n",
        "expt03_workflow_1_9_1 AgamP3 template\n",
        "expt03_workflow_1_9_1 AgamP3 complement\n",
        "read_names_AgamP3_complement channel_%d_read_%d_complement\n",
        "complement\n",
        "complement\n",
        "expt03_workflow_1_9_1 AgamP3 complement\n",
        "expt03_workflow_1_9_1 AgamP3 2D\n",
        "read_names_AgamP3_2D channel_%d_read_%d_2D\n",
        "2D\n",
        "2D\n",
        "expt03_workflow_1_9_1 AgamP3 2D\n",
        "expt04_workflow_1_9_1\n",
        "expt04_workflow_1_9_1 ont_lambda template\n",
        "read_names_ont_lambda_template channel_%d_read_%d_template\n",
        "template\n",
        "template\n",
        "expt04_workflow_1_9_1 ont_lambda template\n",
        "expt04_workflow_1_9_1"
       ]
      },
      {
       "output_type": "stream",
       "stream": "stdout",
       "text": [
        " ont_lambda complement\n",
        "read_names_ont_lambda_complement channel_%d_read_%d_complement\n",
        "complement\n",
        "complement\n",
        "expt04_workflow_1_9_1 ont_lambda complement\n",
        "expt04_workflow_1_9_1 ont_lambda 2D\n",
        "read_names_ont_lambda_2D channel_%d_read_%d_2D\n",
        "2D\n",
        "2D\n",
        "expt04_workflow_1_9_1 ont_lambda 2D\n",
        "expt04_workflow_1_9_1 cs template\n",
        "read_names_cs_template channel_%d_read_%d_template\n",
        "template\n",
        "template\n",
        "expt04_workflow_1_9_1 cs template\n",
        "expt04_workflow_1_9_1 cs complement\n",
        "read_names_cs_complement channel_%d_read_%d_complement\n",
        "complement\n",
        "complement\n",
        "expt04_workflow_1_9_1 cs complement\n",
        "expt04_workflow_1_9_1 cs 2D\n",
        "read_names_cs_2D channel_%d_read_%d_2D\n",
        "2D\n",
        "2D\n",
        "expt04_workflow_1_9_1 cs 2D\n",
        "expt04_workflow_1_9_1 3D7_V3 template\n",
        "read_names_3D7_V3_template channel_%d_read_%d_template\n",
        "template\n",
        "template\n",
        "expt04_workflow_1_9_1 3D7_V3 template\n",
        "expt04_workflow_1_9_1"
       ]
      },
      {
       "output_type": "stream",
       "stream": "stdout",
       "text": [
        " 3D7_V3 complement\n",
        "read_names_3D7_V3_complement channel_%d_read_%d_complement\n",
        "complement\n",
        "complement\n",
        "expt04_workflow_1_9_1 3D7_V3 complement\n",
        "expt04_workflow_1_9_1 3D7_V3 2D\n",
        "read_names_3D7_V3_2D channel_%d_read_%d_2D\n",
        "2D\n",
        "2D\n",
        "expt04_workflow_1_9_1 3D7_V3 2D\n",
        "expt04_workflow_1_9_1 AgamP3 template\n",
        "read_names_AgamP3_template channel_%d_read_%d_template\n",
        "template\n",
        "template\n",
        "expt04_workflow_1_9_1 AgamP3 template\n",
        "expt04_workflow_1_9_1"
       ]
      },
      {
       "output_type": "stream",
       "stream": "stdout",
       "text": [
        " AgamP3 complement\n",
        "read_names_AgamP3_complement channel_%d_read_%d_complement\n",
        "complement\n",
        "complement\n",
        "expt04_workflow_1_9_1 AgamP3 complement\n",
        "expt04_workflow_1_9_1 AgamP3 2D\n",
        "read_names_AgamP3_2D channel_%d_read_%d_2D\n",
        "2D\n",
        "2D\n",
        "expt04_workflow_1_9_1 AgamP3 2D\n",
        "expt05_aliquot_1_workflow_1_9_1\n",
        "expt05_aliquot_1_workflow_1_9_1 ont_lambda template\n",
        "read_names_ont_lambda_template channel_%d_read_%d_template\n",
        "template\n",
        "template\n",
        "expt05_aliquot_1_workflow_1_9_1 ont_lambda template\n",
        "expt05_aliquot_1_workflow_1_9_1"
       ]
      },
      {
       "output_type": "stream",
       "stream": "stdout",
       "text": [
        " ont_lambda complement\n",
        "read_names_ont_lambda_complement channel_%d_read_%d_complement\n",
        "complement\n",
        "complement\n",
        "expt05_aliquot_1_workflow_1_9_1 ont_lambda complement\n",
        "expt05_aliquot_1_workflow_1_9_1 ont_lambda 2D\n",
        "read_names_ont_lambda_2D channel_%d_read_%d_2D\n",
        "2D\n",
        "2D\n",
        "expt05_aliquot_1_workflow_1_9_1 ont_lambda 2D\n",
        "expt05_aliquot_1_workflow_1_9_1"
       ]
      },
      {
       "output_type": "stream",
       "stream": "stdout",
       "text": [
        " cs template\n",
        "read_names_cs_template channel_%d_read_%d_template\n",
        "template\n",
        "template\n",
        "expt05_aliquot_1_workflow_1_9_1 cs template\n",
        "expt05_aliquot_1_workflow_1_9_1"
       ]
      },
      {
       "output_type": "stream",
       "stream": "stdout",
       "text": [
        " cs complement\n",
        "read_names_cs_complement channel_%d_read_%d_complement\n",
        "complement\n",
        "complement\n",
        "expt05_aliquot_1_workflow_1_9_1 cs complement\n",
        "expt05_aliquot_1_workflow_1_9_1 cs 2D\n",
        "read_names_cs_2D channel_%d_read_%d_2D\n",
        "2D\n",
        "2D\n",
        "expt05_aliquot_1_workflow_1_9_1 cs 2D\n",
        "expt05_aliquot_1_workflow_1_9_1"
       ]
      },
      {
       "output_type": "stream",
       "stream": "stdout",
       "text": [
        " 3D7_V3 template\n",
        "read_names_3D7_V3_template channel_%d_read_%d_template\n",
        "template\n",
        "template\n",
        "expt05_aliquot_1_workflow_1_9_1 3D7_V3 template\n",
        "expt05_aliquot_1_workflow_1_9_1"
       ]
      },
      {
       "output_type": "stream",
       "stream": "stdout",
       "text": [
        " 3D7_V3 complement\n",
        "read_names_3D7_V3_complement channel_%d_read_%d_complement\n",
        "complement\n",
        "complement\n",
        "expt05_aliquot_1_workflow_1_9_1 3D7_V3 complement\n",
        "expt05_aliquot_1_workflow_1_9_1"
       ]
      },
      {
       "output_type": "stream",
       "stream": "stdout",
       "text": [
        " 3D7_V3 2D\n",
        "read_names_3D7_V3_2D channel_%d_read_%d_2D\n",
        "2D\n",
        "2D\n",
        "expt05_aliquot_1_workflow_1_9_1 3D7_V3 2D\n",
        "expt05_aliquot_1_workflow_1_9_1 AgamP3 template\n",
        "read_names_AgamP3_template channel_%d_read_%d_template\n",
        "template\n",
        "template\n",
        "expt05_aliquot_1_workflow_1_9_1 AgamP3 template\n",
        "expt05_aliquot_1_workflow_1_9_1"
       ]
      },
      {
       "output_type": "stream",
       "stream": "stdout",
       "text": [
        " AgamP3 complement\n",
        "read_names_AgamP3_complement channel_%d_read_%d_complement\n",
        "complement\n",
        "complement\n",
        "expt05_aliquot_1_workflow_1_9_1 AgamP3 complement\n",
        "expt05_aliquot_1_workflow_1_9_1"
       ]
      },
      {
       "output_type": "stream",
       "stream": "stdout",
       "text": [
        " AgamP3 2D\n",
        "read_names_AgamP3_2D channel_%d_read_%d_2D\n",
        "2D\n",
        "2D\n",
        "expt05_aliquot_1_workflow_1_9_1 AgamP3 2D\n",
        "E05_aliquot_3_workflow_1_9_1\n",
        "E05_aliquot_3_workflow_1_9_1 ont_lambda template\n",
        "read_names_ont_lambda_template channel_%d_read_%d_template\n",
        "template\n",
        "template\n",
        "E05_aliquot_3_workflow_1_9_1 ont_lambda template\n",
        "E05_aliquot_3_workflow_1_9_1"
       ]
      },
      {
       "output_type": "stream",
       "stream": "stdout",
       "text": [
        " ont_lambda complement\n",
        "read_names_ont_lambda_complement channel_%d_read_%d_complement\n",
        "complement\n",
        "complement\n",
        "E05_aliquot_3_workflow_1_9_1 ont_lambda complement\n",
        "E05_aliquot_3_workflow_1_9_1 ont_lambda 2D\n",
        "read_names_ont_lambda_2D channel_%d_read_%d_2D\n",
        "2D\n",
        "2D\n",
        "E05_aliquot_3_workflow_1_9_1 ont_lambda 2D\n",
        "E05_aliquot_3_workflow_1_9_1"
       ]
      },
      {
       "output_type": "stream",
       "stream": "stdout",
       "text": [
        " cs template\n",
        "read_names_cs_template channel_%d_read_%d_template\n",
        "template\n",
        "template\n",
        "E05_aliquot_3_workflow_1_9_1 cs template\n",
        "E05_aliquot_3_workflow_1_9_1"
       ]
      },
      {
       "output_type": "stream",
       "stream": "stdout",
       "text": [
        " cs complement\n",
        "read_names_cs_complement channel_%d_read_%d_complement\n",
        "complement\n",
        "complement\n",
        "E05_aliquot_3_workflow_1_9_1 cs complement\n",
        "E05_aliquot_3_workflow_1_9_1 cs 2D\n",
        "read_names_cs_2D channel_%d_read_%d_2D\n",
        "2D\n",
        "2D\n",
        "E05_aliquot_3_workflow_1_9_1 cs 2D\n",
        "E05_aliquot_3_workflow_1_9_1"
       ]
      },
      {
       "output_type": "stream",
       "stream": "stdout",
       "text": [
        " 3D7_V3 template\n",
        "read_names_3D7_V3_template channel_%d_read_%d_template\n",
        "template\n",
        "template\n",
        "E05_aliquot_3_workflow_1_9_1 3D7_V3 template\n",
        "E05_aliquot_3_workflow_1_9_1"
       ]
      },
      {
       "output_type": "stream",
       "stream": "stdout",
       "text": [
        " 3D7_V3 complement\n",
        "read_names_3D7_V3_complement channel_%d_read_%d_complement\n",
        "complement\n",
        "complement\n",
        "E05_aliquot_3_workflow_1_9_1 3D7_V3 complement\n",
        "E05_aliquot_3_workflow_1_9_1"
       ]
      },
      {
       "output_type": "stream",
       "stream": "stdout",
       "text": [
        " 3D7_V3 2D\n",
        "read_names_3D7_V3_2D channel_%d_read_%d_2D\n",
        "2D\n",
        "2D\n",
        "E05_aliquot_3_workflow_1_9_1 3D7_V3 2D\n",
        "E05_aliquot_3_workflow_1_9_1 AgamP3 template\n",
        "read_names_AgamP3_template channel_%d_read_%d_template\n",
        "template\n",
        "template\n",
        "E05_aliquot_3_workflow_1_9_1 AgamP3 template\n",
        "E05_aliquot_3_workflow_1_9_1"
       ]
      },
      {
       "output_type": "stream",
       "stream": "stdout",
       "text": [
        " AgamP3 complement\n",
        "read_names_AgamP3_complement channel_%d_read_%d_complement\n",
        "complement\n",
        "complement\n",
        "E05_aliquot_3_workflow_1_9_1 AgamP3 complement\n",
        "E05_aliquot_3_workflow_1_9_1"
       ]
      },
      {
       "output_type": "stream",
       "stream": "stdout",
       "text": [
        " AgamP3 2D\n",
        "read_names_AgamP3_2D channel_%d_read_%d_2D\n",
        "2D\n",
        "2D\n",
        "E05_aliquot_3_workflow_1_9_1 AgamP3 2D\n",
        "E05_aliquot_5_workflow_1_9_1\n",
        "E05_aliquot_5_workflow_1_9_1 ont_lambda template\n",
        "read_names_ont_lambda_template channel_%d_read_%d_template\n",
        "template\n",
        "template\n",
        "E05_aliquot_5_workflow_1_9_1 ont_lambda template\n",
        "E05_aliquot_5_workflow_1_9_1"
       ]
      },
      {
       "output_type": "stream",
       "stream": "stdout",
       "text": [
        " ont_lambda complement\n",
        "read_names_ont_lambda_complement channel_%d_read_%d_complement\n",
        "complement\n",
        "complement\n",
        "E05_aliquot_5_workflow_1_9_1 ont_lambda complement\n",
        "E05_aliquot_5_workflow_1_9_1 ont_lambda 2D\n",
        "read_names_ont_lambda_2D channel_%d_read_%d_2D\n",
        "2D\n",
        "2D\n",
        "E05_aliquot_5_workflow_1_9_1 ont_lambda 2D\n",
        "E05_aliquot_5_workflow_1_9_1 cs template\n",
        "read_names_cs_template channel_%d_read_%d_template\n",
        "template\n",
        "template\n",
        "E05_aliquot_5_workflow_1_9_1 cs template\n",
        "E05_aliquot_5_workflow_1_9_1"
       ]
      },
      {
       "output_type": "stream",
       "stream": "stdout",
       "text": [
        " cs complement\n",
        "read_names_cs_complement channel_%d_read_%d_complement\n",
        "complement\n",
        "complement\n",
        "E05_aliquot_5_workflow_1_9_1 cs complement\n",
        "E05_aliquot_5_workflow_1_9_1 cs 2D\n",
        "read_names_cs_2D channel_%d_read_%d_2D\n",
        "2D\n",
        "2D\n",
        "E05_aliquot_5_workflow_1_9_1 cs 2D\n",
        "E05_aliquot_5_workflow_1_9_1 3D7_V3 template\n",
        "read_names_3D7_V3_template channel_%d_read_%d_template\n",
        "template\n",
        "template\n",
        "E05_aliquot_5_workflow_1_9_1 3D7_V3 template\n",
        "E05_aliquot_5_workflow_1_9_1"
       ]
      },
      {
       "output_type": "stream",
       "stream": "stdout",
       "text": [
        " 3D7_V3 complement\n",
        "read_names_3D7_V3_complement channel_%d_read_%d_complement\n",
        "complement\n",
        "complement\n",
        "E05_aliquot_5_workflow_1_9_1 3D7_V3 complement\n",
        "E05_aliquot_5_workflow_1_9_1 3D7_V3 2D\n",
        "read_names_3D7_V3_2D channel_%d_read_%d_2D\n",
        "2D\n",
        "2D\n",
        "E05_aliquot_5_workflow_1_9_1 3D7_V3 2D\n",
        "E05_aliquot_5_workflow_1_9_1 AgamP3 template\n",
        "read_names_AgamP3_template channel_%d_read_%d_template\n",
        "template\n",
        "template\n",
        "E05_aliquot_5_workflow_1_9_1 AgamP3 template\n",
        "E05_aliquot_5_workflow_1_9_1"
       ]
      },
      {
       "output_type": "stream",
       "stream": "stdout",
       "text": [
        " AgamP3 complement\n",
        "read_names_AgamP3_complement channel_%d_read_%d_complement\n",
        "complement\n",
        "complement\n",
        "E05_aliquot_5_workflow_1_9_1 AgamP3 complement\n",
        "E05_aliquot_5_workflow_1_9_1 AgamP3 2D\n",
        "read_names_AgamP3_2D channel_%d_read_%d_2D\n",
        "2D\n",
        "2D\n",
        "E05_aliquot_5_workflow_1_9_1 AgamP3 2D\n",
        "E05_aliquot_2_workflow_1_9_1\n",
        "E05_aliquot_2_workflow_1_9_1 ont_lambda template\n",
        "read_names_ont_lambda_template channel_%d_read_%d_template\n",
        "template\n",
        "template\n",
        "E05_aliquot_2_workflow_1_9_1 ont_lambda template\n",
        "E05_aliquot_2_workflow_1_9_1"
       ]
      },
      {
       "output_type": "stream",
       "stream": "stdout",
       "text": [
        " ont_lambda complement\n",
        "read_names_ont_lambda_complement channel_%d_read_%d_complement\n",
        "complement\n",
        "complement\n",
        "E05_aliquot_2_workflow_1_9_1 ont_lambda complement\n",
        "E05_aliquot_2_workflow_1_9_1 ont_lambda 2D\n",
        "read_names_ont_lambda_2D channel_%d_read_%d_2D\n",
        "2D\n",
        "2D\n",
        "E05_aliquot_2_workflow_1_9_1 ont_lambda 2D\n",
        "E05_aliquot_2_workflow_1_9_1"
       ]
      },
      {
       "output_type": "stream",
       "stream": "stdout",
       "text": [
        " cs template\n",
        "read_names_cs_template channel_%d_read_%d_template\n",
        "template\n",
        "template\n",
        "E05_aliquot_2_workflow_1_9_1 cs template\n",
        "E05_aliquot_2_workflow_1_9_1"
       ]
      },
      {
       "output_type": "stream",
       "stream": "stdout",
       "text": [
        " cs complement\n",
        "read_names_cs_complement channel_%d_read_%d_complement\n",
        "complement\n",
        "complement\n",
        "E05_aliquot_2_workflow_1_9_1 cs complement\n",
        "E05_aliquot_2_workflow_1_9_1 cs 2D\n",
        "read_names_cs_2D channel_%d_read_%d_2D\n",
        "2D\n",
        "2D\n",
        "E05_aliquot_2_workflow_1_9_1 cs 2D\n",
        "E05_aliquot_2_workflow_1_9_1"
       ]
      },
      {
       "output_type": "stream",
       "stream": "stdout",
       "text": [
        " 3D7_V3 template\n",
        "read_names_3D7_V3_template channel_%d_read_%d_template\n",
        "template\n",
        "template\n",
        "E05_aliquot_2_workflow_1_9_1 3D7_V3 template\n",
        "E05_aliquot_2_workflow_1_9_1"
       ]
      },
      {
       "output_type": "stream",
       "stream": "stdout",
       "text": [
        " 3D7_V3 complement\n",
        "read_names_3D7_V3_complement channel_%d_read_%d_complement\n",
        "complement\n",
        "complement\n",
        "E05_aliquot_2_workflow_1_9_1 3D7_V3 complement\n",
        "E05_aliquot_2_workflow_1_9_1"
       ]
      },
      {
       "output_type": "stream",
       "stream": "stdout",
       "text": [
        " 3D7_V3 2D\n",
        "read_names_3D7_V3_2D channel_%d_read_%d_2D\n",
        "2D\n",
        "2D\n",
        "E05_aliquot_2_workflow_1_9_1 3D7_V3 2D\n",
        "E05_aliquot_2_workflow_1_9_1 AgamP3 template\n",
        "read_names_AgamP3_template channel_%d_read_%d_template\n",
        "template\n",
        "template\n",
        "E05_aliquot_2_workflow_1_9_1 AgamP3 template\n",
        "E05_aliquot_2_workflow_1_9_1"
       ]
      },
      {
       "output_type": "stream",
       "stream": "stdout",
       "text": [
        " AgamP3 complement\n",
        "read_names_AgamP3_complement channel_%d_read_%d_complement\n",
        "complement\n",
        "complement\n",
        "E05_aliquot_2_workflow_1_9_1 AgamP3 complement\n",
        "E05_aliquot_2_workflow_1_9_1 AgamP3 2D\n",
        "read_names_AgamP3_2D channel_%d_read_%d_2D\n",
        "2D\n",
        "2D\n",
        "E05_aliquot_2_workflow_1_9_1 AgamP3 2D\n",
        "E05_aliquot_4_workflow_1_9_1\n",
        "E05_aliquot_4_workflow_1_9_1 ont_lambda template\n",
        "read_names_ont_lambda_template channel_%d_read_%d_template\n",
        "template\n",
        "template\n",
        "E05_aliquot_4_workflow_1_9_1 ont_lambda template\n",
        "E05_aliquot_4_workflow_1_9_1"
       ]
      },
      {
       "output_type": "stream",
       "stream": "stdout",
       "text": [
        " ont_lambda complement\n",
        "read_names_ont_lambda_complement channel_%d_read_%d_complement\n",
        "complement\n",
        "complement\n",
        "E05_aliquot_4_workflow_1_9_1 ont_lambda complement\n",
        "E05_aliquot_4_workflow_1_9_1 ont_lambda 2D\n",
        "read_names_ont_lambda_2D channel_%d_read_%d_2D\n",
        "2D\n",
        "2D\n",
        "E05_aliquot_4_workflow_1_9_1 ont_lambda 2D\n",
        "E05_aliquot_4_workflow_1_9_1"
       ]
      },
      {
       "output_type": "stream",
       "stream": "stdout",
       "text": [
        " cs template\n",
        "read_names_cs_template channel_%d_read_%d_template\n",
        "template\n",
        "template\n",
        "E05_aliquot_4_workflow_1_9_1 cs template\n",
        "E05_aliquot_4_workflow_1_9_1"
       ]
      },
      {
       "output_type": "stream",
       "stream": "stdout",
       "text": [
        " cs complement\n",
        "read_names_cs_complement channel_%d_read_%d_complement\n",
        "complement\n",
        "complement\n",
        "E05_aliquot_4_workflow_1_9_1 cs complement\n",
        "E05_aliquot_4_workflow_1_9_1 cs 2D\n",
        "read_names_cs_2D channel_%d_read_%d_2D\n",
        "2D\n",
        "2D\n",
        "E05_aliquot_4_workflow_1_9_1 cs 2D\n",
        "E05_aliquot_4_workflow_1_9_1"
       ]
      },
      {
       "output_type": "stream",
       "stream": "stdout",
       "text": [
        " 3D7_V3 template\n",
        "read_names_3D7_V3_template channel_%d_read_%d_template\n",
        "template\n",
        "template\n",
        "E05_aliquot_4_workflow_1_9_1 3D7_V3 template\n",
        "E05_aliquot_4_workflow_1_9_1"
       ]
      },
      {
       "output_type": "stream",
       "stream": "stdout",
       "text": [
        " 3D7_V3 complement\n",
        "read_names_3D7_V3_complement channel_%d_read_%d_complement\n",
        "complement\n",
        "complement\n",
        "E05_aliquot_4_workflow_1_9_1 3D7_V3 complement\n",
        "E05_aliquot_4_workflow_1_9_1"
       ]
      },
      {
       "output_type": "stream",
       "stream": "stdout",
       "text": [
        " 3D7_V3 2D\n",
        "read_names_3D7_V3_2D channel_%d_read_%d_2D\n",
        "2D\n",
        "2D\n",
        "E05_aliquot_4_workflow_1_9_1 3D7_V3 2D\n",
        "E05_aliquot_4_workflow_1_9_1 AgamP3 template\n",
        "read_names_AgamP3_template channel_%d_read_%d_template\n",
        "template\n",
        "template\n",
        "E05_aliquot_4_workflow_1_9_1 AgamP3 template\n",
        "E05_aliquot_4_workflow_1_9_1"
       ]
      },
      {
       "output_type": "stream",
       "stream": "stdout",
       "text": [
        " AgamP3 complement\n",
        "read_names_AgamP3_complement channel_%d_read_%d_complement\n",
        "complement\n",
        "complement\n",
        "E05_aliquot_4_workflow_1_9_1 AgamP3 complement\n",
        "E05_aliquot_4_workflow_1_9_1"
       ]
      },
      {
       "output_type": "stream",
       "stream": "stdout",
       "text": [
        " AgamP3 2D\n",
        "read_names_AgamP3_2D channel_%d_read_%d_2D\n",
        "2D\n",
        "2D\n",
        "E05_aliquot_4_workflow_1_9_1 AgamP3 2D\n"
       ]
      }
     ],
     "prompt_number": 238
    },
    {
     "cell_type": "code",
     "collapsed": false,
     "input": [
      "read_summary_tables.keys()"
     ],
     "language": "python",
     "metadata": {},
     "outputs": [
      {
       "metadata": {},
       "output_type": "pyout",
       "prompt_number": 241,
       "text": [
        "['expt01_workflow_1_8_4',\n",
        " 'expt01_workflow_1_9',\n",
        " 'expt01_workflow_1_9_1',\n",
        " 'expt02_workflow_1_9_1',\n",
        " 'expt03_workflow_1_9_1',\n",
        " 'expt04_workflow_1_9_1',\n",
        " 'expt05_aliquot_1_workflow_1_9_1',\n",
        " 'E05_aliquot_3_workflow_1_9_1',\n",
        " 'E05_aliquot_5_workflow_1_9_1',\n",
        " 'E05_aliquot_2_workflow_1_9_1',\n",
        " 'E05_aliquot_4_workflow_1_9_1']"
       ]
      }
     ],
     "prompt_number": 241
    },
    {
     "cell_type": "code",
     "collapsed": false,
     "input": [
      "read_summary_tables['expt01_workflow_1_9_1'].select(lambda rec: rec['fragments_3D7_V3_2D'] > 0).head(10)"
     ],
     "language": "python",
     "metadata": {},
     "outputs": []
    },
    {
     "cell_type": "code",
     "collapsed": false,
     "input": [
      "read_summary_tables['expt02_workflow_1_9_1'].select(lambda rec: rec['fragments_3D7_V3_2D'] > 0).head(10)"
     ],
     "language": "python",
     "metadata": {},
     "outputs": []
    },
    {
     "cell_type": "code",
     "collapsed": false,
     "input": [
      "read_summary_tables['expt03_workflow_1_9_1'].select(lambda rec: rec['fragments_AgamP3_2D'] > 0).head(10)"
     ],
     "language": "python",
     "metadata": {},
     "outputs": []
    },
    {
     "cell_type": "code",
     "collapsed": false,
     "input": [
      "read_summary_tables['expt04_workflow_1_9_1'].select(lambda rec: rec['fragments_ont_lambda_2D'] > 0).head(10)"
     ],
     "language": "python",
     "metadata": {},
     "outputs": []
    },
    {
     "cell_type": "code",
     "collapsed": false,
     "input": [],
     "language": "python",
     "metadata": {},
     "outputs": []
    },
    {
     "cell_type": "code",
     "collapsed": false,
     "input": [
      "read_summary_tables['expt01_workflow_1_9_1'].head()"
     ],
     "language": "python",
     "metadata": {},
     "outputs": []
    },
    {
     "cell_type": "code",
     "collapsed": false,
     "input": [
      "read_summary_table = read_summary_tables['expt01_workflow_1_9_1']\n",
      "shape(read_summary_table)"
     ],
     "language": "python",
     "metadata": {},
     "outputs": []
    },
    {
     "cell_type": "code",
     "collapsed": false,
     "input": [
      "temp_array2 = torecarray(read_summary_table.cut(read_summary_table.header()[45:50]))"
     ],
     "language": "python",
     "metadata": {},
     "outputs": [],
     "prompt_number": 210
    },
    {
     "cell_type": "code",
     "collapsed": false,
     "input": [
      "temp_array2.dtype.names"
     ],
     "language": "python",
     "metadata": {},
     "outputs": [
      {
       "metadata": {},
       "output_type": "pyout",
       "prompt_number": 310,
       "text": [
        "('fragments_ont_lambda_template',\n",
        " 'total_fragment_length_ont_lambda_template',\n",
        " 'mean_fragment_length_ont_lambda_template',\n",
        " 'min_fragment_length_ont_lambda_template',\n",
        " 'max_fragment_length_ont_lambda_template')"
       ]
      }
     ],
     "prompt_number": 310
    },
    {
     "cell_type": "code",
     "collapsed": false,
     "input": [
      "temp_array2['total_fragment_length_ont_lambda_template'].astype(np.float)"
     ],
     "language": "python",
     "metadata": {},
     "outputs": [
      {
       "metadata": {},
       "output_type": "pyout",
       "prompt_number": 312,
       "text": [
        "array([ 4551.,  7290.,     0., ...,     0.,     0.,     0.])"
       ]
      }
     ],
     "prompt_number": 312
    },
    {
     "cell_type": "code",
     "collapsed": false,
     "input": [
      "read_summary_tables['expt01_workflow_1_9_1'].header()"
     ],
     "language": "python",
     "metadata": {},
     "outputs": [
      {
       "metadata": {},
       "output_type": "pyout",
       "prompt_number": 221,
       "text": [
        "('fast5_filename',\n",
        " 'read_type_from_log',\n",
        " 'channel_number',\n",
        " 'read_number',\n",
        " 'device_id',\n",
        " 'asic_id',\n",
        " 'flow_cell_id',\n",
        " 'asic_temp',\n",
        " 'heatsink_temp',\n",
        " 'exp_start_time',\n",
        " 'version_name',\n",
        " 'run_id',\n",
        " 'is_analysed',\n",
        " 'is_base_called_2d',\n",
        " 'has_template_read',\n",
        " 'has_complement_read',\n",
        " 'has_2D_read',\n",
        " 'read_length_template',\n",
        " 'read_length_complement',\n",
        " 'read_length_2D',\n",
        " 'start_time_read',\n",
        " 'duration_read',\n",
        " 'start_time_template',\n",
        " 'duration_template',\n",
        " 'start_time_complement',\n",
        " 'duration_complement',\n",
        " 'basecall_called_events_template',\n",
        " 'basecall_num_events_template',\n",
        " 'basecall_num_skips_template',\n",
        " 'basecall_num_stays_template',\n",
        " 'basecall_mean_qscore_template',\n",
        " 'basecall_strand_score_template',\n",
        " 'basecall_called_events_complement',\n",
        " 'basecall_num_events_complement',\n",
        " 'basecall_num_skips_complement',\n",
        " 'basecall_num_stays_complement',\n",
        " 'basecall_mean_qscore_complement',\n",
        " 'basecall_strand_score_complement',\n",
        " 'basecall_mean_qscore_2D',\n",
        " 'basecall_sequence_length_2D',\n",
        " 'basecall_num_raw_events_template',\n",
        " 'basecall_num_merged_events_template',\n",
        " 'basecall_num_raw_events_complement',\n",
        " 'basecall_num_merged_events_complement',\n",
        " 'read_names_ont_lambda_template',\n",
        " 'fragments_ont_lambda_template',\n",
        " 'total_fragment_length_ont_lambda_template',\n",
        " 'mean_fragment_length_ont_lambda_template',\n",
        " 'min_fragment_length_ont_lambda_template',\n",
        " 'max_fragment_length_ont_lambda_template',\n",
        " 'mismatches_ont_lambda_template',\n",
        " 'Ns_ont_lambda_template',\n",
        " 'deletions_ont_lambda_template',\n",
        " 'insertions_ont_lambda_template',\n",
        " 'read_names_ont_lambda_complement',\n",
        " 'fragments_ont_lambda_complement',\n",
        " 'total_fragment_length_ont_lambda_complement',\n",
        " 'mean_fragment_length_ont_lambda_complement',\n",
        " 'min_fragment_length_ont_lambda_complement',\n",
        " 'max_fragment_length_ont_lambda_complement',\n",
        " 'mismatches_ont_lambda_complement',\n",
        " 'Ns_ont_lambda_complement',\n",
        " 'deletions_ont_lambda_complement',\n",
        " 'insertions_ont_lambda_complement',\n",
        " 'read_names_ont_lambda_2D',\n",
        " 'fragments_ont_lambda_2D',\n",
        " 'total_fragment_length_ont_lambda_2D',\n",
        " 'mean_fragment_length_ont_lambda_2D',\n",
        " 'min_fragment_length_ont_lambda_2D',\n",
        " 'max_fragment_length_ont_lambda_2D',\n",
        " 'mismatches_ont_lambda_2D',\n",
        " 'Ns_ont_lambda_2D',\n",
        " 'deletions_ont_lambda_2D',\n",
        " 'insertions_ont_lambda_2D',\n",
        " 'read_names_cs_template',\n",
        " 'fragments_cs_template',\n",
        " 'total_fragment_length_cs_template',\n",
        " 'mean_fragment_length_cs_template',\n",
        " 'min_fragment_length_cs_template',\n",
        " 'max_fragment_length_cs_template',\n",
        " 'mismatches_cs_template',\n",
        " 'Ns_cs_template',\n",
        " 'deletions_cs_template',\n",
        " 'insertions_cs_template',\n",
        " 'read_names_cs_complement',\n",
        " 'fragments_cs_complement',\n",
        " 'total_fragment_length_cs_complement',\n",
        " 'mean_fragment_length_cs_complement',\n",
        " 'min_fragment_length_cs_complement',\n",
        " 'max_fragment_length_cs_complement',\n",
        " 'mismatches_cs_complement',\n",
        " 'Ns_cs_complement',\n",
        " 'deletions_cs_complement',\n",
        " 'insertions_cs_complement',\n",
        " 'read_names_cs_2D',\n",
        " 'fragments_cs_2D',\n",
        " 'total_fragment_length_cs_2D',\n",
        " 'mean_fragment_length_cs_2D',\n",
        " 'min_fragment_length_cs_2D',\n",
        " 'max_fragment_length_cs_2D',\n",
        " 'mismatches_cs_2D',\n",
        " 'Ns_cs_2D',\n",
        " 'deletions_cs_2D',\n",
        " 'insertions_cs_2D',\n",
        " 'read_names_3D7_V3_template',\n",
        " 'fragments_3D7_V3_template',\n",
        " 'total_fragment_length_3D7_V3_template',\n",
        " 'mean_fragment_length_3D7_V3_template',\n",
        " 'min_fragment_length_3D7_V3_template',\n",
        " 'max_fragment_length_3D7_V3_template',\n",
        " 'mismatches_3D7_V3_template',\n",
        " 'Ns_3D7_V3_template',\n",
        " 'deletions_3D7_V3_template',\n",
        " 'insertions_3D7_V3_template',\n",
        " 'read_names_3D7_V3_complement',\n",
        " 'fragments_3D7_V3_complement',\n",
        " 'total_fragment_length_3D7_V3_complement',\n",
        " 'mean_fragment_length_3D7_V3_complement',\n",
        " 'min_fragment_length_3D7_V3_complement',\n",
        " 'max_fragment_length_3D7_V3_complement',\n",
        " 'mismatches_3D7_V3_complement',\n",
        " 'Ns_3D7_V3_complement',\n",
        " 'deletions_3D7_V3_complement',\n",
        " 'insertions_3D7_V3_complement',\n",
        " 'read_names_3D7_V3_2D',\n",
        " 'fragments_3D7_V3_2D',\n",
        " 'total_fragment_length_3D7_V3_2D',\n",
        " 'mean_fragment_length_3D7_V3_2D',\n",
        " 'min_fragment_length_3D7_V3_2D',\n",
        " 'max_fragment_length_3D7_V3_2D',\n",
        " 'mismatches_3D7_V3_2D',\n",
        " 'Ns_3D7_V3_2D',\n",
        " 'deletions_3D7_V3_2D',\n",
        " 'insertions_3D7_V3_2D',\n",
        " 'read_names_AgamP3_template',\n",
        " 'fragments_AgamP3_template',\n",
        " 'total_fragment_length_AgamP3_template',\n",
        " 'mean_fragment_length_AgamP3_template',\n",
        " 'min_fragment_length_AgamP3_template',\n",
        " 'max_fragment_length_AgamP3_template',\n",
        " 'mismatches_AgamP3_template',\n",
        " 'Ns_AgamP3_template',\n",
        " 'deletions_AgamP3_template',\n",
        " 'insertions_AgamP3_template',\n",
        " 'read_names_AgamP3_complement',\n",
        " 'fragments_AgamP3_complement',\n",
        " 'total_fragment_length_AgamP3_complement',\n",
        " 'mean_fragment_length_AgamP3_complement',\n",
        " 'min_fragment_length_AgamP3_complement',\n",
        " 'max_fragment_length_AgamP3_complement',\n",
        " 'mismatches_AgamP3_complement',\n",
        " 'Ns_AgamP3_complement',\n",
        " 'deletions_AgamP3_complement',\n",
        " 'insertions_AgamP3_complement',\n",
        " 'read_names_AgamP3_2D',\n",
        " 'fragments_AgamP3_2D',\n",
        " 'total_fragment_length_AgamP3_2D',\n",
        " 'mean_fragment_length_AgamP3_2D',\n",
        " 'min_fragment_length_AgamP3_2D',\n",
        " 'max_fragment_length_AgamP3_2D',\n",
        " 'mismatches_AgamP3_2D',\n",
        " 'Ns_AgamP3_2D',\n",
        " 'deletions_AgamP3_2D',\n",
        " 'insertions_AgamP3_2D')"
       ]
      }
     ],
     "prompt_number": 221
    },
    {
     "cell_type": "code",
     "collapsed": false,
     "input": [
      "read_summary_tables['expt01_workflow_1_9_1'].select(lambda rec: (rec['duration_read'] > 0) and (rec['duration_read'] < rec['duration_template'])).head(3)"
     ],
     "language": "python",
     "metadata": {},
     "outputs": [
      {
       "html": [
        "<table>\r\n",
        "<thead>\r\n",
        "<tr>\r\n",
        "<th>fast5_filename</th>\r\n",
        "<th>read_type_from_log</th>\r\n",
        "<th>channel_number</th>\r\n",
        "<th>read_number</th>\r\n",
        "<th>device_id</th>\r\n",
        "<th>asic_id</th>\r\n",
        "<th>flow_cell_id</th>\r\n",
        "<th>asic_temp</th>\r\n",
        "<th>heatsink_temp</th>\r\n",
        "<th>exp_start_time</th>\r\n",
        "<th>version_name</th>\r\n",
        "<th>run_id</th>\r\n",
        "<th>is_analysed</th>\r\n",
        "<th>is_base_called_2d</th>\r\n",
        "<th>has_template_read</th>\r\n",
        "<th>has_complement_read</th>\r\n",
        "<th>has_2D_read</th>\r\n",
        "<th>read_length_template</th>\r\n",
        "<th>read_length_complement</th>\r\n",
        "<th>read_length_2D</th>\r\n",
        "<th>start_time_read</th>\r\n",
        "<th>duration_read</th>\r\n",
        "<th>start_time_template</th>\r\n",
        "<th>duration_template</th>\r\n",
        "<th>start_time_complement</th>\r\n",
        "<th>duration_complement</th>\r\n",
        "<th>basecall_called_events_template</th>\r\n",
        "<th>basecall_num_events_template</th>\r\n",
        "<th>basecall_num_skips_template</th>\r\n",
        "<th>basecall_num_stays_template</th>\r\n",
        "<th>basecall_mean_qscore_template</th>\r\n",
        "<th>basecall_strand_score_template</th>\r\n",
        "<th>basecall_called_events_complement</th>\r\n",
        "<th>basecall_num_events_complement</th>\r\n",
        "<th>basecall_num_skips_complement</th>\r\n",
        "<th>basecall_num_stays_complement</th>\r\n",
        "<th>basecall_mean_qscore_complement</th>\r\n",
        "<th>basecall_strand_score_complement</th>\r\n",
        "<th>basecall_mean_qscore_2D</th>\r\n",
        "<th>basecall_sequence_length_2D</th>\r\n",
        "<th>basecall_num_raw_events_template</th>\r\n",
        "<th>basecall_num_merged_events_template</th>\r\n",
        "<th>basecall_num_raw_events_complement</th>\r\n",
        "<th>basecall_num_merged_events_complement</th>\r\n",
        "<th>read_names_ont_lambda_template</th>\r\n",
        "<th>fragments_ont_lambda_template</th>\r\n",
        "<th>total_fragment_length_ont_lambda_template</th>\r\n",
        "<th>mean_fragment_length_ont_lambda_template</th>\r\n",
        "<th>min_fragment_length_ont_lambda_template</th>\r\n",
        "<th>max_fragment_length_ont_lambda_template</th>\r\n",
        "<th>mismatches_ont_lambda_template</th>\r\n",
        "<th>Ns_ont_lambda_template</th>\r\n",
        "<th>deletions_ont_lambda_template</th>\r\n",
        "<th>insertions_ont_lambda_template</th>\r\n",
        "<th>read_names_ont_lambda_complement</th>\r\n",
        "<th>fragments_ont_lambda_complement</th>\r\n",
        "<th>total_fragment_length_ont_lambda_complement</th>\r\n",
        "<th>mean_fragment_length_ont_lambda_complement</th>\r\n",
        "<th>min_fragment_length_ont_lambda_complement</th>\r\n",
        "<th>max_fragment_length_ont_lambda_complement</th>\r\n",
        "<th>mismatches_ont_lambda_complement</th>\r\n",
        "<th>Ns_ont_lambda_complement</th>\r\n",
        "<th>deletions_ont_lambda_complement</th>\r\n",
        "<th>insertions_ont_lambda_complement</th>\r\n",
        "<th>read_names_ont_lambda_2D</th>\r\n",
        "<th>fragments_ont_lambda_2D</th>\r\n",
        "<th>total_fragment_length_ont_lambda_2D</th>\r\n",
        "<th>mean_fragment_length_ont_lambda_2D</th>\r\n",
        "<th>min_fragment_length_ont_lambda_2D</th>\r\n",
        "<th>max_fragment_length_ont_lambda_2D</th>\r\n",
        "<th>mismatches_ont_lambda_2D</th>\r\n",
        "<th>Ns_ont_lambda_2D</th>\r\n",
        "<th>deletions_ont_lambda_2D</th>\r\n",
        "<th>insertions_ont_lambda_2D</th>\r\n",
        "<th>read_names_cs_template</th>\r\n",
        "<th>fragments_cs_template</th>\r\n",
        "<th>total_fragment_length_cs_template</th>\r\n",
        "<th>mean_fragment_length_cs_template</th>\r\n",
        "<th>min_fragment_length_cs_template</th>\r\n",
        "<th>max_fragment_length_cs_template</th>\r\n",
        "<th>mismatches_cs_template</th>\r\n",
        "<th>Ns_cs_template</th>\r\n",
        "<th>deletions_cs_template</th>\r\n",
        "<th>insertions_cs_template</th>\r\n",
        "<th>read_names_cs_complement</th>\r\n",
        "<th>fragments_cs_complement</th>\r\n",
        "<th>total_fragment_length_cs_complement</th>\r\n",
        "<th>mean_fragment_length_cs_complement</th>\r\n",
        "<th>min_fragment_length_cs_complement</th>\r\n",
        "<th>max_fragment_length_cs_complement</th>\r\n",
        "<th>mismatches_cs_complement</th>\r\n",
        "<th>Ns_cs_complement</th>\r\n",
        "<th>deletions_cs_complement</th>\r\n",
        "<th>insertions_cs_complement</th>\r\n",
        "<th>read_names_cs_2D</th>\r\n",
        "<th>fragments_cs_2D</th>\r\n",
        "<th>total_fragment_length_cs_2D</th>\r\n",
        "<th>mean_fragment_length_cs_2D</th>\r\n",
        "<th>min_fragment_length_cs_2D</th>\r\n",
        "<th>max_fragment_length_cs_2D</th>\r\n",
        "<th>mismatches_cs_2D</th>\r\n",
        "<th>Ns_cs_2D</th>\r\n",
        "<th>deletions_cs_2D</th>\r\n",
        "<th>insertions_cs_2D</th>\r\n",
        "<th>read_names_3D7_V3_template</th>\r\n",
        "<th>fragments_3D7_V3_template</th>\r\n",
        "<th>total_fragment_length_3D7_V3_template</th>\r\n",
        "<th>mean_fragment_length_3D7_V3_template</th>\r\n",
        "<th>min_fragment_length_3D7_V3_template</th>\r\n",
        "<th>max_fragment_length_3D7_V3_template</th>\r\n",
        "<th>mismatches_3D7_V3_template</th>\r\n",
        "<th>Ns_3D7_V3_template</th>\r\n",
        "<th>deletions_3D7_V3_template</th>\r\n",
        "<th>insertions_3D7_V3_template</th>\r\n",
        "<th>read_names_3D7_V3_complement</th>\r\n",
        "<th>fragments_3D7_V3_complement</th>\r\n",
        "<th>total_fragment_length_3D7_V3_complement</th>\r\n",
        "<th>mean_fragment_length_3D7_V3_complement</th>\r\n",
        "<th>min_fragment_length_3D7_V3_complement</th>\r\n",
        "<th>max_fragment_length_3D7_V3_complement</th>\r\n",
        "<th>mismatches_3D7_V3_complement</th>\r\n",
        "<th>Ns_3D7_V3_complement</th>\r\n",
        "<th>deletions_3D7_V3_complement</th>\r\n",
        "<th>insertions_3D7_V3_complement</th>\r\n",
        "<th>read_names_3D7_V3_2D</th>\r\n",
        "<th>fragments_3D7_V3_2D</th>\r\n",
        "<th>total_fragment_length_3D7_V3_2D</th>\r\n",
        "<th>mean_fragment_length_3D7_V3_2D</th>\r\n",
        "<th>min_fragment_length_3D7_V3_2D</th>\r\n",
        "<th>max_fragment_length_3D7_V3_2D</th>\r\n",
        "<th>mismatches_3D7_V3_2D</th>\r\n",
        "<th>Ns_3D7_V3_2D</th>\r\n",
        "<th>deletions_3D7_V3_2D</th>\r\n",
        "<th>insertions_3D7_V3_2D</th>\r\n",
        "<th>read_names_AgamP3_template</th>\r\n",
        "<th>fragments_AgamP3_template</th>\r\n",
        "<th>total_fragment_length_AgamP3_template</th>\r\n",
        "<th>mean_fragment_length_AgamP3_template</th>\r\n",
        "<th>min_fragment_length_AgamP3_template</th>\r\n",
        "<th>max_fragment_length_AgamP3_template</th>\r\n",
        "<th>mismatches_AgamP3_template</th>\r\n",
        "<th>Ns_AgamP3_template</th>\r\n",
        "<th>deletions_AgamP3_template</th>\r\n",
        "<th>insertions_AgamP3_template</th>\r\n",
        "<th>read_names_AgamP3_complement</th>\r\n",
        "<th>fragments_AgamP3_complement</th>\r\n",
        "<th>total_fragment_length_AgamP3_complement</th>\r\n",
        "<th>mean_fragment_length_AgamP3_complement</th>\r\n",
        "<th>min_fragment_length_AgamP3_complement</th>\r\n",
        "<th>max_fragment_length_AgamP3_complement</th>\r\n",
        "<th>mismatches_AgamP3_complement</th>\r\n",
        "<th>Ns_AgamP3_complement</th>\r\n",
        "<th>deletions_AgamP3_complement</th>\r\n",
        "<th>insertions_AgamP3_complement</th>\r\n",
        "<th>read_names_AgamP3_2D</th>\r\n",
        "<th>fragments_AgamP3_2D</th>\r\n",
        "<th>total_fragment_length_AgamP3_2D</th>\r\n",
        "<th>mean_fragment_length_AgamP3_2D</th>\r\n",
        "<th>min_fragment_length_AgamP3_2D</th>\r\n",
        "<th>max_fragment_length_AgamP3_2D</th>\r\n",
        "<th>mismatches_AgamP3_2D</th>\r\n",
        "<th>Ns_AgamP3_2D</th>\r\n",
        "<th>deletions_AgamP3_2D</th>\r\n",
        "<th>insertions_AgamP3_2D</th>\r\n",
        "</tr>\r\n",
        "</thead>\r\n",
        "<tbody>\r\n",
        "</tbody>\r\n",
        "</table>\r\n"
       ],
       "metadata": {},
       "output_type": "pyout",
       "prompt_number": 278,
       "text": [
        "+------------------+----------------------+------------------+---------------+-------------+-----------+----------------+-------------+-----------------+------------------+----------------+----------+---------------+---------------------+---------------------+-----------------------+---------------+------------------------+--------------------------+------------------+-------------------+-----------------+-----------------------+---------------------+-------------------------+-----------------------+-----------------------------------+--------------------------------+-------------------------------+-------------------------------+---------------------------------+----------------------------------+-------------------------------------+----------------------------------+---------------------------------+---------------------------------+-----------------------------------+------------------------------------+---------------------------+-------------------------------+------------------------------------+---------------------------------------+--------------------------------------+-----------------------------------------+----------------------------------+---------------------------------+---------------------------------------------+--------------------------------------------+-------------------------------------------+-------------------------------------------+----------------------------------+--------------------------+---------------------------------+----------------------------------+------------------------------------+-----------------------------------+-----------------------------------------------+----------------------------------------------+---------------------------------------------+---------------------------------------------+------------------------------------+----------------------------+-----------------------------------+------------------------------------+----------------------------+---------------------------+---------------------------------------+--------------------------------------+-------------------------------------+-------------------------------------+----------------------------+--------------------+---------------------------+----------------------------+--------------------------+-------------------------+-------------------------------------+------------------------------------+-----------------------------------+-----------------------------------+--------------------------+------------------+-------------------------+--------------------------+----------------------------+---------------------------+---------------------------------------+--------------------------------------+-------------------------------------+-------------------------------------+----------------------------+--------------------+---------------------------+----------------------------+--------------------+-------------------+-------------------------------+------------------------------+-----------------------------+-----------------------------+--------------------+------------+-------------------+--------------------+------------------------------+-----------------------------+-----------------------------------------+----------------------------------------+---------------------------------------+---------------------------------------+------------------------------+----------------------+-----------------------------+------------------------------+--------------------------------+-------------------------------+-------------------------------------------+------------------------------------------+-----------------------------------------+-----------------------------------------+--------------------------------+------------------------+-------------------------------+--------------------------------+------------------------+-----------------------+-----------------------------------+----------------------------------+---------------------------------+---------------------------------+------------------------+----------------+-----------------------+------------------------+------------------------------+-----------------------------+-----------------------------------------+----------------------------------------+---------------------------------------+---------------------------------------+------------------------------+----------------------+-----------------------------+------------------------------+--------------------------------+-------------------------------+-------------------------------------------+------------------------------------------+-----------------------------------------+-----------------------------------------+--------------------------------+------------------------+-------------------------------+--------------------------------+------------------------+-----------------------+-----------------------------------+----------------------------------+---------------------------------+---------------------------------+------------------------+----------------+-----------------------+------------------------+\n",
        "| 'fast5_filename' | 'read_type_from_log' | 'channel_number' | 'read_number' | 'device_id' | 'asic_id' | 'flow_cell_id' | 'asic_temp' | 'heatsink_temp' | 'exp_start_time' | 'version_name' | 'run_id' | 'is_analysed' | 'is_base_called_2d' | 'has_template_read' | 'has_complement_read' | 'has_2D_read' | 'read_length_template' | 'read_length_complement' | 'read_length_2D' | 'start_time_read' | 'duration_read' | 'start_time_template' | 'duration_template' | 'start_time_complement' | 'duration_complement' | 'basecall_called_events_template' | 'basecall_num_events_template' | 'basecall_num_skips_template' | 'basecall_num_stays_template' | 'basecall_mean_qscore_template' | 'basecall_strand_score_template' | 'basecall_called_events_complement' | 'basecall_num_events_complement' | 'basecall_num_skips_complement' | 'basecall_num_stays_complement' | 'basecall_mean_qscore_complement' | 'basecall_strand_score_complement' | 'basecall_mean_qscore_2D' | 'basecall_sequence_length_2D' | 'basecall_num_raw_events_template' | 'basecall_num_merged_events_template' | 'basecall_num_raw_events_complement' | 'basecall_num_merged_events_complement' | 'read_names_ont_lambda_template' | 'fragments_ont_lambda_template' | 'total_fragment_length_ont_lambda_template' | 'mean_fragment_length_ont_lambda_template' | 'min_fragment_length_ont_lambda_template' | 'max_fragment_length_ont_lambda_template' | 'mismatches_ont_lambda_template' | 'Ns_ont_lambda_template' | 'deletions_ont_lambda_template' | 'insertions_ont_lambda_template' | 'read_names_ont_lambda_complement' | 'fragments_ont_lambda_complement' | 'total_fragment_length_ont_lambda_complement' | 'mean_fragment_length_ont_lambda_complement' | 'min_fragment_length_ont_lambda_complement' | 'max_fragment_length_ont_lambda_complement' | 'mismatches_ont_lambda_complement' | 'Ns_ont_lambda_complement' | 'deletions_ont_lambda_complement' | 'insertions_ont_lambda_complement' | 'read_names_ont_lambda_2D' | 'fragments_ont_lambda_2D' | 'total_fragment_length_ont_lambda_2D' | 'mean_fragment_length_ont_lambda_2D' | 'min_fragment_length_ont_lambda_2D' | 'max_fragment_length_ont_lambda_2D' | 'mismatches_ont_lambda_2D' | 'Ns_ont_lambda_2D' | 'deletions_ont_lambda_2D' | 'insertions_ont_lambda_2D' | 'read_names_cs_template' | 'fragments_cs_template' | 'total_fragment_length_cs_template' | 'mean_fragment_length_cs_template' | 'min_fragment_length_cs_template' | 'max_fragment_length_cs_template' | 'mismatches_cs_template' | 'Ns_cs_template' | 'deletions_cs_template' | 'insertions_cs_template' | 'read_names_cs_complement' | 'fragments_cs_complement' | 'total_fragment_length_cs_complement' | 'mean_fragment_length_cs_complement' | 'min_fragment_length_cs_complement' | 'max_fragment_length_cs_complement' | 'mismatches_cs_complement' | 'Ns_cs_complement' | 'deletions_cs_complement' | 'insertions_cs_complement' | 'read_names_cs_2D' | 'fragments_cs_2D' | 'total_fragment_length_cs_2D' | 'mean_fragment_length_cs_2D' | 'min_fragment_length_cs_2D' | 'max_fragment_length_cs_2D' | 'mismatches_cs_2D' | 'Ns_cs_2D' | 'deletions_cs_2D' | 'insertions_cs_2D' | 'read_names_3D7_V3_template' | 'fragments_3D7_V3_template' | 'total_fragment_length_3D7_V3_template' | 'mean_fragment_length_3D7_V3_template' | 'min_fragment_length_3D7_V3_template' | 'max_fragment_length_3D7_V3_template' | 'mismatches_3D7_V3_template' | 'Ns_3D7_V3_template' | 'deletions_3D7_V3_template' | 'insertions_3D7_V3_template' | 'read_names_3D7_V3_complement' | 'fragments_3D7_V3_complement' | 'total_fragment_length_3D7_V3_complement' | 'mean_fragment_length_3D7_V3_complement' | 'min_fragment_length_3D7_V3_complement' | 'max_fragment_length_3D7_V3_complement' | 'mismatches_3D7_V3_complement' | 'Ns_3D7_V3_complement' | 'deletions_3D7_V3_complement' | 'insertions_3D7_V3_complement' | 'read_names_3D7_V3_2D' | 'fragments_3D7_V3_2D' | 'total_fragment_length_3D7_V3_2D' | 'mean_fragment_length_3D7_V3_2D' | 'min_fragment_length_3D7_V3_2D' | 'max_fragment_length_3D7_V3_2D' | 'mismatches_3D7_V3_2D' | 'Ns_3D7_V3_2D' | 'deletions_3D7_V3_2D' | 'insertions_3D7_V3_2D' | 'read_names_AgamP3_template' | 'fragments_AgamP3_template' | 'total_fragment_length_AgamP3_template' | 'mean_fragment_length_AgamP3_template' | 'min_fragment_length_AgamP3_template' | 'max_fragment_length_AgamP3_template' | 'mismatches_AgamP3_template' | 'Ns_AgamP3_template' | 'deletions_AgamP3_template' | 'insertions_AgamP3_template' | 'read_names_AgamP3_complement' | 'fragments_AgamP3_complement' | 'total_fragment_length_AgamP3_complement' | 'mean_fragment_length_AgamP3_complement' | 'min_fragment_length_AgamP3_complement' | 'max_fragment_length_AgamP3_complement' | 'mismatches_AgamP3_complement' | 'Ns_AgamP3_complement' | 'deletions_AgamP3_complement' | 'insertions_AgamP3_complement' | 'read_names_AgamP3_2D' | 'fragments_AgamP3_2D' | 'total_fragment_length_AgamP3_2D' | 'mean_fragment_length_AgamP3_2D' | 'min_fragment_length_AgamP3_2D' | 'max_fragment_length_AgamP3_2D' | 'mismatches_AgamP3_2D' | 'Ns_AgamP3_2D' | 'deletions_AgamP3_2D' | 'insertions_AgamP3_2D' |\n",
        "+==================+======================+==================+===============+=============+===========+================+=============+=================+==================+================+==========+===============+=====================+=====================+=======================+===============+========================+==========================+==================+===================+=================+=======================+=====================+=========================+=======================+===================================+================================+===============================+===============================+=================================+==================================+=====================================+==================================+=================================+=================================+===================================+====================================+===========================+===============================+====================================+=======================================+======================================+=========================================+==================================+=================================+=============================================+============================================+===========================================+===========================================+==================================+==========================+=================================+==================================+====================================+===================================+===============================================+==============================================+=============================================+=============================================+====================================+============================+===================================+====================================+============================+===========================+=======================================+======================================+=====================================+=====================================+============================+====================+===========================+============================+==========================+=========================+=====================================+====================================+===================================+===================================+==========================+==================+=========================+==========================+============================+===========================+=======================================+======================================+=====================================+=====================================+============================+====================+===========================+============================+====================+===================+===============================+==============================+=============================+=============================+====================+============+===================+====================+==============================+=============================+=========================================+========================================+=======================================+=======================================+==============================+======================+=============================+==============================+================================+===============================+===========================================+==========================================+=========================================+=========================================+================================+========================+===============================+================================+========================+=======================+===================================+==================================+=================================+=================================+========================+================+=======================+========================+==============================+=============================+=========================================+========================================+=======================================+=======================================+==============================+======================+=============================+==============================+================================+===============================+===========================================+==========================================+=========================================+=========================================+================================+========================+===============================+================================+========================+=======================+===================================+==================================+=================================+=================================+========================+================+=======================+========================+\n"
       ]
      }
     ],
     "prompt_number": 278
    },
    {
     "cell_type": "code",
     "collapsed": false,
     "input": [
      "read_summary_tables['expt01_workflow_1_9_1'].select(lambda rec: (rec['duration_read'] > 0) and (rec['duration_template'] == 0.0)).head(3)"
     ],
     "language": "python",
     "metadata": {},
     "outputs": [
      {
       "html": [
        "<table>\r\n",
        "<thead>\r\n",
        "<tr>\r\n",
        "<th>fast5_filename</th>\r\n",
        "<th>read_type_from_log</th>\r\n",
        "<th>channel_number</th>\r\n",
        "<th>read_number</th>\r\n",
        "<th>device_id</th>\r\n",
        "<th>asic_id</th>\r\n",
        "<th>flow_cell_id</th>\r\n",
        "<th>asic_temp</th>\r\n",
        "<th>heatsink_temp</th>\r\n",
        "<th>exp_start_time</th>\r\n",
        "<th>version_name</th>\r\n",
        "<th>run_id</th>\r\n",
        "<th>is_analysed</th>\r\n",
        "<th>is_base_called_2d</th>\r\n",
        "<th>has_template_read</th>\r\n",
        "<th>has_complement_read</th>\r\n",
        "<th>has_2D_read</th>\r\n",
        "<th>read_length_template</th>\r\n",
        "<th>read_length_complement</th>\r\n",
        "<th>read_length_2D</th>\r\n",
        "<th>start_time_read</th>\r\n",
        "<th>duration_read</th>\r\n",
        "<th>start_time_template</th>\r\n",
        "<th>duration_template</th>\r\n",
        "<th>start_time_complement</th>\r\n",
        "<th>duration_complement</th>\r\n",
        "<th>basecall_called_events_template</th>\r\n",
        "<th>basecall_num_events_template</th>\r\n",
        "<th>basecall_num_skips_template</th>\r\n",
        "<th>basecall_num_stays_template</th>\r\n",
        "<th>basecall_mean_qscore_template</th>\r\n",
        "<th>basecall_strand_score_template</th>\r\n",
        "<th>basecall_called_events_complement</th>\r\n",
        "<th>basecall_num_events_complement</th>\r\n",
        "<th>basecall_num_skips_complement</th>\r\n",
        "<th>basecall_num_stays_complement</th>\r\n",
        "<th>basecall_mean_qscore_complement</th>\r\n",
        "<th>basecall_strand_score_complement</th>\r\n",
        "<th>basecall_mean_qscore_2D</th>\r\n",
        "<th>basecall_sequence_length_2D</th>\r\n",
        "<th>basecall_num_raw_events_template</th>\r\n",
        "<th>basecall_num_merged_events_template</th>\r\n",
        "<th>basecall_num_raw_events_complement</th>\r\n",
        "<th>basecall_num_merged_events_complement</th>\r\n",
        "<th>read_names_ont_lambda_template</th>\r\n",
        "<th>fragments_ont_lambda_template</th>\r\n",
        "<th>total_fragment_length_ont_lambda_template</th>\r\n",
        "<th>mean_fragment_length_ont_lambda_template</th>\r\n",
        "<th>min_fragment_length_ont_lambda_template</th>\r\n",
        "<th>max_fragment_length_ont_lambda_template</th>\r\n",
        "<th>mismatches_ont_lambda_template</th>\r\n",
        "<th>Ns_ont_lambda_template</th>\r\n",
        "<th>deletions_ont_lambda_template</th>\r\n",
        "<th>insertions_ont_lambda_template</th>\r\n",
        "<th>read_names_ont_lambda_complement</th>\r\n",
        "<th>fragments_ont_lambda_complement</th>\r\n",
        "<th>total_fragment_length_ont_lambda_complement</th>\r\n",
        "<th>mean_fragment_length_ont_lambda_complement</th>\r\n",
        "<th>min_fragment_length_ont_lambda_complement</th>\r\n",
        "<th>max_fragment_length_ont_lambda_complement</th>\r\n",
        "<th>mismatches_ont_lambda_complement</th>\r\n",
        "<th>Ns_ont_lambda_complement</th>\r\n",
        "<th>deletions_ont_lambda_complement</th>\r\n",
        "<th>insertions_ont_lambda_complement</th>\r\n",
        "<th>read_names_ont_lambda_2D</th>\r\n",
        "<th>fragments_ont_lambda_2D</th>\r\n",
        "<th>total_fragment_length_ont_lambda_2D</th>\r\n",
        "<th>mean_fragment_length_ont_lambda_2D</th>\r\n",
        "<th>min_fragment_length_ont_lambda_2D</th>\r\n",
        "<th>max_fragment_length_ont_lambda_2D</th>\r\n",
        "<th>mismatches_ont_lambda_2D</th>\r\n",
        "<th>Ns_ont_lambda_2D</th>\r\n",
        "<th>deletions_ont_lambda_2D</th>\r\n",
        "<th>insertions_ont_lambda_2D</th>\r\n",
        "<th>read_names_cs_template</th>\r\n",
        "<th>fragments_cs_template</th>\r\n",
        "<th>total_fragment_length_cs_template</th>\r\n",
        "<th>mean_fragment_length_cs_template</th>\r\n",
        "<th>min_fragment_length_cs_template</th>\r\n",
        "<th>max_fragment_length_cs_template</th>\r\n",
        "<th>mismatches_cs_template</th>\r\n",
        "<th>Ns_cs_template</th>\r\n",
        "<th>deletions_cs_template</th>\r\n",
        "<th>insertions_cs_template</th>\r\n",
        "<th>read_names_cs_complement</th>\r\n",
        "<th>fragments_cs_complement</th>\r\n",
        "<th>total_fragment_length_cs_complement</th>\r\n",
        "<th>mean_fragment_length_cs_complement</th>\r\n",
        "<th>min_fragment_length_cs_complement</th>\r\n",
        "<th>max_fragment_length_cs_complement</th>\r\n",
        "<th>mismatches_cs_complement</th>\r\n",
        "<th>Ns_cs_complement</th>\r\n",
        "<th>deletions_cs_complement</th>\r\n",
        "<th>insertions_cs_complement</th>\r\n",
        "<th>read_names_cs_2D</th>\r\n",
        "<th>fragments_cs_2D</th>\r\n",
        "<th>total_fragment_length_cs_2D</th>\r\n",
        "<th>mean_fragment_length_cs_2D</th>\r\n",
        "<th>min_fragment_length_cs_2D</th>\r\n",
        "<th>max_fragment_length_cs_2D</th>\r\n",
        "<th>mismatches_cs_2D</th>\r\n",
        "<th>Ns_cs_2D</th>\r\n",
        "<th>deletions_cs_2D</th>\r\n",
        "<th>insertions_cs_2D</th>\r\n",
        "<th>read_names_3D7_V3_template</th>\r\n",
        "<th>fragments_3D7_V3_template</th>\r\n",
        "<th>total_fragment_length_3D7_V3_template</th>\r\n",
        "<th>mean_fragment_length_3D7_V3_template</th>\r\n",
        "<th>min_fragment_length_3D7_V3_template</th>\r\n",
        "<th>max_fragment_length_3D7_V3_template</th>\r\n",
        "<th>mismatches_3D7_V3_template</th>\r\n",
        "<th>Ns_3D7_V3_template</th>\r\n",
        "<th>deletions_3D7_V3_template</th>\r\n",
        "<th>insertions_3D7_V3_template</th>\r\n",
        "<th>read_names_3D7_V3_complement</th>\r\n",
        "<th>fragments_3D7_V3_complement</th>\r\n",
        "<th>total_fragment_length_3D7_V3_complement</th>\r\n",
        "<th>mean_fragment_length_3D7_V3_complement</th>\r\n",
        "<th>min_fragment_length_3D7_V3_complement</th>\r\n",
        "<th>max_fragment_length_3D7_V3_complement</th>\r\n",
        "<th>mismatches_3D7_V3_complement</th>\r\n",
        "<th>Ns_3D7_V3_complement</th>\r\n",
        "<th>deletions_3D7_V3_complement</th>\r\n",
        "<th>insertions_3D7_V3_complement</th>\r\n",
        "<th>read_names_3D7_V3_2D</th>\r\n",
        "<th>fragments_3D7_V3_2D</th>\r\n",
        "<th>total_fragment_length_3D7_V3_2D</th>\r\n",
        "<th>mean_fragment_length_3D7_V3_2D</th>\r\n",
        "<th>min_fragment_length_3D7_V3_2D</th>\r\n",
        "<th>max_fragment_length_3D7_V3_2D</th>\r\n",
        "<th>mismatches_3D7_V3_2D</th>\r\n",
        "<th>Ns_3D7_V3_2D</th>\r\n",
        "<th>deletions_3D7_V3_2D</th>\r\n",
        "<th>insertions_3D7_V3_2D</th>\r\n",
        "<th>read_names_AgamP3_template</th>\r\n",
        "<th>fragments_AgamP3_template</th>\r\n",
        "<th>total_fragment_length_AgamP3_template</th>\r\n",
        "<th>mean_fragment_length_AgamP3_template</th>\r\n",
        "<th>min_fragment_length_AgamP3_template</th>\r\n",
        "<th>max_fragment_length_AgamP3_template</th>\r\n",
        "<th>mismatches_AgamP3_template</th>\r\n",
        "<th>Ns_AgamP3_template</th>\r\n",
        "<th>deletions_AgamP3_template</th>\r\n",
        "<th>insertions_AgamP3_template</th>\r\n",
        "<th>read_names_AgamP3_complement</th>\r\n",
        "<th>fragments_AgamP3_complement</th>\r\n",
        "<th>total_fragment_length_AgamP3_complement</th>\r\n",
        "<th>mean_fragment_length_AgamP3_complement</th>\r\n",
        "<th>min_fragment_length_AgamP3_complement</th>\r\n",
        "<th>max_fragment_length_AgamP3_complement</th>\r\n",
        "<th>mismatches_AgamP3_complement</th>\r\n",
        "<th>Ns_AgamP3_complement</th>\r\n",
        "<th>deletions_AgamP3_complement</th>\r\n",
        "<th>insertions_AgamP3_complement</th>\r\n",
        "<th>read_names_AgamP3_2D</th>\r\n",
        "<th>fragments_AgamP3_2D</th>\r\n",
        "<th>total_fragment_length_AgamP3_2D</th>\r\n",
        "<th>mean_fragment_length_AgamP3_2D</th>\r\n",
        "<th>min_fragment_length_AgamP3_2D</th>\r\n",
        "<th>max_fragment_length_AgamP3_2D</th>\r\n",
        "<th>mismatches_AgamP3_2D</th>\r\n",
        "<th>Ns_AgamP3_2D</th>\r\n",
        "<th>deletions_AgamP3_2D</th>\r\n",
        "<th>insertions_AgamP3_2D</th>\r\n",
        "</tr>\r\n",
        "</thead>\r\n",
        "<tbody>\r\n",
        "<tr>\r\n",
        "<td>/data/minion/PROCESSED_DATA/KWIAT50/expt01_workflow_1_9_1/KWIAT50_K50_expt01_std_lambda_DNA_140619_A_4429_1_ch101_file11_strand.fast5</td>\r\n",
        "<td>Too few events</td>\r\n",
        "<td style='text-align: right'>101</td>\r\n",
        "<td style='text-align: right'>11</td>\r\n",
        "<td>MN02837</td>\r\n",
        "<td>50349</td>\r\n",
        "<td></td>\r\n",
        "<td style='text-align: right'>37.6</td>\r\n",
        "<td style='text-align: right'>35.75</td>\r\n",
        "<td style='text-align: right'>1403178270</td>\r\n",
        "<td>0.45.1.6 b201406111512</td>\r\n",
        "<td>8752daf03928c6f48c7f5da5b812fc2f5f901821</td>\r\n",
        "<td>True</td>\r\n",
        "<td>True</td>\r\n",
        "<td>False</td>\r\n",
        "<td>False</td>\r\n",
        "<td>False</td>\r\n",
        "<td style='text-align: right'>0</td>\r\n",
        "<td style='text-align: right'>0</td>\r\n",
        "<td style='text-align: right'>0</td>\r\n",
        "<td style='text-align: right'>2592.9566</td>\r\n",
        "<td style='text-align: right'>6.866</td>\r\n",
        "<td style='text-align: right'>0.0</td>\r\n",
        "<td style='text-align: right'>0.0</td>\r\n",
        "<td style='text-align: right'>0.0</td>\r\n",
        "<td style='text-align: right'>0.0</td>\r\n",
        "<td style='text-align: right'>0</td>\r\n",
        "<td style='text-align: right'>0</td>\r\n",
        "<td style='text-align: right'>0</td>\r\n",
        "<td style='text-align: right'>0</td>\r\n",
        "<td style='text-align: right'>0.0</td>\r\n",
        "<td style='text-align: right'>0.0</td>\r\n",
        "<td style='text-align: right'>0</td>\r\n",
        "<td style='text-align: right'>0</td>\r\n",
        "<td style='text-align: right'>0</td>\r\n",
        "<td style='text-align: right'>0</td>\r\n",
        "<td style='text-align: right'>0.0</td>\r\n",
        "<td style='text-align: right'>0.0</td>\r\n",
        "<td style='text-align: right'>0.0</td>\r\n",
        "<td style='text-align: right'>0</td>\r\n",
        "<td style='text-align: right'>0</td>\r\n",
        "<td style='text-align: right'>0</td>\r\n",
        "<td style='text-align: right'>0</td>\r\n",
        "<td style='text-align: right'>0</td>\r\n",
        "<td>channel_101_read_11_template</td>\r\n",
        "<td style='text-align: right'>0</td>\r\n",
        "<td style='text-align: right'>0</td>\r\n",
        "<td style='text-align: right'>0</td>\r\n",
        "<td style='text-align: right'>0</td>\r\n",
        "<td style='text-align: right'>0</td>\r\n",
        "<td style='text-align: right'>0</td>\r\n",
        "<td style='text-align: right'>0</td>\r\n",
        "<td style='text-align: right'>0</td>\r\n",
        "<td style='text-align: right'>0</td>\r\n",
        "<td>channel_101_read_11_complement</td>\r\n",
        "<td style='text-align: right'>0</td>\r\n",
        "<td style='text-align: right'>0</td>\r\n",
        "<td style='text-align: right'>0</td>\r\n",
        "<td style='text-align: right'>0</td>\r\n",
        "<td style='text-align: right'>0</td>\r\n",
        "<td style='text-align: right'>0</td>\r\n",
        "<td style='text-align: right'>0</td>\r\n",
        "<td style='text-align: right'>0</td>\r\n",
        "<td style='text-align: right'>0</td>\r\n",
        "<td>channel_101_read_11_2D</td>\r\n",
        "<td style='text-align: right'>0</td>\r\n",
        "<td style='text-align: right'>0</td>\r\n",
        "<td style='text-align: right'>0</td>\r\n",
        "<td style='text-align: right'>0</td>\r\n",
        "<td style='text-align: right'>0</td>\r\n",
        "<td style='text-align: right'>0</td>\r\n",
        "<td style='text-align: right'>0</td>\r\n",
        "<td style='text-align: right'>0</td>\r\n",
        "<td style='text-align: right'>0</td>\r\n",
        "<td>channel_101_read_11_template</td>\r\n",
        "<td style='text-align: right'>0</td>\r\n",
        "<td style='text-align: right'>0</td>\r\n",
        "<td style='text-align: right'>0</td>\r\n",
        "<td style='text-align: right'>0</td>\r\n",
        "<td style='text-align: right'>0</td>\r\n",
        "<td style='text-align: right'>0</td>\r\n",
        "<td style='text-align: right'>0</td>\r\n",
        "<td style='text-align: right'>0</td>\r\n",
        "<td style='text-align: right'>0</td>\r\n",
        "<td>channel_101_read_11_complement</td>\r\n",
        "<td style='text-align: right'>0</td>\r\n",
        "<td style='text-align: right'>0</td>\r\n",
        "<td style='text-align: right'>0</td>\r\n",
        "<td style='text-align: right'>0</td>\r\n",
        "<td style='text-align: right'>0</td>\r\n",
        "<td style='text-align: right'>0</td>\r\n",
        "<td style='text-align: right'>0</td>\r\n",
        "<td style='text-align: right'>0</td>\r\n",
        "<td style='text-align: right'>0</td>\r\n",
        "<td>channel_101_read_11_2D</td>\r\n",
        "<td style='text-align: right'>0</td>\r\n",
        "<td style='text-align: right'>0</td>\r\n",
        "<td style='text-align: right'>0</td>\r\n",
        "<td style='text-align: right'>0</td>\r\n",
        "<td style='text-align: right'>0</td>\r\n",
        "<td style='text-align: right'>0</td>\r\n",
        "<td style='text-align: right'>0</td>\r\n",
        "<td style='text-align: right'>0</td>\r\n",
        "<td style='text-align: right'>0</td>\r\n",
        "<td>channel_101_read_11_template</td>\r\n",
        "<td style='text-align: right'>0</td>\r\n",
        "<td style='text-align: right'>0</td>\r\n",
        "<td style='text-align: right'>0</td>\r\n",
        "<td style='text-align: right'>0</td>\r\n",
        "<td style='text-align: right'>0</td>\r\n",
        "<td style='text-align: right'>0</td>\r\n",
        "<td style='text-align: right'>0</td>\r\n",
        "<td style='text-align: right'>0</td>\r\n",
        "<td style='text-align: right'>0</td>\r\n",
        "<td>channel_101_read_11_complement</td>\r\n",
        "<td style='text-align: right'>0</td>\r\n",
        "<td style='text-align: right'>0</td>\r\n",
        "<td style='text-align: right'>0</td>\r\n",
        "<td style='text-align: right'>0</td>\r\n",
        "<td style='text-align: right'>0</td>\r\n",
        "<td style='text-align: right'>0</td>\r\n",
        "<td style='text-align: right'>0</td>\r\n",
        "<td style='text-align: right'>0</td>\r\n",
        "<td style='text-align: right'>0</td>\r\n",
        "<td>channel_101_read_11_2D</td>\r\n",
        "<td style='text-align: right'>0</td>\r\n",
        "<td style='text-align: right'>0</td>\r\n",
        "<td style='text-align: right'>0</td>\r\n",
        "<td style='text-align: right'>0</td>\r\n",
        "<td style='text-align: right'>0</td>\r\n",
        "<td style='text-align: right'>0</td>\r\n",
        "<td style='text-align: right'>0</td>\r\n",
        "<td style='text-align: right'>0</td>\r\n",
        "<td style='text-align: right'>0</td>\r\n",
        "<td>channel_101_read_11_template</td>\r\n",
        "<td style='text-align: right'>0</td>\r\n",
        "<td style='text-align: right'>0</td>\r\n",
        "<td style='text-align: right'>0</td>\r\n",
        "<td style='text-align: right'>0</td>\r\n",
        "<td style='text-align: right'>0</td>\r\n",
        "<td style='text-align: right'>0</td>\r\n",
        "<td style='text-align: right'>0</td>\r\n",
        "<td style='text-align: right'>0</td>\r\n",
        "<td style='text-align: right'>0</td>\r\n",
        "<td>channel_101_read_11_complement</td>\r\n",
        "<td style='text-align: right'>0</td>\r\n",
        "<td style='text-align: right'>0</td>\r\n",
        "<td style='text-align: right'>0</td>\r\n",
        "<td style='text-align: right'>0</td>\r\n",
        "<td style='text-align: right'>0</td>\r\n",
        "<td style='text-align: right'>0</td>\r\n",
        "<td style='text-align: right'>0</td>\r\n",
        "<td style='text-align: right'>0</td>\r\n",
        "<td style='text-align: right'>0</td>\r\n",
        "<td>channel_101_read_11_2D</td>\r\n",
        "<td style='text-align: right'>0</td>\r\n",
        "<td style='text-align: right'>0</td>\r\n",
        "<td style='text-align: right'>0</td>\r\n",
        "<td style='text-align: right'>0</td>\r\n",
        "<td style='text-align: right'>0</td>\r\n",
        "<td style='text-align: right'>0</td>\r\n",
        "<td style='text-align: right'>0</td>\r\n",
        "<td style='text-align: right'>0</td>\r\n",
        "<td style='text-align: right'>0</td>\r\n",
        "</tr>\r\n",
        "<tr>\r\n",
        "<td>/data/minion/PROCESSED_DATA/KWIAT50/expt01_workflow_1_9_1/KWIAT50_K50_expt01_std_lambda_DNA_140619_A_4429_1_ch101_file12_strand.fast5</td>\r\n",
        "<td>Too few events</td>\r\n",
        "<td style='text-align: right'>101</td>\r\n",
        "<td style='text-align: right'>12</td>\r\n",
        "<td>MN02837</td>\r\n",
        "<td>50349</td>\r\n",
        "<td></td>\r\n",
        "<td style='text-align: right'>37.6</td>\r\n",
        "<td style='text-align: right'>35.75</td>\r\n",
        "<td style='text-align: right'>1403178270</td>\r\n",
        "<td>0.45.1.6 b201406111512</td>\r\n",
        "<td>8752daf03928c6f48c7f5da5b812fc2f5f901821</td>\r\n",
        "<td>True</td>\r\n",
        "<td>True</td>\r\n",
        "<td>False</td>\r\n",
        "<td>False</td>\r\n",
        "<td>False</td>\r\n",
        "<td style='text-align: right'>0</td>\r\n",
        "<td style='text-align: right'>0</td>\r\n",
        "<td style='text-align: right'>0</td>\r\n",
        "<td style='text-align: right'>2604.6526</td>\r\n",
        "<td style='text-align: right'>3.5442</td>\r\n",
        "<td style='text-align: right'>0.0</td>\r\n",
        "<td style='text-align: right'>0.0</td>\r\n",
        "<td style='text-align: right'>0.0</td>\r\n",
        "<td style='text-align: right'>0.0</td>\r\n",
        "<td style='text-align: right'>0</td>\r\n",
        "<td style='text-align: right'>0</td>\r\n",
        "<td style='text-align: right'>0</td>\r\n",
        "<td style='text-align: right'>0</td>\r\n",
        "<td style='text-align: right'>0.0</td>\r\n",
        "<td style='text-align: right'>0.0</td>\r\n",
        "<td style='text-align: right'>0</td>\r\n",
        "<td style='text-align: right'>0</td>\r\n",
        "<td style='text-align: right'>0</td>\r\n",
        "<td style='text-align: right'>0</td>\r\n",
        "<td style='text-align: right'>0.0</td>\r\n",
        "<td style='text-align: right'>0.0</td>\r\n",
        "<td style='text-align: right'>0.0</td>\r\n",
        "<td style='text-align: right'>0</td>\r\n",
        "<td style='text-align: right'>0</td>\r\n",
        "<td style='text-align: right'>0</td>\r\n",
        "<td style='text-align: right'>0</td>\r\n",
        "<td style='text-align: right'>0</td>\r\n",
        "<td>channel_101_read_12_template</td>\r\n",
        "<td style='text-align: right'>0</td>\r\n",
        "<td style='text-align: right'>0</td>\r\n",
        "<td style='text-align: right'>0</td>\r\n",
        "<td style='text-align: right'>0</td>\r\n",
        "<td style='text-align: right'>0</td>\r\n",
        "<td style='text-align: right'>0</td>\r\n",
        "<td style='text-align: right'>0</td>\r\n",
        "<td style='text-align: right'>0</td>\r\n",
        "<td style='text-align: right'>0</td>\r\n",
        "<td>channel_101_read_12_complement</td>\r\n",
        "<td style='text-align: right'>0</td>\r\n",
        "<td style='text-align: right'>0</td>\r\n",
        "<td style='text-align: right'>0</td>\r\n",
        "<td style='text-align: right'>0</td>\r\n",
        "<td style='text-align: right'>0</td>\r\n",
        "<td style='text-align: right'>0</td>\r\n",
        "<td style='text-align: right'>0</td>\r\n",
        "<td style='text-align: right'>0</td>\r\n",
        "<td style='text-align: right'>0</td>\r\n",
        "<td>channel_101_read_12_2D</td>\r\n",
        "<td style='text-align: right'>0</td>\r\n",
        "<td style='text-align: right'>0</td>\r\n",
        "<td style='text-align: right'>0</td>\r\n",
        "<td style='text-align: right'>0</td>\r\n",
        "<td style='text-align: right'>0</td>\r\n",
        "<td style='text-align: right'>0</td>\r\n",
        "<td style='text-align: right'>0</td>\r\n",
        "<td style='text-align: right'>0</td>\r\n",
        "<td style='text-align: right'>0</td>\r\n",
        "<td>channel_101_read_12_template</td>\r\n",
        "<td style='text-align: right'>0</td>\r\n",
        "<td style='text-align: right'>0</td>\r\n",
        "<td style='text-align: right'>0</td>\r\n",
        "<td style='text-align: right'>0</td>\r\n",
        "<td style='text-align: right'>0</td>\r\n",
        "<td style='text-align: right'>0</td>\r\n",
        "<td style='text-align: right'>0</td>\r\n",
        "<td style='text-align: right'>0</td>\r\n",
        "<td style='text-align: right'>0</td>\r\n",
        "<td>channel_101_read_12_complement</td>\r\n",
        "<td style='text-align: right'>0</td>\r\n",
        "<td style='text-align: right'>0</td>\r\n",
        "<td style='text-align: right'>0</td>\r\n",
        "<td style='text-align: right'>0</td>\r\n",
        "<td style='text-align: right'>0</td>\r\n",
        "<td style='text-align: right'>0</td>\r\n",
        "<td style='text-align: right'>0</td>\r\n",
        "<td style='text-align: right'>0</td>\r\n",
        "<td style='text-align: right'>0</td>\r\n",
        "<td>channel_101_read_12_2D</td>\r\n",
        "<td style='text-align: right'>0</td>\r\n",
        "<td style='text-align: right'>0</td>\r\n",
        "<td style='text-align: right'>0</td>\r\n",
        "<td style='text-align: right'>0</td>\r\n",
        "<td style='text-align: right'>0</td>\r\n",
        "<td style='text-align: right'>0</td>\r\n",
        "<td style='text-align: right'>0</td>\r\n",
        "<td style='text-align: right'>0</td>\r\n",
        "<td style='text-align: right'>0</td>\r\n",
        "<td>channel_101_read_12_template</td>\r\n",
        "<td style='text-align: right'>0</td>\r\n",
        "<td style='text-align: right'>0</td>\r\n",
        "<td style='text-align: right'>0</td>\r\n",
        "<td style='text-align: right'>0</td>\r\n",
        "<td style='text-align: right'>0</td>\r\n",
        "<td style='text-align: right'>0</td>\r\n",
        "<td style='text-align: right'>0</td>\r\n",
        "<td style='text-align: right'>0</td>\r\n",
        "<td style='text-align: right'>0</td>\r\n",
        "<td>channel_101_read_12_complement</td>\r\n",
        "<td style='text-align: right'>0</td>\r\n",
        "<td style='text-align: right'>0</td>\r\n",
        "<td style='text-align: right'>0</td>\r\n",
        "<td style='text-align: right'>0</td>\r\n",
        "<td style='text-align: right'>0</td>\r\n",
        "<td style='text-align: right'>0</td>\r\n",
        "<td style='text-align: right'>0</td>\r\n",
        "<td style='text-align: right'>0</td>\r\n",
        "<td style='text-align: right'>0</td>\r\n",
        "<td>channel_101_read_12_2D</td>\r\n",
        "<td style='text-align: right'>0</td>\r\n",
        "<td style='text-align: right'>0</td>\r\n",
        "<td style='text-align: right'>0</td>\r\n",
        "<td style='text-align: right'>0</td>\r\n",
        "<td style='text-align: right'>0</td>\r\n",
        "<td style='text-align: right'>0</td>\r\n",
        "<td style='text-align: right'>0</td>\r\n",
        "<td style='text-align: right'>0</td>\r\n",
        "<td style='text-align: right'>0</td>\r\n",
        "<td>channel_101_read_12_template</td>\r\n",
        "<td style='text-align: right'>0</td>\r\n",
        "<td style='text-align: right'>0</td>\r\n",
        "<td style='text-align: right'>0</td>\r\n",
        "<td style='text-align: right'>0</td>\r\n",
        "<td style='text-align: right'>0</td>\r\n",
        "<td style='text-align: right'>0</td>\r\n",
        "<td style='text-align: right'>0</td>\r\n",
        "<td style='text-align: right'>0</td>\r\n",
        "<td style='text-align: right'>0</td>\r\n",
        "<td>channel_101_read_12_complement</td>\r\n",
        "<td style='text-align: right'>0</td>\r\n",
        "<td style='text-align: right'>0</td>\r\n",
        "<td style='text-align: right'>0</td>\r\n",
        "<td style='text-align: right'>0</td>\r\n",
        "<td style='text-align: right'>0</td>\r\n",
        "<td style='text-align: right'>0</td>\r\n",
        "<td style='text-align: right'>0</td>\r\n",
        "<td style='text-align: right'>0</td>\r\n",
        "<td style='text-align: right'>0</td>\r\n",
        "<td>channel_101_read_12_2D</td>\r\n",
        "<td style='text-align: right'>0</td>\r\n",
        "<td style='text-align: right'>0</td>\r\n",
        "<td style='text-align: right'>0</td>\r\n",
        "<td style='text-align: right'>0</td>\r\n",
        "<td style='text-align: right'>0</td>\r\n",
        "<td style='text-align: right'>0</td>\r\n",
        "<td style='text-align: right'>0</td>\r\n",
        "<td style='text-align: right'>0</td>\r\n",
        "<td style='text-align: right'>0</td>\r\n",
        "</tr>\r\n",
        "<tr>\r\n",
        "<td>/data/minion/PROCESSED_DATA/KWIAT50/expt01_workflow_1_9_1/KWIAT50_K50_expt01_std_lambda_DNA_140619_A_4429_1_ch101_file17_strand.fast5</td>\r\n",
        "<td>Too few events</td>\r\n",
        "<td style='text-align: right'>101</td>\r\n",
        "<td style='text-align: right'>16</td>\r\n",
        "<td>MN02837</td>\r\n",
        "<td>50349</td>\r\n",
        "<td></td>\r\n",
        "<td style='text-align: right'>37.6</td>\r\n",
        "<td style='text-align: right'>35.75</td>\r\n",
        "<td style='text-align: right'>1403178270</td>\r\n",
        "<td>0.45.1.6 b201406111512</td>\r\n",
        "<td>8752daf03928c6f48c7f5da5b812fc2f5f901821</td>\r\n",
        "<td>True</td>\r\n",
        "<td>True</td>\r\n",
        "<td>False</td>\r\n",
        "<td>False</td>\r\n",
        "<td>False</td>\r\n",
        "<td style='text-align: right'>0</td>\r\n",
        "<td style='text-align: right'>0</td>\r\n",
        "<td style='text-align: right'>0</td>\r\n",
        "<td style='text-align: right'>5661.7402</td>\r\n",
        "<td style='text-align: right'>12.2984</td>\r\n",
        "<td style='text-align: right'>0.0</td>\r\n",
        "<td style='text-align: right'>0.0</td>\r\n",
        "<td style='text-align: right'>0.0</td>\r\n",
        "<td style='text-align: right'>0.0</td>\r\n",
        "<td style='text-align: right'>0</td>\r\n",
        "<td style='text-align: right'>0</td>\r\n",
        "<td style='text-align: right'>0</td>\r\n",
        "<td style='text-align: right'>0</td>\r\n",
        "<td style='text-align: right'>0.0</td>\r\n",
        "<td style='text-align: right'>0.0</td>\r\n",
        "<td style='text-align: right'>0</td>\r\n",
        "<td style='text-align: right'>0</td>\r\n",
        "<td style='text-align: right'>0</td>\r\n",
        "<td style='text-align: right'>0</td>\r\n",
        "<td style='text-align: right'>0.0</td>\r\n",
        "<td style='text-align: right'>0.0</td>\r\n",
        "<td style='text-align: right'>0.0</td>\r\n",
        "<td style='text-align: right'>0</td>\r\n",
        "<td style='text-align: right'>0</td>\r\n",
        "<td style='text-align: right'>0</td>\r\n",
        "<td style='text-align: right'>0</td>\r\n",
        "<td style='text-align: right'>0</td>\r\n",
        "<td>channel_101_read_16_template</td>\r\n",
        "<td style='text-align: right'>0</td>\r\n",
        "<td style='text-align: right'>0</td>\r\n",
        "<td style='text-align: right'>0</td>\r\n",
        "<td style='text-align: right'>0</td>\r\n",
        "<td style='text-align: right'>0</td>\r\n",
        "<td style='text-align: right'>0</td>\r\n",
        "<td style='text-align: right'>0</td>\r\n",
        "<td style='text-align: right'>0</td>\r\n",
        "<td style='text-align: right'>0</td>\r\n",
        "<td>channel_101_read_16_complement</td>\r\n",
        "<td style='text-align: right'>0</td>\r\n",
        "<td style='text-align: right'>0</td>\r\n",
        "<td style='text-align: right'>0</td>\r\n",
        "<td style='text-align: right'>0</td>\r\n",
        "<td style='text-align: right'>0</td>\r\n",
        "<td style='text-align: right'>0</td>\r\n",
        "<td style='text-align: right'>0</td>\r\n",
        "<td style='text-align: right'>0</td>\r\n",
        "<td style='text-align: right'>0</td>\r\n",
        "<td>channel_101_read_16_2D</td>\r\n",
        "<td style='text-align: right'>0</td>\r\n",
        "<td style='text-align: right'>0</td>\r\n",
        "<td style='text-align: right'>0</td>\r\n",
        "<td style='text-align: right'>0</td>\r\n",
        "<td style='text-align: right'>0</td>\r\n",
        "<td style='text-align: right'>0</td>\r\n",
        "<td style='text-align: right'>0</td>\r\n",
        "<td style='text-align: right'>0</td>\r\n",
        "<td style='text-align: right'>0</td>\r\n",
        "<td>channel_101_read_16_template</td>\r\n",
        "<td style='text-align: right'>0</td>\r\n",
        "<td style='text-align: right'>0</td>\r\n",
        "<td style='text-align: right'>0</td>\r\n",
        "<td style='text-align: right'>0</td>\r\n",
        "<td style='text-align: right'>0</td>\r\n",
        "<td style='text-align: right'>0</td>\r\n",
        "<td style='text-align: right'>0</td>\r\n",
        "<td style='text-align: right'>0</td>\r\n",
        "<td style='text-align: right'>0</td>\r\n",
        "<td>channel_101_read_16_complement</td>\r\n",
        "<td style='text-align: right'>0</td>\r\n",
        "<td style='text-align: right'>0</td>\r\n",
        "<td style='text-align: right'>0</td>\r\n",
        "<td style='text-align: right'>0</td>\r\n",
        "<td style='text-align: right'>0</td>\r\n",
        "<td style='text-align: right'>0</td>\r\n",
        "<td style='text-align: right'>0</td>\r\n",
        "<td style='text-align: right'>0</td>\r\n",
        "<td style='text-align: right'>0</td>\r\n",
        "<td>channel_101_read_16_2D</td>\r\n",
        "<td style='text-align: right'>0</td>\r\n",
        "<td style='text-align: right'>0</td>\r\n",
        "<td style='text-align: right'>0</td>\r\n",
        "<td style='text-align: right'>0</td>\r\n",
        "<td style='text-align: right'>0</td>\r\n",
        "<td style='text-align: right'>0</td>\r\n",
        "<td style='text-align: right'>0</td>\r\n",
        "<td style='text-align: right'>0</td>\r\n",
        "<td style='text-align: right'>0</td>\r\n",
        "<td>channel_101_read_16_template</td>\r\n",
        "<td style='text-align: right'>0</td>\r\n",
        "<td style='text-align: right'>0</td>\r\n",
        "<td style='text-align: right'>0</td>\r\n",
        "<td style='text-align: right'>0</td>\r\n",
        "<td style='text-align: right'>0</td>\r\n",
        "<td style='text-align: right'>0</td>\r\n",
        "<td style='text-align: right'>0</td>\r\n",
        "<td style='text-align: right'>0</td>\r\n",
        "<td style='text-align: right'>0</td>\r\n",
        "<td>channel_101_read_16_complement</td>\r\n",
        "<td style='text-align: right'>0</td>\r\n",
        "<td style='text-align: right'>0</td>\r\n",
        "<td style='text-align: right'>0</td>\r\n",
        "<td style='text-align: right'>0</td>\r\n",
        "<td style='text-align: right'>0</td>\r\n",
        "<td style='text-align: right'>0</td>\r\n",
        "<td style='text-align: right'>0</td>\r\n",
        "<td style='text-align: right'>0</td>\r\n",
        "<td style='text-align: right'>0</td>\r\n",
        "<td>channel_101_read_16_2D</td>\r\n",
        "<td style='text-align: right'>0</td>\r\n",
        "<td style='text-align: right'>0</td>\r\n",
        "<td style='text-align: right'>0</td>\r\n",
        "<td style='text-align: right'>0</td>\r\n",
        "<td style='text-align: right'>0</td>\r\n",
        "<td style='text-align: right'>0</td>\r\n",
        "<td style='text-align: right'>0</td>\r\n",
        "<td style='text-align: right'>0</td>\r\n",
        "<td style='text-align: right'>0</td>\r\n",
        "<td>channel_101_read_16_template</td>\r\n",
        "<td style='text-align: right'>0</td>\r\n",
        "<td style='text-align: right'>0</td>\r\n",
        "<td style='text-align: right'>0</td>\r\n",
        "<td style='text-align: right'>0</td>\r\n",
        "<td style='text-align: right'>0</td>\r\n",
        "<td style='text-align: right'>0</td>\r\n",
        "<td style='text-align: right'>0</td>\r\n",
        "<td style='text-align: right'>0</td>\r\n",
        "<td style='text-align: right'>0</td>\r\n",
        "<td>channel_101_read_16_complement</td>\r\n",
        "<td style='text-align: right'>0</td>\r\n",
        "<td style='text-align: right'>0</td>\r\n",
        "<td style='text-align: right'>0</td>\r\n",
        "<td style='text-align: right'>0</td>\r\n",
        "<td style='text-align: right'>0</td>\r\n",
        "<td style='text-align: right'>0</td>\r\n",
        "<td style='text-align: right'>0</td>\r\n",
        "<td style='text-align: right'>0</td>\r\n",
        "<td style='text-align: right'>0</td>\r\n",
        "<td>channel_101_read_16_2D</td>\r\n",
        "<td style='text-align: right'>0</td>\r\n",
        "<td style='text-align: right'>0</td>\r\n",
        "<td style='text-align: right'>0</td>\r\n",
        "<td style='text-align: right'>0</td>\r\n",
        "<td style='text-align: right'>0</td>\r\n",
        "<td style='text-align: right'>0</td>\r\n",
        "<td style='text-align: right'>0</td>\r\n",
        "<td style='text-align: right'>0</td>\r\n",
        "<td style='text-align: right'>0</td>\r\n",
        "</tr>\r\n",
        "</tbody>\r\n",
        "</table>\r\n"
       ],
       "metadata": {},
       "output_type": "pyout",
       "prompt_number": 279,
       "text": [
        "+-----------------------------------------------------------------------------------------------------------------------------------------+----------------------+------------------+---------------+-------------+-----------+----------------+--------------------+-----------------+------------------+--------------------------+--------------------------------------------+---------------+---------------------+---------------------+-----------------------+---------------+------------------------+--------------------------+------------------+--------------------+--------------------+-----------------------+---------------------+-------------------------+-----------------------+-----------------------------------+--------------------------------+-------------------------------+-------------------------------+---------------------------------+----------------------------------+-------------------------------------+----------------------------------+---------------------------------+---------------------------------+-----------------------------------+------------------------------------+---------------------------+-------------------------------+------------------------------------+---------------------------------------+--------------------------------------+-----------------------------------------+----------------------------------+---------------------------------+---------------------------------------------+--------------------------------------------+-------------------------------------------+-------------------------------------------+----------------------------------+--------------------------+---------------------------------+----------------------------------+------------------------------------+-----------------------------------+-----------------------------------------------+----------------------------------------------+---------------------------------------------+---------------------------------------------+------------------------------------+----------------------------+-----------------------------------+------------------------------------+----------------------------+---------------------------+---------------------------------------+--------------------------------------+-------------------------------------+-------------------------------------+----------------------------+--------------------+---------------------------+----------------------------+--------------------------------+-------------------------+-------------------------------------+------------------------------------+-----------------------------------+-----------------------------------+--------------------------+------------------+-------------------------+--------------------------+----------------------------------+---------------------------+---------------------------------------+--------------------------------------+-------------------------------------+-------------------------------------+----------------------------+--------------------+---------------------------+----------------------------+--------------------------+-------------------+-------------------------------+------------------------------+-----------------------------+-----------------------------+--------------------+------------+-------------------+--------------------+--------------------------------+-----------------------------+-----------------------------------------+----------------------------------------+---------------------------------------+---------------------------------------+------------------------------+----------------------+-----------------------------+------------------------------+----------------------------------+-------------------------------+-------------------------------------------+------------------------------------------+-----------------------------------------+-----------------------------------------+--------------------------------+------------------------+-------------------------------+--------------------------------+--------------------------+-----------------------+-----------------------------------+----------------------------------+---------------------------------+---------------------------------+------------------------+----------------+-----------------------+------------------------+--------------------------------+-----------------------------+-----------------------------------------+----------------------------------------+---------------------------------------+---------------------------------------+------------------------------+----------------------+-----------------------------+------------------------------+----------------------------------+-------------------------------+-------------------------------------------+------------------------------------------+-----------------------------------------+-----------------------------------------+--------------------------------+------------------------+-------------------------------+--------------------------------+--------------------------+-----------------------+-----------------------------------+----------------------------------+---------------------------------+---------------------------------+------------------------+----------------+-----------------------+------------------------+\n",
        "| 'fast5_filename'                                                                                                                        | 'read_type_from_log' | 'channel_number' | 'read_number' | 'device_id' | 'asic_id' | 'flow_cell_id' | 'asic_temp'        | 'heatsink_temp' | 'exp_start_time' | 'version_name'           | 'run_id'                                   | 'is_analysed' | 'is_base_called_2d' | 'has_template_read' | 'has_complement_read' | 'has_2D_read' | 'read_length_template' | 'read_length_complement' | 'read_length_2D' | 'start_time_read'  | 'duration_read'    | 'start_time_template' | 'duration_template' | 'start_time_complement' | 'duration_complement' | 'basecall_called_events_template' | 'basecall_num_events_template' | 'basecall_num_skips_template' | 'basecall_num_stays_template' | 'basecall_mean_qscore_template' | 'basecall_strand_score_template' | 'basecall_called_events_complement' | 'basecall_num_events_complement' | 'basecall_num_skips_complement' | 'basecall_num_stays_complement' | 'basecall_mean_qscore_complement' | 'basecall_strand_score_complement' | 'basecall_mean_qscore_2D' | 'basecall_sequence_length_2D' | 'basecall_num_raw_events_template' | 'basecall_num_merged_events_template' | 'basecall_num_raw_events_complement' | 'basecall_num_merged_events_complement' | 'read_names_ont_lambda_template' | 'fragments_ont_lambda_template' | 'total_fragment_length_ont_lambda_template' | 'mean_fragment_length_ont_lambda_template' | 'min_fragment_length_ont_lambda_template' | 'max_fragment_length_ont_lambda_template' | 'mismatches_ont_lambda_template' | 'Ns_ont_lambda_template' | 'deletions_ont_lambda_template' | 'insertions_ont_lambda_template' | 'read_names_ont_lambda_complement' | 'fragments_ont_lambda_complement' | 'total_fragment_length_ont_lambda_complement' | 'mean_fragment_length_ont_lambda_complement' | 'min_fragment_length_ont_lambda_complement' | 'max_fragment_length_ont_lambda_complement' | 'mismatches_ont_lambda_complement' | 'Ns_ont_lambda_complement' | 'deletions_ont_lambda_complement' | 'insertions_ont_lambda_complement' | 'read_names_ont_lambda_2D' | 'fragments_ont_lambda_2D' | 'total_fragment_length_ont_lambda_2D' | 'mean_fragment_length_ont_lambda_2D' | 'min_fragment_length_ont_lambda_2D' | 'max_fragment_length_ont_lambda_2D' | 'mismatches_ont_lambda_2D' | 'Ns_ont_lambda_2D' | 'deletions_ont_lambda_2D' | 'insertions_ont_lambda_2D' | 'read_names_cs_template'       | 'fragments_cs_template' | 'total_fragment_length_cs_template' | 'mean_fragment_length_cs_template' | 'min_fragment_length_cs_template' | 'max_fragment_length_cs_template' | 'mismatches_cs_template' | 'Ns_cs_template' | 'deletions_cs_template' | 'insertions_cs_template' | 'read_names_cs_complement'       | 'fragments_cs_complement' | 'total_fragment_length_cs_complement' | 'mean_fragment_length_cs_complement' | 'min_fragment_length_cs_complement' | 'max_fragment_length_cs_complement' | 'mismatches_cs_complement' | 'Ns_cs_complement' | 'deletions_cs_complement' | 'insertions_cs_complement' | 'read_names_cs_2D'       | 'fragments_cs_2D' | 'total_fragment_length_cs_2D' | 'mean_fragment_length_cs_2D' | 'min_fragment_length_cs_2D' | 'max_fragment_length_cs_2D' | 'mismatches_cs_2D' | 'Ns_cs_2D' | 'deletions_cs_2D' | 'insertions_cs_2D' | 'read_names_3D7_V3_template'   | 'fragments_3D7_V3_template' | 'total_fragment_length_3D7_V3_template' | 'mean_fragment_length_3D7_V3_template' | 'min_fragment_length_3D7_V3_template' | 'max_fragment_length_3D7_V3_template' | 'mismatches_3D7_V3_template' | 'Ns_3D7_V3_template' | 'deletions_3D7_V3_template' | 'insertions_3D7_V3_template' | 'read_names_3D7_V3_complement'   | 'fragments_3D7_V3_complement' | 'total_fragment_length_3D7_V3_complement' | 'mean_fragment_length_3D7_V3_complement' | 'min_fragment_length_3D7_V3_complement' | 'max_fragment_length_3D7_V3_complement' | 'mismatches_3D7_V3_complement' | 'Ns_3D7_V3_complement' | 'deletions_3D7_V3_complement' | 'insertions_3D7_V3_complement' | 'read_names_3D7_V3_2D'   | 'fragments_3D7_V3_2D' | 'total_fragment_length_3D7_V3_2D' | 'mean_fragment_length_3D7_V3_2D' | 'min_fragment_length_3D7_V3_2D' | 'max_fragment_length_3D7_V3_2D' | 'mismatches_3D7_V3_2D' | 'Ns_3D7_V3_2D' | 'deletions_3D7_V3_2D' | 'insertions_3D7_V3_2D' | 'read_names_AgamP3_template'   | 'fragments_AgamP3_template' | 'total_fragment_length_AgamP3_template' | 'mean_fragment_length_AgamP3_template' | 'min_fragment_length_AgamP3_template' | 'max_fragment_length_AgamP3_template' | 'mismatches_AgamP3_template' | 'Ns_AgamP3_template' | 'deletions_AgamP3_template' | 'insertions_AgamP3_template' | 'read_names_AgamP3_complement'   | 'fragments_AgamP3_complement' | 'total_fragment_length_AgamP3_complement' | 'mean_fragment_length_AgamP3_complement' | 'min_fragment_length_AgamP3_complement' | 'max_fragment_length_AgamP3_complement' | 'mismatches_AgamP3_complement' | 'Ns_AgamP3_complement' | 'deletions_AgamP3_complement' | 'insertions_AgamP3_complement' | 'read_names_AgamP3_2D'   | 'fragments_AgamP3_2D' | 'total_fragment_length_AgamP3_2D' | 'mean_fragment_length_AgamP3_2D' | 'min_fragment_length_AgamP3_2D' | 'max_fragment_length_AgamP3_2D' | 'mismatches_AgamP3_2D' | 'Ns_AgamP3_2D' | 'deletions_AgamP3_2D' | 'insertions_AgamP3_2D' |\n",
        "+=========================================================================================================================================+======================+==================+===============+=============+===========+================+====================+=================+==================+==========================+============================================+===============+=====================+=====================+=======================+===============+========================+==========================+==================+====================+====================+=======================+=====================+=========================+=======================+===================================+================================+===============================+===============================+=================================+==================================+=====================================+==================================+=================================+=================================+===================================+====================================+===========================+===============================+====================================+=======================================+======================================+=========================================+==================================+=================================+=============================================+============================================+===========================================+===========================================+==================================+==========================+=================================+==================================+====================================+===================================+===============================================+==============================================+=============================================+=============================================+====================================+============================+===================================+====================================+============================+===========================+=======================================+======================================+=====================================+=====================================+============================+====================+===========================+============================+================================+=========================+=====================================+====================================+===================================+===================================+==========================+==================+=========================+==========================+==================================+===========================+=======================================+======================================+=====================================+=====================================+============================+====================+===========================+============================+==========================+===================+===============================+==============================+=============================+=============================+====================+============+===================+====================+================================+=============================+=========================================+========================================+=======================================+=======================================+==============================+======================+=============================+==============================+==================================+===============================+===========================================+==========================================+=========================================+=========================================+================================+========================+===============================+================================+==========================+=======================+===================================+==================================+=================================+=================================+========================+================+=======================+========================+================================+=============================+=========================================+========================================+=======================================+=======================================+==============================+======================+=============================+==============================+==================================+===============================+===========================================+==========================================+=========================================+=========================================+================================+========================+===============================+================================+==========================+=======================+===================================+==================================+=================================+=================================+========================+================+=======================+========================+\n",
        "| '/data/minion/PROCESSED_DATA/KWIAT50/expt01_workflow_1_9_1/KWIAT50_K50_expt01_std_lambda_DNA_140619_A_4429_1_ch101_file11_strand.fast5' | 'Too few events'     |              101 |            11 | 'MN02837'   | '50349'   | ''             | 37.600000000000001 |           35.75 |       1403178270 | '0.45.1.6 b201406111512' | '8752daf03928c6f48c7f5da5b812fc2f5f901821' | True          | True                | False               | False                 | False         |                      0 |                        0 |                0 |          2592.9566 | 6.8659999999999854 |                   0.0 |                 0.0 |                     0.0 |                   0.0 |                                 0 |                              0 |                             0 |                             0 |                             0.0 |                              0.0 |                                   0 |                                0 |                               0 |                               0 |                               0.0 |                                0.0 |                       0.0 |                             0 |                                  0 |                                     0 |                                    0 |                                       0 | 'channel_101_read_11_template'   |                               0 |                                           0 |                                          0 |                                         0 |                                         0 |                                0 |                        0 |                               0 |                                0 | 'channel_101_read_11_complement'   |                                 0 |                                             0 |                                            0 |                                           0 |                                           0 |                                  0 |                          0 |                                 0 |                                  0 | 'channel_101_read_11_2D'   |                         0 |                                     0 |                                    0 |                                   0 |                                   0 |                          0 |                  0 |                         0 |                          0 | 'channel_101_read_11_template' |                       0 |                                   0 |                                  0 |                                 0 |                                 0 |                        0 |                0 |                       0 |                        0 | 'channel_101_read_11_complement' |                         0 |                                     0 |                                    0 |                                   0 |                                   0 |                          0 |                  0 |                         0 |                          0 | 'channel_101_read_11_2D' |                 0 |                             0 |                            0 |                           0 |                           0 |                  0 |          0 |                 0 |                  0 | 'channel_101_read_11_template' |                           0 |                                       0 |                                      0 |                                     0 |                                     0 |                            0 |                    0 |                           0 |                            0 | 'channel_101_read_11_complement' |                             0 |                                         0 |                                        0 |                                       0 |                                       0 |                              0 |                      0 |                             0 |                              0 | 'channel_101_read_11_2D' |                     0 |                                 0 |                                0 |                               0 |                               0 |                      0 |              0 |                     0 |                      0 | 'channel_101_read_11_template' |                           0 |                                       0 |                                      0 |                                     0 |                                     0 |                            0 |                    0 |                           0 |                            0 | 'channel_101_read_11_complement' |                             0 |                                         0 |                                        0 |                                       0 |                                       0 |                              0 |                      0 |                             0 |                              0 | 'channel_101_read_11_2D' |                     0 |                                 0 |                                0 |                               0 |                               0 |                      0 |              0 |                     0 |                      0 |\n",
        "+-----------------------------------------------------------------------------------------------------------------------------------------+----------------------+------------------+---------------+-------------+-----------+----------------+--------------------+-----------------+------------------+--------------------------+--------------------------------------------+---------------+---------------------+---------------------+-----------------------+---------------+------------------------+--------------------------+------------------+--------------------+--------------------+-----------------------+---------------------+-------------------------+-----------------------+-----------------------------------+--------------------------------+-------------------------------+-------------------------------+---------------------------------+----------------------------------+-------------------------------------+----------------------------------+---------------------------------+---------------------------------+-----------------------------------+------------------------------------+---------------------------+-------------------------------+------------------------------------+---------------------------------------+--------------------------------------+-----------------------------------------+----------------------------------+---------------------------------+---------------------------------------------+--------------------------------------------+-------------------------------------------+-------------------------------------------+----------------------------------+--------------------------+---------------------------------+----------------------------------+------------------------------------+-----------------------------------+-----------------------------------------------+----------------------------------------------+---------------------------------------------+---------------------------------------------+------------------------------------+----------------------------+-----------------------------------+------------------------------------+----------------------------+---------------------------+---------------------------------------+--------------------------------------+-------------------------------------+-------------------------------------+----------------------------+--------------------+---------------------------+----------------------------+--------------------------------+-------------------------+-------------------------------------+------------------------------------+-----------------------------------+-----------------------------------+--------------------------+------------------+-------------------------+--------------------------+----------------------------------+---------------------------+---------------------------------------+--------------------------------------+-------------------------------------+-------------------------------------+----------------------------+--------------------+---------------------------+----------------------------+--------------------------+-------------------+-------------------------------+------------------------------+-----------------------------+-----------------------------+--------------------+------------+-------------------+--------------------+--------------------------------+-----------------------------+-----------------------------------------+----------------------------------------+---------------------------------------+---------------------------------------+------------------------------+----------------------+-----------------------------+------------------------------+----------------------------------+-------------------------------+-------------------------------------------+------------------------------------------+-----------------------------------------+-----------------------------------------+--------------------------------+------------------------+-------------------------------+--------------------------------+--------------------------+-----------------------+-----------------------------------+----------------------------------+---------------------------------+---------------------------------+------------------------+----------------+-----------------------+------------------------+--------------------------------+-----------------------------+-----------------------------------------+----------------------------------------+---------------------------------------+---------------------------------------+------------------------------+----------------------+-----------------------------+------------------------------+----------------------------------+-------------------------------+-------------------------------------------+------------------------------------------+-----------------------------------------+-----------------------------------------+--------------------------------+------------------------+-------------------------------+--------------------------------+--------------------------+-----------------------+-----------------------------------+----------------------------------+---------------------------------+---------------------------------+------------------------+----------------+-----------------------+------------------------+\n",
        "| '/data/minion/PROCESSED_DATA/KWIAT50/expt01_workflow_1_9_1/KWIAT50_K50_expt01_std_lambda_DNA_140619_A_4429_1_ch101_file12_strand.fast5' | 'Too few events'     |              101 |            12 | 'MN02837'   | '50349'   | ''             | 37.600000000000001 |           35.75 |       1403178270 | '0.45.1.6 b201406111512' | '8752daf03928c6f48c7f5da5b812fc2f5f901821' | True          | True                | False               | False                 | False         |                      0 |                        0 |                0 | 2604.6526000000003 | 3.5441999999993641 |                   0.0 |                 0.0 |                     0.0 |                   0.0 |                                 0 |                              0 |                             0 |                             0 |                             0.0 |                              0.0 |                                   0 |                                0 |                               0 |                               0 |                               0.0 |                                0.0 |                       0.0 |                             0 |                                  0 |                                     0 |                                    0 |                                       0 | 'channel_101_read_12_template'   |                               0 |                                           0 |                                          0 |                                         0 |                                         0 |                                0 |                        0 |                               0 |                                0 | 'channel_101_read_12_complement'   |                                 0 |                                             0 |                                            0 |                                           0 |                                           0 |                                  0 |                          0 |                                 0 |                                  0 | 'channel_101_read_12_2D'   |                         0 |                                     0 |                                    0 |                                   0 |                                   0 |                          0 |                  0 |                         0 |                          0 | 'channel_101_read_12_template' |                       0 |                                   0 |                                  0 |                                 0 |                                 0 |                        0 |                0 |                       0 |                        0 | 'channel_101_read_12_complement' |                         0 |                                     0 |                                    0 |                                   0 |                                   0 |                          0 |                  0 |                         0 |                          0 | 'channel_101_read_12_2D' |                 0 |                             0 |                            0 |                           0 |                           0 |                  0 |          0 |                 0 |                  0 | 'channel_101_read_12_template' |                           0 |                                       0 |                                      0 |                                     0 |                                     0 |                            0 |                    0 |                           0 |                            0 | 'channel_101_read_12_complement' |                             0 |                                         0 |                                        0 |                                       0 |                                       0 |                              0 |                      0 |                             0 |                              0 | 'channel_101_read_12_2D' |                     0 |                                 0 |                                0 |                               0 |                               0 |                      0 |              0 |                     0 |                      0 | 'channel_101_read_12_template' |                           0 |                                       0 |                                      0 |                                     0 |                                     0 |                            0 |                    0 |                           0 |                            0 | 'channel_101_read_12_complement' |                             0 |                                         0 |                                        0 |                                       0 |                                       0 |                              0 |                      0 |                             0 |                              0 | 'channel_101_read_12_2D' |                     0 |                                 0 |                                0 |                               0 |                               0 |                      0 |              0 |                     0 |                      0 |\n",
        "+-----------------------------------------------------------------------------------------------------------------------------------------+----------------------+------------------+---------------+-------------+-----------+----------------+--------------------+-----------------+------------------+--------------------------+--------------------------------------------+---------------+---------------------+---------------------+-----------------------+---------------+------------------------+--------------------------+------------------+--------------------+--------------------+-----------------------+---------------------+-------------------------+-----------------------+-----------------------------------+--------------------------------+-------------------------------+-------------------------------+---------------------------------+----------------------------------+-------------------------------------+----------------------------------+---------------------------------+---------------------------------+-----------------------------------+------------------------------------+---------------------------+-------------------------------+------------------------------------+---------------------------------------+--------------------------------------+-----------------------------------------+----------------------------------+---------------------------------+---------------------------------------------+--------------------------------------------+-------------------------------------------+-------------------------------------------+----------------------------------+--------------------------+---------------------------------+----------------------------------+------------------------------------+-----------------------------------+-----------------------------------------------+----------------------------------------------+---------------------------------------------+---------------------------------------------+------------------------------------+----------------------------+-----------------------------------+------------------------------------+----------------------------+---------------------------+---------------------------------------+--------------------------------------+-------------------------------------+-------------------------------------+----------------------------+--------------------+---------------------------+----------------------------+--------------------------------+-------------------------+-------------------------------------+------------------------------------+-----------------------------------+-----------------------------------+--------------------------+------------------+-------------------------+--------------------------+----------------------------------+---------------------------+---------------------------------------+--------------------------------------+-------------------------------------+-------------------------------------+----------------------------+--------------------+---------------------------+----------------------------+--------------------------+-------------------+-------------------------------+------------------------------+-----------------------------+-----------------------------+--------------------+------------+-------------------+--------------------+--------------------------------+-----------------------------+-----------------------------------------+----------------------------------------+---------------------------------------+---------------------------------------+------------------------------+----------------------+-----------------------------+------------------------------+----------------------------------+-------------------------------+-------------------------------------------+------------------------------------------+-----------------------------------------+-----------------------------------------+--------------------------------+------------------------+-------------------------------+--------------------------------+--------------------------+-----------------------+-----------------------------------+----------------------------------+---------------------------------+---------------------------------+------------------------+----------------+-----------------------+------------------------+--------------------------------+-----------------------------+-----------------------------------------+----------------------------------------+---------------------------------------+---------------------------------------+------------------------------+----------------------+-----------------------------+------------------------------+----------------------------------+-------------------------------+-------------------------------------------+------------------------------------------+-----------------------------------------+-----------------------------------------+--------------------------------+------------------------+-------------------------------+--------------------------------+--------------------------+-----------------------+-----------------------------------+----------------------------------+---------------------------------+---------------------------------+------------------------+----------------+-----------------------+------------------------+\n",
        "| '/data/minion/PROCESSED_DATA/KWIAT50/expt01_workflow_1_9_1/KWIAT50_K50_expt01_std_lambda_DNA_140619_A_4429_1_ch101_file17_strand.fast5' | 'Too few events'     |              101 |            16 | 'MN02837'   | '50349'   | ''             | 37.600000000000001 |           35.75 |       1403178270 | '0.45.1.6 b201406111512' | '8752daf03928c6f48c7f5da5b812fc2f5f901821' | True          | True                | False               | False                 | False         |                      0 |                        0 |                0 | 5661.7402000000002 | 12.298399999999674 |                   0.0 |                 0.0 |                     0.0 |                   0.0 |                                 0 |                              0 |                             0 |                             0 |                             0.0 |                              0.0 |                                   0 |                                0 |                               0 |                               0 |                               0.0 |                                0.0 |                       0.0 |                             0 |                                  0 |                                     0 |                                    0 |                                       0 | 'channel_101_read_16_template'   |                               0 |                                           0 |                                          0 |                                         0 |                                         0 |                                0 |                        0 |                               0 |                                0 | 'channel_101_read_16_complement'   |                                 0 |                                             0 |                                            0 |                                           0 |                                           0 |                                  0 |                          0 |                                 0 |                                  0 | 'channel_101_read_16_2D'   |                         0 |                                     0 |                                    0 |                                   0 |                                   0 |                          0 |                  0 |                         0 |                          0 | 'channel_101_read_16_template' |                       0 |                                   0 |                                  0 |                                 0 |                                 0 |                        0 |                0 |                       0 |                        0 | 'channel_101_read_16_complement' |                         0 |                                     0 |                                    0 |                                   0 |                                   0 |                          0 |                  0 |                         0 |                          0 | 'channel_101_read_16_2D' |                 0 |                             0 |                            0 |                           0 |                           0 |                  0 |          0 |                 0 |                  0 | 'channel_101_read_16_template' |                           0 |                                       0 |                                      0 |                                     0 |                                     0 |                            0 |                    0 |                           0 |                            0 | 'channel_101_read_16_complement' |                             0 |                                         0 |                                        0 |                                       0 |                                       0 |                              0 |                      0 |                             0 |                              0 | 'channel_101_read_16_2D' |                     0 |                                 0 |                                0 |                               0 |                               0 |                      0 |              0 |                     0 |                      0 | 'channel_101_read_16_template' |                           0 |                                       0 |                                      0 |                                     0 |                                     0 |                            0 |                    0 |                           0 |                            0 | 'channel_101_read_16_complement' |                             0 |                                         0 |                                        0 |                                       0 |                                       0 |                              0 |                      0 |                             0 |                              0 | 'channel_101_read_16_2D' |                     0 |                                 0 |                                0 |                               0 |                               0 |                      0 |              0 |                     0 |                      0 |\n",
        "+-----------------------------------------------------------------------------------------------------------------------------------------+----------------------+------------------+---------------+-------------+-----------+----------------+--------------------+-----------------+------------------+--------------------------+--------------------------------------------+---------------+---------------------+---------------------+-----------------------+---------------+------------------------+--------------------------+------------------+--------------------+--------------------+-----------------------+---------------------+-------------------------+-----------------------+-----------------------------------+--------------------------------+-------------------------------+-------------------------------+---------------------------------+----------------------------------+-------------------------------------+----------------------------------+---------------------------------+---------------------------------+-----------------------------------+------------------------------------+---------------------------+-------------------------------+------------------------------------+---------------------------------------+--------------------------------------+-----------------------------------------+----------------------------------+---------------------------------+---------------------------------------------+--------------------------------------------+-------------------------------------------+-------------------------------------------+----------------------------------+--------------------------+---------------------------------+----------------------------------+------------------------------------+-----------------------------------+-----------------------------------------------+----------------------------------------------+---------------------------------------------+---------------------------------------------+------------------------------------+----------------------------+-----------------------------------+------------------------------------+----------------------------+---------------------------+---------------------------------------+--------------------------------------+-------------------------------------+-------------------------------------+----------------------------+--------------------+---------------------------+----------------------------+--------------------------------+-------------------------+-------------------------------------+------------------------------------+-----------------------------------+-----------------------------------+--------------------------+------------------+-------------------------+--------------------------+----------------------------------+---------------------------+---------------------------------------+--------------------------------------+-------------------------------------+-------------------------------------+----------------------------+--------------------+---------------------------+----------------------------+--------------------------+-------------------+-------------------------------+------------------------------+-----------------------------+-----------------------------+--------------------+------------+-------------------+--------------------+--------------------------------+-----------------------------+-----------------------------------------+----------------------------------------+---------------------------------------+---------------------------------------+------------------------------+----------------------+-----------------------------+------------------------------+----------------------------------+-------------------------------+-------------------------------------------+------------------------------------------+-----------------------------------------+-----------------------------------------+--------------------------------+------------------------+-------------------------------+--------------------------------+--------------------------+-----------------------+-----------------------------------+----------------------------------+---------------------------------+---------------------------------+------------------------+----------------+-----------------------+------------------------+--------------------------------+-----------------------------+-----------------------------------------+----------------------------------------+---------------------------------------+---------------------------------------+------------------------------+----------------------+-----------------------------+------------------------------+----------------------------------+-------------------------------+-------------------------------------------+------------------------------------------+-----------------------------------------+-----------------------------------------+--------------------------------+------------------------+-------------------------------+--------------------------------+--------------------------+-----------------------+-----------------------------------+----------------------------------+---------------------------------+---------------------------------+------------------------+----------------+-----------------------+------------------------+\n"
       ]
      }
     ],
     "prompt_number": 279
    },
    {
     "cell_type": "code",
     "collapsed": false,
     "input": [
      "read_summary_tables['expt01_workflow_1_9_1'].select(lambda rec: rec['fragments_ont_lambda_2D'] > 0).head(3)"
     ],
     "language": "python",
     "metadata": {},
     "outputs": [
      {
       "html": [
        "<table>\r\n",
        "<thead>\r\n",
        "<tr>\r\n",
        "<th>fast5_filename</th>\r\n",
        "<th>read_type_from_log</th>\r\n",
        "<th>channel_number</th>\r\n",
        "<th>read_number</th>\r\n",
        "<th>device_id</th>\r\n",
        "<th>asic_id</th>\r\n",
        "<th>flow_cell_id</th>\r\n",
        "<th>asic_temp</th>\r\n",
        "<th>heatsink_temp</th>\r\n",
        "<th>exp_start_time</th>\r\n",
        "<th>version_name</th>\r\n",
        "<th>run_id</th>\r\n",
        "<th>is_analysed</th>\r\n",
        "<th>is_base_called_2d</th>\r\n",
        "<th>has_template_read</th>\r\n",
        "<th>has_complement_read</th>\r\n",
        "<th>has_2D_read</th>\r\n",
        "<th>read_length_template</th>\r\n",
        "<th>read_length_complement</th>\r\n",
        "<th>read_length_2D</th>\r\n",
        "<th>start_time_read</th>\r\n",
        "<th>duration_read</th>\r\n",
        "<th>start_time_template</th>\r\n",
        "<th>duration_template</th>\r\n",
        "<th>start_time_complement</th>\r\n",
        "<th>duration_complement</th>\r\n",
        "<th>basecall_called_events_template</th>\r\n",
        "<th>basecall_num_events_template</th>\r\n",
        "<th>basecall_num_skips_template</th>\r\n",
        "<th>basecall_num_stays_template</th>\r\n",
        "<th>basecall_mean_qscore_template</th>\r\n",
        "<th>basecall_strand_score_template</th>\r\n",
        "<th>basecall_called_events_complement</th>\r\n",
        "<th>basecall_num_events_complement</th>\r\n",
        "<th>basecall_num_skips_complement</th>\r\n",
        "<th>basecall_num_stays_complement</th>\r\n",
        "<th>basecall_mean_qscore_complement</th>\r\n",
        "<th>basecall_strand_score_complement</th>\r\n",
        "<th>basecall_mean_qscore_2D</th>\r\n",
        "<th>basecall_sequence_length_2D</th>\r\n",
        "<th>basecall_num_raw_events_template</th>\r\n",
        "<th>basecall_num_merged_events_template</th>\r\n",
        "<th>basecall_num_raw_events_complement</th>\r\n",
        "<th>basecall_num_merged_events_complement</th>\r\n",
        "<th>read_names_ont_lambda_template</th>\r\n",
        "<th>fragments_ont_lambda_template</th>\r\n",
        "<th>total_fragment_length_ont_lambda_template</th>\r\n",
        "<th>mean_fragment_length_ont_lambda_template</th>\r\n",
        "<th>min_fragment_length_ont_lambda_template</th>\r\n",
        "<th>max_fragment_length_ont_lambda_template</th>\r\n",
        "<th>mismatches_ont_lambda_template</th>\r\n",
        "<th>Ns_ont_lambda_template</th>\r\n",
        "<th>deletions_ont_lambda_template</th>\r\n",
        "<th>insertions_ont_lambda_template</th>\r\n",
        "<th>read_names_ont_lambda_complement</th>\r\n",
        "<th>fragments_ont_lambda_complement</th>\r\n",
        "<th>total_fragment_length_ont_lambda_complement</th>\r\n",
        "<th>mean_fragment_length_ont_lambda_complement</th>\r\n",
        "<th>min_fragment_length_ont_lambda_complement</th>\r\n",
        "<th>max_fragment_length_ont_lambda_complement</th>\r\n",
        "<th>mismatches_ont_lambda_complement</th>\r\n",
        "<th>Ns_ont_lambda_complement</th>\r\n",
        "<th>deletions_ont_lambda_complement</th>\r\n",
        "<th>insertions_ont_lambda_complement</th>\r\n",
        "<th>read_names_ont_lambda_2D</th>\r\n",
        "<th>fragments_ont_lambda_2D</th>\r\n",
        "<th>total_fragment_length_ont_lambda_2D</th>\r\n",
        "<th>mean_fragment_length_ont_lambda_2D</th>\r\n",
        "<th>min_fragment_length_ont_lambda_2D</th>\r\n",
        "<th>max_fragment_length_ont_lambda_2D</th>\r\n",
        "<th>mismatches_ont_lambda_2D</th>\r\n",
        "<th>Ns_ont_lambda_2D</th>\r\n",
        "<th>deletions_ont_lambda_2D</th>\r\n",
        "<th>insertions_ont_lambda_2D</th>\r\n",
        "<th>read_names_cs_template</th>\r\n",
        "<th>fragments_cs_template</th>\r\n",
        "<th>total_fragment_length_cs_template</th>\r\n",
        "<th>mean_fragment_length_cs_template</th>\r\n",
        "<th>min_fragment_length_cs_template</th>\r\n",
        "<th>max_fragment_length_cs_template</th>\r\n",
        "<th>mismatches_cs_template</th>\r\n",
        "<th>Ns_cs_template</th>\r\n",
        "<th>deletions_cs_template</th>\r\n",
        "<th>insertions_cs_template</th>\r\n",
        "<th>read_names_cs_complement</th>\r\n",
        "<th>fragments_cs_complement</th>\r\n",
        "<th>total_fragment_length_cs_complement</th>\r\n",
        "<th>mean_fragment_length_cs_complement</th>\r\n",
        "<th>min_fragment_length_cs_complement</th>\r\n",
        "<th>max_fragment_length_cs_complement</th>\r\n",
        "<th>mismatches_cs_complement</th>\r\n",
        "<th>Ns_cs_complement</th>\r\n",
        "<th>deletions_cs_complement</th>\r\n",
        "<th>insertions_cs_complement</th>\r\n",
        "<th>read_names_cs_2D</th>\r\n",
        "<th>fragments_cs_2D</th>\r\n",
        "<th>total_fragment_length_cs_2D</th>\r\n",
        "<th>mean_fragment_length_cs_2D</th>\r\n",
        "<th>min_fragment_length_cs_2D</th>\r\n",
        "<th>max_fragment_length_cs_2D</th>\r\n",
        "<th>mismatches_cs_2D</th>\r\n",
        "<th>Ns_cs_2D</th>\r\n",
        "<th>deletions_cs_2D</th>\r\n",
        "<th>insertions_cs_2D</th>\r\n",
        "<th>read_names_3D7_V3_template</th>\r\n",
        "<th>fragments_3D7_V3_template</th>\r\n",
        "<th>total_fragment_length_3D7_V3_template</th>\r\n",
        "<th>mean_fragment_length_3D7_V3_template</th>\r\n",
        "<th>min_fragment_length_3D7_V3_template</th>\r\n",
        "<th>max_fragment_length_3D7_V3_template</th>\r\n",
        "<th>mismatches_3D7_V3_template</th>\r\n",
        "<th>Ns_3D7_V3_template</th>\r\n",
        "<th>deletions_3D7_V3_template</th>\r\n",
        "<th>insertions_3D7_V3_template</th>\r\n",
        "<th>read_names_3D7_V3_complement</th>\r\n",
        "<th>fragments_3D7_V3_complement</th>\r\n",
        "<th>total_fragment_length_3D7_V3_complement</th>\r\n",
        "<th>mean_fragment_length_3D7_V3_complement</th>\r\n",
        "<th>min_fragment_length_3D7_V3_complement</th>\r\n",
        "<th>max_fragment_length_3D7_V3_complement</th>\r\n",
        "<th>mismatches_3D7_V3_complement</th>\r\n",
        "<th>Ns_3D7_V3_complement</th>\r\n",
        "<th>deletions_3D7_V3_complement</th>\r\n",
        "<th>insertions_3D7_V3_complement</th>\r\n",
        "<th>read_names_3D7_V3_2D</th>\r\n",
        "<th>fragments_3D7_V3_2D</th>\r\n",
        "<th>total_fragment_length_3D7_V3_2D</th>\r\n",
        "<th>mean_fragment_length_3D7_V3_2D</th>\r\n",
        "<th>min_fragment_length_3D7_V3_2D</th>\r\n",
        "<th>max_fragment_length_3D7_V3_2D</th>\r\n",
        "<th>mismatches_3D7_V3_2D</th>\r\n",
        "<th>Ns_3D7_V3_2D</th>\r\n",
        "<th>deletions_3D7_V3_2D</th>\r\n",
        "<th>insertions_3D7_V3_2D</th>\r\n",
        "<th>read_names_AgamP3_template</th>\r\n",
        "<th>fragments_AgamP3_template</th>\r\n",
        "<th>total_fragment_length_AgamP3_template</th>\r\n",
        "<th>mean_fragment_length_AgamP3_template</th>\r\n",
        "<th>min_fragment_length_AgamP3_template</th>\r\n",
        "<th>max_fragment_length_AgamP3_template</th>\r\n",
        "<th>mismatches_AgamP3_template</th>\r\n",
        "<th>Ns_AgamP3_template</th>\r\n",
        "<th>deletions_AgamP3_template</th>\r\n",
        "<th>insertions_AgamP3_template</th>\r\n",
        "<th>read_names_AgamP3_complement</th>\r\n",
        "<th>fragments_AgamP3_complement</th>\r\n",
        "<th>total_fragment_length_AgamP3_complement</th>\r\n",
        "<th>mean_fragment_length_AgamP3_complement</th>\r\n",
        "<th>min_fragment_length_AgamP3_complement</th>\r\n",
        "<th>max_fragment_length_AgamP3_complement</th>\r\n",
        "<th>mismatches_AgamP3_complement</th>\r\n",
        "<th>Ns_AgamP3_complement</th>\r\n",
        "<th>deletions_AgamP3_complement</th>\r\n",
        "<th>insertions_AgamP3_complement</th>\r\n",
        "<th>read_names_AgamP3_2D</th>\r\n",
        "<th>fragments_AgamP3_2D</th>\r\n",
        "<th>total_fragment_length_AgamP3_2D</th>\r\n",
        "<th>mean_fragment_length_AgamP3_2D</th>\r\n",
        "<th>min_fragment_length_AgamP3_2D</th>\r\n",
        "<th>max_fragment_length_AgamP3_2D</th>\r\n",
        "<th>mismatches_AgamP3_2D</th>\r\n",
        "<th>Ns_AgamP3_2D</th>\r\n",
        "<th>deletions_AgamP3_2D</th>\r\n",
        "<th>insertions_AgamP3_2D</th>\r\n",
        "</tr>\r\n",
        "</thead>\r\n",
        "<tbody>\r\n",
        "<tr>\r\n",
        "<td>/data/minion/PROCESSED_DATA/KWIAT50/expt01_workflow_1_9_1/KWIAT50_K50_expt01_std_lambda_DNA_140619_A_4429_1_ch102_file11_strand.fast5</td>\r\n",
        "<td>2D basecalling successful</td>\r\n",
        "<td style='text-align: right'>102</td>\r\n",
        "<td style='text-align: right'>11</td>\r\n",
        "<td>MN02837</td>\r\n",
        "<td>50349</td>\r\n",
        "<td></td>\r\n",
        "<td style='text-align: right'>37.6</td>\r\n",
        "<td style='text-align: right'>35.75</td>\r\n",
        "<td style='text-align: right'>1403178270</td>\r\n",
        "<td>0.45.1.6 b201406111512</td>\r\n",
        "<td>8752daf03928c6f48c7f5da5b812fc2f5f901821</td>\r\n",
        "<td>True</td>\r\n",
        "<td>True</td>\r\n",
        "<td>True</td>\r\n",
        "<td>True</td>\r\n",
        "<td>True</td>\r\n",
        "<td style='text-align: right'>12026</td>\r\n",
        "<td style='text-align: right'>9597</td>\r\n",
        "<td style='text-align: right'>12260</td>\r\n",
        "<td style='text-align: right'>1717.6172</td>\r\n",
        "<td style='text-align: right'>873.8914</td>\r\n",
        "<td style='text-align: right'>1721.9808</td>\r\n",
        "<td style='text-align: right'>520.2396</td>\r\n",
        "<td style='text-align: right'>2244.5382</td>\r\n",
        "<td style='text-align: right'>346.3326</td>\r\n",
        "<td style='text-align: right'>11269</td>\r\n",
        "<td style='text-align: right'>11324</td>\r\n",
        "<td style='text-align: right'>962</td>\r\n",
        "<td style='text-align: right'>210</td>\r\n",
        "<td style='text-align: right'>7.23141526692</td>\r\n",
        "<td style='text-align: right'>2.35605821352</td>\r\n",
        "<td style='text-align: right'>9846</td>\r\n",
        "<td style='text-align: right'>9875</td>\r\n",
        "<td style='text-align: right'>300</td>\r\n",
        "<td style='text-align: right'>554</td>\r\n",
        "<td style='text-align: right'>4.89298739189</td>\r\n",
        "<td style='text-align: right'>3.18024711881</td>\r\n",
        "<td style='text-align: right'>7.97177814029</td>\r\n",
        "<td style='text-align: right'>12260</td>\r\n",
        "<td style='text-align: right'>11414</td>\r\n",
        "<td style='text-align: right'>11324</td>\r\n",
        "<td style='text-align: right'>9919</td>\r\n",
        "<td style='text-align: right'>9875</td>\r\n",
        "<td>channel_102_read_11_template</td>\r\n",
        "<td style='text-align: right'>1</td>\r\n",
        "<td style='text-align: right'>11999</td>\r\n",
        "<td style='text-align: right'>11999.0</td>\r\n",
        "<td style='text-align: right'>11999</td>\r\n",
        "<td style='text-align: right'>11999</td>\r\n",
        "<td style='text-align: right'>4201</td>\r\n",
        "<td style='text-align: right'>0</td>\r\n",
        "<td style='text-align: right'>1685</td>\r\n",
        "<td style='text-align: right'>461</td>\r\n",
        "<td>channel_102_read_11_complement</td>\r\n",
        "<td style='text-align: right'>0</td>\r\n",
        "<td style='text-align: right'>0</td>\r\n",
        "<td style='text-align: right'>0</td>\r\n",
        "<td style='text-align: right'>0</td>\r\n",
        "<td style='text-align: right'>0</td>\r\n",
        "<td style='text-align: right'>0</td>\r\n",
        "<td style='text-align: right'>0</td>\r\n",
        "<td style='text-align: right'>0</td>\r\n",
        "<td style='text-align: right'>0</td>\r\n",
        "<td>channel_102_read_11_2D</td>\r\n",
        "<td style='text-align: right'>1</td>\r\n",
        "<td style='text-align: right'>12026</td>\r\n",
        "<td style='text-align: right'>12026.0</td>\r\n",
        "<td style='text-align: right'>12026</td>\r\n",
        "<td style='text-align: right'>12026</td>\r\n",
        "<td style='text-align: right'>4839</td>\r\n",
        "<td style='text-align: right'>1256</td>\r\n",
        "<td style='text-align: right'>1536</td>\r\n",
        "<td style='text-align: right'>585</td>\r\n",
        "<td>channel_102_read_11_template</td>\r\n",
        "<td style='text-align: right'>0</td>\r\n",
        "<td style='text-align: right'>0</td>\r\n",
        "<td style='text-align: right'>0</td>\r\n",
        "<td style='text-align: right'>0</td>\r\n",
        "<td style='text-align: right'>0</td>\r\n",
        "<td style='text-align: right'>0</td>\r\n",
        "<td style='text-align: right'>0</td>\r\n",
        "<td style='text-align: right'>0</td>\r\n",
        "<td style='text-align: right'>0</td>\r\n",
        "<td>channel_102_read_11_complement</td>\r\n",
        "<td style='text-align: right'>0</td>\r\n",
        "<td style='text-align: right'>0</td>\r\n",
        "<td style='text-align: right'>0</td>\r\n",
        "<td style='text-align: right'>0</td>\r\n",
        "<td style='text-align: right'>0</td>\r\n",
        "<td style='text-align: right'>0</td>\r\n",
        "<td style='text-align: right'>0</td>\r\n",
        "<td style='text-align: right'>0</td>\r\n",
        "<td style='text-align: right'>0</td>\r\n",
        "<td>channel_102_read_11_2D</td>\r\n",
        "<td style='text-align: right'>0</td>\r\n",
        "<td style='text-align: right'>0</td>\r\n",
        "<td style='text-align: right'>0</td>\r\n",
        "<td style='text-align: right'>0</td>\r\n",
        "<td style='text-align: right'>0</td>\r\n",
        "<td style='text-align: right'>0</td>\r\n",
        "<td style='text-align: right'>0</td>\r\n",
        "<td style='text-align: right'>0</td>\r\n",
        "<td style='text-align: right'>0</td>\r\n",
        "<td>channel_102_read_11_template</td>\r\n",
        "<td style='text-align: right'>0</td>\r\n",
        "<td style='text-align: right'>0</td>\r\n",
        "<td style='text-align: right'>0</td>\r\n",
        "<td style='text-align: right'>0</td>\r\n",
        "<td style='text-align: right'>0</td>\r\n",
        "<td style='text-align: right'>0</td>\r\n",
        "<td style='text-align: right'>0</td>\r\n",
        "<td style='text-align: right'>0</td>\r\n",
        "<td style='text-align: right'>0</td>\r\n",
        "<td>channel_102_read_11_complement</td>\r\n",
        "<td style='text-align: right'>0</td>\r\n",
        "<td style='text-align: right'>0</td>\r\n",
        "<td style='text-align: right'>0</td>\r\n",
        "<td style='text-align: right'>0</td>\r\n",
        "<td style='text-align: right'>0</td>\r\n",
        "<td style='text-align: right'>0</td>\r\n",
        "<td style='text-align: right'>0</td>\r\n",
        "<td style='text-align: right'>0</td>\r\n",
        "<td style='text-align: right'>0</td>\r\n",
        "<td>channel_102_read_11_2D</td>\r\n",
        "<td style='text-align: right'>0</td>\r\n",
        "<td style='text-align: right'>0</td>\r\n",
        "<td style='text-align: right'>0</td>\r\n",
        "<td style='text-align: right'>0</td>\r\n",
        "<td style='text-align: right'>0</td>\r\n",
        "<td style='text-align: right'>0</td>\r\n",
        "<td style='text-align: right'>0</td>\r\n",
        "<td style='text-align: right'>0</td>\r\n",
        "<td style='text-align: right'>0</td>\r\n",
        "<td>channel_102_read_11_template</td>\r\n",
        "<td style='text-align: right'>0</td>\r\n",
        "<td style='text-align: right'>0</td>\r\n",
        "<td style='text-align: right'>0</td>\r\n",
        "<td style='text-align: right'>0</td>\r\n",
        "<td style='text-align: right'>0</td>\r\n",
        "<td style='text-align: right'>0</td>\r\n",
        "<td style='text-align: right'>0</td>\r\n",
        "<td style='text-align: right'>0</td>\r\n",
        "<td style='text-align: right'>0</td>\r\n",
        "<td>channel_102_read_11_complement</td>\r\n",
        "<td style='text-align: right'>0</td>\r\n",
        "<td style='text-align: right'>0</td>\r\n",
        "<td style='text-align: right'>0</td>\r\n",
        "<td style='text-align: right'>0</td>\r\n",
        "<td style='text-align: right'>0</td>\r\n",
        "<td style='text-align: right'>0</td>\r\n",
        "<td style='text-align: right'>0</td>\r\n",
        "<td style='text-align: right'>0</td>\r\n",
        "<td style='text-align: right'>0</td>\r\n",
        "<td>channel_102_read_11_2D</td>\r\n",
        "<td style='text-align: right'>0</td>\r\n",
        "<td style='text-align: right'>0</td>\r\n",
        "<td style='text-align: right'>0</td>\r\n",
        "<td style='text-align: right'>0</td>\r\n",
        "<td style='text-align: right'>0</td>\r\n",
        "<td style='text-align: right'>0</td>\r\n",
        "<td style='text-align: right'>0</td>\r\n",
        "<td style='text-align: right'>0</td>\r\n",
        "<td style='text-align: right'>0</td>\r\n",
        "</tr>\r\n",
        "<tr>\r\n",
        "<td>/data/minion/PROCESSED_DATA/KWIAT50/expt01_workflow_1_9_1/KWIAT50_K50_expt01_std_lambda_DNA_140619_A_4429_1_ch102_file24_strand.fast5</td>\r\n",
        "<td>2D basecalling successful</td>\r\n",
        "<td style='text-align: right'>102</td>\r\n",
        "<td style='text-align: right'>24</td>\r\n",
        "<td>MN02837</td>\r\n",
        "<td>50349</td>\r\n",
        "<td></td>\r\n",
        "<td style='text-align: right'>37.6</td>\r\n",
        "<td style='text-align: right'>35.75</td>\r\n",
        "<td style='text-align: right'>1403178270</td>\r\n",
        "<td>0.45.1.6 b201406111512</td>\r\n",
        "<td>8752daf03928c6f48c7f5da5b812fc2f5f901821</td>\r\n",
        "<td>True</td>\r\n",
        "<td>True</td>\r\n",
        "<td>True</td>\r\n",
        "<td>True</td>\r\n",
        "<td>True</td>\r\n",
        "<td style='text-align: right'>6254</td>\r\n",
        "<td style='text-align: right'>4963</td>\r\n",
        "<td style='text-align: right'>5455</td>\r\n",
        "<td style='text-align: right'>6886.9374</td>\r\n",
        "<td style='text-align: right'>896.672</td>\r\n",
        "<td style='text-align: right'>6894.1524</td>\r\n",
        "<td style='text-align: right'>537.9574</td>\r\n",
        "<td style='text-align: right'>7436.3112</td>\r\n",
        "<td style='text-align: right'>346.863</td>\r\n",
        "<td style='text-align: right'>6779</td>\r\n",
        "<td style='text-align: right'>6832</td>\r\n",
        "<td style='text-align: right'>306</td>\r\n",
        "<td style='text-align: right'>836</td>\r\n",
        "<td style='text-align: right'>6.30268628078</td>\r\n",
        "<td style='text-align: right'>2.1524101375</td>\r\n",
        "<td style='text-align: right'>6442</td>\r\n",
        "<td style='text-align: right'>6457</td>\r\n",
        "<td style='text-align: right'>140</td>\r\n",
        "<td style='text-align: right'>1624</td>\r\n",
        "<td style='text-align: right'>4.52669756196</td>\r\n",
        "<td style='text-align: right'>2.91089367971</td>\r\n",
        "<td style='text-align: right'>7.12868927589</td>\r\n",
        "<td style='text-align: right'>5455</td>\r\n",
        "<td style='text-align: right'>7241</td>\r\n",
        "<td style='text-align: right'>6832</td>\r\n",
        "<td style='text-align: right'>6629</td>\r\n",
        "<td style='text-align: right'>6457</td>\r\n",
        "<td>channel_102_read_24_template</td>\r\n",
        "<td style='text-align: right'>1</td>\r\n",
        "<td style='text-align: right'>6213</td>\r\n",
        "<td style='text-align: right'>6213.0</td>\r\n",
        "<td style='text-align: right'>6213</td>\r\n",
        "<td style='text-align: right'>6213</td>\r\n",
        "<td style='text-align: right'>2304</td>\r\n",
        "<td style='text-align: right'>0</td>\r\n",
        "<td style='text-align: right'>727</td>\r\n",
        "<td style='text-align: right'>408</td>\r\n",
        "<td>channel_102_read_24_complement</td>\r\n",
        "<td style='text-align: right'>0</td>\r\n",
        "<td style='text-align: right'>0</td>\r\n",
        "<td style='text-align: right'>0</td>\r\n",
        "<td style='text-align: right'>0</td>\r\n",
        "<td style='text-align: right'>0</td>\r\n",
        "<td style='text-align: right'>0</td>\r\n",
        "<td style='text-align: right'>0</td>\r\n",
        "<td style='text-align: right'>0</td>\r\n",
        "<td style='text-align: right'>0</td>\r\n",
        "<td>channel_102_read_24_2D</td>\r\n",
        "<td style='text-align: right'>2</td>\r\n",
        "<td style='text-align: right'>1768</td>\r\n",
        "<td style='text-align: right'>884.0</td>\r\n",
        "<td style='text-align: right'>833</td>\r\n",
        "<td style='text-align: right'>935</td>\r\n",
        "<td style='text-align: right'>878</td>\r\n",
        "<td style='text-align: right'>202</td>\r\n",
        "<td style='text-align: right'>377</td>\r\n",
        "<td style='text-align: right'>66</td>\r\n",
        "<td>channel_102_read_24_template</td>\r\n",
        "<td style='text-align: right'>0</td>\r\n",
        "<td style='text-align: right'>0</td>\r\n",
        "<td style='text-align: right'>0</td>\r\n",
        "<td style='text-align: right'>0</td>\r\n",
        "<td style='text-align: right'>0</td>\r\n",
        "<td style='text-align: right'>0</td>\r\n",
        "<td style='text-align: right'>0</td>\r\n",
        "<td style='text-align: right'>0</td>\r\n",
        "<td style='text-align: right'>0</td>\r\n",
        "<td>channel_102_read_24_complement</td>\r\n",
        "<td style='text-align: right'>0</td>\r\n",
        "<td style='text-align: right'>0</td>\r\n",
        "<td style='text-align: right'>0</td>\r\n",
        "<td style='text-align: right'>0</td>\r\n",
        "<td style='text-align: right'>0</td>\r\n",
        "<td style='text-align: right'>0</td>\r\n",
        "<td style='text-align: right'>0</td>\r\n",
        "<td style='text-align: right'>0</td>\r\n",
        "<td style='text-align: right'>0</td>\r\n",
        "<td>channel_102_read_24_2D</td>\r\n",
        "<td style='text-align: right'>0</td>\r\n",
        "<td style='text-align: right'>0</td>\r\n",
        "<td style='text-align: right'>0</td>\r\n",
        "<td style='text-align: right'>0</td>\r\n",
        "<td style='text-align: right'>0</td>\r\n",
        "<td style='text-align: right'>0</td>\r\n",
        "<td style='text-align: right'>0</td>\r\n",
        "<td style='text-align: right'>0</td>\r\n",
        "<td style='text-align: right'>0</td>\r\n",
        "<td>channel_102_read_24_template</td>\r\n",
        "<td style='text-align: right'>0</td>\r\n",
        "<td style='text-align: right'>0</td>\r\n",
        "<td style='text-align: right'>0</td>\r\n",
        "<td style='text-align: right'>0</td>\r\n",
        "<td style='text-align: right'>0</td>\r\n",
        "<td style='text-align: right'>0</td>\r\n",
        "<td style='text-align: right'>0</td>\r\n",
        "<td style='text-align: right'>0</td>\r\n",
        "<td style='text-align: right'>0</td>\r\n",
        "<td>channel_102_read_24_complement</td>\r\n",
        "<td style='text-align: right'>0</td>\r\n",
        "<td style='text-align: right'>0</td>\r\n",
        "<td style='text-align: right'>0</td>\r\n",
        "<td style='text-align: right'>0</td>\r\n",
        "<td style='text-align: right'>0</td>\r\n",
        "<td style='text-align: right'>0</td>\r\n",
        "<td style='text-align: right'>0</td>\r\n",
        "<td style='text-align: right'>0</td>\r\n",
        "<td style='text-align: right'>0</td>\r\n",
        "<td>channel_102_read_24_2D</td>\r\n",
        "<td style='text-align: right'>0</td>\r\n",
        "<td style='text-align: right'>0</td>\r\n",
        "<td style='text-align: right'>0</td>\r\n",
        "<td style='text-align: right'>0</td>\r\n",
        "<td style='text-align: right'>0</td>\r\n",
        "<td style='text-align: right'>0</td>\r\n",
        "<td style='text-align: right'>0</td>\r\n",
        "<td style='text-align: right'>0</td>\r\n",
        "<td style='text-align: right'>0</td>\r\n",
        "<td>channel_102_read_24_template</td>\r\n",
        "<td style='text-align: right'>0</td>\r\n",
        "<td style='text-align: right'>0</td>\r\n",
        "<td style='text-align: right'>0</td>\r\n",
        "<td style='text-align: right'>0</td>\r\n",
        "<td style='text-align: right'>0</td>\r\n",
        "<td style='text-align: right'>0</td>\r\n",
        "<td style='text-align: right'>0</td>\r\n",
        "<td style='text-align: right'>0</td>\r\n",
        "<td style='text-align: right'>0</td>\r\n",
        "<td>channel_102_read_24_complement</td>\r\n",
        "<td style='text-align: right'>0</td>\r\n",
        "<td style='text-align: right'>0</td>\r\n",
        "<td style='text-align: right'>0</td>\r\n",
        "<td style='text-align: right'>0</td>\r\n",
        "<td style='text-align: right'>0</td>\r\n",
        "<td style='text-align: right'>0</td>\r\n",
        "<td style='text-align: right'>0</td>\r\n",
        "<td style='text-align: right'>0</td>\r\n",
        "<td style='text-align: right'>0</td>\r\n",
        "<td>channel_102_read_24_2D</td>\r\n",
        "<td style='text-align: right'>0</td>\r\n",
        "<td style='text-align: right'>0</td>\r\n",
        "<td style='text-align: right'>0</td>\r\n",
        "<td style='text-align: right'>0</td>\r\n",
        "<td style='text-align: right'>0</td>\r\n",
        "<td style='text-align: right'>0</td>\r\n",
        "<td style='text-align: right'>0</td>\r\n",
        "<td style='text-align: right'>0</td>\r\n",
        "<td style='text-align: right'>0</td>\r\n",
        "</tr>\r\n",
        "<tr>\r\n",
        "<td>/data/minion/PROCESSED_DATA/KWIAT50/expt01_workflow_1_9_1/KWIAT50_K50_expt01_std_lambda_DNA_140619_A_4429_1_ch103_file13_strand.fast5</td>\r\n",
        "<td>2D basecalling successful</td>\r\n",
        "<td style='text-align: right'>103</td>\r\n",
        "<td style='text-align: right'>12</td>\r\n",
        "<td>MN02837</td>\r\n",
        "<td>50349</td>\r\n",
        "<td></td>\r\n",
        "<td style='text-align: right'>37.6</td>\r\n",
        "<td style='text-align: right'>35.75</td>\r\n",
        "<td style='text-align: right'>1403178270</td>\r\n",
        "<td>0.45.1.6 b201406111512</td>\r\n",
        "<td>8752daf03928c6f48c7f5da5b812fc2f5f901821</td>\r\n",
        "<td>True</td>\r\n",
        "<td>True</td>\r\n",
        "<td>True</td>\r\n",
        "<td>True</td>\r\n",
        "<td>True</td>\r\n",
        "<td style='text-align: right'>8027</td>\r\n",
        "<td style='text-align: right'>5722</td>\r\n",
        "<td style='text-align: right'>6461</td>\r\n",
        "<td style='text-align: right'>6744.712</td>\r\n",
        "<td style='text-align: right'>1300.3766</td>\r\n",
        "<td style='text-align: right'>6753.3318</td>\r\n",
        "<td style='text-align: right'>807.0882</td>\r\n",
        "<td style='text-align: right'>7564.2436</td>\r\n",
        "<td style='text-align: right'>480.5992</td>\r\n",
        "<td style='text-align: right'>9980</td>\r\n",
        "<td style='text-align: right'>10015</td>\r\n",
        "<td style='text-align: right'>298</td>\r\n",
        "<td style='text-align: right'>2256</td>\r\n",
        "<td style='text-align: right'>6.85449109256</td>\r\n",
        "<td style='text-align: right'>2.21163601472</td>\r\n",
        "<td style='text-align: right'>9479</td>\r\n",
        "<td style='text-align: right'>9494</td>\r\n",
        "<td style='text-align: right'>131</td>\r\n",
        "<td style='text-align: right'>3893</td>\r\n",
        "<td style='text-align: right'>5.18996854247</td>\r\n",
        "<td style='text-align: right'>2.61120772749</td>\r\n",
        "<td style='text-align: right'>7.07692307692</td>\r\n",
        "<td style='text-align: right'>6461</td>\r\n",
        "<td style='text-align: right'>10796</td>\r\n",
        "<td style='text-align: right'>10015</td>\r\n",
        "<td style='text-align: right'>9748</td>\r\n",
        "<td style='text-align: right'>9494</td>\r\n",
        "<td>channel_103_read_12_template</td>\r\n",
        "<td style='text-align: right'>1</td>\r\n",
        "<td style='text-align: right'>7995</td>\r\n",
        "<td style='text-align: right'>7995.0</td>\r\n",
        "<td style='text-align: right'>7995</td>\r\n",
        "<td style='text-align: right'>7995</td>\r\n",
        "<td style='text-align: right'>3096</td>\r\n",
        "<td style='text-align: right'>0</td>\r\n",
        "<td style='text-align: right'>1281</td>\r\n",
        "<td style='text-align: right'>353</td>\r\n",
        "<td>channel_103_read_12_complement</td>\r\n",
        "<td style='text-align: right'>0</td>\r\n",
        "<td style='text-align: right'>0</td>\r\n",
        "<td style='text-align: right'>0</td>\r\n",
        "<td style='text-align: right'>0</td>\r\n",
        "<td style='text-align: right'>0</td>\r\n",
        "<td style='text-align: right'>0</td>\r\n",
        "<td style='text-align: right'>0</td>\r\n",
        "<td style='text-align: right'>0</td>\r\n",
        "<td style='text-align: right'>0</td>\r\n",
        "<td>channel_103_read_12_2D</td>\r\n",
        "<td style='text-align: right'>1</td>\r\n",
        "<td style='text-align: right'>454</td>\r\n",
        "<td style='text-align: right'>454.0</td>\r\n",
        "<td style='text-align: right'>454</td>\r\n",
        "<td style='text-align: right'>454</td>\r\n",
        "<td style='text-align: right'>235</td>\r\n",
        "<td style='text-align: right'>57</td>\r\n",
        "<td style='text-align: right'>133</td>\r\n",
        "<td style='text-align: right'>6</td>\r\n",
        "<td>channel_103_read_12_template</td>\r\n",
        "<td style='text-align: right'>1</td>\r\n",
        "<td style='text-align: right'>3049</td>\r\n",
        "<td style='text-align: right'>3049.0</td>\r\n",
        "<td style='text-align: right'>3049</td>\r\n",
        "<td style='text-align: right'>3049</td>\r\n",
        "<td style='text-align: right'>1133</td>\r\n",
        "<td style='text-align: right'>0</td>\r\n",
        "<td style='text-align: right'>460</td>\r\n",
        "<td style='text-align: right'>139</td>\r\n",
        "<td>channel_103_read_12_complement</td>\r\n",
        "<td style='text-align: right'>0</td>\r\n",
        "<td style='text-align: right'>0</td>\r\n",
        "<td style='text-align: right'>0</td>\r\n",
        "<td style='text-align: right'>0</td>\r\n",
        "<td style='text-align: right'>0</td>\r\n",
        "<td style='text-align: right'>0</td>\r\n",
        "<td style='text-align: right'>0</td>\r\n",
        "<td style='text-align: right'>0</td>\r\n",
        "<td style='text-align: right'>0</td>\r\n",
        "<td>channel_103_read_12_2D</td>\r\n",
        "<td style='text-align: right'>1</td>\r\n",
        "<td style='text-align: right'>454</td>\r\n",
        "<td style='text-align: right'>454.0</td>\r\n",
        "<td style='text-align: right'>454</td>\r\n",
        "<td style='text-align: right'>454</td>\r\n",
        "<td style='text-align: right'>234</td>\r\n",
        "<td style='text-align: right'>57</td>\r\n",
        "<td style='text-align: right'>133</td>\r\n",
        "<td style='text-align: right'>6</td>\r\n",
        "<td>channel_103_read_12_template</td>\r\n",
        "<td style='text-align: right'>0</td>\r\n",
        "<td style='text-align: right'>0</td>\r\n",
        "<td style='text-align: right'>0</td>\r\n",
        "<td style='text-align: right'>0</td>\r\n",
        "<td style='text-align: right'>0</td>\r\n",
        "<td style='text-align: right'>0</td>\r\n",
        "<td style='text-align: right'>0</td>\r\n",
        "<td style='text-align: right'>0</td>\r\n",
        "<td style='text-align: right'>0</td>\r\n",
        "<td>channel_103_read_12_complement</td>\r\n",
        "<td style='text-align: right'>0</td>\r\n",
        "<td style='text-align: right'>0</td>\r\n",
        "<td style='text-align: right'>0</td>\r\n",
        "<td style='text-align: right'>0</td>\r\n",
        "<td style='text-align: right'>0</td>\r\n",
        "<td style='text-align: right'>0</td>\r\n",
        "<td style='text-align: right'>0</td>\r\n",
        "<td style='text-align: right'>0</td>\r\n",
        "<td style='text-align: right'>0</td>\r\n",
        "<td>channel_103_read_12_2D</td>\r\n",
        "<td style='text-align: right'>0</td>\r\n",
        "<td style='text-align: right'>0</td>\r\n",
        "<td style='text-align: right'>0</td>\r\n",
        "<td style='text-align: right'>0</td>\r\n",
        "<td style='text-align: right'>0</td>\r\n",
        "<td style='text-align: right'>0</td>\r\n",
        "<td style='text-align: right'>0</td>\r\n",
        "<td style='text-align: right'>0</td>\r\n",
        "<td style='text-align: right'>0</td>\r\n",
        "<td>channel_103_read_12_template</td>\r\n",
        "<td style='text-align: right'>0</td>\r\n",
        "<td style='text-align: right'>0</td>\r\n",
        "<td style='text-align: right'>0</td>\r\n",
        "<td style='text-align: right'>0</td>\r\n",
        "<td style='text-align: right'>0</td>\r\n",
        "<td style='text-align: right'>0</td>\r\n",
        "<td style='text-align: right'>0</td>\r\n",
        "<td style='text-align: right'>0</td>\r\n",
        "<td style='text-align: right'>0</td>\r\n",
        "<td>channel_103_read_12_complement</td>\r\n",
        "<td style='text-align: right'>0</td>\r\n",
        "<td style='text-align: right'>0</td>\r\n",
        "<td style='text-align: right'>0</td>\r\n",
        "<td style='text-align: right'>0</td>\r\n",
        "<td style='text-align: right'>0</td>\r\n",
        "<td style='text-align: right'>0</td>\r\n",
        "<td style='text-align: right'>0</td>\r\n",
        "<td style='text-align: right'>0</td>\r\n",
        "<td style='text-align: right'>0</td>\r\n",
        "<td>channel_103_read_12_2D</td>\r\n",
        "<td style='text-align: right'>0</td>\r\n",
        "<td style='text-align: right'>0</td>\r\n",
        "<td style='text-align: right'>0</td>\r\n",
        "<td style='text-align: right'>0</td>\r\n",
        "<td style='text-align: right'>0</td>\r\n",
        "<td style='text-align: right'>0</td>\r\n",
        "<td style='text-align: right'>0</td>\r\n",
        "<td style='text-align: right'>0</td>\r\n",
        "<td style='text-align: right'>0</td>\r\n",
        "</tr>\r\n",
        "</tbody>\r\n",
        "</table>\r\n"
       ],
       "metadata": {},
       "output_type": "pyout",
       "prompt_number": 219,
       "text": [
        "+-----------------------------------------------------------------------------------------------------------------------------------------+-----------------------------+------------------+---------------+-------------+-----------+----------------+--------------------+-----------------+------------------+--------------------------+--------------------------------------------+---------------+---------------------+---------------------+-----------------------+---------------+------------------------+--------------------------+------------------+--------------------+--------------------+-----------------------+---------------------+-------------------------+-----------------------+-----------------------------------+--------------------------------+-------------------------------+-------------------------------+---------------------------------+----------------------------------+-------------------------------------+----------------------------------+---------------------------------+---------------------------------+-----------------------------------+------------------------------------+---------------------------+-------------------------------+------------------------------------+---------------------------------------+--------------------------------------+-----------------------------------------+----------------------------------+---------------------------------+---------------------------------------------+--------------------------------------------+-------------------------------------------+-------------------------------------------+----------------------------------+--------------------------+---------------------------------+----------------------------------+------------------------------------+-----------------------------------+-----------------------------------------------+----------------------------------------------+---------------------------------------------+---------------------------------------------+------------------------------------+----------------------------+-----------------------------------+------------------------------------+----------------------------+---------------------------+---------------------------------------+--------------------------------------+-------------------------------------+-------------------------------------+----------------------------+--------------------+---------------------------+----------------------------+--------------------------------+-------------------------+-------------------------------------+------------------------------------+-----------------------------------+-----------------------------------+--------------------------+------------------+-------------------------+--------------------------+----------------------------------+---------------------------+---------------------------------------+--------------------------------------+-------------------------------------+-------------------------------------+----------------------------+--------------------+---------------------------+----------------------------+--------------------------+-------------------+-------------------------------+------------------------------+-----------------------------+-----------------------------+--------------------+------------+-------------------+--------------------+--------------------------------+-----------------------------+-----------------------------------------+----------------------------------------+---------------------------------------+---------------------------------------+------------------------------+----------------------+-----------------------------+------------------------------+----------------------------------+-------------------------------+-------------------------------------------+------------------------------------------+-----------------------------------------+-----------------------------------------+--------------------------------+------------------------+-------------------------------+--------------------------------+--------------------------+-----------------------+-----------------------------------+----------------------------------+---------------------------------+---------------------------------+------------------------+----------------+-----------------------+------------------------+--------------------------------+-----------------------------+-----------------------------------------+----------------------------------------+---------------------------------------+---------------------------------------+------------------------------+----------------------+-----------------------------+------------------------------+----------------------------------+-------------------------------+-------------------------------------------+------------------------------------------+-----------------------------------------+-----------------------------------------+--------------------------------+------------------------+-------------------------------+--------------------------------+--------------------------+-----------------------+-----------------------------------+----------------------------------+---------------------------------+---------------------------------+------------------------+----------------+-----------------------+------------------------+\n",
        "| 'fast5_filename'                                                                                                                        | 'read_type_from_log'        | 'channel_number' | 'read_number' | 'device_id' | 'asic_id' | 'flow_cell_id' | 'asic_temp'        | 'heatsink_temp' | 'exp_start_time' | 'version_name'           | 'run_id'                                   | 'is_analysed' | 'is_base_called_2d' | 'has_template_read' | 'has_complement_read' | 'has_2D_read' | 'read_length_template' | 'read_length_complement' | 'read_length_2D' | 'start_time_read'  | 'duration_read'    | 'start_time_template' | 'duration_template' | 'start_time_complement' | 'duration_complement' | 'basecall_called_events_template' | 'basecall_num_events_template' | 'basecall_num_skips_template' | 'basecall_num_stays_template' | 'basecall_mean_qscore_template' | 'basecall_strand_score_template' | 'basecall_called_events_complement' | 'basecall_num_events_complement' | 'basecall_num_skips_complement' | 'basecall_num_stays_complement' | 'basecall_mean_qscore_complement' | 'basecall_strand_score_complement' | 'basecall_mean_qscore_2D' | 'basecall_sequence_length_2D' | 'basecall_num_raw_events_template' | 'basecall_num_merged_events_template' | 'basecall_num_raw_events_complement' | 'basecall_num_merged_events_complement' | 'read_names_ont_lambda_template' | 'fragments_ont_lambda_template' | 'total_fragment_length_ont_lambda_template' | 'mean_fragment_length_ont_lambda_template' | 'min_fragment_length_ont_lambda_template' | 'max_fragment_length_ont_lambda_template' | 'mismatches_ont_lambda_template' | 'Ns_ont_lambda_template' | 'deletions_ont_lambda_template' | 'insertions_ont_lambda_template' | 'read_names_ont_lambda_complement' | 'fragments_ont_lambda_complement' | 'total_fragment_length_ont_lambda_complement' | 'mean_fragment_length_ont_lambda_complement' | 'min_fragment_length_ont_lambda_complement' | 'max_fragment_length_ont_lambda_complement' | 'mismatches_ont_lambda_complement' | 'Ns_ont_lambda_complement' | 'deletions_ont_lambda_complement' | 'insertions_ont_lambda_complement' | 'read_names_ont_lambda_2D' | 'fragments_ont_lambda_2D' | 'total_fragment_length_ont_lambda_2D' | 'mean_fragment_length_ont_lambda_2D' | 'min_fragment_length_ont_lambda_2D' | 'max_fragment_length_ont_lambda_2D' | 'mismatches_ont_lambda_2D' | 'Ns_ont_lambda_2D' | 'deletions_ont_lambda_2D' | 'insertions_ont_lambda_2D' | 'read_names_cs_template'       | 'fragments_cs_template' | 'total_fragment_length_cs_template' | 'mean_fragment_length_cs_template' | 'min_fragment_length_cs_template' | 'max_fragment_length_cs_template' | 'mismatches_cs_template' | 'Ns_cs_template' | 'deletions_cs_template' | 'insertions_cs_template' | 'read_names_cs_complement'       | 'fragments_cs_complement' | 'total_fragment_length_cs_complement' | 'mean_fragment_length_cs_complement' | 'min_fragment_length_cs_complement' | 'max_fragment_length_cs_complement' | 'mismatches_cs_complement' | 'Ns_cs_complement' | 'deletions_cs_complement' | 'insertions_cs_complement' | 'read_names_cs_2D'       | 'fragments_cs_2D' | 'total_fragment_length_cs_2D' | 'mean_fragment_length_cs_2D' | 'min_fragment_length_cs_2D' | 'max_fragment_length_cs_2D' | 'mismatches_cs_2D' | 'Ns_cs_2D' | 'deletions_cs_2D' | 'insertions_cs_2D' | 'read_names_3D7_V3_template'   | 'fragments_3D7_V3_template' | 'total_fragment_length_3D7_V3_template' | 'mean_fragment_length_3D7_V3_template' | 'min_fragment_length_3D7_V3_template' | 'max_fragment_length_3D7_V3_template' | 'mismatches_3D7_V3_template' | 'Ns_3D7_V3_template' | 'deletions_3D7_V3_template' | 'insertions_3D7_V3_template' | 'read_names_3D7_V3_complement'   | 'fragments_3D7_V3_complement' | 'total_fragment_length_3D7_V3_complement' | 'mean_fragment_length_3D7_V3_complement' | 'min_fragment_length_3D7_V3_complement' | 'max_fragment_length_3D7_V3_complement' | 'mismatches_3D7_V3_complement' | 'Ns_3D7_V3_complement' | 'deletions_3D7_V3_complement' | 'insertions_3D7_V3_complement' | 'read_names_3D7_V3_2D'   | 'fragments_3D7_V3_2D' | 'total_fragment_length_3D7_V3_2D' | 'mean_fragment_length_3D7_V3_2D' | 'min_fragment_length_3D7_V3_2D' | 'max_fragment_length_3D7_V3_2D' | 'mismatches_3D7_V3_2D' | 'Ns_3D7_V3_2D' | 'deletions_3D7_V3_2D' | 'insertions_3D7_V3_2D' | 'read_names_AgamP3_template'   | 'fragments_AgamP3_template' | 'total_fragment_length_AgamP3_template' | 'mean_fragment_length_AgamP3_template' | 'min_fragment_length_AgamP3_template' | 'max_fragment_length_AgamP3_template' | 'mismatches_AgamP3_template' | 'Ns_AgamP3_template' | 'deletions_AgamP3_template' | 'insertions_AgamP3_template' | 'read_names_AgamP3_complement'   | 'fragments_AgamP3_complement' | 'total_fragment_length_AgamP3_complement' | 'mean_fragment_length_AgamP3_complement' | 'min_fragment_length_AgamP3_complement' | 'max_fragment_length_AgamP3_complement' | 'mismatches_AgamP3_complement' | 'Ns_AgamP3_complement' | 'deletions_AgamP3_complement' | 'insertions_AgamP3_complement' | 'read_names_AgamP3_2D'   | 'fragments_AgamP3_2D' | 'total_fragment_length_AgamP3_2D' | 'mean_fragment_length_AgamP3_2D' | 'min_fragment_length_AgamP3_2D' | 'max_fragment_length_AgamP3_2D' | 'mismatches_AgamP3_2D' | 'Ns_AgamP3_2D' | 'deletions_AgamP3_2D' | 'insertions_AgamP3_2D' |\n",
        "+=========================================================================================================================================+=============================+==================+===============+=============+===========+================+====================+=================+==================+==========================+============================================+===============+=====================+=====================+=======================+===============+========================+==========================+==================+====================+====================+=======================+=====================+=========================+=======================+===================================+================================+===============================+===============================+=================================+==================================+=====================================+==================================+=================================+=================================+===================================+====================================+===========================+===============================+====================================+=======================================+======================================+=========================================+==================================+=================================+=============================================+============================================+===========================================+===========================================+==================================+==========================+=================================+==================================+====================================+===================================+===============================================+==============================================+=============================================+=============================================+====================================+============================+===================================+====================================+============================+===========================+=======================================+======================================+=====================================+=====================================+============================+====================+===========================+============================+================================+=========================+=====================================+====================================+===================================+===================================+==========================+==================+=========================+==========================+==================================+===========================+=======================================+======================================+=====================================+=====================================+============================+====================+===========================+============================+==========================+===================+===============================+==============================+=============================+=============================+====================+============+===================+====================+================================+=============================+=========================================+========================================+=======================================+=======================================+==============================+======================+=============================+==============================+==================================+===============================+===========================================+==========================================+=========================================+=========================================+================================+========================+===============================+================================+==========================+=======================+===================================+==================================+=================================+=================================+========================+================+=======================+========================+================================+=============================+=========================================+========================================+=======================================+=======================================+==============================+======================+=============================+==============================+==================================+===============================+===========================================+==========================================+=========================================+=========================================+================================+========================+===============================+================================+==========================+=======================+===================================+==================================+=================================+=================================+========================+================+=======================+========================+\n",
        "| '/data/minion/PROCESSED_DATA/KWIAT50/expt01_workflow_1_9_1/KWIAT50_K50_expt01_std_lambda_DNA_140619_A_4429_1_ch102_file11_strand.fast5' | '2D basecalling successful' |              102 |            11 | 'MN02837'   | '50349'   | ''             | 37.600000000000001 |           35.75 |       1403178270 | '0.45.1.6 b201406111512' | '8752daf03928c6f48c7f5da5b812fc2f5f901821' | True          | True                | True                | True                  | True          |                  12026 |                     9597 |            12260 | 1717.6172000000001 | 873.89139999999998 |             1721.9808 |  520.23960000000011 |               2244.5382 |    346.33260000000018 |                             11269 |                          11324 |                           962 |                           210 |              7.2314152669216698 |               2.3560582135236778 |                                9846 |                             9875 |                             300 |                             554 |                4.8929873918932998 |                 3.1802471188056431 |        7.9717781402936376 |                         12260 |                              11414 |                                 11324 |                                 9919 |                                    9875 | 'channel_102_read_11_template'   |                               1 |                                       11999 |                                    11999.0 |                                     11999 |                                     11999 |                             4201 |                        0 |                            1685 |                              461 | 'channel_102_read_11_complement'   |                                 0 |                                             0 |                                            0 |                                           0 |                                           0 |                                  0 |                          0 |                                 0 |                                  0 | 'channel_102_read_11_2D'   |                         1 |                                 12026 |                              12026.0 |                               12026 |                               12026 |                       4839 |               1256 |                      1536 |                        585 | 'channel_102_read_11_template' |                       0 |                                   0 |                                  0 |                                 0 |                                 0 |                        0 |                0 |                       0 |                        0 | 'channel_102_read_11_complement' |                         0 |                                     0 |                                    0 |                                   0 |                                   0 |                          0 |                  0 |                         0 |                          0 | 'channel_102_read_11_2D' |                 0 |                             0 |                            0 |                           0 |                           0 |                  0 |          0 |                 0 |                  0 | 'channel_102_read_11_template' |                           0 |                                       0 |                                      0 |                                     0 |                                     0 |                            0 |                    0 |                           0 |                            0 | 'channel_102_read_11_complement' |                             0 |                                         0 |                                        0 |                                       0 |                                       0 |                              0 |                      0 |                             0 |                              0 | 'channel_102_read_11_2D' |                     0 |                                 0 |                                0 |                               0 |                               0 |                      0 |              0 |                     0 |                      0 | 'channel_102_read_11_template' |                           0 |                                       0 |                                      0 |                                     0 |                                     0 |                            0 |                    0 |                           0 |                            0 | 'channel_102_read_11_complement' |                             0 |                                         0 |                                        0 |                                       0 |                                       0 |                              0 |                      0 |                             0 |                              0 | 'channel_102_read_11_2D' |                     0 |                                 0 |                                0 |                               0 |                               0 |                      0 |              0 |                     0 |                      0 |\n",
        "+-----------------------------------------------------------------------------------------------------------------------------------------+-----------------------------+------------------+---------------+-------------+-----------+----------------+--------------------+-----------------+------------------+--------------------------+--------------------------------------------+---------------+---------------------+---------------------+-----------------------+---------------+------------------------+--------------------------+------------------+--------------------+--------------------+-----------------------+---------------------+-------------------------+-----------------------+-----------------------------------+--------------------------------+-------------------------------+-------------------------------+---------------------------------+----------------------------------+-------------------------------------+----------------------------------+---------------------------------+---------------------------------+-----------------------------------+------------------------------------+---------------------------+-------------------------------+------------------------------------+---------------------------------------+--------------------------------------+-----------------------------------------+----------------------------------+---------------------------------+---------------------------------------------+--------------------------------------------+-------------------------------------------+-------------------------------------------+----------------------------------+--------------------------+---------------------------------+----------------------------------+------------------------------------+-----------------------------------+-----------------------------------------------+----------------------------------------------+---------------------------------------------+---------------------------------------------+------------------------------------+----------------------------+-----------------------------------+------------------------------------+----------------------------+---------------------------+---------------------------------------+--------------------------------------+-------------------------------------+-------------------------------------+----------------------------+--------------------+---------------------------+----------------------------+--------------------------------+-------------------------+-------------------------------------+------------------------------------+-----------------------------------+-----------------------------------+--------------------------+------------------+-------------------------+--------------------------+----------------------------------+---------------------------+---------------------------------------+--------------------------------------+-------------------------------------+-------------------------------------+----------------------------+--------------------+---------------------------+----------------------------+--------------------------+-------------------+-------------------------------+------------------------------+-----------------------------+-----------------------------+--------------------+------------+-------------------+--------------------+--------------------------------+-----------------------------+-----------------------------------------+----------------------------------------+---------------------------------------+---------------------------------------+------------------------------+----------------------+-----------------------------+------------------------------+----------------------------------+-------------------------------+-------------------------------------------+------------------------------------------+-----------------------------------------+-----------------------------------------+--------------------------------+------------------------+-------------------------------+--------------------------------+--------------------------+-----------------------+-----------------------------------+----------------------------------+---------------------------------+---------------------------------+------------------------+----------------+-----------------------+------------------------+--------------------------------+-----------------------------+-----------------------------------------+----------------------------------------+---------------------------------------+---------------------------------------+------------------------------+----------------------+-----------------------------+------------------------------+----------------------------------+-------------------------------+-------------------------------------------+------------------------------------------+-----------------------------------------+-----------------------------------------+--------------------------------+------------------------+-------------------------------+--------------------------------+--------------------------+-----------------------+-----------------------------------+----------------------------------+---------------------------------+---------------------------------+------------------------+----------------+-----------------------+------------------------+\n",
        "| '/data/minion/PROCESSED_DATA/KWIAT50/expt01_workflow_1_9_1/KWIAT50_K50_expt01_std_lambda_DNA_140619_A_4429_1_ch102_file24_strand.fast5' | '2D basecalling successful' |              102 |            24 | 'MN02837'   | '50349'   | ''             | 37.600000000000001 |           35.75 |       1403178270 | '0.45.1.6 b201406111512' | '8752daf03928c6f48c7f5da5b812fc2f5f901821' | True          | True                | True                | True                  | True          |                   6254 |                     4963 |             5455 | 6886.9374000000007 | 896.67199999999957 |    6894.1523999999999 |  537.95740000000023 |      7436.3112000000001 |    346.86300000000028 |                              6779 |                           6832 |                           306 |                           836 |              6.3026862807803008 |               2.1524101374964464 |                                6442 |                             6457 |                             140 |                            1624 |                4.5266975619584926 |                 2.9108936797123119 |        7.1286892758936755 |                          5455 |                               7241 |                                  6832 |                                 6629 |                                    6457 | 'channel_102_read_24_template'   |                               1 |                                        6213 |                                     6213.0 |                                      6213 |                                      6213 |                             2304 |                        0 |                             727 |                              408 | 'channel_102_read_24_complement'   |                                 0 |                                             0 |                                            0 |                                           0 |                                           0 |                                  0 |                          0 |                                 0 |                                  0 | 'channel_102_read_24_2D'   |                         2 |                                  1768 |                                884.0 |                                 833 |                                 935 |                        878 |                202 |                       377 |                         66 | 'channel_102_read_24_template' |                       0 |                                   0 |                                  0 |                                 0 |                                 0 |                        0 |                0 |                       0 |                        0 | 'channel_102_read_24_complement' |                         0 |                                     0 |                                    0 |                                   0 |                                   0 |                          0 |                  0 |                         0 |                          0 | 'channel_102_read_24_2D' |                 0 |                             0 |                            0 |                           0 |                           0 |                  0 |          0 |                 0 |                  0 | 'channel_102_read_24_template' |                           0 |                                       0 |                                      0 |                                     0 |                                     0 |                            0 |                    0 |                           0 |                            0 | 'channel_102_read_24_complement' |                             0 |                                         0 |                                        0 |                                       0 |                                       0 |                              0 |                      0 |                             0 |                              0 | 'channel_102_read_24_2D' |                     0 |                                 0 |                                0 |                               0 |                               0 |                      0 |              0 |                     0 |                      0 | 'channel_102_read_24_template' |                           0 |                                       0 |                                      0 |                                     0 |                                     0 |                            0 |                    0 |                           0 |                            0 | 'channel_102_read_24_complement' |                             0 |                                         0 |                                        0 |                                       0 |                                       0 |                              0 |                      0 |                             0 |                              0 | 'channel_102_read_24_2D' |                     0 |                                 0 |                                0 |                               0 |                               0 |                      0 |              0 |                     0 |                      0 |\n",
        "+-----------------------------------------------------------------------------------------------------------------------------------------+-----------------------------+------------------+---------------+-------------+-----------+----------------+--------------------+-----------------+------------------+--------------------------+--------------------------------------------+---------------+---------------------+---------------------+-----------------------+---------------+------------------------+--------------------------+------------------+--------------------+--------------------+-----------------------+---------------------+-------------------------+-----------------------+-----------------------------------+--------------------------------+-------------------------------+-------------------------------+---------------------------------+----------------------------------+-------------------------------------+----------------------------------+---------------------------------+---------------------------------+-----------------------------------+------------------------------------+---------------------------+-------------------------------+------------------------------------+---------------------------------------+--------------------------------------+-----------------------------------------+----------------------------------+---------------------------------+---------------------------------------------+--------------------------------------------+-------------------------------------------+-------------------------------------------+----------------------------------+--------------------------+---------------------------------+----------------------------------+------------------------------------+-----------------------------------+-----------------------------------------------+----------------------------------------------+---------------------------------------------+---------------------------------------------+------------------------------------+----------------------------+-----------------------------------+------------------------------------+----------------------------+---------------------------+---------------------------------------+--------------------------------------+-------------------------------------+-------------------------------------+----------------------------+--------------------+---------------------------+----------------------------+--------------------------------+-------------------------+-------------------------------------+------------------------------------+-----------------------------------+-----------------------------------+--------------------------+------------------+-------------------------+--------------------------+----------------------------------+---------------------------+---------------------------------------+--------------------------------------+-------------------------------------+-------------------------------------+----------------------------+--------------------+---------------------------+----------------------------+--------------------------+-------------------+-------------------------------+------------------------------+-----------------------------+-----------------------------+--------------------+------------+-------------------+--------------------+--------------------------------+-----------------------------+-----------------------------------------+----------------------------------------+---------------------------------------+---------------------------------------+------------------------------+----------------------+-----------------------------+------------------------------+----------------------------------+-------------------------------+-------------------------------------------+------------------------------------------+-----------------------------------------+-----------------------------------------+--------------------------------+------------------------+-------------------------------+--------------------------------+--------------------------+-----------------------+-----------------------------------+----------------------------------+---------------------------------+---------------------------------+------------------------+----------------+-----------------------+------------------------+--------------------------------+-----------------------------+-----------------------------------------+----------------------------------------+---------------------------------------+---------------------------------------+------------------------------+----------------------+-----------------------------+------------------------------+----------------------------------+-------------------------------+-------------------------------------------+------------------------------------------+-----------------------------------------+-----------------------------------------+--------------------------------+------------------------+-------------------------------+--------------------------------+--------------------------+-----------------------+-----------------------------------+----------------------------------+---------------------------------+---------------------------------+------------------------+----------------+-----------------------+------------------------+\n",
        "| '/data/minion/PROCESSED_DATA/KWIAT50/expt01_workflow_1_9_1/KWIAT50_K50_expt01_std_lambda_DNA_140619_A_4429_1_ch103_file13_strand.fast5' | '2D basecalling successful' |              103 |            12 | 'MN02837'   | '50349'   | ''             | 37.600000000000001 |           35.75 |       1403178270 | '0.45.1.6 b201406111512' | '8752daf03928c6f48c7f5da5b812fc2f5f901821' | True          | True                | True                | True                  | True          |                   8027 |                     5722 |             6461 | 6744.7120000000004 | 1300.3765999999996 |    6753.3317999999999 |  807.08820000000014 |      7564.2436000000007 |    480.59919999999966 |                              9980 |                          10015 |                           298 |                          2256 |              6.8544910925626015 |               2.2116360147239842 |                                9479 |                             9494 |                             131 |                            3893 |                5.1899685424676685 |                 2.6112077274866041 |        7.0769230769230766 |                          6461 |                              10796 |                                 10015 |                                 9748 |                                    9494 | 'channel_103_read_12_template'   |                               1 |                                        7995 |                                     7995.0 |                                      7995 |                                      7995 |                             3096 |                        0 |                            1281 |                              353 | 'channel_103_read_12_complement'   |                                 0 |                                             0 |                                            0 |                                           0 |                                           0 |                                  0 |                          0 |                                 0 |                                  0 | 'channel_103_read_12_2D'   |                         1 |                                   454 |                                454.0 |                                 454 |                                 454 |                        235 |                 57 |                       133 |                          6 | 'channel_103_read_12_template' |                       1 |                                3049 |                             3049.0 |                              3049 |                              3049 |                     1133 |                0 |                     460 |                      139 | 'channel_103_read_12_complement' |                         0 |                                     0 |                                    0 |                                   0 |                                   0 |                          0 |                  0 |                         0 |                          0 | 'channel_103_read_12_2D' |                 1 |                           454 |                        454.0 |                         454 |                         454 |                234 |         57 |               133 |                  6 | 'channel_103_read_12_template' |                           0 |                                       0 |                                      0 |                                     0 |                                     0 |                            0 |                    0 |                           0 |                            0 | 'channel_103_read_12_complement' |                             0 |                                         0 |                                        0 |                                       0 |                                       0 |                              0 |                      0 |                             0 |                              0 | 'channel_103_read_12_2D' |                     0 |                                 0 |                                0 |                               0 |                               0 |                      0 |              0 |                     0 |                      0 | 'channel_103_read_12_template' |                           0 |                                       0 |                                      0 |                                     0 |                                     0 |                            0 |                    0 |                           0 |                            0 | 'channel_103_read_12_complement' |                             0 |                                         0 |                                        0 |                                       0 |                                       0 |                              0 |                      0 |                             0 |                              0 | 'channel_103_read_12_2D' |                     0 |                                 0 |                                0 |                               0 |                               0 |                      0 |              0 |                     0 |                      0 |\n",
        "+-----------------------------------------------------------------------------------------------------------------------------------------+-----------------------------+------------------+---------------+-------------+-----------+----------------+--------------------+-----------------+------------------+--------------------------+--------------------------------------------+---------------+---------------------+---------------------+-----------------------+---------------+------------------------+--------------------------+------------------+--------------------+--------------------+-----------------------+---------------------+-------------------------+-----------------------+-----------------------------------+--------------------------------+-------------------------------+-------------------------------+---------------------------------+----------------------------------+-------------------------------------+----------------------------------+---------------------------------+---------------------------------+-----------------------------------+------------------------------------+---------------------------+-------------------------------+------------------------------------+---------------------------------------+--------------------------------------+-----------------------------------------+----------------------------------+---------------------------------+---------------------------------------------+--------------------------------------------+-------------------------------------------+-------------------------------------------+----------------------------------+--------------------------+---------------------------------+----------------------------------+------------------------------------+-----------------------------------+-----------------------------------------------+----------------------------------------------+---------------------------------------------+---------------------------------------------+------------------------------------+----------------------------+-----------------------------------+------------------------------------+----------------------------+---------------------------+---------------------------------------+--------------------------------------+-------------------------------------+-------------------------------------+----------------------------+--------------------+---------------------------+----------------------------+--------------------------------+-------------------------+-------------------------------------+------------------------------------+-----------------------------------+-----------------------------------+--------------------------+------------------+-------------------------+--------------------------+----------------------------------+---------------------------+---------------------------------------+--------------------------------------+-------------------------------------+-------------------------------------+----------------------------+--------------------+---------------------------+----------------------------+--------------------------+-------------------+-------------------------------+------------------------------+-----------------------------+-----------------------------+--------------------+------------+-------------------+--------------------+--------------------------------+-----------------------------+-----------------------------------------+----------------------------------------+---------------------------------------+---------------------------------------+------------------------------+----------------------+-----------------------------+------------------------------+----------------------------------+-------------------------------+-------------------------------------------+------------------------------------------+-----------------------------------------+-----------------------------------------+--------------------------------+------------------------+-------------------------------+--------------------------------+--------------------------+-----------------------+-----------------------------------+----------------------------------+---------------------------------+---------------------------------+------------------------+----------------+-----------------------+------------------------+--------------------------------+-----------------------------+-----------------------------------------+----------------------------------------+---------------------------------------+---------------------------------------+------------------------------+----------------------+-----------------------------+------------------------------+----------------------------------+-------------------------------+-------------------------------------------+------------------------------------------+-----------------------------------------+-----------------------------------------+--------------------------------+------------------------+-------------------------------+--------------------------------+--------------------------+-----------------------+-----------------------------------+----------------------------------+---------------------------------+---------------------------------+------------------------+----------------+-----------------------+------------------------+\n"
       ]
      }
     ],
     "prompt_number": 219
    },
    {
     "cell_type": "code",
     "collapsed": false,
     "input": [
      "read_summary_tables['expt01_workflow_1_9_1'].select(lambda rec: rec['fragments_cs_2D'] > 0).head(3)"
     ],
     "language": "python",
     "metadata": {},
     "outputs": [
      {
       "html": [
        "<table>\r\n",
        "<thead>\r\n",
        "<tr>\r\n",
        "<th>fast5_filename</th>\r\n",
        "<th>read_type_from_log</th>\r\n",
        "<th>channel_number</th>\r\n",
        "<th>read_number</th>\r\n",
        "<th>device_id</th>\r\n",
        "<th>asic_id</th>\r\n",
        "<th>flow_cell_id</th>\r\n",
        "<th>asic_temp</th>\r\n",
        "<th>heatsink_temp</th>\r\n",
        "<th>exp_start_time</th>\r\n",
        "<th>version_name</th>\r\n",
        "<th>run_id</th>\r\n",
        "<th>is_analysed</th>\r\n",
        "<th>is_base_called_2d</th>\r\n",
        "<th>has_template_read</th>\r\n",
        "<th>has_complement_read</th>\r\n",
        "<th>has_2D_read</th>\r\n",
        "<th>read_length_template</th>\r\n",
        "<th>read_length_complement</th>\r\n",
        "<th>read_length_2D</th>\r\n",
        "<th>start_time_read</th>\r\n",
        "<th>duration_read</th>\r\n",
        "<th>start_time_template</th>\r\n",
        "<th>duration_template</th>\r\n",
        "<th>start_time_complement</th>\r\n",
        "<th>duration_complement</th>\r\n",
        "<th>basecall_called_events_template</th>\r\n",
        "<th>basecall_num_events_template</th>\r\n",
        "<th>basecall_num_skips_template</th>\r\n",
        "<th>basecall_num_stays_template</th>\r\n",
        "<th>basecall_mean_qscore_template</th>\r\n",
        "<th>basecall_strand_score_template</th>\r\n",
        "<th>basecall_called_events_complement</th>\r\n",
        "<th>basecall_num_events_complement</th>\r\n",
        "<th>basecall_num_skips_complement</th>\r\n",
        "<th>basecall_num_stays_complement</th>\r\n",
        "<th>basecall_mean_qscore_complement</th>\r\n",
        "<th>basecall_strand_score_complement</th>\r\n",
        "<th>basecall_mean_qscore_2D</th>\r\n",
        "<th>basecall_sequence_length_2D</th>\r\n",
        "<th>basecall_num_raw_events_template</th>\r\n",
        "<th>basecall_num_merged_events_template</th>\r\n",
        "<th>basecall_num_raw_events_complement</th>\r\n",
        "<th>basecall_num_merged_events_complement</th>\r\n",
        "<th>read_names_ont_lambda_template</th>\r\n",
        "<th>fragments_ont_lambda_template</th>\r\n",
        "<th>total_fragment_length_ont_lambda_template</th>\r\n",
        "<th>mean_fragment_length_ont_lambda_template</th>\r\n",
        "<th>min_fragment_length_ont_lambda_template</th>\r\n",
        "<th>max_fragment_length_ont_lambda_template</th>\r\n",
        "<th>mismatches_ont_lambda_template</th>\r\n",
        "<th>Ns_ont_lambda_template</th>\r\n",
        "<th>deletions_ont_lambda_template</th>\r\n",
        "<th>insertions_ont_lambda_template</th>\r\n",
        "<th>read_names_ont_lambda_complement</th>\r\n",
        "<th>fragments_ont_lambda_complement</th>\r\n",
        "<th>total_fragment_length_ont_lambda_complement</th>\r\n",
        "<th>mean_fragment_length_ont_lambda_complement</th>\r\n",
        "<th>min_fragment_length_ont_lambda_complement</th>\r\n",
        "<th>max_fragment_length_ont_lambda_complement</th>\r\n",
        "<th>mismatches_ont_lambda_complement</th>\r\n",
        "<th>Ns_ont_lambda_complement</th>\r\n",
        "<th>deletions_ont_lambda_complement</th>\r\n",
        "<th>insertions_ont_lambda_complement</th>\r\n",
        "<th>read_names_ont_lambda_2D</th>\r\n",
        "<th>fragments_ont_lambda_2D</th>\r\n",
        "<th>total_fragment_length_ont_lambda_2D</th>\r\n",
        "<th>mean_fragment_length_ont_lambda_2D</th>\r\n",
        "<th>min_fragment_length_ont_lambda_2D</th>\r\n",
        "<th>max_fragment_length_ont_lambda_2D</th>\r\n",
        "<th>mismatches_ont_lambda_2D</th>\r\n",
        "<th>Ns_ont_lambda_2D</th>\r\n",
        "<th>deletions_ont_lambda_2D</th>\r\n",
        "<th>insertions_ont_lambda_2D</th>\r\n",
        "<th>read_names_cs_template</th>\r\n",
        "<th>fragments_cs_template</th>\r\n",
        "<th>total_fragment_length_cs_template</th>\r\n",
        "<th>mean_fragment_length_cs_template</th>\r\n",
        "<th>min_fragment_length_cs_template</th>\r\n",
        "<th>max_fragment_length_cs_template</th>\r\n",
        "<th>mismatches_cs_template</th>\r\n",
        "<th>Ns_cs_template</th>\r\n",
        "<th>deletions_cs_template</th>\r\n",
        "<th>insertions_cs_template</th>\r\n",
        "<th>read_names_cs_complement</th>\r\n",
        "<th>fragments_cs_complement</th>\r\n",
        "<th>total_fragment_length_cs_complement</th>\r\n",
        "<th>mean_fragment_length_cs_complement</th>\r\n",
        "<th>min_fragment_length_cs_complement</th>\r\n",
        "<th>max_fragment_length_cs_complement</th>\r\n",
        "<th>mismatches_cs_complement</th>\r\n",
        "<th>Ns_cs_complement</th>\r\n",
        "<th>deletions_cs_complement</th>\r\n",
        "<th>insertions_cs_complement</th>\r\n",
        "<th>read_names_cs_2D</th>\r\n",
        "<th>fragments_cs_2D</th>\r\n",
        "<th>total_fragment_length_cs_2D</th>\r\n",
        "<th>mean_fragment_length_cs_2D</th>\r\n",
        "<th>min_fragment_length_cs_2D</th>\r\n",
        "<th>max_fragment_length_cs_2D</th>\r\n",
        "<th>mismatches_cs_2D</th>\r\n",
        "<th>Ns_cs_2D</th>\r\n",
        "<th>deletions_cs_2D</th>\r\n",
        "<th>insertions_cs_2D</th>\r\n",
        "<th>read_names_3D7_V3_template</th>\r\n",
        "<th>fragments_3D7_V3_template</th>\r\n",
        "<th>total_fragment_length_3D7_V3_template</th>\r\n",
        "<th>mean_fragment_length_3D7_V3_template</th>\r\n",
        "<th>min_fragment_length_3D7_V3_template</th>\r\n",
        "<th>max_fragment_length_3D7_V3_template</th>\r\n",
        "<th>mismatches_3D7_V3_template</th>\r\n",
        "<th>Ns_3D7_V3_template</th>\r\n",
        "<th>deletions_3D7_V3_template</th>\r\n",
        "<th>insertions_3D7_V3_template</th>\r\n",
        "<th>read_names_3D7_V3_complement</th>\r\n",
        "<th>fragments_3D7_V3_complement</th>\r\n",
        "<th>total_fragment_length_3D7_V3_complement</th>\r\n",
        "<th>mean_fragment_length_3D7_V3_complement</th>\r\n",
        "<th>min_fragment_length_3D7_V3_complement</th>\r\n",
        "<th>max_fragment_length_3D7_V3_complement</th>\r\n",
        "<th>mismatches_3D7_V3_complement</th>\r\n",
        "<th>Ns_3D7_V3_complement</th>\r\n",
        "<th>deletions_3D7_V3_complement</th>\r\n",
        "<th>insertions_3D7_V3_complement</th>\r\n",
        "<th>read_names_3D7_V3_2D</th>\r\n",
        "<th>fragments_3D7_V3_2D</th>\r\n",
        "<th>total_fragment_length_3D7_V3_2D</th>\r\n",
        "<th>mean_fragment_length_3D7_V3_2D</th>\r\n",
        "<th>min_fragment_length_3D7_V3_2D</th>\r\n",
        "<th>max_fragment_length_3D7_V3_2D</th>\r\n",
        "<th>mismatches_3D7_V3_2D</th>\r\n",
        "<th>Ns_3D7_V3_2D</th>\r\n",
        "<th>deletions_3D7_V3_2D</th>\r\n",
        "<th>insertions_3D7_V3_2D</th>\r\n",
        "<th>read_names_AgamP3_template</th>\r\n",
        "<th>fragments_AgamP3_template</th>\r\n",
        "<th>total_fragment_length_AgamP3_template</th>\r\n",
        "<th>mean_fragment_length_AgamP3_template</th>\r\n",
        "<th>min_fragment_length_AgamP3_template</th>\r\n",
        "<th>max_fragment_length_AgamP3_template</th>\r\n",
        "<th>mismatches_AgamP3_template</th>\r\n",
        "<th>Ns_AgamP3_template</th>\r\n",
        "<th>deletions_AgamP3_template</th>\r\n",
        "<th>insertions_AgamP3_template</th>\r\n",
        "<th>read_names_AgamP3_complement</th>\r\n",
        "<th>fragments_AgamP3_complement</th>\r\n",
        "<th>total_fragment_length_AgamP3_complement</th>\r\n",
        "<th>mean_fragment_length_AgamP3_complement</th>\r\n",
        "<th>min_fragment_length_AgamP3_complement</th>\r\n",
        "<th>max_fragment_length_AgamP3_complement</th>\r\n",
        "<th>mismatches_AgamP3_complement</th>\r\n",
        "<th>Ns_AgamP3_complement</th>\r\n",
        "<th>deletions_AgamP3_complement</th>\r\n",
        "<th>insertions_AgamP3_complement</th>\r\n",
        "<th>read_names_AgamP3_2D</th>\r\n",
        "<th>fragments_AgamP3_2D</th>\r\n",
        "<th>total_fragment_length_AgamP3_2D</th>\r\n",
        "<th>mean_fragment_length_AgamP3_2D</th>\r\n",
        "<th>min_fragment_length_AgamP3_2D</th>\r\n",
        "<th>max_fragment_length_AgamP3_2D</th>\r\n",
        "<th>mismatches_AgamP3_2D</th>\r\n",
        "<th>Ns_AgamP3_2D</th>\r\n",
        "<th>deletions_AgamP3_2D</th>\r\n",
        "<th>insertions_AgamP3_2D</th>\r\n",
        "</tr>\r\n",
        "</thead>\r\n",
        "<tbody>\r\n",
        "<tr>\r\n",
        "<td>/data/minion/PROCESSED_DATA/KWIAT50/expt01_workflow_1_9_1/KWIAT50_K50_expt01_std_lambda_DNA_140619_A_4429_1_ch103_file13_strand.fast5</td>\r\n",
        "<td>2D basecalling successful</td>\r\n",
        "<td style='text-align: right'>103</td>\r\n",
        "<td style='text-align: right'>12</td>\r\n",
        "<td>MN02837</td>\r\n",
        "<td>50349</td>\r\n",
        "<td></td>\r\n",
        "<td style='text-align: right'>37.6</td>\r\n",
        "<td style='text-align: right'>35.75</td>\r\n",
        "<td style='text-align: right'>1403178270</td>\r\n",
        "<td>0.45.1.6 b201406111512</td>\r\n",
        "<td>8752daf03928c6f48c7f5da5b812fc2f5f901821</td>\r\n",
        "<td>True</td>\r\n",
        "<td>True</td>\r\n",
        "<td>True</td>\r\n",
        "<td>True</td>\r\n",
        "<td>True</td>\r\n",
        "<td style='text-align: right'>8027</td>\r\n",
        "<td style='text-align: right'>5722</td>\r\n",
        "<td style='text-align: right'>6461</td>\r\n",
        "<td style='text-align: right'>6744.712</td>\r\n",
        "<td style='text-align: right'>1300.3766</td>\r\n",
        "<td style='text-align: right'>6753.3318</td>\r\n",
        "<td style='text-align: right'>807.0882</td>\r\n",
        "<td style='text-align: right'>7564.2436</td>\r\n",
        "<td style='text-align: right'>480.5992</td>\r\n",
        "<td style='text-align: right'>9980</td>\r\n",
        "<td style='text-align: right'>10015</td>\r\n",
        "<td style='text-align: right'>298</td>\r\n",
        "<td style='text-align: right'>2256</td>\r\n",
        "<td style='text-align: right'>6.85449109256</td>\r\n",
        "<td style='text-align: right'>2.21163601472</td>\r\n",
        "<td style='text-align: right'>9479</td>\r\n",
        "<td style='text-align: right'>9494</td>\r\n",
        "<td style='text-align: right'>131</td>\r\n",
        "<td style='text-align: right'>3893</td>\r\n",
        "<td style='text-align: right'>5.18996854247</td>\r\n",
        "<td style='text-align: right'>2.61120772749</td>\r\n",
        "<td style='text-align: right'>7.07692307692</td>\r\n",
        "<td style='text-align: right'>6461</td>\r\n",
        "<td style='text-align: right'>10796</td>\r\n",
        "<td style='text-align: right'>10015</td>\r\n",
        "<td style='text-align: right'>9748</td>\r\n",
        "<td style='text-align: right'>9494</td>\r\n",
        "<td>channel_103_read_12_template</td>\r\n",
        "<td style='text-align: right'>1</td>\r\n",
        "<td style='text-align: right'>7995</td>\r\n",
        "<td style='text-align: right'>7995.0</td>\r\n",
        "<td style='text-align: right'>7995</td>\r\n",
        "<td style='text-align: right'>7995</td>\r\n",
        "<td style='text-align: right'>3096</td>\r\n",
        "<td style='text-align: right'>0</td>\r\n",
        "<td style='text-align: right'>1281</td>\r\n",
        "<td style='text-align: right'>353</td>\r\n",
        "<td>channel_103_read_12_complement</td>\r\n",
        "<td style='text-align: right'>0</td>\r\n",
        "<td style='text-align: right'>0</td>\r\n",
        "<td style='text-align: right'>0</td>\r\n",
        "<td style='text-align: right'>0</td>\r\n",
        "<td style='text-align: right'>0</td>\r\n",
        "<td style='text-align: right'>0</td>\r\n",
        "<td style='text-align: right'>0</td>\r\n",
        "<td style='text-align: right'>0</td>\r\n",
        "<td style='text-align: right'>0</td>\r\n",
        "<td>channel_103_read_12_2D</td>\r\n",
        "<td style='text-align: right'>1</td>\r\n",
        "<td style='text-align: right'>454</td>\r\n",
        "<td style='text-align: right'>454.0</td>\r\n",
        "<td style='text-align: right'>454</td>\r\n",
        "<td style='text-align: right'>454</td>\r\n",
        "<td style='text-align: right'>235</td>\r\n",
        "<td style='text-align: right'>57</td>\r\n",
        "<td style='text-align: right'>133</td>\r\n",
        "<td style='text-align: right'>6</td>\r\n",
        "<td>channel_103_read_12_template</td>\r\n",
        "<td style='text-align: right'>1</td>\r\n",
        "<td style='text-align: right'>3049</td>\r\n",
        "<td style='text-align: right'>3049.0</td>\r\n",
        "<td style='text-align: right'>3049</td>\r\n",
        "<td style='text-align: right'>3049</td>\r\n",
        "<td style='text-align: right'>1133</td>\r\n",
        "<td style='text-align: right'>0</td>\r\n",
        "<td style='text-align: right'>460</td>\r\n",
        "<td style='text-align: right'>139</td>\r\n",
        "<td>channel_103_read_12_complement</td>\r\n",
        "<td style='text-align: right'>0</td>\r\n",
        "<td style='text-align: right'>0</td>\r\n",
        "<td style='text-align: right'>0</td>\r\n",
        "<td style='text-align: right'>0</td>\r\n",
        "<td style='text-align: right'>0</td>\r\n",
        "<td style='text-align: right'>0</td>\r\n",
        "<td style='text-align: right'>0</td>\r\n",
        "<td style='text-align: right'>0</td>\r\n",
        "<td style='text-align: right'>0</td>\r\n",
        "<td>channel_103_read_12_2D</td>\r\n",
        "<td style='text-align: right'>1</td>\r\n",
        "<td style='text-align: right'>454</td>\r\n",
        "<td style='text-align: right'>454.0</td>\r\n",
        "<td style='text-align: right'>454</td>\r\n",
        "<td style='text-align: right'>454</td>\r\n",
        "<td style='text-align: right'>234</td>\r\n",
        "<td style='text-align: right'>57</td>\r\n",
        "<td style='text-align: right'>133</td>\r\n",
        "<td style='text-align: right'>6</td>\r\n",
        "<td>channel_103_read_12_template</td>\r\n",
        "<td style='text-align: right'>0</td>\r\n",
        "<td style='text-align: right'>0</td>\r\n",
        "<td style='text-align: right'>0</td>\r\n",
        "<td style='text-align: right'>0</td>\r\n",
        "<td style='text-align: right'>0</td>\r\n",
        "<td style='text-align: right'>0</td>\r\n",
        "<td style='text-align: right'>0</td>\r\n",
        "<td style='text-align: right'>0</td>\r\n",
        "<td style='text-align: right'>0</td>\r\n",
        "<td>channel_103_read_12_complement</td>\r\n",
        "<td style='text-align: right'>0</td>\r\n",
        "<td style='text-align: right'>0</td>\r\n",
        "<td style='text-align: right'>0</td>\r\n",
        "<td style='text-align: right'>0</td>\r\n",
        "<td style='text-align: right'>0</td>\r\n",
        "<td style='text-align: right'>0</td>\r\n",
        "<td style='text-align: right'>0</td>\r\n",
        "<td style='text-align: right'>0</td>\r\n",
        "<td style='text-align: right'>0</td>\r\n",
        "<td>channel_103_read_12_2D</td>\r\n",
        "<td style='text-align: right'>0</td>\r\n",
        "<td style='text-align: right'>0</td>\r\n",
        "<td style='text-align: right'>0</td>\r\n",
        "<td style='text-align: right'>0</td>\r\n",
        "<td style='text-align: right'>0</td>\r\n",
        "<td style='text-align: right'>0</td>\r\n",
        "<td style='text-align: right'>0</td>\r\n",
        "<td style='text-align: right'>0</td>\r\n",
        "<td style='text-align: right'>0</td>\r\n",
        "<td>channel_103_read_12_template</td>\r\n",
        "<td style='text-align: right'>0</td>\r\n",
        "<td style='text-align: right'>0</td>\r\n",
        "<td style='text-align: right'>0</td>\r\n",
        "<td style='text-align: right'>0</td>\r\n",
        "<td style='text-align: right'>0</td>\r\n",
        "<td style='text-align: right'>0</td>\r\n",
        "<td style='text-align: right'>0</td>\r\n",
        "<td style='text-align: right'>0</td>\r\n",
        "<td style='text-align: right'>0</td>\r\n",
        "<td>channel_103_read_12_complement</td>\r\n",
        "<td style='text-align: right'>0</td>\r\n",
        "<td style='text-align: right'>0</td>\r\n",
        "<td style='text-align: right'>0</td>\r\n",
        "<td style='text-align: right'>0</td>\r\n",
        "<td style='text-align: right'>0</td>\r\n",
        "<td style='text-align: right'>0</td>\r\n",
        "<td style='text-align: right'>0</td>\r\n",
        "<td style='text-align: right'>0</td>\r\n",
        "<td style='text-align: right'>0</td>\r\n",
        "<td>channel_103_read_12_2D</td>\r\n",
        "<td style='text-align: right'>0</td>\r\n",
        "<td style='text-align: right'>0</td>\r\n",
        "<td style='text-align: right'>0</td>\r\n",
        "<td style='text-align: right'>0</td>\r\n",
        "<td style='text-align: right'>0</td>\r\n",
        "<td style='text-align: right'>0</td>\r\n",
        "<td style='text-align: right'>0</td>\r\n",
        "<td style='text-align: right'>0</td>\r\n",
        "<td style='text-align: right'>0</td>\r\n",
        "</tr>\r\n",
        "<tr>\r\n",
        "<td>/data/minion/PROCESSED_DATA/KWIAT50/expt01_workflow_1_9_1/KWIAT50_K50_expt01_std_lambda_DNA_140619_A_4429_1_ch114_file7_strand.fast5</td>\r\n",
        "<td>2D basecalling successful</td>\r\n",
        "<td style='text-align: right'>114</td>\r\n",
        "<td style='text-align: right'>6</td>\r\n",
        "<td>MN02837</td>\r\n",
        "<td>50349</td>\r\n",
        "<td></td>\r\n",
        "<td style='text-align: right'>37.6</td>\r\n",
        "<td style='text-align: right'>35.75</td>\r\n",
        "<td style='text-align: right'>1403178270</td>\r\n",
        "<td>0.45.1.6 b201406111512</td>\r\n",
        "<td>8752daf03928c6f48c7f5da5b812fc2f5f901821</td>\r\n",
        "<td>True</td>\r\n",
        "<td>True</td>\r\n",
        "<td>True</td>\r\n",
        "<td>True</td>\r\n",
        "<td>True</td>\r\n",
        "<td style='text-align: right'>3217</td>\r\n",
        "<td style='text-align: right'>2735</td>\r\n",
        "<td style='text-align: right'>3040</td>\r\n",
        "<td style='text-align: right'>8920.904</td>\r\n",
        "<td style='text-align: right'>310.308</td>\r\n",
        "<td style='text-align: right'>8927.9916</td>\r\n",
        "<td style='text-align: right'>172.6942</td>\r\n",
        "<td style='text-align: right'>9103.9178</td>\r\n",
        "<td style='text-align: right'>127.0696</td>\r\n",
        "<td style='text-align: right'>3143</td>\r\n",
        "<td style='text-align: right'>3157</td>\r\n",
        "<td style='text-align: right'>194</td>\r\n",
        "<td style='text-align: right'>125</td>\r\n",
        "<td style='text-align: right'>6.4759092322</td>\r\n",
        "<td style='text-align: right'>2.37988689995</td>\r\n",
        "<td style='text-align: right'>3004</td>\r\n",
        "<td style='text-align: right'>3018</td>\r\n",
        "<td style='text-align: right'>43</td>\r\n",
        "<td style='text-align: right'>317</td>\r\n",
        "<td style='text-align: right'>5.04716636197</td>\r\n",
        "<td style='text-align: right'>2.97095453279</td>\r\n",
        "<td style='text-align: right'>6.91184210526</td>\r\n",
        "<td style='text-align: right'>3040</td>\r\n",
        "<td style='text-align: right'>3201</td>\r\n",
        "<td style='text-align: right'>3157</td>\r\n",
        "<td style='text-align: right'>3031</td>\r\n",
        "<td style='text-align: right'>3018</td>\r\n",
        "<td>channel_114_read_6_template</td>\r\n",
        "<td style='text-align: right'>1</td>\r\n",
        "<td style='text-align: right'>3114</td>\r\n",
        "<td style='text-align: right'>3114.0</td>\r\n",
        "<td style='text-align: right'>3114</td>\r\n",
        "<td style='text-align: right'>3114</td>\r\n",
        "<td style='text-align: right'>1203</td>\r\n",
        "<td style='text-align: right'>0</td>\r\n",
        "<td style='text-align: right'>422</td>\r\n",
        "<td style='text-align: right'>130</td>\r\n",
        "<td>channel_114_read_6_complement</td>\r\n",
        "<td style='text-align: right'>0</td>\r\n",
        "<td style='text-align: right'>0</td>\r\n",
        "<td style='text-align: right'>0</td>\r\n",
        "<td style='text-align: right'>0</td>\r\n",
        "<td style='text-align: right'>0</td>\r\n",
        "<td style='text-align: right'>0</td>\r\n",
        "<td style='text-align: right'>0</td>\r\n",
        "<td style='text-align: right'>0</td>\r\n",
        "<td style='text-align: right'>0</td>\r\n",
        "<td>channel_114_read_6_2D</td>\r\n",
        "<td style='text-align: right'>2</td>\r\n",
        "<td style='text-align: right'>481</td>\r\n",
        "<td style='text-align: right'>240.5</td>\r\n",
        "<td style='text-align: right'>194</td>\r\n",
        "<td style='text-align: right'>287</td>\r\n",
        "<td style='text-align: right'>192</td>\r\n",
        "<td style='text-align: right'>73</td>\r\n",
        "<td style='text-align: right'>69</td>\r\n",
        "<td style='text-align: right'>10</td>\r\n",
        "<td>channel_114_read_6_template</td>\r\n",
        "<td style='text-align: right'>1</td>\r\n",
        "<td style='text-align: right'>3105</td>\r\n",
        "<td style='text-align: right'>3105.0</td>\r\n",
        "<td style='text-align: right'>3105</td>\r\n",
        "<td style='text-align: right'>3105</td>\r\n",
        "<td style='text-align: right'>1199</td>\r\n",
        "<td style='text-align: right'>0</td>\r\n",
        "<td style='text-align: right'>422</td>\r\n",
        "<td style='text-align: right'>130</td>\r\n",
        "<td>channel_114_read_6_complement</td>\r\n",
        "<td style='text-align: right'>0</td>\r\n",
        "<td style='text-align: right'>0</td>\r\n",
        "<td style='text-align: right'>0</td>\r\n",
        "<td style='text-align: right'>0</td>\r\n",
        "<td style='text-align: right'>0</td>\r\n",
        "<td style='text-align: right'>0</td>\r\n",
        "<td style='text-align: right'>0</td>\r\n",
        "<td style='text-align: right'>0</td>\r\n",
        "<td style='text-align: right'>0</td>\r\n",
        "<td>channel_114_read_6_2D</td>\r\n",
        "<td style='text-align: right'>3</td>\r\n",
        "<td style='text-align: right'>816</td>\r\n",
        "<td style='text-align: right'>272.0</td>\r\n",
        "<td style='text-align: right'>194</td>\r\n",
        "<td style='text-align: right'>335</td>\r\n",
        "<td style='text-align: right'>348</td>\r\n",
        "<td style='text-align: right'>134</td>\r\n",
        "<td style='text-align: right'>127</td>\r\n",
        "<td style='text-align: right'>15</td>\r\n",
        "<td>channel_114_read_6_template</td>\r\n",
        "<td style='text-align: right'>0</td>\r\n",
        "<td style='text-align: right'>0</td>\r\n",
        "<td style='text-align: right'>0</td>\r\n",
        "<td style='text-align: right'>0</td>\r\n",
        "<td style='text-align: right'>0</td>\r\n",
        "<td style='text-align: right'>0</td>\r\n",
        "<td style='text-align: right'>0</td>\r\n",
        "<td style='text-align: right'>0</td>\r\n",
        "<td style='text-align: right'>0</td>\r\n",
        "<td>channel_114_read_6_complement</td>\r\n",
        "<td style='text-align: right'>0</td>\r\n",
        "<td style='text-align: right'>0</td>\r\n",
        "<td style='text-align: right'>0</td>\r\n",
        "<td style='text-align: right'>0</td>\r\n",
        "<td style='text-align: right'>0</td>\r\n",
        "<td style='text-align: right'>0</td>\r\n",
        "<td style='text-align: right'>0</td>\r\n",
        "<td style='text-align: right'>0</td>\r\n",
        "<td style='text-align: right'>0</td>\r\n",
        "<td>channel_114_read_6_2D</td>\r\n",
        "<td style='text-align: right'>0</td>\r\n",
        "<td style='text-align: right'>0</td>\r\n",
        "<td style='text-align: right'>0</td>\r\n",
        "<td style='text-align: right'>0</td>\r\n",
        "<td style='text-align: right'>0</td>\r\n",
        "<td style='text-align: right'>0</td>\r\n",
        "<td style='text-align: right'>0</td>\r\n",
        "<td style='text-align: right'>0</td>\r\n",
        "<td style='text-align: right'>0</td>\r\n",
        "<td>channel_114_read_6_template</td>\r\n",
        "<td style='text-align: right'>0</td>\r\n",
        "<td style='text-align: right'>0</td>\r\n",
        "<td style='text-align: right'>0</td>\r\n",
        "<td style='text-align: right'>0</td>\r\n",
        "<td style='text-align: right'>0</td>\r\n",
        "<td style='text-align: right'>0</td>\r\n",
        "<td style='text-align: right'>0</td>\r\n",
        "<td style='text-align: right'>0</td>\r\n",
        "<td style='text-align: right'>0</td>\r\n",
        "<td>channel_114_read_6_complement</td>\r\n",
        "<td style='text-align: right'>0</td>\r\n",
        "<td style='text-align: right'>0</td>\r\n",
        "<td style='text-align: right'>0</td>\r\n",
        "<td style='text-align: right'>0</td>\r\n",
        "<td style='text-align: right'>0</td>\r\n",
        "<td style='text-align: right'>0</td>\r\n",
        "<td style='text-align: right'>0</td>\r\n",
        "<td style='text-align: right'>0</td>\r\n",
        "<td style='text-align: right'>0</td>\r\n",
        "<td>channel_114_read_6_2D</td>\r\n",
        "<td style='text-align: right'>0</td>\r\n",
        "<td style='text-align: right'>0</td>\r\n",
        "<td style='text-align: right'>0</td>\r\n",
        "<td style='text-align: right'>0</td>\r\n",
        "<td style='text-align: right'>0</td>\r\n",
        "<td style='text-align: right'>0</td>\r\n",
        "<td style='text-align: right'>0</td>\r\n",
        "<td style='text-align: right'>0</td>\r\n",
        "<td style='text-align: right'>0</td>\r\n",
        "</tr>\r\n",
        "<tr>\r\n",
        "<td>/data/minion/PROCESSED_DATA/KWIAT50/expt01_workflow_1_9_1/KWIAT50_K50_expt01_std_lambda_DNA_140619_A_4429_1_ch11_file45_strand.fast5</td>\r\n",
        "<td>2D basecalling successful</td>\r\n",
        "<td style='text-align: right'>11</td>\r\n",
        "<td style='text-align: right'>45</td>\r\n",
        "<td>MN02837</td>\r\n",
        "<td>50349</td>\r\n",
        "<td></td>\r\n",
        "<td style='text-align: right'>37.6</td>\r\n",
        "<td style='text-align: right'>35.75</td>\r\n",
        "<td style='text-align: right'>1403178270</td>\r\n",
        "<td>0.45.1.6 b201406111512</td>\r\n",
        "<td>8752daf03928c6f48c7f5da5b812fc2f5f901821</td>\r\n",
        "<td>True</td>\r\n",
        "<td>True</td>\r\n",
        "<td>True</td>\r\n",
        "<td>True</td>\r\n",
        "<td>True</td>\r\n",
        "<td style='text-align: right'>3178</td>\r\n",
        "<td style='text-align: right'>2101</td>\r\n",
        "<td style='text-align: right'>3230</td>\r\n",
        "<td style='text-align: right'>11365.1954</td>\r\n",
        "<td style='text-align: right'>336.3034</td>\r\n",
        "<td style='text-align: right'>11375.3744</td>\r\n",
        "<td style='text-align: right'>227.059</td>\r\n",
        "<td style='text-align: right'>11606.4804</td>\r\n",
        "<td style='text-align: right'>94.8322</td>\r\n",
        "<td style='text-align: right'>2908</td>\r\n",
        "<td style='text-align: right'>2945</td>\r\n",
        "<td style='text-align: right'>314</td>\r\n",
        "<td style='text-align: right'>49</td>\r\n",
        "<td style='text-align: right'>6.48174952801</td>\r\n",
        "<td style='text-align: right'>2.10257358189</td>\r\n",
        "<td style='text-align: right'>2059</td>\r\n",
        "<td style='text-align: right'>2071</td>\r\n",
        "<td style='text-align: right'>140</td>\r\n",
        "<td style='text-align: right'>103</td>\r\n",
        "<td style='text-align: right'>3.89433603046</td>\r\n",
        "<td style='text-align: right'>3.41685751925</td>\r\n",
        "<td style='text-align: right'>6.98792569659</td>\r\n",
        "<td style='text-align: right'>3230</td>\r\n",
        "<td style='text-align: right'>2986</td>\r\n",
        "<td style='text-align: right'>2945</td>\r\n",
        "<td style='text-align: right'>2089</td>\r\n",
        "<td style='text-align: right'>2071</td>\r\n",
        "<td>channel_11_read_45_template</td>\r\n",
        "<td style='text-align: right'>1</td>\r\n",
        "<td style='text-align: right'>3131</td>\r\n",
        "<td style='text-align: right'>3131.0</td>\r\n",
        "<td style='text-align: right'>3131</td>\r\n",
        "<td style='text-align: right'>3131</td>\r\n",
        "<td style='text-align: right'>1172</td>\r\n",
        "<td style='text-align: right'>0</td>\r\n",
        "<td style='text-align: right'>444</td>\r\n",
        "<td style='text-align: right'>151</td>\r\n",
        "<td>channel_11_read_45_complement</td>\r\n",
        "<td style='text-align: right'>0</td>\r\n",
        "<td style='text-align: right'>0</td>\r\n",
        "<td style='text-align: right'>0</td>\r\n",
        "<td style='text-align: right'>0</td>\r\n",
        "<td style='text-align: right'>0</td>\r\n",
        "<td style='text-align: right'>0</td>\r\n",
        "<td style='text-align: right'>0</td>\r\n",
        "<td style='text-align: right'>0</td>\r\n",
        "<td style='text-align: right'>0</td>\r\n",
        "<td>channel_11_read_45_2D</td>\r\n",
        "<td style='text-align: right'>1</td>\r\n",
        "<td style='text-align: right'>2650</td>\r\n",
        "<td style='text-align: right'>2650.0</td>\r\n",
        "<td style='text-align: right'>2650</td>\r\n",
        "<td style='text-align: right'>2650</td>\r\n",
        "<td style='text-align: right'>1215</td>\r\n",
        "<td style='text-align: right'>361</td>\r\n",
        "<td style='text-align: right'>341</td>\r\n",
        "<td style='text-align: right'>137</td>\r\n",
        "<td>channel_11_read_45_template</td>\r\n",
        "<td style='text-align: right'>1</td>\r\n",
        "<td style='text-align: right'>3128</td>\r\n",
        "<td style='text-align: right'>3128.0</td>\r\n",
        "<td style='text-align: right'>3128</td>\r\n",
        "<td style='text-align: right'>3128</td>\r\n",
        "<td style='text-align: right'>1171</td>\r\n",
        "<td style='text-align: right'>0</td>\r\n",
        "<td style='text-align: right'>443</td>\r\n",
        "<td style='text-align: right'>151</td>\r\n",
        "<td>channel_11_read_45_complement</td>\r\n",
        "<td style='text-align: right'>0</td>\r\n",
        "<td style='text-align: right'>0</td>\r\n",
        "<td style='text-align: right'>0</td>\r\n",
        "<td style='text-align: right'>0</td>\r\n",
        "<td style='text-align: right'>0</td>\r\n",
        "<td style='text-align: right'>0</td>\r\n",
        "<td style='text-align: right'>0</td>\r\n",
        "<td style='text-align: right'>0</td>\r\n",
        "<td style='text-align: right'>0</td>\r\n",
        "<td>channel_11_read_45_2D</td>\r\n",
        "<td style='text-align: right'>1</td>\r\n",
        "<td style='text-align: right'>2650</td>\r\n",
        "<td style='text-align: right'>2650.0</td>\r\n",
        "<td style='text-align: right'>2650</td>\r\n",
        "<td style='text-align: right'>2650</td>\r\n",
        "<td style='text-align: right'>1214</td>\r\n",
        "<td style='text-align: right'>361</td>\r\n",
        "<td style='text-align: right'>338</td>\r\n",
        "<td style='text-align: right'>134</td>\r\n",
        "<td>channel_11_read_45_template</td>\r\n",
        "<td style='text-align: right'>0</td>\r\n",
        "<td style='text-align: right'>0</td>\r\n",
        "<td style='text-align: right'>0</td>\r\n",
        "<td style='text-align: right'>0</td>\r\n",
        "<td style='text-align: right'>0</td>\r\n",
        "<td style='text-align: right'>0</td>\r\n",
        "<td style='text-align: right'>0</td>\r\n",
        "<td style='text-align: right'>0</td>\r\n",
        "<td style='text-align: right'>0</td>\r\n",
        "<td>channel_11_read_45_complement</td>\r\n",
        "<td style='text-align: right'>0</td>\r\n",
        "<td style='text-align: right'>0</td>\r\n",
        "<td style='text-align: right'>0</td>\r\n",
        "<td style='text-align: right'>0</td>\r\n",
        "<td style='text-align: right'>0</td>\r\n",
        "<td style='text-align: right'>0</td>\r\n",
        "<td style='text-align: right'>0</td>\r\n",
        "<td style='text-align: right'>0</td>\r\n",
        "<td style='text-align: right'>0</td>\r\n",
        "<td>channel_11_read_45_2D</td>\r\n",
        "<td style='text-align: right'>0</td>\r\n",
        "<td style='text-align: right'>0</td>\r\n",
        "<td style='text-align: right'>0</td>\r\n",
        "<td style='text-align: right'>0</td>\r\n",
        "<td style='text-align: right'>0</td>\r\n",
        "<td style='text-align: right'>0</td>\r\n",
        "<td style='text-align: right'>0</td>\r\n",
        "<td style='text-align: right'>0</td>\r\n",
        "<td style='text-align: right'>0</td>\r\n",
        "<td>channel_11_read_45_template</td>\r\n",
        "<td style='text-align: right'>0</td>\r\n",
        "<td style='text-align: right'>0</td>\r\n",
        "<td style='text-align: right'>0</td>\r\n",
        "<td style='text-align: right'>0</td>\r\n",
        "<td style='text-align: right'>0</td>\r\n",
        "<td style='text-align: right'>0</td>\r\n",
        "<td style='text-align: right'>0</td>\r\n",
        "<td style='text-align: right'>0</td>\r\n",
        "<td style='text-align: right'>0</td>\r\n",
        "<td>channel_11_read_45_complement</td>\r\n",
        "<td style='text-align: right'>0</td>\r\n",
        "<td style='text-align: right'>0</td>\r\n",
        "<td style='text-align: right'>0</td>\r\n",
        "<td style='text-align: right'>0</td>\r\n",
        "<td style='text-align: right'>0</td>\r\n",
        "<td style='text-align: right'>0</td>\r\n",
        "<td style='text-align: right'>0</td>\r\n",
        "<td style='text-align: right'>0</td>\r\n",
        "<td style='text-align: right'>0</td>\r\n",
        "<td>channel_11_read_45_2D</td>\r\n",
        "<td style='text-align: right'>0</td>\r\n",
        "<td style='text-align: right'>0</td>\r\n",
        "<td style='text-align: right'>0</td>\r\n",
        "<td style='text-align: right'>0</td>\r\n",
        "<td style='text-align: right'>0</td>\r\n",
        "<td style='text-align: right'>0</td>\r\n",
        "<td style='text-align: right'>0</td>\r\n",
        "<td style='text-align: right'>0</td>\r\n",
        "<td style='text-align: right'>0</td>\r\n",
        "</tr>\r\n",
        "</tbody>\r\n",
        "</table>\r\n"
       ],
       "metadata": {},
       "output_type": "pyout",
       "prompt_number": 220,
       "text": [
        "+-----------------------------------------------------------------------------------------------------------------------------------------+-----------------------------+------------------+---------------+-------------+-----------+----------------+--------------------+-----------------+------------------+--------------------------+--------------------------------------------+---------------+---------------------+---------------------+-----------------------+---------------+------------------------+--------------------------+------------------+--------------------+--------------------+-----------------------+---------------------+-------------------------+-----------------------+-----------------------------------+--------------------------------+-------------------------------+-------------------------------+---------------------------------+----------------------------------+-------------------------------------+----------------------------------+---------------------------------+---------------------------------+-----------------------------------+------------------------------------+---------------------------+-------------------------------+------------------------------------+---------------------------------------+--------------------------------------+-----------------------------------------+----------------------------------+---------------------------------+---------------------------------------------+--------------------------------------------+-------------------------------------------+-------------------------------------------+----------------------------------+--------------------------+---------------------------------+----------------------------------+------------------------------------+-----------------------------------+-----------------------------------------------+----------------------------------------------+---------------------------------------------+---------------------------------------------+------------------------------------+----------------------------+-----------------------------------+------------------------------------+----------------------------+---------------------------+---------------------------------------+--------------------------------------+-------------------------------------+-------------------------------------+----------------------------+--------------------+---------------------------+----------------------------+--------------------------------+-------------------------+-------------------------------------+------------------------------------+-----------------------------------+-----------------------------------+--------------------------+------------------+-------------------------+--------------------------+----------------------------------+---------------------------+---------------------------------------+--------------------------------------+-------------------------------------+-------------------------------------+----------------------------+--------------------+---------------------------+----------------------------+--------------------------+-------------------+-------------------------------+------------------------------+-----------------------------+-----------------------------+--------------------+------------+-------------------+--------------------+--------------------------------+-----------------------------+-----------------------------------------+----------------------------------------+---------------------------------------+---------------------------------------+------------------------------+----------------------+-----------------------------+------------------------------+----------------------------------+-------------------------------+-------------------------------------------+------------------------------------------+-----------------------------------------+-----------------------------------------+--------------------------------+------------------------+-------------------------------+--------------------------------+--------------------------+-----------------------+-----------------------------------+----------------------------------+---------------------------------+---------------------------------+------------------------+----------------+-----------------------+------------------------+--------------------------------+-----------------------------+-----------------------------------------+----------------------------------------+---------------------------------------+---------------------------------------+------------------------------+----------------------+-----------------------------+------------------------------+----------------------------------+-------------------------------+-------------------------------------------+------------------------------------------+-----------------------------------------+-----------------------------------------+--------------------------------+------------------------+-------------------------------+--------------------------------+--------------------------+-----------------------+-----------------------------------+----------------------------------+---------------------------------+---------------------------------+------------------------+----------------+-----------------------+------------------------+\n",
        "| 'fast5_filename'                                                                                                                        | 'read_type_from_log'        | 'channel_number' | 'read_number' | 'device_id' | 'asic_id' | 'flow_cell_id' | 'asic_temp'        | 'heatsink_temp' | 'exp_start_time' | 'version_name'           | 'run_id'                                   | 'is_analysed' | 'is_base_called_2d' | 'has_template_read' | 'has_complement_read' | 'has_2D_read' | 'read_length_template' | 'read_length_complement' | 'read_length_2D' | 'start_time_read'  | 'duration_read'    | 'start_time_template' | 'duration_template' | 'start_time_complement' | 'duration_complement' | 'basecall_called_events_template' | 'basecall_num_events_template' | 'basecall_num_skips_template' | 'basecall_num_stays_template' | 'basecall_mean_qscore_template' | 'basecall_strand_score_template' | 'basecall_called_events_complement' | 'basecall_num_events_complement' | 'basecall_num_skips_complement' | 'basecall_num_stays_complement' | 'basecall_mean_qscore_complement' | 'basecall_strand_score_complement' | 'basecall_mean_qscore_2D' | 'basecall_sequence_length_2D' | 'basecall_num_raw_events_template' | 'basecall_num_merged_events_template' | 'basecall_num_raw_events_complement' | 'basecall_num_merged_events_complement' | 'read_names_ont_lambda_template' | 'fragments_ont_lambda_template' | 'total_fragment_length_ont_lambda_template' | 'mean_fragment_length_ont_lambda_template' | 'min_fragment_length_ont_lambda_template' | 'max_fragment_length_ont_lambda_template' | 'mismatches_ont_lambda_template' | 'Ns_ont_lambda_template' | 'deletions_ont_lambda_template' | 'insertions_ont_lambda_template' | 'read_names_ont_lambda_complement' | 'fragments_ont_lambda_complement' | 'total_fragment_length_ont_lambda_complement' | 'mean_fragment_length_ont_lambda_complement' | 'min_fragment_length_ont_lambda_complement' | 'max_fragment_length_ont_lambda_complement' | 'mismatches_ont_lambda_complement' | 'Ns_ont_lambda_complement' | 'deletions_ont_lambda_complement' | 'insertions_ont_lambda_complement' | 'read_names_ont_lambda_2D' | 'fragments_ont_lambda_2D' | 'total_fragment_length_ont_lambda_2D' | 'mean_fragment_length_ont_lambda_2D' | 'min_fragment_length_ont_lambda_2D' | 'max_fragment_length_ont_lambda_2D' | 'mismatches_ont_lambda_2D' | 'Ns_ont_lambda_2D' | 'deletions_ont_lambda_2D' | 'insertions_ont_lambda_2D' | 'read_names_cs_template'       | 'fragments_cs_template' | 'total_fragment_length_cs_template' | 'mean_fragment_length_cs_template' | 'min_fragment_length_cs_template' | 'max_fragment_length_cs_template' | 'mismatches_cs_template' | 'Ns_cs_template' | 'deletions_cs_template' | 'insertions_cs_template' | 'read_names_cs_complement'       | 'fragments_cs_complement' | 'total_fragment_length_cs_complement' | 'mean_fragment_length_cs_complement' | 'min_fragment_length_cs_complement' | 'max_fragment_length_cs_complement' | 'mismatches_cs_complement' | 'Ns_cs_complement' | 'deletions_cs_complement' | 'insertions_cs_complement' | 'read_names_cs_2D'       | 'fragments_cs_2D' | 'total_fragment_length_cs_2D' | 'mean_fragment_length_cs_2D' | 'min_fragment_length_cs_2D' | 'max_fragment_length_cs_2D' | 'mismatches_cs_2D' | 'Ns_cs_2D' | 'deletions_cs_2D' | 'insertions_cs_2D' | 'read_names_3D7_V3_template'   | 'fragments_3D7_V3_template' | 'total_fragment_length_3D7_V3_template' | 'mean_fragment_length_3D7_V3_template' | 'min_fragment_length_3D7_V3_template' | 'max_fragment_length_3D7_V3_template' | 'mismatches_3D7_V3_template' | 'Ns_3D7_V3_template' | 'deletions_3D7_V3_template' | 'insertions_3D7_V3_template' | 'read_names_3D7_V3_complement'   | 'fragments_3D7_V3_complement' | 'total_fragment_length_3D7_V3_complement' | 'mean_fragment_length_3D7_V3_complement' | 'min_fragment_length_3D7_V3_complement' | 'max_fragment_length_3D7_V3_complement' | 'mismatches_3D7_V3_complement' | 'Ns_3D7_V3_complement' | 'deletions_3D7_V3_complement' | 'insertions_3D7_V3_complement' | 'read_names_3D7_V3_2D'   | 'fragments_3D7_V3_2D' | 'total_fragment_length_3D7_V3_2D' | 'mean_fragment_length_3D7_V3_2D' | 'min_fragment_length_3D7_V3_2D' | 'max_fragment_length_3D7_V3_2D' | 'mismatches_3D7_V3_2D' | 'Ns_3D7_V3_2D' | 'deletions_3D7_V3_2D' | 'insertions_3D7_V3_2D' | 'read_names_AgamP3_template'   | 'fragments_AgamP3_template' | 'total_fragment_length_AgamP3_template' | 'mean_fragment_length_AgamP3_template' | 'min_fragment_length_AgamP3_template' | 'max_fragment_length_AgamP3_template' | 'mismatches_AgamP3_template' | 'Ns_AgamP3_template' | 'deletions_AgamP3_template' | 'insertions_AgamP3_template' | 'read_names_AgamP3_complement'   | 'fragments_AgamP3_complement' | 'total_fragment_length_AgamP3_complement' | 'mean_fragment_length_AgamP3_complement' | 'min_fragment_length_AgamP3_complement' | 'max_fragment_length_AgamP3_complement' | 'mismatches_AgamP3_complement' | 'Ns_AgamP3_complement' | 'deletions_AgamP3_complement' | 'insertions_AgamP3_complement' | 'read_names_AgamP3_2D'   | 'fragments_AgamP3_2D' | 'total_fragment_length_AgamP3_2D' | 'mean_fragment_length_AgamP3_2D' | 'min_fragment_length_AgamP3_2D' | 'max_fragment_length_AgamP3_2D' | 'mismatches_AgamP3_2D' | 'Ns_AgamP3_2D' | 'deletions_AgamP3_2D' | 'insertions_AgamP3_2D' |\n",
        "+=========================================================================================================================================+=============================+==================+===============+=============+===========+================+====================+=================+==================+==========================+============================================+===============+=====================+=====================+=======================+===============+========================+==========================+==================+====================+====================+=======================+=====================+=========================+=======================+===================================+================================+===============================+===============================+=================================+==================================+=====================================+==================================+=================================+=================================+===================================+====================================+===========================+===============================+====================================+=======================================+======================================+=========================================+==================================+=================================+=============================================+============================================+===========================================+===========================================+==================================+==========================+=================================+==================================+====================================+===================================+===============================================+==============================================+=============================================+=============================================+====================================+============================+===================================+====================================+============================+===========================+=======================================+======================================+=====================================+=====================================+============================+====================+===========================+============================+================================+=========================+=====================================+====================================+===================================+===================================+==========================+==================+=========================+==========================+==================================+===========================+=======================================+======================================+=====================================+=====================================+============================+====================+===========================+============================+==========================+===================+===============================+==============================+=============================+=============================+====================+============+===================+====================+================================+=============================+=========================================+========================================+=======================================+=======================================+==============================+======================+=============================+==============================+==================================+===============================+===========================================+==========================================+=========================================+=========================================+================================+========================+===============================+================================+==========================+=======================+===================================+==================================+=================================+=================================+========================+================+=======================+========================+================================+=============================+=========================================+========================================+=======================================+=======================================+==============================+======================+=============================+==============================+==================================+===============================+===========================================+==========================================+=========================================+=========================================+================================+========================+===============================+================================+==========================+=======================+===================================+==================================+=================================+=================================+========================+================+=======================+========================+\n",
        "| '/data/minion/PROCESSED_DATA/KWIAT50/expt01_workflow_1_9_1/KWIAT50_K50_expt01_std_lambda_DNA_140619_A_4429_1_ch103_file13_strand.fast5' | '2D basecalling successful' |              103 |            12 | 'MN02837'   | '50349'   | ''             | 37.600000000000001 |           35.75 |       1403178270 | '0.45.1.6 b201406111512' | '8752daf03928c6f48c7f5da5b812fc2f5f901821' | True          | True                | True                | True                  | True          |                   8027 |                     5722 |             6461 | 6744.7120000000004 | 1300.3765999999996 |    6753.3317999999999 |  807.08820000000014 |      7564.2436000000007 |    480.59919999999966 |                              9980 |                          10015 |                           298 |                          2256 |              6.8544910925626015 |               2.2116360147239842 |                                9479 |                             9494 |                             131 |                            3893 |                5.1899685424676685 |                 2.6112077274866041 |        7.0769230769230766 |                          6461 |                              10796 |                                 10015 |                                 9748 |                                    9494 | 'channel_103_read_12_template'   |                               1 |                                        7995 |                                     7995.0 |                                      7995 |                                      7995 |                             3096 |                        0 |                            1281 |                              353 | 'channel_103_read_12_complement'   |                                 0 |                                             0 |                                            0 |                                           0 |                                           0 |                                  0 |                          0 |                                 0 |                                  0 | 'channel_103_read_12_2D'   |                         1 |                                   454 |                                454.0 |                                 454 |                                 454 |                        235 |                 57 |                       133 |                          6 | 'channel_103_read_12_template' |                       1 |                                3049 |                             3049.0 |                              3049 |                              3049 |                     1133 |                0 |                     460 |                      139 | 'channel_103_read_12_complement' |                         0 |                                     0 |                                    0 |                                   0 |                                   0 |                          0 |                  0 |                         0 |                          0 | 'channel_103_read_12_2D' |                 1 |                           454 |                        454.0 |                         454 |                         454 |                234 |         57 |               133 |                  6 | 'channel_103_read_12_template' |                           0 |                                       0 |                                      0 |                                     0 |                                     0 |                            0 |                    0 |                           0 |                            0 | 'channel_103_read_12_complement' |                             0 |                                         0 |                                        0 |                                       0 |                                       0 |                              0 |                      0 |                             0 |                              0 | 'channel_103_read_12_2D' |                     0 |                                 0 |                                0 |                               0 |                               0 |                      0 |              0 |                     0 |                      0 | 'channel_103_read_12_template' |                           0 |                                       0 |                                      0 |                                     0 |                                     0 |                            0 |                    0 |                           0 |                            0 | 'channel_103_read_12_complement' |                             0 |                                         0 |                                        0 |                                       0 |                                       0 |                              0 |                      0 |                             0 |                              0 | 'channel_103_read_12_2D' |                     0 |                                 0 |                                0 |                               0 |                               0 |                      0 |              0 |                     0 |                      0 |\n",
        "+-----------------------------------------------------------------------------------------------------------------------------------------+-----------------------------+------------------+---------------+-------------+-----------+----------------+--------------------+-----------------+------------------+--------------------------+--------------------------------------------+---------------+---------------------+---------------------+-----------------------+---------------+------------------------+--------------------------+------------------+--------------------+--------------------+-----------------------+---------------------+-------------------------+-----------------------+-----------------------------------+--------------------------------+-------------------------------+-------------------------------+---------------------------------+----------------------------------+-------------------------------------+----------------------------------+---------------------------------+---------------------------------+-----------------------------------+------------------------------------+---------------------------+-------------------------------+------------------------------------+---------------------------------------+--------------------------------------+-----------------------------------------+----------------------------------+---------------------------------+---------------------------------------------+--------------------------------------------+-------------------------------------------+-------------------------------------------+----------------------------------+--------------------------+---------------------------------+----------------------------------+------------------------------------+-----------------------------------+-----------------------------------------------+----------------------------------------------+---------------------------------------------+---------------------------------------------+------------------------------------+----------------------------+-----------------------------------+------------------------------------+----------------------------+---------------------------+---------------------------------------+--------------------------------------+-------------------------------------+-------------------------------------+----------------------------+--------------------+---------------------------+----------------------------+--------------------------------+-------------------------+-------------------------------------+------------------------------------+-----------------------------------+-----------------------------------+--------------------------+------------------+-------------------------+--------------------------+----------------------------------+---------------------------+---------------------------------------+--------------------------------------+-------------------------------------+-------------------------------------+----------------------------+--------------------+---------------------------+----------------------------+--------------------------+-------------------+-------------------------------+------------------------------+-----------------------------+-----------------------------+--------------------+------------+-------------------+--------------------+--------------------------------+-----------------------------+-----------------------------------------+----------------------------------------+---------------------------------------+---------------------------------------+------------------------------+----------------------+-----------------------------+------------------------------+----------------------------------+-------------------------------+-------------------------------------------+------------------------------------------+-----------------------------------------+-----------------------------------------+--------------------------------+------------------------+-------------------------------+--------------------------------+--------------------------+-----------------------+-----------------------------------+----------------------------------+---------------------------------+---------------------------------+------------------------+----------------+-----------------------+------------------------+--------------------------------+-----------------------------+-----------------------------------------+----------------------------------------+---------------------------------------+---------------------------------------+------------------------------+----------------------+-----------------------------+------------------------------+----------------------------------+-------------------------------+-------------------------------------------+------------------------------------------+-----------------------------------------+-----------------------------------------+--------------------------------+------------------------+-------------------------------+--------------------------------+--------------------------+-----------------------+-----------------------------------+----------------------------------+---------------------------------+---------------------------------+------------------------+----------------+-----------------------+------------------------+\n",
        "| '/data/minion/PROCESSED_DATA/KWIAT50/expt01_workflow_1_9_1/KWIAT50_K50_expt01_std_lambda_DNA_140619_A_4429_1_ch114_file7_strand.fast5'  | '2D basecalling successful' |              114 |             6 | 'MN02837'   | '50349'   | ''             | 37.600000000000001 |           35.75 |       1403178270 | '0.45.1.6 b201406111512' | '8752daf03928c6f48c7f5da5b812fc2f5f901821' | True          | True                | True                | True                  | True          |                   3217 |                     2735 |             3040 | 8920.9040000000005 |  310.3080000000009 |    8927.9916000000012 |  172.69419999999991 |      9103.9178000000011 |     127.0695999999989 |                              3143 |                           3157 |                           194 |                           125 |              6.4759092322039171 |               2.3798868999522256 |                                3004 |                             3018 |                              43 |                             317 |                5.0471663619744058 |                 2.9709545327894249 |        6.9118421052631582 |                          3040 |                               3201 |                                  3157 |                                 3031 |                                    3018 | 'channel_114_read_6_template'    |                               1 |                                        3114 |                                     3114.0 |                                      3114 |                                      3114 |                             1203 |                        0 |                             422 |                              130 | 'channel_114_read_6_complement'    |                                 0 |                                             0 |                                            0 |                                           0 |                                           0 |                                  0 |                          0 |                                 0 |                                  0 | 'channel_114_read_6_2D'    |                         2 |                                   481 |                                240.5 |                                 194 |                                 287 |                        192 |                 73 |                        69 |                         10 | 'channel_114_read_6_template'  |                       1 |                                3105 |                             3105.0 |                              3105 |                              3105 |                     1199 |                0 |                     422 |                      130 | 'channel_114_read_6_complement'  |                         0 |                                     0 |                                    0 |                                   0 |                                   0 |                          0 |                  0 |                         0 |                          0 | 'channel_114_read_6_2D'  |                 3 |                           816 |                        272.0 |                         194 |                         335 |                348 |        134 |               127 |                 15 | 'channel_114_read_6_template'  |                           0 |                                       0 |                                      0 |                                     0 |                                     0 |                            0 |                    0 |                           0 |                            0 | 'channel_114_read_6_complement'  |                             0 |                                         0 |                                        0 |                                       0 |                                       0 |                              0 |                      0 |                             0 |                              0 | 'channel_114_read_6_2D'  |                     0 |                                 0 |                                0 |                               0 |                               0 |                      0 |              0 |                     0 |                      0 | 'channel_114_read_6_template'  |                           0 |                                       0 |                                      0 |                                     0 |                                     0 |                            0 |                    0 |                           0 |                            0 | 'channel_114_read_6_complement'  |                             0 |                                         0 |                                        0 |                                       0 |                                       0 |                              0 |                      0 |                             0 |                              0 | 'channel_114_read_6_2D'  |                     0 |                                 0 |                                0 |                               0 |                               0 |                      0 |              0 |                     0 |                      0 |\n",
        "+-----------------------------------------------------------------------------------------------------------------------------------------+-----------------------------+------------------+---------------+-------------+-----------+----------------+--------------------+-----------------+------------------+--------------------------+--------------------------------------------+---------------+---------------------+---------------------+-----------------------+---------------+------------------------+--------------------------+------------------+--------------------+--------------------+-----------------------+---------------------+-------------------------+-----------------------+-----------------------------------+--------------------------------+-------------------------------+-------------------------------+---------------------------------+----------------------------------+-------------------------------------+----------------------------------+---------------------------------+---------------------------------+-----------------------------------+------------------------------------+---------------------------+-------------------------------+------------------------------------+---------------------------------------+--------------------------------------+-----------------------------------------+----------------------------------+---------------------------------+---------------------------------------------+--------------------------------------------+-------------------------------------------+-------------------------------------------+----------------------------------+--------------------------+---------------------------------+----------------------------------+------------------------------------+-----------------------------------+-----------------------------------------------+----------------------------------------------+---------------------------------------------+---------------------------------------------+------------------------------------+----------------------------+-----------------------------------+------------------------------------+----------------------------+---------------------------+---------------------------------------+--------------------------------------+-------------------------------------+-------------------------------------+----------------------------+--------------------+---------------------------+----------------------------+--------------------------------+-------------------------+-------------------------------------+------------------------------------+-----------------------------------+-----------------------------------+--------------------------+------------------+-------------------------+--------------------------+----------------------------------+---------------------------+---------------------------------------+--------------------------------------+-------------------------------------+-------------------------------------+----------------------------+--------------------+---------------------------+----------------------------+--------------------------+-------------------+-------------------------------+------------------------------+-----------------------------+-----------------------------+--------------------+------------+-------------------+--------------------+--------------------------------+-----------------------------+-----------------------------------------+----------------------------------------+---------------------------------------+---------------------------------------+------------------------------+----------------------+-----------------------------+------------------------------+----------------------------------+-------------------------------+-------------------------------------------+------------------------------------------+-----------------------------------------+-----------------------------------------+--------------------------------+------------------------+-------------------------------+--------------------------------+--------------------------+-----------------------+-----------------------------------+----------------------------------+---------------------------------+---------------------------------+------------------------+----------------+-----------------------+------------------------+--------------------------------+-----------------------------+-----------------------------------------+----------------------------------------+---------------------------------------+---------------------------------------+------------------------------+----------------------+-----------------------------+------------------------------+----------------------------------+-------------------------------+-------------------------------------------+------------------------------------------+-----------------------------------------+-----------------------------------------+--------------------------------+------------------------+-------------------------------+--------------------------------+--------------------------+-----------------------+-----------------------------------+----------------------------------+---------------------------------+---------------------------------+------------------------+----------------+-----------------------+------------------------+\n",
        "| '/data/minion/PROCESSED_DATA/KWIAT50/expt01_workflow_1_9_1/KWIAT50_K50_expt01_std_lambda_DNA_140619_A_4429_1_ch11_file45_strand.fast5'  | '2D basecalling successful' |               11 |            45 | 'MN02837'   | '50349'   | ''             | 37.600000000000001 |           35.75 |       1403178270 | '0.45.1.6 b201406111512' | '8752daf03928c6f48c7f5da5b812fc2f5f901821' | True          | True                | True                | True                  | True          |                   3178 |                     2101 |             3230 | 11365.195400000001 | 336.30339999999887 |    11375.374400000001 |  227.05900000000111 |              11606.4804 |     94.83219999999892 |                              2908 |                           2945 |                           314 |                            49 |               6.481749528005035 |               2.1025735818946272 |                                2059 |                             2071 |                             140 |                             103 |                3.8943360304616848 |                 3.4168575192480084 |        6.9879256965944272 |                          3230 |                               2986 |                                  2945 |                                 2089 |                                    2071 | 'channel_11_read_45_template'    |                               1 |                                        3131 |                                     3131.0 |                                      3131 |                                      3131 |                             1172 |                        0 |                             444 |                              151 | 'channel_11_read_45_complement'    |                                 0 |                                             0 |                                            0 |                                           0 |                                           0 |                                  0 |                          0 |                                 0 |                                  0 | 'channel_11_read_45_2D'    |                         1 |                                  2650 |                               2650.0 |                                2650 |                                2650 |                       1215 |                361 |                       341 |                        137 | 'channel_11_read_45_template'  |                       1 |                                3128 |                             3128.0 |                              3128 |                              3128 |                     1171 |                0 |                     443 |                      151 | 'channel_11_read_45_complement'  |                         0 |                                     0 |                                    0 |                                   0 |                                   0 |                          0 |                  0 |                         0 |                          0 | 'channel_11_read_45_2D'  |                 1 |                          2650 |                       2650.0 |                        2650 |                        2650 |               1214 |        361 |               338 |                134 | 'channel_11_read_45_template'  |                           0 |                                       0 |                                      0 |                                     0 |                                     0 |                            0 |                    0 |                           0 |                            0 | 'channel_11_read_45_complement'  |                             0 |                                         0 |                                        0 |                                       0 |                                       0 |                              0 |                      0 |                             0 |                              0 | 'channel_11_read_45_2D'  |                     0 |                                 0 |                                0 |                               0 |                               0 |                      0 |              0 |                     0 |                      0 | 'channel_11_read_45_template'  |                           0 |                                       0 |                                      0 |                                     0 |                                     0 |                            0 |                    0 |                           0 |                            0 | 'channel_11_read_45_complement'  |                             0 |                                         0 |                                        0 |                                       0 |                                       0 |                              0 |                      0 |                             0 |                              0 | 'channel_11_read_45_2D'  |                     0 |                                 0 |                                0 |                               0 |                               0 |                      0 |              0 |                     0 |                      0 |\n",
        "+-----------------------------------------------------------------------------------------------------------------------------------------+-----------------------------+------------------+---------------+-------------+-----------+----------------+--------------------+-----------------+------------------+--------------------------+--------------------------------------------+---------------+---------------------+---------------------+-----------------------+---------------+------------------------+--------------------------+------------------+--------------------+--------------------+-----------------------+---------------------+-------------------------+-----------------------+-----------------------------------+--------------------------------+-------------------------------+-------------------------------+---------------------------------+----------------------------------+-------------------------------------+----------------------------------+---------------------------------+---------------------------------+-----------------------------------+------------------------------------+---------------------------+-------------------------------+------------------------------------+---------------------------------------+--------------------------------------+-----------------------------------------+----------------------------------+---------------------------------+---------------------------------------------+--------------------------------------------+-------------------------------------------+-------------------------------------------+----------------------------------+--------------------------+---------------------------------+----------------------------------+------------------------------------+-----------------------------------+-----------------------------------------------+----------------------------------------------+---------------------------------------------+---------------------------------------------+------------------------------------+----------------------------+-----------------------------------+------------------------------------+----------------------------+---------------------------+---------------------------------------+--------------------------------------+-------------------------------------+-------------------------------------+----------------------------+--------------------+---------------------------+----------------------------+--------------------------------+-------------------------+-------------------------------------+------------------------------------+-----------------------------------+-----------------------------------+--------------------------+------------------+-------------------------+--------------------------+----------------------------------+---------------------------+---------------------------------------+--------------------------------------+-------------------------------------+-------------------------------------+----------------------------+--------------------+---------------------------+----------------------------+--------------------------+-------------------+-------------------------------+------------------------------+-----------------------------+-----------------------------+--------------------+------------+-------------------+--------------------+--------------------------------+-----------------------------+-----------------------------------------+----------------------------------------+---------------------------------------+---------------------------------------+------------------------------+----------------------+-----------------------------+------------------------------+----------------------------------+-------------------------------+-------------------------------------------+------------------------------------------+-----------------------------------------+-----------------------------------------+--------------------------------+------------------------+-------------------------------+--------------------------------+--------------------------+-----------------------+-----------------------------------+----------------------------------+---------------------------------+---------------------------------+------------------------+----------------+-----------------------+------------------------+--------------------------------+-----------------------------+-----------------------------------------+----------------------------------------+---------------------------------------+---------------------------------------+------------------------------+----------------------+-----------------------------+------------------------------+----------------------------------+-------------------------------+-------------------------------------------+------------------------------------------+-----------------------------------------+-----------------------------------------+--------------------------------+------------------------+-------------------------------+--------------------------------+--------------------------+-----------------------+-----------------------------------+----------------------------------+---------------------------------+---------------------------------+------------------------+----------------+-----------------------+------------------------+\n"
       ]
      }
     ],
     "prompt_number": 220
    },
    {
     "cell_type": "code",
     "collapsed": false,
     "input": [
      "def summarise_experiment(experiment = 'expt01_workflow_1_9_1', read_summary_tables=read_summary_tables):\n",
      "    read_summary_table = read_summary_tables[experiment]\n",
      "    read_summary_array = toarray(read_summary_table)\n",
      "    experiment_summary = np.array(\n",
      "        (\n",
      "             experiment,\n",
      "             '_'.join(np.unique(read_summary_array['device_id'])),\n",
      "             '_'.join(np.unique(read_summary_array['asic_id'])),\n",
      "             '_'.join(np.unique(read_summary_array['flow_cell_id'])),\n",
      "             '___'.join(map(convert_time, np.unique(read_summary_array['exp_start_time']))),\n",
      "             len(read_summary_array),\n",
      "             np.sum(read_summary_array['is_analysed']),\n",
      "             np.sum(read_summary_array['is_base_called_2d']),\n",
      "             np.sum(read_summary_array['has_template_read']),\n",
      "             np.sum(read_summary_array['has_complement_read']),\n",
      "             np.sum(read_summary_array['has_2D_read']),\n",
      "             len(np.unique(read_summary_array['channel_number'])),\n",
      "             len(np.unique(read_summary_array['channel_number'][read_summary_array['has_2D_read']])),\n",
      "             np.sum(read_summary_array['read_length_template']),\n",
      "             np.sum(read_summary_array['read_length_complement']),\n",
      "             np.sum(read_summary_array['read_length_2D']),\n",
      "             np.mean(read_summary_array['read_length_template'][read_summary_array['read_length_template'] > 0]),\n",
      "             np.mean(read_summary_array['read_length_complement'][read_summary_array['read_length_complement'] > 0]),\n",
      "             np.mean(read_summary_array['read_length_2D'][read_summary_array['read_length_2D'] > 0]),\n",
      "             np.mean(read_summary_array['duration_read'][(read_summary_array['duration_read'] > 0) & (read_summary_array['duration_template'] > 0)]),\n",
      "             np.mean(read_summary_array['duration_read'][read_summary_array['duration_read'] > 0]),\n",
      "             np.mean(read_summary_array['duration_template'][read_summary_array['duration_template'] > 0]),\n",
      "             np.mean(read_summary_array['duration_complement'][read_summary_array['duration_complement'] > 0]),\n",
      "             np.mean(read_summary_array['basecall_mean_qscore_template'][read_summary_array['basecall_mean_qscore_template'] > 0]),\n",
      "             np.mean(read_summary_array['basecall_mean_qscore_complement'][read_summary_array['basecall_mean_qscore_complement'] > 0]),\n",
      "             np.mean(read_summary_array['basecall_mean_qscore_2D'][read_summary_array['basecall_mean_qscore_2D'] > 0]),\n",
      "             np.mean(read_summary_array['basecall_strand_score_template'][read_summary_array['basecall_strand_score_template'] > 0]),\n",
      "             np.mean(read_summary_array['basecall_strand_score_complement'][read_summary_array['basecall_strand_score_complement'] > 0]),\n",
      "             np.sum(read_summary_array['fragments_ont_lambda_template'] > 0),\n",
      "             np.sum(read_summary_array['fragments_ont_lambda_complement'] > 0),\n",
      "             np.sum(read_summary_array['fragments_ont_lambda_2D'] > 0),\n",
      "             np.sum(read_summary_array['fragments_cs_template'] > 0),\n",
      "             np.sum(read_summary_array['fragments_cs_complement'] > 0),\n",
      "             np.sum(read_summary_array['fragments_cs_2D'] > 0),\n",
      "             np.sum(read_summary_array['fragments_3D7_V3_template'] > 0),\n",
      "             np.sum(read_summary_array['fragments_3D7_V3_complement'] > 0),\n",
      "             np.sum(read_summary_array['fragments_3D7_V3_2D'] > 0),\n",
      "             np.sum(read_summary_array['fragments_AgamP3_template'] > 0),\n",
      "             np.sum(read_summary_array['fragments_AgamP3_complement'] > 0),\n",
      "             np.sum(read_summary_array['fragments_AgamP3_2D'] > 0),\n",
      "             0.0 if np.sum(read_summary_array['fragments_3D7_V3_template'] > 0) == 0 else np.mean(read_summary_array['fragments_3D7_V3_template'].astype(np.float)[read_summary_array['fragments_3D7_V3_template'] > 0]),\n",
      "             0.0 if np.sum(read_summary_array['fragments_3D7_V3_complement'] > 0) == 0 else np.mean(read_summary_array['fragments_3D7_V3_complement'].astype(np.float)[read_summary_array['fragments_3D7_V3_complement'] > 0]),\n",
      "             0.0 if np.sum(read_summary_array['fragments_3D7_V3_2D'] > 0) == 0 else np.mean(read_summary_array['fragments_3D7_V3_2D'].astype(np.float)[read_summary_array['fragments_3D7_V3_2D'] > 0]),\n",
      "             np.sum(read_summary_array['read_length_template'][read_summary_array['fragments_3D7_V3_template'] > 0]),\n",
      "             np.sum(read_summary_array['read_length_complement'][read_summary_array['fragments_3D7_V3_complement'] > 0]),\n",
      "             np.sum(read_summary_array['read_length_2D'][read_summary_array['fragments_3D7_V3_2D'] > 0]),\n",
      "             np.sum(read_summary_array['total_fragment_length_3D7_V3_template']),\n",
      "             np.sum(read_summary_array['total_fragment_length_3D7_V3_complement']),\n",
      "             np.sum(read_summary_array['total_fragment_length_3D7_V3_2D']),\n",
      "             np.sum(read_summary_array['mismatches_3D7_V3_template']),\n",
      "             np.sum(read_summary_array['mismatches_3D7_V3_complement']),\n",
      "             np.sum(read_summary_array['mismatches_3D7_V3_2D']),\n",
      "             np.max(read_summary_array['total_fragment_length_3D7_V3_template']),\n",
      "             np.max(read_summary_array['total_fragment_length_3D7_V3_complement']),\n",
      "             np.max(read_summary_array['total_fragment_length_3D7_V3_2D']),\n",
      "#              0.0 if read_summary_array['total_fragment_length_3D7_V3_template'] == 0.0 else np.mean((read_summary_array['mismatches_3D7_V3_template']*1.0 / read_summary_array['total_fragment_length_3D7_V3_template'])[read_summary_array['total_fragment_length_3D7_V3_template'] > 0]),\n",
      "#              0.0 if read_summary_array['total_fragment_length_3D7_V3_complement'] == 0 else np.mean(read_summary_array['mismatches_3D7_V3_complement'][read_summary_array['total_fragment_length_3D7_V3_complement'] > 0]*1.0 / read_summary_array['total_fragment_length_3D7_V3_complement'][read_summary_array['total_fragment_length_3D7_V3_complement'] > 0]),\n",
      "#              0.0 if read_summary_array['total_fragment_length_3D7_V3_2D'] == 0 else np.mean(read_summary_array['mismatches_3D7_V3_2D'][read_summary_array['total_fragment_length_3D7_V3_2D'] > 0]*1.0 / read_summary_array['total_fragment_length_3D7_V3_2D'][read_summary_array['total_fragment_length_3D7_V3_2D'] > 0]),\n",
      "#              0.0 if read_summary_array['total_fragment_length_3D7_V3_template'] == 0 else np.mean(read_summary_array['mismatches_3D7_V3_complement']*1.0 / read_summary_array['total_fragment_length_3D7_V3_complement']),\n",
      "#              0.0 if read_summary_array['total_fragment_length_3D7_V3_template'] == 0 else np.mean(read_summary_array['mismatches_3D7_V3_2D']*1.0 / read_summary_array['total_fragment_length_3D7_V3_2D']),\n",
      "        ),\n",
      "        dtype  = [\n",
      "            ('experiment', 'a100'),\n",
      "            ('device_ids', 'a100'),\n",
      "            ('asic_ids', 'a100'),\n",
      "            ('flowcell_ids', 'a100'),\n",
      "            ('exp_start_times', 'a1000'),\n",
      "            ('total_number_of_reads', np.int),\n",
      "            ('number_of_reads_analysed', np.int),\n",
      "            ('number_of_reads_base_called', np.int),\n",
      "            ('number_of_reads_with_template_calls', np.int),\n",
      "            ('number_of_reads_with_complement_calls', np.int),\n",
      "            ('number_of_reads_with_2D_calls', np.int),\n",
      "            ('number_of_channels_used', np.int),\n",
      "            ('number_of_channels_with_2D_calls', np.int),\n",
      "            ('total_read_length_template', np.int),\n",
      "            ('total_read_length_complement', np.int),\n",
      "            ('total_read_length_2D', np.int),\n",
      "            ('mean_read_length_template', np.int),\n",
      "            ('mean_read_length_complement', np.int),\n",
      "            ('mean_read_length_2D', np.int),\n",
      "            ('mean_duration_read_where_template_called', np.int),\n",
      "            ('mean_duration_read', np.int),\n",
      "            ('mean_duration_template', np.int),\n",
      "            ('mean_duration_complement', np.int),\n",
      "            ('mean_qscore_template', np.float),\n",
      "            ('mean_qscore_complement', np.float),\n",
      "            ('mean_qscore_2D', np.float),\n",
      "            ('mean_strand_score_template', np.float),\n",
      "            ('mean_strand_score_complement', np.float),\n",
      "            ('number_mapped_to_ont_lambda_template', np.int),\n",
      "            ('number_mapped_to_ont_lambda_complement', np.int),\n",
      "            ('number_mapped_to_ont_lambda_2D', np.int),\n",
      "            ('number_mapped_to_cs_template', np.int),\n",
      "            ('number_mapped_to_cs_complement', np.int),\n",
      "            ('number_mapped_to_cs_2D', np.int),\n",
      "            ('number_mapped_to_3D7_V3_template', np.int),\n",
      "            ('number_mapped_to_3D7_V3_complement', np.int),\n",
      "            ('number_mapped_to_3D7_V3_2D', np.int),\n",
      "            ('number_mapped_to_AgamP3_template', np.int),\n",
      "            ('number_mapped_to_AgamP3_complement', np.int),\n",
      "            ('number_mapped_to_AgamP3_2D', np.int),\n",
      "            ('mean_number_fragments_3D7_V3_template', np.float),\n",
      "            ('mean_number_fragments_3D7_V3_complement', np.float),\n",
      "            ('mean_number_fragments_3D7_V3_2D', np.float),\n",
      "            ('total_length_of_reads_mapped_to_3D7_V3_template', np.int),\n",
      "            ('total_length_of_reads_mapped_to_3D7_V3_complement', np.int),\n",
      "            ('total_length_of_reads_mapped_to_3D7_V3_2D', np.int),\n",
      "            ('mapped_length_of_reads_mapped_to_3D7_V3_template', np.int),\n",
      "            ('mapped_length_of_reads_mapped_to_3D7_V3_complement', np.int),\n",
      "            ('mapped_length_of_reads_mapped_to_3D7_V3_2D', np.int),\n",
      "            ('number_of_mismatches_3D7_V3_template', np.int),\n",
      "            ('number_of_mismatches_3D7_V3_complement', np.int),\n",
      "            ('number_of_mismatches_3D7_V3_2D', np.int),\n",
      "            ('longest_match_to_3D7_V3_template', np.int),\n",
      "            ('longest_match_to_3D7_V3_complement', np.int),\n",
      "            ('longest_match_to_3D7_V3_2D', np.int),\n",
      "#             ('mean_proportion_mismatches_3D7_V3_complement', np.float),\n",
      "#             ('mean_proportion_mismatches_3D7_V3_2D', np.float),\n",
      "        ]\n",
      "    )\n",
      "    return experiment_summary\n",
      "\n",
      "summarise_experiment()"
     ],
     "language": "python",
     "metadata": {},
     "outputs": [
      {
       "metadata": {},
       "output_type": "pyout",
       "prompt_number": 323,
       "text": [
        "array(('expt01_workflow_1_9_1', 'MN02837', '50349', '', '2014-06-19 11:41:15___2014-06-19 11:44:30', 7358, 7358, 7358, 5037, 2404, 768, 352, 210, 19309802, 6894392, 3820990, 3833, 2867, 4975, 310, 215, 242, 128, 5.823022300087421, 4.748468583331178, 7.384469766703618, 2.4429301386330797, 3.2310007620995083, 3386, 493, 594, 605, 106, 133, 2, 6, 0, 24, 7, 0, 8.0, 37.0, 0.0, 1419, 25098, 0, 2330, 47742, 0, 734, 15189, 0, 1165, 37839, 0), \n",
        "      dtype=[('experiment', 'S100'), ('device_ids', 'S100'), ('asic_ids', 'S100'), ('flowcell_ids', 'S100'), ('exp_start_times', 'S1000'), ('total_number_of_reads', '<i8'), ('number_of_reads_analysed', '<i8'), ('number_of_reads_base_called', '<i8'), ('number_of_reads_with_template_calls', '<i8'), ('number_of_reads_with_complement_calls', '<i8'), ('number_of_reads_with_2D_calls', '<i8'), ('number_of_channels_used', '<i8'), ('number_of_channels_with_2D_calls', '<i8'), ('total_read_length_template', '<i8'), ('total_read_length_complement', '<i8'), ('total_read_length_2D', '<i8'), ('mean_read_length_template', '<i8'), ('mean_read_length_complement', '<i8'), ('mean_read_length_2D', '<i8'), ('mean_duration_read_where_template_called', '<i8'), ('mean_duration_read', '<i8'), ('mean_duration_template', '<i8'), ('mean_duration_complement', '<i8'), ('mean_qscore_template', '<f8'), ('mean_qscore_complement', '<f8'), ('mean_qscore_2D', '<f8'), ('mean_strand_score_template', '<f8'), ('mean_strand_score_complement', '<f8'), ('number_mapped_to_ont_lambda_template', '<i8'), ('number_mapped_to_ont_lambda_complement', '<i8'), ('number_mapped_to_ont_lambda_2D', '<i8'), ('number_mapped_to_cs_template', '<i8'), ('number_mapped_to_cs_complement', '<i8'), ('number_mapped_to_cs_2D', '<i8'), ('number_mapped_to_3D7_V3_template', '<i8'), ('number_mapped_to_3D7_V3_complement', '<i8'), ('number_mapped_to_3D7_V3_2D', '<i8'), ('number_mapped_to_AgamP3_template', '<i8'), ('number_mapped_to_AgamP3_complement', '<i8'), ('number_mapped_to_AgamP3_2D', '<i8'), ('mean_number_fragments_3D7_V3_template', '<f8'), ('mean_number_fragments_3D7_V3_complement', '<f8'), ('mean_number_fragments_3D7_V3_2D', '<f8'), ('total_length_of_reads_mapped_to_3D7_V3_template', '<i8'), ('total_length_of_reads_mapped_to_3D7_V3_complement', '<i8'), ('total_length_of_reads_mapped_to_3D7_V3_2D', '<i8'), ('mapped_length_of_reads_mapped_to_3D7_V3_template', '<i8'), ('mapped_length_of_reads_mapped_to_3D7_V3_complement', '<i8'), ('mapped_length_of_reads_mapped_to_3D7_V3_2D', '<i8'), ('number_of_mismatches_3D7_V3_template', '<i8'), ('number_of_mismatches_3D7_V3_complement', '<i8'), ('number_of_mismatches_3D7_V3_2D', '<i8'), ('longest_match_to_3D7_V3_template', '<i8'), ('longest_match_to_3D7_V3_complement', '<i8'), ('longest_match_to_3D7_V3_2D', '<i8')])"
       ]
      }
     ],
     "prompt_number": 323
    },
    {
     "cell_type": "code",
     "collapsed": false,
     "input": [
      "experiment_summaries_dict = OrderedDict()\n",
      "\n",
      "for experiment in experiments:\n",
      "    print experiment\n",
      "    experiment_summaries_dict[experiment] = summarise_experiment(experiment, read_summary_tables)\n",
      "\n",
      "experiment_summaries = np.hstack(experiment_summaries_dict.values())"
     ],
     "language": "python",
     "metadata": {},
     "outputs": [
      {
       "output_type": "stream",
       "stream": "stdout",
       "text": [
        "expt01_workflow_1_8_4\n",
        "expt01_workflow_1_9"
       ]
      },
      {
       "output_type": "stream",
       "stream": "stdout",
       "text": [
        "\n",
        "expt01_workflow_1_9_1"
       ]
      },
      {
       "output_type": "stream",
       "stream": "stdout",
       "text": [
        "\n",
        "expt02_workflow_1_9_1"
       ]
      },
      {
       "output_type": "stream",
       "stream": "stdout",
       "text": [
        "\n",
        "expt03_workflow_1_9_1\n",
        "expt04_workflow_1_9_1"
       ]
      },
      {
       "output_type": "stream",
       "stream": "stdout",
       "text": [
        "\n",
        "expt05_aliquot_1_workflow_1_9_1\n",
        "E05_aliquot_3_workflow_1_9_1"
       ]
      },
      {
       "output_type": "stream",
       "stream": "stdout",
       "text": [
        "\n",
        "E05_aliquot_5_workflow_1_9_1"
       ]
      },
      {
       "output_type": "stream",
       "stream": "stdout",
       "text": [
        "\n",
        "E05_aliquot_2_workflow_1_9_1"
       ]
      },
      {
       "output_type": "stream",
       "stream": "stdout",
       "text": [
        "\n",
        "E05_aliquot_4_workflow_1_9_1"
       ]
      },
      {
       "output_type": "stream",
       "stream": "stdout",
       "text": [
        "\n"
       ]
      }
     ],
     "prompt_number": 324
    },
    {
     "cell_type": "code",
     "collapsed": false,
     "input": [
      "toxlsx(fromarray(experiment_summaries), \"/Users/rpearson/Desktop/experiment_summaries.xlsx\")"
     ],
     "language": "python",
     "metadata": {},
     "outputs": [],
     "prompt_number": 330
    },
    {
     "cell_type": "code",
     "collapsed": false,
     "input": [
      "etl.fromarray(experiment_summaries)"
     ],
     "language": "python",
     "metadata": {},
     "outputs": [
      {
       "html": [
        "<table>\r\n",
        "<thead>\r\n",
        "<tr>\r\n",
        "<th>experiment</th>\r\n",
        "<th>device_ids</th>\r\n",
        "<th>asic_ids</th>\r\n",
        "<th>flowcell_ids</th>\r\n",
        "<th>exp_start_times</th>\r\n",
        "<th>total_number_of_reads</th>\r\n",
        "<th>number_of_reads_analysed</th>\r\n",
        "<th>number_of_reads_base_called</th>\r\n",
        "<th>number_of_reads_with_template_calls</th>\r\n",
        "<th>number_of_reads_with_complement_calls</th>\r\n",
        "<th>number_of_reads_with_2D_calls</th>\r\n",
        "<th>number_of_channels_used</th>\r\n",
        "<th>number_of_channels_with_2D_calls</th>\r\n",
        "<th>total_read_length_template</th>\r\n",
        "<th>total_read_length_complement</th>\r\n",
        "<th>total_read_length_2D</th>\r\n",
        "<th>mean_read_length_template</th>\r\n",
        "<th>mean_read_length_complement</th>\r\n",
        "<th>mean_read_length_2D</th>\r\n",
        "<th>mean_duration_read_where_template_called</th>\r\n",
        "<th>mean_duration_read</th>\r\n",
        "<th>mean_duration_template</th>\r\n",
        "<th>mean_duration_complement</th>\r\n",
        "<th>mean_qscore_template</th>\r\n",
        "<th>mean_qscore_complement</th>\r\n",
        "<th>mean_qscore_2D</th>\r\n",
        "<th>mean_strand_score_template</th>\r\n",
        "<th>mean_strand_score_complement</th>\r\n",
        "<th>number_mapped_to_ont_lambda_template</th>\r\n",
        "<th>number_mapped_to_ont_lambda_complement</th>\r\n",
        "<th>number_mapped_to_ont_lambda_2D</th>\r\n",
        "<th>number_mapped_to_cs_template</th>\r\n",
        "<th>number_mapped_to_cs_complement</th>\r\n",
        "<th>number_mapped_to_cs_2D</th>\r\n",
        "<th>number_mapped_to_3D7_V3_template</th>\r\n",
        "<th>number_mapped_to_3D7_V3_complement</th>\r\n",
        "<th>number_mapped_to_3D7_V3_2D</th>\r\n",
        "<th>number_mapped_to_AgamP3_template</th>\r\n",
        "<th>number_mapped_to_AgamP3_complement</th>\r\n",
        "<th>number_mapped_to_AgamP3_2D</th>\r\n",
        "<th>mean_number_fragments_3D7_V3_template</th>\r\n",
        "<th>mean_number_fragments_3D7_V3_complement</th>\r\n",
        "<th>mean_number_fragments_3D7_V3_2D</th>\r\n",
        "<th>total_length_of_reads_mapped_to_3D7_V3_template</th>\r\n",
        "<th>total_length_of_reads_mapped_to_3D7_V3_complement</th>\r\n",
        "<th>total_length_of_reads_mapped_to_3D7_V3_2D</th>\r\n",
        "<th>mapped_length_of_reads_mapped_to_3D7_V3_template</th>\r\n",
        "<th>mapped_length_of_reads_mapped_to_3D7_V3_complement</th>\r\n",
        "<th>mapped_length_of_reads_mapped_to_3D7_V3_2D</th>\r\n",
        "<th>number_of_mismatches_3D7_V3_template</th>\r\n",
        "<th>number_of_mismatches_3D7_V3_complement</th>\r\n",
        "<th>number_of_mismatches_3D7_V3_2D</th>\r\n",
        "<th>longest_match_to_3D7_V3_template</th>\r\n",
        "<th>longest_match_to_3D7_V3_complement</th>\r\n",
        "<th>longest_match_to_3D7_V3_2D</th>\r\n",
        "</tr>\r\n",
        "</thead>\r\n",
        "<tbody>\r\n",
        "<tr>\r\n",
        "<td>expt01_workflow_1_8_4</td>\r\n",
        "<td>MN02837</td>\r\n",
        "<td>50349</td>\r\n",
        "<td></td>\r\n",
        "<td>2014-06-19 11:41:15___2014-06-19 11:44:30</td>\r\n",
        "<td style='text-align: right'>7362</td>\r\n",
        "<td style='text-align: right'>7362</td>\r\n",
        "<td style='text-align: right'>7362</td>\r\n",
        "<td style='text-align: right'>3728</td>\r\n",
        "<td style='text-align: right'>2124</td>\r\n",
        "<td style='text-align: right'>493</td>\r\n",
        "<td style='text-align: right'>352</td>\r\n",
        "<td style='text-align: right'>178</td>\r\n",
        "<td style='text-align: right'>18899768</td>\r\n",
        "<td style='text-align: right'>7107308</td>\r\n",
        "<td style='text-align: right'>2602319</td>\r\n",
        "<td style='text-align: right'>5069</td>\r\n",
        "<td style='text-align: right'>3346</td>\r\n",
        "<td style='text-align: right'>5278</td>\r\n",
        "<td style='text-align: right'>414</td>\r\n",
        "<td style='text-align: right'>215</td>\r\n",
        "<td style='text-align: right'>320</td>\r\n",
        "<td style='text-align: right'>146</td>\r\n",
        "<td style='text-align: right'>5.86047330179</td>\r\n",
        "<td style='text-align: right'>4.17362339801</td>\r\n",
        "<td style='text-align: right'>6.39169801249</td>\r\n",
        "<td style='text-align: right'>2.40156762659</td>\r\n",
        "<td style='text-align: right'>3.2914392318</td>\r\n",
        "<td style='text-align: right'>0</td>\r\n",
        "<td style='text-align: right'>0</td>\r\n",
        "<td style='text-align: right'>0</td>\r\n",
        "<td style='text-align: right'>0</td>\r\n",
        "<td style='text-align: right'>0</td>\r\n",
        "<td style='text-align: right'>0</td>\r\n",
        "<td style='text-align: right'>0</td>\r\n",
        "<td style='text-align: right'>0</td>\r\n",
        "<td style='text-align: right'>0</td>\r\n",
        "<td style='text-align: right'>0</td>\r\n",
        "<td style='text-align: right'>0</td>\r\n",
        "<td style='text-align: right'>0</td>\r\n",
        "<td style='text-align: right'>0.0</td>\r\n",
        "<td style='text-align: right'>0.0</td>\r\n",
        "<td style='text-align: right'>0.0</td>\r\n",
        "<td style='text-align: right'>0</td>\r\n",
        "<td style='text-align: right'>0</td>\r\n",
        "<td style='text-align: right'>0</td>\r\n",
        "<td style='text-align: right'>0</td>\r\n",
        "<td style='text-align: right'>0</td>\r\n",
        "<td style='text-align: right'>0</td>\r\n",
        "<td style='text-align: right'>0</td>\r\n",
        "<td style='text-align: right'>0</td>\r\n",
        "<td style='text-align: right'>0</td>\r\n",
        "<td style='text-align: right'>0</td>\r\n",
        "<td style='text-align: right'>0</td>\r\n",
        "<td style='text-align: right'>0</td>\r\n",
        "</tr>\r\n",
        "<tr>\r\n",
        "<td>expt01_workflow_1_9</td>\r\n",
        "<td>MN02837</td>\r\n",
        "<td>50349</td>\r\n",
        "<td></td>\r\n",
        "<td>2014-06-19 11:41:15___2014-06-19 11:44:30</td>\r\n",
        "<td style='text-align: right'>7362</td>\r\n",
        "<td style='text-align: right'>7362</td>\r\n",
        "<td style='text-align: right'>7362</td>\r\n",
        "<td style='text-align: right'>5041</td>\r\n",
        "<td style='text-align: right'>2408</td>\r\n",
        "<td style='text-align: right'>745</td>\r\n",
        "<td style='text-align: right'>352</td>\r\n",
        "<td style='text-align: right'>208</td>\r\n",
        "<td style='text-align: right'>19344189</td>\r\n",
        "<td style='text-align: right'>6920804</td>\r\n",
        "<td style='text-align: right'>3824235</td>\r\n",
        "<td style='text-align: right'>3837</td>\r\n",
        "<td style='text-align: right'>2874</td>\r\n",
        "<td style='text-align: right'>5133</td>\r\n",
        "<td style='text-align: right'>311</td>\r\n",
        "<td style='text-align: right'>215</td>\r\n",
        "<td style='text-align: right'>242</td>\r\n",
        "<td style='text-align: right'>129</td>\r\n",
        "<td style='text-align: right'>5.82327844144</td>\r\n",
        "<td style='text-align: right'>4.74871057516</td>\r\n",
        "<td style='text-align: right'>7.38166434366</td>\r\n",
        "<td style='text-align: right'>2.44273702832</td>\r\n",
        "<td style='text-align: right'>3.23071882084</td>\r\n",
        "<td style='text-align: right'>3390</td>\r\n",
        "<td style='text-align: right'>495</td>\r\n",
        "<td style='text-align: right'>581</td>\r\n",
        "<td style='text-align: right'>605</td>\r\n",
        "<td style='text-align: right'>106</td>\r\n",
        "<td style='text-align: right'>133</td>\r\n",
        "<td style='text-align: right'>18</td>\r\n",
        "<td style='text-align: right'>6</td>\r\n",
        "<td style='text-align: right'>0</td>\r\n",
        "<td style='text-align: right'>24</td>\r\n",
        "<td style='text-align: right'>7</td>\r\n",
        "<td style='text-align: right'>0</td>\r\n",
        "<td style='text-align: right'>11.1111111111</td>\r\n",
        "<td style='text-align: right'>37.0</td>\r\n",
        "<td style='text-align: right'>0.0</td>\r\n",
        "<td style='text-align: right'>138649</td>\r\n",
        "<td style='text-align: right'>25098</td>\r\n",
        "<td style='text-align: right'>0</td>\r\n",
        "<td style='text-align: right'>58967</td>\r\n",
        "<td style='text-align: right'>47742</td>\r\n",
        "<td style='text-align: right'>0</td>\r\n",
        "<td style='text-align: right'>22383</td>\r\n",
        "<td style='text-align: right'>15189</td>\r\n",
        "<td style='text-align: right'>0</td>\r\n",
        "<td style='text-align: right'>30929</td>\r\n",
        "<td style='text-align: right'>37839</td>\r\n",
        "<td style='text-align: right'>0</td>\r\n",
        "</tr>\r\n",
        "<tr>\r\n",
        "<td>expt01_workflow_1_9_1</td>\r\n",
        "<td>MN02837</td>\r\n",
        "<td>50349</td>\r\n",
        "<td></td>\r\n",
        "<td>2014-06-19 11:41:15___2014-06-19 11:44:30</td>\r\n",
        "<td style='text-align: right'>7358</td>\r\n",
        "<td style='text-align: right'>7358</td>\r\n",
        "<td style='text-align: right'>7358</td>\r\n",
        "<td style='text-align: right'>5037</td>\r\n",
        "<td style='text-align: right'>2404</td>\r\n",
        "<td style='text-align: right'>768</td>\r\n",
        "<td style='text-align: right'>352</td>\r\n",
        "<td style='text-align: right'>210</td>\r\n",
        "<td style='text-align: right'>19309802</td>\r\n",
        "<td style='text-align: right'>6894392</td>\r\n",
        "<td style='text-align: right'>3820990</td>\r\n",
        "<td style='text-align: right'>3833</td>\r\n",
        "<td style='text-align: right'>2867</td>\r\n",
        "<td style='text-align: right'>4975</td>\r\n",
        "<td style='text-align: right'>310</td>\r\n",
        "<td style='text-align: right'>215</td>\r\n",
        "<td style='text-align: right'>242</td>\r\n",
        "<td style='text-align: right'>128</td>\r\n",
        "<td style='text-align: right'>5.82302230009</td>\r\n",
        "<td style='text-align: right'>4.74846858333</td>\r\n",
        "<td style='text-align: right'>7.3844697667</td>\r\n",
        "<td style='text-align: right'>2.44293013863</td>\r\n",
        "<td style='text-align: right'>3.2310007621</td>\r\n",
        "<td style='text-align: right'>3386</td>\r\n",
        "<td style='text-align: right'>493</td>\r\n",
        "<td style='text-align: right'>594</td>\r\n",
        "<td style='text-align: right'>605</td>\r\n",
        "<td style='text-align: right'>106</td>\r\n",
        "<td style='text-align: right'>133</td>\r\n",
        "<td style='text-align: right'>2</td>\r\n",
        "<td style='text-align: right'>6</td>\r\n",
        "<td style='text-align: right'>0</td>\r\n",
        "<td style='text-align: right'>24</td>\r\n",
        "<td style='text-align: right'>7</td>\r\n",
        "<td style='text-align: right'>0</td>\r\n",
        "<td style='text-align: right'>8.0</td>\r\n",
        "<td style='text-align: right'>37.0</td>\r\n",
        "<td style='text-align: right'>0.0</td>\r\n",
        "<td style='text-align: right'>1419</td>\r\n",
        "<td style='text-align: right'>25098</td>\r\n",
        "<td style='text-align: right'>0</td>\r\n",
        "<td style='text-align: right'>2330</td>\r\n",
        "<td style='text-align: right'>47742</td>\r\n",
        "<td style='text-align: right'>0</td>\r\n",
        "<td style='text-align: right'>734</td>\r\n",
        "<td style='text-align: right'>15189</td>\r\n",
        "<td style='text-align: right'>0</td>\r\n",
        "<td style='text-align: right'>1165</td>\r\n",
        "<td style='text-align: right'>37839</td>\r\n",
        "<td style='text-align: right'>0</td>\r\n",
        "</tr>\r\n",
        "<tr>\r\n",
        "<td>expt02_workflow_1_9_1</td>\r\n",
        "<td>MN02837</td>\r\n",
        "<td>50349</td>\r\n",
        "<td></td>\r\n",
        "<td>2014-06-23 12:55:55</td>\r\n",
        "<td style='text-align: right'>294</td>\r\n",
        "<td style='text-align: right'>294</td>\r\n",
        "<td style='text-align: right'>294</td>\r\n",
        "<td style='text-align: right'>181</td>\r\n",
        "<td style='text-align: right'>69</td>\r\n",
        "<td style='text-align: right'>39</td>\r\n",
        "<td style='text-align: right'>35</td>\r\n",
        "<td style='text-align: right'>16</td>\r\n",
        "<td style='text-align: right'>457479</td>\r\n",
        "<td style='text-align: right'>183466</td>\r\n",
        "<td style='text-align: right'>149776</td>\r\n",
        "<td style='text-align: right'>2527</td>\r\n",
        "<td style='text-align: right'>2658</td>\r\n",
        "<td style='text-align: right'>3840</td>\r\n",
        "<td style='text-align: right'>244</td>\r\n",
        "<td style='text-align: right'>155</td>\r\n",
        "<td style='text-align: right'>169</td>\r\n",
        "<td style='text-align: right'>175</td>\r\n",
        "<td style='text-align: right'>5.21572295772</td>\r\n",
        "<td style='text-align: right'>4.90799348457</td>\r\n",
        "<td style='text-align: right'>6.46564803058</td>\r\n",
        "<td style='text-align: right'>2.2298097015</td>\r\n",
        "<td style='text-align: right'>2.79431975659</td>\r\n",
        "<td style='text-align: right'>6</td>\r\n",
        "<td style='text-align: right'>1</td>\r\n",
        "<td style='text-align: right'>1</td>\r\n",
        "<td style='text-align: right'>6</td>\r\n",
        "<td style='text-align: right'>1</td>\r\n",
        "<td style='text-align: right'>1</td>\r\n",
        "<td style='text-align: right'>20</td>\r\n",
        "<td style='text-align: right'>3</td>\r\n",
        "<td style='text-align: right'>0</td>\r\n",
        "<td style='text-align: right'>5</td>\r\n",
        "<td style='text-align: right'>1</td>\r\n",
        "<td style='text-align: right'>0</td>\r\n",
        "<td style='text-align: right'>4.7</td>\r\n",
        "<td style='text-align: right'>1.33333333333</td>\r\n",
        "<td style='text-align: right'>0.0</td>\r\n",
        "<td style='text-align: right'>176389</td>\r\n",
        "<td style='text-align: right'>9244</td>\r\n",
        "<td style='text-align: right'>0</td>\r\n",
        "<td style='text-align: right'>63859</td>\r\n",
        "<td style='text-align: right'>1309</td>\r\n",
        "<td style='text-align: right'>0</td>\r\n",
        "<td style='text-align: right'>28437</td>\r\n",
        "<td style='text-align: right'>593</td>\r\n",
        "<td style='text-align: right'>0</td>\r\n",
        "<td style='text-align: right'>15182</td>\r\n",
        "<td style='text-align: right'>940</td>\r\n",
        "<td style='text-align: right'>0</td>\r\n",
        "</tr>\r\n",
        "<tr>\r\n",
        "<td>expt03_workflow_1_9_1</td>\r\n",
        "<td>MN02837</td>\r\n",
        "<td>50349</td>\r\n",
        "<td></td>\r\n",
        "<td>2014-06-23 19:18:25___2014-06-23 19:21:40___2014-06-23 23:25:42___2014-06-24 03:29:55</td>\r\n",
        "<td style='text-align: right'>358</td>\r\n",
        "<td style='text-align: right'>358</td>\r\n",
        "<td style='text-align: right'>358</td>\r\n",
        "<td style='text-align: right'>159</td>\r\n",
        "<td style='text-align: right'>49</td>\r\n",
        "<td style='text-align: right'>21</td>\r\n",
        "<td style='text-align: right'>46</td>\r\n",
        "<td style='text-align: right'>14</td>\r\n",
        "<td style='text-align: right'>212689</td>\r\n",
        "<td style='text-align: right'>75587</td>\r\n",
        "<td style='text-align: right'>63058</td>\r\n",
        "<td style='text-align: right'>1337</td>\r\n",
        "<td style='text-align: right'>1542</td>\r\n",
        "<td style='text-align: right'>3002</td>\r\n",
        "<td style='text-align: right'>157</td>\r\n",
        "<td style='text-align: right'>78</td>\r\n",
        "<td style='text-align: right'>116</td>\r\n",
        "<td style='text-align: right'>97</td>\r\n",
        "<td style='text-align: right'>5.63098604684</td>\r\n",
        "<td style='text-align: right'>4.60252014794</td>\r\n",
        "<td style='text-align: right'>6.60109720393</td>\r\n",
        "<td style='text-align: right'>2.09129362024</td>\r\n",
        "<td style='text-align: right'>2.91623905216</td>\r\n",
        "<td style='text-align: right'>5</td>\r\n",
        "<td style='text-align: right'>0</td>\r\n",
        "<td style='text-align: right'>0</td>\r\n",
        "<td style='text-align: right'>6</td>\r\n",
        "<td style='text-align: right'>0</td>\r\n",
        "<td style='text-align: right'>0</td>\r\n",
        "<td style='text-align: right'>4</td>\r\n",
        "<td style='text-align: right'>0</td>\r\n",
        "<td style='text-align: right'>0</td>\r\n",
        "<td style='text-align: right'>3</td>\r\n",
        "<td style='text-align: right'>1</td>\r\n",
        "<td style='text-align: right'>1</td>\r\n",
        "<td style='text-align: right'>1.5</td>\r\n",
        "<td style='text-align: right'>0.0</td>\r\n",
        "<td style='text-align: right'>0.0</td>\r\n",
        "<td style='text-align: right'>14325</td>\r\n",
        "<td style='text-align: right'>0</td>\r\n",
        "<td style='text-align: right'>0</td>\r\n",
        "<td style='text-align: right'>9974</td>\r\n",
        "<td style='text-align: right'>0</td>\r\n",
        "<td style='text-align: right'>0</td>\r\n",
        "<td style='text-align: right'>4497</td>\r\n",
        "<td style='text-align: right'>0</td>\r\n",
        "<td style='text-align: right'>0</td>\r\n",
        "<td style='text-align: right'>3223</td>\r\n",
        "<td style='text-align: right'>0</td>\r\n",
        "<td style='text-align: right'>0</td>\r\n",
        "</tr>\r\n",
        "<tr>\r\n",
        "<td>expt04_workflow_1_9_1</td>\r\n",
        "<td>MN02837</td>\r\n",
        "<td>50349</td>\r\n",
        "<td></td>\r\n",
        "<td>2014-06-24 15:11:33___2014-06-24 19:15:29___2014-06-24 23:19:33___2014-06-25 03:23:45___2014-06-25 07:27:59</td>\r\n",
        "<td style='text-align: right'>413</td>\r\n",
        "<td style='text-align: right'>413</td>\r\n",
        "<td style='text-align: right'>413</td>\r\n",
        "<td style='text-align: right'>301</td>\r\n",
        "<td style='text-align: right'>85</td>\r\n",
        "<td style='text-align: right'>44</td>\r\n",
        "<td style='text-align: right'>29</td>\r\n",
        "<td style='text-align: right'>12</td>\r\n",
        "<td style='text-align: right'>821958</td>\r\n",
        "<td style='text-align: right'>216490</td>\r\n",
        "<td style='text-align: right'>157467</td>\r\n",
        "<td style='text-align: right'>2730</td>\r\n",
        "<td style='text-align: right'>2546</td>\r\n",
        "<td style='text-align: right'>3578</td>\r\n",
        "<td style='text-align: right'>120</td>\r\n",
        "<td style='text-align: right'>89</td>\r\n",
        "<td style='text-align: right'>97</td>\r\n",
        "<td style='text-align: right'>67</td>\r\n",
        "<td style='text-align: right'>4.16949459166</td>\r\n",
        "<td style='text-align: right'>3.89310381864</td>\r\n",
        "<td style='text-align: right'>6.87236181541</td>\r\n",
        "<td style='text-align: right'>2.56539931148</td>\r\n",
        "<td style='text-align: right'>3.25486145115</td>\r\n",
        "<td style='text-align: right'>28</td>\r\n",
        "<td style='text-align: right'>0</td>\r\n",
        "<td style='text-align: right'>6</td>\r\n",
        "<td style='text-align: right'>8</td>\r\n",
        "<td style='text-align: right'>0</td>\r\n",
        "<td style='text-align: right'>4</td>\r\n",
        "<td style='text-align: right'>6</td>\r\n",
        "<td style='text-align: right'>3</td>\r\n",
        "<td style='text-align: right'>0</td>\r\n",
        "<td style='text-align: right'>27</td>\r\n",
        "<td style='text-align: right'>10</td>\r\n",
        "<td style='text-align: right'>1</td>\r\n",
        "<td style='text-align: right'>3.16666666667</td>\r\n",
        "<td style='text-align: right'>5.0</td>\r\n",
        "<td style='text-align: right'>0.0</td>\r\n",
        "<td style='text-align: right'>27256</td>\r\n",
        "<td style='text-align: right'>8345</td>\r\n",
        "<td style='text-align: right'>0</td>\r\n",
        "<td style='text-align: right'>5288</td>\r\n",
        "<td style='text-align: right'>7023</td>\r\n",
        "<td style='text-align: right'>0</td>\r\n",
        "<td style='text-align: right'>2033</td>\r\n",
        "<td style='text-align: right'>3018</td>\r\n",
        "<td style='text-align: right'>0</td>\r\n",
        "<td style='text-align: right'>4073</td>\r\n",
        "<td style='text-align: right'>2341</td>\r\n",
        "<td style='text-align: right'>0</td>\r\n",
        "</tr>\r\n",
        "<tr>\r\n",
        "<td>expt05_aliquot_1_workflow_1_9_1</td>\r\n",
        "<td>MN02837</td>\r\n",
        "<td>50474</td>\r\n",
        "<td></td>\r\n",
        "<td>2014-06-25 11:53:28___2014-06-25 11:56:44</td>\r\n",
        "<td style='text-align: right'>61038</td>\r\n",
        "<td style='text-align: right'>61038</td>\r\n",
        "<td style='text-align: right'>61038</td>\r\n",
        "<td style='text-align: right'>54402</td>\r\n",
        "<td style='text-align: right'>21566</td>\r\n",
        "<td style='text-align: right'>2832</td>\r\n",
        "<td style='text-align: right'>442</td>\r\n",
        "<td style='text-align: right'>340</td>\r\n",
        "<td style='text-align: right'>29235836</td>\r\n",
        "<td style='text-align: right'>10196194</td>\r\n",
        "<td style='text-align: right'>7194178</td>\r\n",
        "<td style='text-align: right'>537</td>\r\n",
        "<td style='text-align: right'>472</td>\r\n",
        "<td style='text-align: right'>2540</td>\r\n",
        "<td style='text-align: right'>23</td>\r\n",
        "<td style='text-align: right'>21</td>\r\n",
        "<td style='text-align: right'>14</td>\r\n",
        "<td style='text-align: right'>12</td>\r\n",
        "<td style='text-align: right'>4.12112593279</td>\r\n",
        "<td style='text-align: right'>4.12243427296</td>\r\n",
        "<td style='text-align: right'>6.94799897833</td>\r\n",
        "<td style='text-align: right'>2.71165805451</td>\r\n",
        "<td style='text-align: right'>3.31209449306</td>\r\n",
        "<td style='text-align: right'>573</td>\r\n",
        "<td style='text-align: right'>9</td>\r\n",
        "<td style='text-align: right'>175</td>\r\n",
        "<td style='text-align: right'>646</td>\r\n",
        "<td style='text-align: right'>11</td>\r\n",
        "<td style='text-align: right'>208</td>\r\n",
        "<td style='text-align: right'>661</td>\r\n",
        "<td style='text-align: right'>77</td>\r\n",
        "<td style='text-align: right'>11</td>\r\n",
        "<td style='text-align: right'>155</td>\r\n",
        "<td style='text-align: right'>57</td>\r\n",
        "<td style='text-align: right'>4</td>\r\n",
        "<td style='text-align: right'>5.05597579425</td>\r\n",
        "<td style='text-align: right'>7.07792207792</td>\r\n",
        "<td style='text-align: right'>1.72727272727</td>\r\n",
        "<td style='text-align: right'>1613779</td>\r\n",
        "<td style='text-align: right'>152146</td>\r\n",
        "<td style='text-align: right'>36856</td>\r\n",
        "<td style='text-align: right'>1343844</td>\r\n",
        "<td style='text-align: right'>130823</td>\r\n",
        "<td style='text-align: right'>7858</td>\r\n",
        "<td style='text-align: right'>546223</td>\r\n",
        "<td style='text-align: right'>47469</td>\r\n",
        "<td style='text-align: right'>3389</td>\r\n",
        "<td style='text-align: right'>201734</td>\r\n",
        "<td style='text-align: right'>44823</td>\r\n",
        "<td style='text-align: right'>1877</td>\r\n",
        "</tr>\r\n",
        "<tr>\r\n",
        "<td>E05_aliquot_3_workflow_1_9_1</td>\r\n",
        "<td>MN02837</td>\r\n",
        "<td>50474</td>\r\n",
        "<td></td>\r\n",
        "<td>2014-06-25 16:12:46___2014-06-25 16:19:10</td>\r\n",
        "<td style='text-align: right'>9540</td>\r\n",
        "<td style='text-align: right'>9540</td>\r\n",
        "<td style='text-align: right'>9540</td>\r\n",
        "<td style='text-align: right'>8413</td>\r\n",
        "<td style='text-align: right'>3265</td>\r\n",
        "<td style='text-align: right'>402</td>\r\n",
        "<td style='text-align: right'>121</td>\r\n",
        "<td style='text-align: right'>75</td>\r\n",
        "<td style='text-align: right'>4952074</td>\r\n",
        "<td style='text-align: right'>1687884</td>\r\n",
        "<td style='text-align: right'>965338</td>\r\n",
        "<td style='text-align: right'>588</td>\r\n",
        "<td style='text-align: right'>516</td>\r\n",
        "<td style='text-align: right'>2401</td>\r\n",
        "<td style='text-align: right'>53</td>\r\n",
        "<td style='text-align: right'>48</td>\r\n",
        "<td style='text-align: right'>35</td>\r\n",
        "<td style='text-align: right'>26</td>\r\n",
        "<td style='text-align: right'>5.54670627155</td>\r\n",
        "<td style='text-align: right'>4.90231351912</td>\r\n",
        "<td style='text-align: right'>6.57109004387</td>\r\n",
        "<td style='text-align: right'>2.14467963807</td>\r\n",
        "<td style='text-align: right'>2.94623662576</td>\r\n",
        "<td style='text-align: right'>110</td>\r\n",
        "<td style='text-align: right'>0</td>\r\n",
        "<td style='text-align: right'>23</td>\r\n",
        "<td style='text-align: right'>117</td>\r\n",
        "<td style='text-align: right'>2</td>\r\n",
        "<td style='text-align: right'>24</td>\r\n",
        "<td style='text-align: right'>417</td>\r\n",
        "<td style='text-align: right'>37</td>\r\n",
        "<td style='text-align: right'>4</td>\r\n",
        "<td style='text-align: right'>92</td>\r\n",
        "<td style='text-align: right'>28</td>\r\n",
        "<td style='text-align: right'>2</td>\r\n",
        "<td style='text-align: right'>3.59712230216</td>\r\n",
        "<td style='text-align: right'>6.81081081081</td>\r\n",
        "<td style='text-align: right'>2.5</td>\r\n",
        "<td style='text-align: right'>918507</td>\r\n",
        "<td style='text-align: right'>106622</td>\r\n",
        "<td style='text-align: right'>16081</td>\r\n",
        "<td style='text-align: right'>619681</td>\r\n",
        "<td style='text-align: right'>80384</td>\r\n",
        "<td style='text-align: right'>4631</td>\r\n",
        "<td style='text-align: right'>255634</td>\r\n",
        "<td style='text-align: right'>32277</td>\r\n",
        "<td style='text-align: right'>1976</td>\r\n",
        "<td style='text-align: right'>56990</td>\r\n",
        "<td style='text-align: right'>16855</td>\r\n",
        "<td style='text-align: right'>2662</td>\r\n",
        "</tr>\r\n",
        "<tr>\r\n",
        "<td>E05_aliquot_5_workflow_1_9_1</td>\r\n",
        "<td>MN02837</td>\r\n",
        "<td>50474</td>\r\n",
        "<td></td>\r\n",
        "<td>2014-06-25 20:37:20___2014-06-25 20:43:46</td>\r\n",
        "<td style='text-align: right'>6165</td>\r\n",
        "<td style='text-align: right'>6165</td>\r\n",
        "<td style='text-align: right'>6165</td>\r\n",
        "<td style='text-align: right'>5354</td>\r\n",
        "<td style='text-align: right'>1874</td>\r\n",
        "<td style='text-align: right'>193</td>\r\n",
        "<td style='text-align: right'>99</td>\r\n",
        "<td style='text-align: right'>64</td>\r\n",
        "<td style='text-align: right'>2948315</td>\r\n",
        "<td style='text-align: right'>873864</td>\r\n",
        "<td style='text-align: right'>376181</td>\r\n",
        "<td style='text-align: right'>550</td>\r\n",
        "<td style='text-align: right'>466</td>\r\n",
        "<td style='text-align: right'>1949</td>\r\n",
        "<td style='text-align: right'>73</td>\r\n",
        "<td style='text-align: right'>65</td>\r\n",
        "<td style='text-align: right'>51</td>\r\n",
        "<td style='text-align: right'>33</td>\r\n",
        "<td style='text-align: right'>5.47662987949</td>\r\n",
        "<td style='text-align: right'>4.96568534895</td>\r\n",
        "<td style='text-align: right'>6.4416489039</td>\r\n",
        "<td style='text-align: right'>2.10656005459</td>\r\n",
        "<td style='text-align: right'>2.84019572578</td>\r\n",
        "<td style='text-align: right'>70</td>\r\n",
        "<td style='text-align: right'>0</td>\r\n",
        "<td style='text-align: right'>4</td>\r\n",
        "<td style='text-align: right'>77</td>\r\n",
        "<td style='text-align: right'>0</td>\r\n",
        "<td style='text-align: right'>4</td>\r\n",
        "<td style='text-align: right'>134</td>\r\n",
        "<td style='text-align: right'>4</td>\r\n",
        "<td style='text-align: right'>0</td>\r\n",
        "<td style='text-align: right'>18</td>\r\n",
        "<td style='text-align: right'>4</td>\r\n",
        "<td style='text-align: right'>0</td>\r\n",
        "<td style='text-align: right'>1.86567164179</td>\r\n",
        "<td style='text-align: right'>7.25</td>\r\n",
        "<td style='text-align: right'>0.0</td>\r\n",
        "<td style='text-align: right'>288459</td>\r\n",
        "<td style='text-align: right'>4331</td>\r\n",
        "<td style='text-align: right'>0</td>\r\n",
        "<td style='text-align: right'>117673</td>\r\n",
        "<td style='text-align: right'>7476</td>\r\n",
        "<td style='text-align: right'>0</td>\r\n",
        "<td style='text-align: right'>49554</td>\r\n",
        "<td style='text-align: right'>2946</td>\r\n",
        "<td style='text-align: right'>0</td>\r\n",
        "<td style='text-align: right'>9121</td>\r\n",
        "<td style='text-align: right'>6093</td>\r\n",
        "<td style='text-align: right'>0</td>\r\n",
        "</tr>\r\n",
        "<tr>\r\n",
        "<td>E05_aliquot_2_workflow_1_9_1</td>\r\n",
        "<td>MN02867</td>\r\n",
        "<td>34825</td>\r\n",
        "<td></td>\r\n",
        "<td>2014-06-25 11:56:18___2014-06-25 11:59:34</td>\r\n",
        "<td style='text-align: right'>19546</td>\r\n",
        "<td style='text-align: right'>19546</td>\r\n",
        "<td style='text-align: right'>19546</td>\r\n",
        "<td style='text-align: right'>16419</td>\r\n",
        "<td style='text-align: right'>5806</td>\r\n",
        "<td style='text-align: right'>422</td>\r\n",
        "<td style='text-align: right'>341</td>\r\n",
        "<td style='text-align: right'>194</td>\r\n",
        "<td style='text-align: right'>8796141</td>\r\n",
        "<td style='text-align: right'>2555856</td>\r\n",
        "<td style='text-align: right'>942200</td>\r\n",
        "<td style='text-align: right'>535</td>\r\n",
        "<td style='text-align: right'>440</td>\r\n",
        "<td style='text-align: right'>2232</td>\r\n",
        "<td style='text-align: right'>98</td>\r\n",
        "<td style='text-align: right'>86</td>\r\n",
        "<td style='text-align: right'>69</td>\r\n",
        "<td style='text-align: right'>41</td>\r\n",
        "<td style='text-align: right'>6.55619263626</td>\r\n",
        "<td style='text-align: right'>4.97974307872</td>\r\n",
        "<td style='text-align: right'>6.54715123602</td>\r\n",
        "<td style='text-align: right'>2.09669257014</td>\r\n",
        "<td style='text-align: right'>2.97463610142</td>\r\n",
        "<td style='text-align: right'>250</td>\r\n",
        "<td style='text-align: right'>0</td>\r\n",
        "<td style='text-align: right'>46</td>\r\n",
        "<td style='text-align: right'>257</td>\r\n",
        "<td style='text-align: right'>1</td>\r\n",
        "<td style='text-align: right'>47</td>\r\n",
        "<td style='text-align: right'>2094</td>\r\n",
        "<td style='text-align: right'>68</td>\r\n",
        "<td style='text-align: right'>10</td>\r\n",
        "<td style='text-align: right'>132</td>\r\n",
        "<td style='text-align: right'>32</td>\r\n",
        "<td style='text-align: right'>1</td>\r\n",
        "<td style='text-align: right'>2.11604584527</td>\r\n",
        "<td style='text-align: right'>5.20588235294</td>\r\n",
        "<td style='text-align: right'>1.2</td>\r\n",
        "<td style='text-align: right'>2465882</td>\r\n",
        "<td style='text-align: right'>162837</td>\r\n",
        "<td style='text-align: right'>15312</td>\r\n",
        "<td style='text-align: right'>2687158</td>\r\n",
        "<td style='text-align: right'>94707</td>\r\n",
        "<td style='text-align: right'>6998</td>\r\n",
        "<td style='text-align: right'>1078647</td>\r\n",
        "<td style='text-align: right'>37266</td>\r\n",
        "<td style='text-align: right'>3054</td>\r\n",
        "<td style='text-align: right'>66455</td>\r\n",
        "<td style='text-align: right'>24047</td>\r\n",
        "<td style='text-align: right'>1495</td>\r\n",
        "</tr>\r\n",
        "<tr>\r\n",
        "<td>E05_aliquot_4_workflow_1_9_1</td>\r\n",
        "<td>MN02867</td>\r\n",
        "<td>34825</td>\r\n",
        "<td></td>\r\n",
        "<td>2014-06-25 16:13:38___2014-06-25 16:18:56</td>\r\n",
        "<td style='text-align: right'>18452</td>\r\n",
        "<td style='text-align: right'>18452</td>\r\n",
        "<td style='text-align: right'>18452</td>\r\n",
        "<td style='text-align: right'>15890</td>\r\n",
        "<td style='text-align: right'>6346</td>\r\n",
        "<td style='text-align: right'>801</td>\r\n",
        "<td style='text-align: right'>261</td>\r\n",
        "<td style='text-align: right'>201</td>\r\n",
        "<td style='text-align: right'>9647347</td>\r\n",
        "<td style='text-align: right'>3546556</td>\r\n",
        "<td style='text-align: right'>2154186</td>\r\n",
        "<td style='text-align: right'>607</td>\r\n",
        "<td style='text-align: right'>558</td>\r\n",
        "<td style='text-align: right'>2689</td>\r\n",
        "<td style='text-align: right'>77</td>\r\n",
        "<td style='text-align: right'>69</td>\r\n",
        "<td style='text-align: right'>53</td>\r\n",
        "<td style='text-align: right'>35</td>\r\n",
        "<td style='text-align: right'>5.80306061489</td>\r\n",
        "<td style='text-align: right'>4.91219426496</td>\r\n",
        "<td style='text-align: right'>6.61883257132</td>\r\n",
        "<td style='text-align: right'>2.16645770442</td>\r\n",
        "<td style='text-align: right'>3.0163199304</td>\r\n",
        "<td style='text-align: right'>304</td>\r\n",
        "<td style='text-align: right'>2</td>\r\n",
        "<td style='text-align: right'>65</td>\r\n",
        "<td style='text-align: right'>318</td>\r\n",
        "<td style='text-align: right'>4</td>\r\n",
        "<td style='text-align: right'>70</td>\r\n",
        "<td style='text-align: right'>932</td>\r\n",
        "<td style='text-align: right'>60</td>\r\n",
        "<td style='text-align: right'>8</td>\r\n",
        "<td style='text-align: right'>88</td>\r\n",
        "<td style='text-align: right'>21</td>\r\n",
        "<td style='text-align: right'>2</td>\r\n",
        "<td style='text-align: right'>3.06223175966</td>\r\n",
        "<td style='text-align: right'>14.0666666667</td>\r\n",
        "<td style='text-align: right'>2.375</td>\r\n",
        "<td style='text-align: right'>1640293</td>\r\n",
        "<td style='text-align: right'>137752</td>\r\n",
        "<td style='text-align: right'>28287</td>\r\n",
        "<td style='text-align: right'>1761064</td>\r\n",
        "<td style='text-align: right'>422359</td>\r\n",
        "<td style='text-align: right'>6675</td>\r\n",
        "<td style='text-align: right'>738995</td>\r\n",
        "<td style='text-align: right'>168435</td>\r\n",
        "<td style='text-align: right'>2824</td>\r\n",
        "<td style='text-align: right'>573241</td>\r\n",
        "<td style='text-align: right'>370263</td>\r\n",
        "<td style='text-align: right'>2123</td>\r\n",
        "</tr>\r\n",
        "</tbody>\r\n",
        "</table>\r\n"
       ],
       "metadata": {},
       "output_type": "pyout",
       "prompt_number": 326,
       "text": [
        "+-----------------------------------+--------------+------------+----------------+---------------------------------------------------------------------------------------------------------------+-------------------------+----------------------------+-------------------------------+---------------------------------------+-----------------------------------------+---------------------------------+---------------------------+------------------------------------+------------------------------+--------------------------------+------------------------+-----------------------------+-------------------------------+-----------------------+--------------------------------------------+----------------------+--------------------------+----------------------------+------------------------+--------------------------+--------------------+------------------------------+--------------------------------+----------------------------------------+------------------------------------------+----------------------------------+--------------------------------+----------------------------------+--------------------------+------------------------------------+--------------------------------------+------------------------------+------------------------------------+--------------------------------------+------------------------------+-----------------------------------------+-------------------------------------------+-----------------------------------+---------------------------------------------------+-----------------------------------------------------+---------------------------------------------+----------------------------------------------------+------------------------------------------------------+----------------------------------------------+----------------------------------------+------------------------------------------+----------------------------------+------------------------------------+--------------------------------------+------------------------------+\n",
        "| 'experiment'                      | 'device_ids' | 'asic_ids' | 'flowcell_ids' | 'exp_start_times'                                                                                             | 'total_number_of_reads' | 'number_of_reads_analysed' | 'number_of_reads_base_called' | 'number_of_reads_with_template_calls' | 'number_of_reads_with_complement_calls' | 'number_of_reads_with_2D_calls' | 'number_of_channels_used' | 'number_of_channels_with_2D_calls' | 'total_read_length_template' | 'total_read_length_complement' | 'total_read_length_2D' | 'mean_read_length_template' | 'mean_read_length_complement' | 'mean_read_length_2D' | 'mean_duration_read_where_template_called' | 'mean_duration_read' | 'mean_duration_template' | 'mean_duration_complement' | 'mean_qscore_template' | 'mean_qscore_complement' | 'mean_qscore_2D'   | 'mean_strand_score_template' | 'mean_strand_score_complement' | 'number_mapped_to_ont_lambda_template' | 'number_mapped_to_ont_lambda_complement' | 'number_mapped_to_ont_lambda_2D' | 'number_mapped_to_cs_template' | 'number_mapped_to_cs_complement' | 'number_mapped_to_cs_2D' | 'number_mapped_to_3D7_V3_template' | 'number_mapped_to_3D7_V3_complement' | 'number_mapped_to_3D7_V3_2D' | 'number_mapped_to_AgamP3_template' | 'number_mapped_to_AgamP3_complement' | 'number_mapped_to_AgamP3_2D' | 'mean_number_fragments_3D7_V3_template' | 'mean_number_fragments_3D7_V3_complement' | 'mean_number_fragments_3D7_V3_2D' | 'total_length_of_reads_mapped_to_3D7_V3_template' | 'total_length_of_reads_mapped_to_3D7_V3_complement' | 'total_length_of_reads_mapped_to_3D7_V3_2D' | 'mapped_length_of_reads_mapped_to_3D7_V3_template' | 'mapped_length_of_reads_mapped_to_3D7_V3_complement' | 'mapped_length_of_reads_mapped_to_3D7_V3_2D' | 'number_of_mismatches_3D7_V3_template' | 'number_of_mismatches_3D7_V3_complement' | 'number_of_mismatches_3D7_V3_2D' | 'longest_match_to_3D7_V3_template' | 'longest_match_to_3D7_V3_complement' | 'longest_match_to_3D7_V3_2D' |\n",
        "+===================================+==============+============+================+===============================================================================================================+=========================+============================+===============================+=======================================+=========================================+=================================+===========================+====================================+==============================+================================+========================+=============================+===============================+=======================+============================================+======================+==========================+============================+========================+==========================+====================+==============================+================================+========================================+==========================================+==================================+================================+==================================+==========================+====================================+======================================+==============================+====================================+======================================+==============================+=========================================+===========================================+===================================+===================================================+=====================================================+=============================================+====================================================+======================================================+==============================================+========================================+==========================================+==================================+====================================+======================================+==============================+\n",
        "| 'expt01_workflow_1_8_4'           | 'MN02837'    | '50349'    | ''             | '2014-06-19 11:41:15___2014-06-19 11:44:30'                                                                   |                    7362 |                       7362 |                          7362 |                                  3728 |                                    2124 |                             493 |                       352 |                                178 |                     18899768 |                        7107308 |                2602319 |                        5069 |                          3346 |                  5278 |                                        414 |                  215 |                      320 |                        146 |     5.8604733017907593 |       4.1736233980103474 | 6.3916980124941079 |           2.4015676265944599 |             3.2914392317969221 |                                      0 |                                        0 |                                0 |                              0 |                                0 |                        0 |                                  0 |                                    0 |                            0 |                                  0 |                                    0 |                            0 |                                     0.0 |                                       0.0 |                               0.0 |                                                 0 |                                                   0 |                                           0 |                                                  0 |                                                    0 |                                            0 |                                      0 |                                        0 |                                0 |                                  0 |                                    0 |                            0 |\n",
        "+-----------------------------------+--------------+------------+----------------+---------------------------------------------------------------------------------------------------------------+-------------------------+----------------------------+-------------------------------+---------------------------------------+-----------------------------------------+---------------------------------+---------------------------+------------------------------------+------------------------------+--------------------------------+------------------------+-----------------------------+-------------------------------+-----------------------+--------------------------------------------+----------------------+--------------------------+----------------------------+------------------------+--------------------------+--------------------+------------------------------+--------------------------------+----------------------------------------+------------------------------------------+----------------------------------+--------------------------------+----------------------------------+--------------------------+------------------------------------+--------------------------------------+------------------------------+------------------------------------+--------------------------------------+------------------------------+-----------------------------------------+-------------------------------------------+-----------------------------------+---------------------------------------------------+-----------------------------------------------------+---------------------------------------------+----------------------------------------------------+------------------------------------------------------+----------------------------------------------+----------------------------------------+------------------------------------------+----------------------------------+------------------------------------+--------------------------------------+------------------------------+\n",
        "| 'expt01_workflow_1_9'             | 'MN02837'    | '50349'    | ''             | '2014-06-19 11:41:15___2014-06-19 11:44:30'                                                                   |                    7362 |                       7362 |                          7362 |                                  5041 |                                    2408 |                             745 |                       352 |                                208 |                     19344189 |                        6920804 |                3824235 |                        3837 |                          2874 |                  5133 |                                        311 |                  215 |                      242 |                        129 |      5.823278441442409 |       4.7487105751644449 |  7.381664343662977 |           2.4427370283248147 |             3.2307188208367204 |                                   3390 |                                      495 |                              581 |                            605 |                              106 |                      133 |                                 18 |                                    6 |                            0 |                                 24 |                                    7 |                            0 |                      11.111111111111111 |                                      37.0 |                               0.0 |                                            138649 |                                               25098 |                                           0 |                                              58967 |                                                47742 |                                            0 |                                  22383 |                                    15189 |                                0 |                              30929 |                                37839 |                            0 |\n",
        "+-----------------------------------+--------------+------------+----------------+---------------------------------------------------------------------------------------------------------------+-------------------------+----------------------------+-------------------------------+---------------------------------------+-----------------------------------------+---------------------------------+---------------------------+------------------------------------+------------------------------+--------------------------------+------------------------+-----------------------------+-------------------------------+-----------------------+--------------------------------------------+----------------------+--------------------------+----------------------------+------------------------+--------------------------+--------------------+------------------------------+--------------------------------+----------------------------------------+------------------------------------------+----------------------------------+--------------------------------+----------------------------------+--------------------------+------------------------------------+--------------------------------------+------------------------------+------------------------------------+--------------------------------------+------------------------------+-----------------------------------------+-------------------------------------------+-----------------------------------+---------------------------------------------------+-----------------------------------------------------+---------------------------------------------+----------------------------------------------------+------------------------------------------------------+----------------------------------------------+----------------------------------------+------------------------------------------+----------------------------------+------------------------------------+--------------------------------------+------------------------------+\n",
        "| 'expt01_workflow_1_9_1'           | 'MN02837'    | '50349'    | ''             | '2014-06-19 11:41:15___2014-06-19 11:44:30'                                                                   |                    7358 |                       7358 |                          7358 |                                  5037 |                                    2404 |                             768 |                       352 |                                210 |                     19309802 |                        6894392 |                3820990 |                        3833 |                          2867 |                  4975 |                                        310 |                  215 |                      242 |                        128 |     5.8230223000874206 |       4.7484685833311779 | 7.3844697667036181 |           2.4429301386330797 |             3.2310007620995083 |                                   3386 |                                      493 |                              594 |                            605 |                              106 |                      133 |                                  2 |                                    6 |                            0 |                                 24 |                                    7 |                            0 |                                     8.0 |                                      37.0 |                               0.0 |                                              1419 |                                               25098 |                                           0 |                                               2330 |                                                47742 |                                            0 |                                    734 |                                    15189 |                                0 |                               1165 |                                37839 |                            0 |\n",
        "+-----------------------------------+--------------+------------+----------------+---------------------------------------------------------------------------------------------------------------+-------------------------+----------------------------+-------------------------------+---------------------------------------+-----------------------------------------+---------------------------------+---------------------------+------------------------------------+------------------------------+--------------------------------+------------------------+-----------------------------+-------------------------------+-----------------------+--------------------------------------------+----------------------+--------------------------+----------------------------+------------------------+--------------------------+--------------------+------------------------------+--------------------------------+----------------------------------------+------------------------------------------+----------------------------------+--------------------------------+----------------------------------+--------------------------+------------------------------------+--------------------------------------+------------------------------+------------------------------------+--------------------------------------+------------------------------+-----------------------------------------+-------------------------------------------+-----------------------------------+---------------------------------------------------+-----------------------------------------------------+---------------------------------------------+----------------------------------------------------+------------------------------------------------------+----------------------------------------------+----------------------------------------+------------------------------------------+----------------------------------+------------------------------------+--------------------------------------+------------------------------+\n",
        "| 'expt02_workflow_1_9_1'           | 'MN02837'    | '50349'    | ''             | '2014-06-23 12:55:55'                                                                                         |                     294 |                        294 |                           294 |                                   181 |                                      69 |                              39 |                        35 |                                 16 |                       457479 |                         183466 |                 149776 |                        2527 |                          2658 |                  3840 |                                        244 |                  155 |                      169 |                        175 |     5.2157229577235471 |       4.9079934845692899 | 6.4656480305803257 |           2.2298097014982452 |             2.7943197565925488 |                                      6 |                                        1 |                                1 |                              6 |                                1 |                        1 |                                 20 |                                    3 |                            0 |                                  5 |                                    1 |                            0 |                      4.7000000000000002 |                        1.3333333333333333 |                               0.0 |                                            176389 |                                                9244 |                                           0 |                                              63859 |                                                 1309 |                                            0 |                                  28437 |                                      593 |                                0 |                              15182 |                                  940 |                            0 |\n",
        "+-----------------------------------+--------------+------------+----------------+---------------------------------------------------------------------------------------------------------------+-------------------------+----------------------------+-------------------------------+---------------------------------------+-----------------------------------------+---------------------------------+---------------------------+------------------------------------+------------------------------+--------------------------------+------------------------+-----------------------------+-------------------------------+-----------------------+--------------------------------------------+----------------------+--------------------------+----------------------------+------------------------+--------------------------+--------------------+------------------------------+--------------------------------+----------------------------------------+------------------------------------------+----------------------------------+--------------------------------+----------------------------------+--------------------------+------------------------------------+--------------------------------------+------------------------------+------------------------------------+--------------------------------------+------------------------------+-----------------------------------------+-------------------------------------------+-----------------------------------+---------------------------------------------------+-----------------------------------------------------+---------------------------------------------+----------------------------------------------------+------------------------------------------------------+----------------------------------------------+----------------------------------------+------------------------------------------+----------------------------------+------------------------------------+--------------------------------------+------------------------------+\n",
        "| 'expt03_workflow_1_9_1'           | 'MN02837'    | '50349'    | ''             | '2014-06-23 19:18:25___2014-06-23 19:21:40___2014-06-23 23:25:42___2014-06-24 03:29:55'                       |                     358 |                        358 |                           358 |                                   159 |                                      49 |                              21 |                        46 |                                 14 |                       212689 |                          75587 |                  63058 |                        1337 |                          1542 |                  3002 |                                        157 |                   78 |                      116 |                         97 |     5.6309860468376556 |       4.6025201479439763 | 6.6010972039315936 |           2.0912936202394778 |             2.9162390521647752 |                                      5 |                                        0 |                                0 |                              6 |                                0 |                        0 |                                  4 |                                    0 |                            0 |                                  3 |                                    1 |                            1 |                                     1.5 |                                       0.0 |                               0.0 |                                             14325 |                                                   0 |                                           0 |                                               9974 |                                                    0 |                                            0 |                                   4497 |                                        0 |                                0 |                               3223 |                                    0 |                            0 |\n",
        "+-----------------------------------+--------------+------------+----------------+---------------------------------------------------------------------------------------------------------------+-------------------------+----------------------------+-------------------------------+---------------------------------------+-----------------------------------------+---------------------------------+---------------------------+------------------------------------+------------------------------+--------------------------------+------------------------+-----------------------------+-------------------------------+-----------------------+--------------------------------------------+----------------------+--------------------------+----------------------------+------------------------+--------------------------+--------------------+------------------------------+--------------------------------+----------------------------------------+------------------------------------------+----------------------------------+--------------------------------+----------------------------------+--------------------------+------------------------------------+--------------------------------------+------------------------------+------------------------------------+--------------------------------------+------------------------------+-----------------------------------------+-------------------------------------------+-----------------------------------+---------------------------------------------------+-----------------------------------------------------+---------------------------------------------+----------------------------------------------------+------------------------------------------------------+----------------------------------------------+----------------------------------------+------------------------------------------+----------------------------------+------------------------------------+--------------------------------------+------------------------------+\n",
        "| 'expt04_workflow_1_9_1'           | 'MN02837'    | '50349'    | ''             | '2014-06-24 15:11:33___2014-06-24 19:15:29___2014-06-24 23:19:33___2014-06-25 03:23:45___2014-06-25 07:27:59' |                     413 |                        413 |                           413 |                                   301 |                                      85 |                              44 |                        29 |                                 12 |                       821958 |                         216490 |                 157467 |                        2730 |                          2546 |                  3578 |                                        120 |                   89 |                       97 |                         67 |     4.1694945916555533 |       3.8931038186372788 | 6.8723618154092829 |           2.5653993114810252 |             3.2548614511511205 |                                     28 |                                        0 |                                6 |                              8 |                                0 |                        4 |                                  6 |                                    3 |                            0 |                                 27 |                                   10 |                            1 |                      3.1666666666666665 |                                       5.0 |                               0.0 |                                             27256 |                                                8345 |                                           0 |                                               5288 |                                                 7023 |                                            0 |                                   2033 |                                     3018 |                                0 |                               4073 |                                 2341 |                            0 |\n",
        "+-----------------------------------+--------------+------------+----------------+---------------------------------------------------------------------------------------------------------------+-------------------------+----------------------------+-------------------------------+---------------------------------------+-----------------------------------------+---------------------------------+---------------------------+------------------------------------+------------------------------+--------------------------------+------------------------+-----------------------------+-------------------------------+-----------------------+--------------------------------------------+----------------------+--------------------------+----------------------------+------------------------+--------------------------+--------------------+------------------------------+--------------------------------+----------------------------------------+------------------------------------------+----------------------------------+--------------------------------+----------------------------------+--------------------------+------------------------------------+--------------------------------------+------------------------------+------------------------------------+--------------------------------------+------------------------------+-----------------------------------------+-------------------------------------------+-----------------------------------+---------------------------------------------------+-----------------------------------------------------+---------------------------------------------+----------------------------------------------------+------------------------------------------------------+----------------------------------------------+----------------------------------------+------------------------------------------+----------------------------------+------------------------------------+--------------------------------------+------------------------------+\n",
        "| 'expt05_aliquot_1_workflow_1_9_1' | 'MN02837'    | '50474'    | ''             | '2014-06-25 11:53:28___2014-06-25 11:56:44'                                                                   |                   61038 |                      61038 |                         61038 |                                 54402 |                                   21566 |                            2832 |                       442 |                                340 |                     29235836 |                       10196194 |                7194178 |                         537 |                           472 |                  2540 |                                         23 |                   21 |                       14 |                         12 |     4.1211259327857679 |       4.1224342729567827 |  6.947998978331654 |           2.7116580545096567 |             3.3120944930560219 |                                    573 |                                        9 |                              175 |                            646 |                               11 |                      208 |                                661 |                                   77 |                           11 |                                155 |                                   57 |                            4 |                      5.0559757942511343 |                        7.0779220779220777 |                1.7272727272727273 |                                           1613779 |                                              152146 |                                       36856 |                                            1343844 |                                               130823 |                                         7858 |                                 546223 |                                    47469 |                             3389 |                             201734 |                                44823 |                         1877 |\n",
        "+-----------------------------------+--------------+------------+----------------+---------------------------------------------------------------------------------------------------------------+-------------------------+----------------------------+-------------------------------+---------------------------------------+-----------------------------------------+---------------------------------+---------------------------+------------------------------------+------------------------------+--------------------------------+------------------------+-----------------------------+-------------------------------+-----------------------+--------------------------------------------+----------------------+--------------------------+----------------------------+------------------------+--------------------------+--------------------+------------------------------+--------------------------------+----------------------------------------+------------------------------------------+----------------------------------+--------------------------------+----------------------------------+--------------------------+------------------------------------+--------------------------------------+------------------------------+------------------------------------+--------------------------------------+------------------------------+-----------------------------------------+-------------------------------------------+-----------------------------------+---------------------------------------------------+-----------------------------------------------------+---------------------------------------------+----------------------------------------------------+------------------------------------------------------+----------------------------------------------+----------------------------------------+------------------------------------------+----------------------------------+------------------------------------+--------------------------------------+------------------------------+\n",
        "| 'E05_aliquot_3_workflow_1_9_1'    | 'MN02837'    | '50474'    | ''             | '2014-06-25 16:12:46___2014-06-25 16:19:10'                                                                   |                    9540 |                       9540 |                          9540 |                                  8413 |                                    3265 |                             402 |                       121 |                                 75 |                      4952074 |                        1687884 |                 965338 |                         588 |                           516 |                  2401 |                                         53 |                   48 |                       35 |                         26 |      5.546706271552674 |       4.9023135191248466 | 6.5710900438658744 |           2.1446796380736837 |             2.9462366257614274 |                                    110 |                                        0 |                               23 |                            117 |                                2 |                       24 |                                417 |                                   37 |                            4 |                                 92 |                                   28 |                            2 |                      3.5971223021582732 |                        6.8108108108108105 |                               2.5 |                                            918507 |                                              106622 |                                       16081 |                                             619681 |                                                80384 |                                         4631 |                                 255634 |                                    32277 |                             1976 |                              56990 |                                16855 |                         2662 |\n",
        "+-----------------------------------+--------------+------------+----------------+---------------------------------------------------------------------------------------------------------------+-------------------------+----------------------------+-------------------------------+---------------------------------------+-----------------------------------------+---------------------------------+---------------------------+------------------------------------+------------------------------+--------------------------------+------------------------+-----------------------------+-------------------------------+-----------------------+--------------------------------------------+----------------------+--------------------------+----------------------------+------------------------+--------------------------+--------------------+------------------------------+--------------------------------+----------------------------------------+------------------------------------------+----------------------------------+--------------------------------+----------------------------------+--------------------------+------------------------------------+--------------------------------------+------------------------------+------------------------------------+--------------------------------------+------------------------------+-----------------------------------------+-------------------------------------------+-----------------------------------+---------------------------------------------------+-----------------------------------------------------+---------------------------------------------+----------------------------------------------------+------------------------------------------------------+----------------------------------------------+----------------------------------------+------------------------------------------+----------------------------------+------------------------------------+--------------------------------------+------------------------------+\n",
        "| 'E05_aliquot_5_workflow_1_9_1'    | 'MN02837'    | '50474'    | ''             | '2014-06-25 20:37:20___2014-06-25 20:43:46'                                                                   |                    6165 |                       6165 |                          6165 |                                  5354 |                                    1874 |                             193 |                        99 |                                 64 |                      2948315 |                         873864 |                 376181 |                         550 |                           466 |                  1949 |                                         73 |                   65 |                       51 |                         33 |     5.4766298794876791 |       4.9656853489453008 |  6.441648903901493 |           2.1065600545901524 |             2.8401957257808514 |                                     70 |                                        0 |                                4 |                             77 |                                0 |                        4 |                                134 |                                    4 |                            0 |                                 18 |                                    4 |                            0 |                      1.8656716417910448 |                                      7.25 |                               0.0 |                                            288459 |                                                4331 |                                           0 |                                             117673 |                                                 7476 |                                            0 |                                  49554 |                                     2946 |                                0 |                               9121 |                                 6093 |                            0 |\n",
        "+-----------------------------------+--------------+------------+----------------+---------------------------------------------------------------------------------------------------------------+-------------------------+----------------------------+-------------------------------+---------------------------------------+-----------------------------------------+---------------------------------+---------------------------+------------------------------------+------------------------------+--------------------------------+------------------------+-----------------------------+-------------------------------+-----------------------+--------------------------------------------+----------------------+--------------------------+----------------------------+------------------------+--------------------------+--------------------+------------------------------+--------------------------------+----------------------------------------+------------------------------------------+----------------------------------+--------------------------------+----------------------------------+--------------------------+------------------------------------+--------------------------------------+------------------------------+------------------------------------+--------------------------------------+------------------------------+-----------------------------------------+-------------------------------------------+-----------------------------------+---------------------------------------------------+-----------------------------------------------------+---------------------------------------------+----------------------------------------------------+------------------------------------------------------+----------------------------------------------+----------------------------------------+------------------------------------------+----------------------------------+------------------------------------+--------------------------------------+------------------------------+\n",
        "| 'E05_aliquot_2_workflow_1_9_1'    | 'MN02867'    | '34825'    | ''             | '2014-06-25 11:56:18___2014-06-25 11:59:34'                                                                   |                   19546 |                      19546 |                         19546 |                                 16419 |                                    5806 |                             422 |                       341 |                                194 |                      8796141 |                        2555856 |                 942200 |                         535 |                           440 |                  2232 |                                         98 |                   86 |                       69 |                         41 |     6.5561926362571574 |       4.9797430787195269 | 6.5471512360244271 |           2.0966925701356307 |             2.9746361014153755 |                                    250 |                                        0 |                               46 |                            257 |                                1 |                       47 |                               2094 |                                   68 |                           10 |                                132 |                                   32 |                            1 |                      2.1160458452722062 |                        5.2058823529411766 |                               1.2 |                                           2465882 |                                              162837 |                                       15312 |                                            2687158 |                                                94707 |                                         6998 |                                1078647 |                                    37266 |                             3054 |                              66455 |                                24047 |                         1495 |\n",
        "+-----------------------------------+--------------+------------+----------------+---------------------------------------------------------------------------------------------------------------+-------------------------+----------------------------+-------------------------------+---------------------------------------+-----------------------------------------+---------------------------------+---------------------------+------------------------------------+------------------------------+--------------------------------+------------------------+-----------------------------+-------------------------------+-----------------------+--------------------------------------------+----------------------+--------------------------+----------------------------+------------------------+--------------------------+--------------------+------------------------------+--------------------------------+----------------------------------------+------------------------------------------+----------------------------------+--------------------------------+----------------------------------+--------------------------+------------------------------------+--------------------------------------+------------------------------+------------------------------------+--------------------------------------+------------------------------+-----------------------------------------+-------------------------------------------+-----------------------------------+---------------------------------------------------+-----------------------------------------------------+---------------------------------------------+----------------------------------------------------+------------------------------------------------------+----------------------------------------------+----------------------------------------+------------------------------------------+----------------------------------+------------------------------------+--------------------------------------+------------------------------+\n"
       ]
      }
     ],
     "prompt_number": 326
    },
    {
     "cell_type": "code",
     "collapsed": false,
     "input": [
      "read_summary_tables['E05_aliquot_3_workflow_1_9_1'].select(lambda rec: rec['total_fragment_length_3D7_V3_2D'] == 2662).head(3)"
     ],
     "language": "python",
     "metadata": {},
     "outputs": [
      {
       "html": [
        "<table>\r\n",
        "<thead>\r\n",
        "<tr>\r\n",
        "<th>fast5_filename</th>\r\n",
        "<th>read_type_from_log</th>\r\n",
        "<th>channel_number</th>\r\n",
        "<th>read_number</th>\r\n",
        "<th>device_id</th>\r\n",
        "<th>asic_id</th>\r\n",
        "<th>flow_cell_id</th>\r\n",
        "<th>asic_temp</th>\r\n",
        "<th>heatsink_temp</th>\r\n",
        "<th>exp_start_time</th>\r\n",
        "<th>version_name</th>\r\n",
        "<th>run_id</th>\r\n",
        "<th>is_analysed</th>\r\n",
        "<th>is_base_called_2d</th>\r\n",
        "<th>has_template_read</th>\r\n",
        "<th>has_complement_read</th>\r\n",
        "<th>has_2D_read</th>\r\n",
        "<th>read_length_template</th>\r\n",
        "<th>read_length_complement</th>\r\n",
        "<th>read_length_2D</th>\r\n",
        "<th>start_time_read</th>\r\n",
        "<th>duration_read</th>\r\n",
        "<th>start_time_template</th>\r\n",
        "<th>duration_template</th>\r\n",
        "<th>start_time_complement</th>\r\n",
        "<th>duration_complement</th>\r\n",
        "<th>basecall_called_events_template</th>\r\n",
        "<th>basecall_num_events_template</th>\r\n",
        "<th>basecall_num_skips_template</th>\r\n",
        "<th>basecall_num_stays_template</th>\r\n",
        "<th>basecall_mean_qscore_template</th>\r\n",
        "<th>basecall_strand_score_template</th>\r\n",
        "<th>basecall_called_events_complement</th>\r\n",
        "<th>basecall_num_events_complement</th>\r\n",
        "<th>basecall_num_skips_complement</th>\r\n",
        "<th>basecall_num_stays_complement</th>\r\n",
        "<th>basecall_mean_qscore_complement</th>\r\n",
        "<th>basecall_strand_score_complement</th>\r\n",
        "<th>basecall_mean_qscore_2D</th>\r\n",
        "<th>basecall_sequence_length_2D</th>\r\n",
        "<th>basecall_num_raw_events_template</th>\r\n",
        "<th>basecall_num_merged_events_template</th>\r\n",
        "<th>basecall_num_raw_events_complement</th>\r\n",
        "<th>basecall_num_merged_events_complement</th>\r\n",
        "<th>read_names_ont_lambda_template</th>\r\n",
        "<th>fragments_ont_lambda_template</th>\r\n",
        "<th>total_fragment_length_ont_lambda_template</th>\r\n",
        "<th>mean_fragment_length_ont_lambda_template</th>\r\n",
        "<th>min_fragment_length_ont_lambda_template</th>\r\n",
        "<th>max_fragment_length_ont_lambda_template</th>\r\n",
        "<th>mismatches_ont_lambda_template</th>\r\n",
        "<th>Ns_ont_lambda_template</th>\r\n",
        "<th>deletions_ont_lambda_template</th>\r\n",
        "<th>insertions_ont_lambda_template</th>\r\n",
        "<th>read_names_ont_lambda_complement</th>\r\n",
        "<th>fragments_ont_lambda_complement</th>\r\n",
        "<th>total_fragment_length_ont_lambda_complement</th>\r\n",
        "<th>mean_fragment_length_ont_lambda_complement</th>\r\n",
        "<th>min_fragment_length_ont_lambda_complement</th>\r\n",
        "<th>max_fragment_length_ont_lambda_complement</th>\r\n",
        "<th>mismatches_ont_lambda_complement</th>\r\n",
        "<th>Ns_ont_lambda_complement</th>\r\n",
        "<th>deletions_ont_lambda_complement</th>\r\n",
        "<th>insertions_ont_lambda_complement</th>\r\n",
        "<th>read_names_ont_lambda_2D</th>\r\n",
        "<th>fragments_ont_lambda_2D</th>\r\n",
        "<th>total_fragment_length_ont_lambda_2D</th>\r\n",
        "<th>mean_fragment_length_ont_lambda_2D</th>\r\n",
        "<th>min_fragment_length_ont_lambda_2D</th>\r\n",
        "<th>max_fragment_length_ont_lambda_2D</th>\r\n",
        "<th>mismatches_ont_lambda_2D</th>\r\n",
        "<th>Ns_ont_lambda_2D</th>\r\n",
        "<th>deletions_ont_lambda_2D</th>\r\n",
        "<th>insertions_ont_lambda_2D</th>\r\n",
        "<th>read_names_cs_template</th>\r\n",
        "<th>fragments_cs_template</th>\r\n",
        "<th>total_fragment_length_cs_template</th>\r\n",
        "<th>mean_fragment_length_cs_template</th>\r\n",
        "<th>min_fragment_length_cs_template</th>\r\n",
        "<th>max_fragment_length_cs_template</th>\r\n",
        "<th>mismatches_cs_template</th>\r\n",
        "<th>Ns_cs_template</th>\r\n",
        "<th>deletions_cs_template</th>\r\n",
        "<th>insertions_cs_template</th>\r\n",
        "<th>read_names_cs_complement</th>\r\n",
        "<th>fragments_cs_complement</th>\r\n",
        "<th>total_fragment_length_cs_complement</th>\r\n",
        "<th>mean_fragment_length_cs_complement</th>\r\n",
        "<th>min_fragment_length_cs_complement</th>\r\n",
        "<th>max_fragment_length_cs_complement</th>\r\n",
        "<th>mismatches_cs_complement</th>\r\n",
        "<th>Ns_cs_complement</th>\r\n",
        "<th>deletions_cs_complement</th>\r\n",
        "<th>insertions_cs_complement</th>\r\n",
        "<th>read_names_cs_2D</th>\r\n",
        "<th>fragments_cs_2D</th>\r\n",
        "<th>total_fragment_length_cs_2D</th>\r\n",
        "<th>mean_fragment_length_cs_2D</th>\r\n",
        "<th>min_fragment_length_cs_2D</th>\r\n",
        "<th>max_fragment_length_cs_2D</th>\r\n",
        "<th>mismatches_cs_2D</th>\r\n",
        "<th>Ns_cs_2D</th>\r\n",
        "<th>deletions_cs_2D</th>\r\n",
        "<th>insertions_cs_2D</th>\r\n",
        "<th>read_names_3D7_V3_template</th>\r\n",
        "<th>fragments_3D7_V3_template</th>\r\n",
        "<th>total_fragment_length_3D7_V3_template</th>\r\n",
        "<th>mean_fragment_length_3D7_V3_template</th>\r\n",
        "<th>min_fragment_length_3D7_V3_template</th>\r\n",
        "<th>max_fragment_length_3D7_V3_template</th>\r\n",
        "<th>mismatches_3D7_V3_template</th>\r\n",
        "<th>Ns_3D7_V3_template</th>\r\n",
        "<th>deletions_3D7_V3_template</th>\r\n",
        "<th>insertions_3D7_V3_template</th>\r\n",
        "<th>read_names_3D7_V3_complement</th>\r\n",
        "<th>fragments_3D7_V3_complement</th>\r\n",
        "<th>total_fragment_length_3D7_V3_complement</th>\r\n",
        "<th>mean_fragment_length_3D7_V3_complement</th>\r\n",
        "<th>min_fragment_length_3D7_V3_complement</th>\r\n",
        "<th>max_fragment_length_3D7_V3_complement</th>\r\n",
        "<th>mismatches_3D7_V3_complement</th>\r\n",
        "<th>Ns_3D7_V3_complement</th>\r\n",
        "<th>deletions_3D7_V3_complement</th>\r\n",
        "<th>insertions_3D7_V3_complement</th>\r\n",
        "<th>read_names_3D7_V3_2D</th>\r\n",
        "<th>fragments_3D7_V3_2D</th>\r\n",
        "<th>total_fragment_length_3D7_V3_2D</th>\r\n",
        "<th>mean_fragment_length_3D7_V3_2D</th>\r\n",
        "<th>min_fragment_length_3D7_V3_2D</th>\r\n",
        "<th>max_fragment_length_3D7_V3_2D</th>\r\n",
        "<th>mismatches_3D7_V3_2D</th>\r\n",
        "<th>Ns_3D7_V3_2D</th>\r\n",
        "<th>deletions_3D7_V3_2D</th>\r\n",
        "<th>insertions_3D7_V3_2D</th>\r\n",
        "<th>read_names_AgamP3_template</th>\r\n",
        "<th>fragments_AgamP3_template</th>\r\n",
        "<th>total_fragment_length_AgamP3_template</th>\r\n",
        "<th>mean_fragment_length_AgamP3_template</th>\r\n",
        "<th>min_fragment_length_AgamP3_template</th>\r\n",
        "<th>max_fragment_length_AgamP3_template</th>\r\n",
        "<th>mismatches_AgamP3_template</th>\r\n",
        "<th>Ns_AgamP3_template</th>\r\n",
        "<th>deletions_AgamP3_template</th>\r\n",
        "<th>insertions_AgamP3_template</th>\r\n",
        "<th>read_names_AgamP3_complement</th>\r\n",
        "<th>fragments_AgamP3_complement</th>\r\n",
        "<th>total_fragment_length_AgamP3_complement</th>\r\n",
        "<th>mean_fragment_length_AgamP3_complement</th>\r\n",
        "<th>min_fragment_length_AgamP3_complement</th>\r\n",
        "<th>max_fragment_length_AgamP3_complement</th>\r\n",
        "<th>mismatches_AgamP3_complement</th>\r\n",
        "<th>Ns_AgamP3_complement</th>\r\n",
        "<th>deletions_AgamP3_complement</th>\r\n",
        "<th>insertions_AgamP3_complement</th>\r\n",
        "<th>read_names_AgamP3_2D</th>\r\n",
        "<th>fragments_AgamP3_2D</th>\r\n",
        "<th>total_fragment_length_AgamP3_2D</th>\r\n",
        "<th>mean_fragment_length_AgamP3_2D</th>\r\n",
        "<th>min_fragment_length_AgamP3_2D</th>\r\n",
        "<th>max_fragment_length_AgamP3_2D</th>\r\n",
        "<th>mismatches_AgamP3_2D</th>\r\n",
        "<th>Ns_AgamP3_2D</th>\r\n",
        "<th>deletions_AgamP3_2D</th>\r\n",
        "<th>insertions_AgamP3_2D</th>\r\n",
        "</tr>\r\n",
        "</thead>\r\n",
        "<tbody>\r\n",
        "<tr>\r\n",
        "<td>/data/minion/PROCESSED_DATA/KWIAT50/E05_aliquot_3_workflow_1_9_1/KWIAT50_K50_EXPT05_3D7_F_aliquot3_140625_A_1909_1_ch119_file95_strand.fast5</td>\r\n",
        "<td>2D basecalling successful</td>\r\n",
        "<td style='text-align: right'>119</td>\r\n",
        "<td style='text-align: right'>93</td>\r\n",
        "<td>MN02837</td>\r\n",
        "<td>50474</td>\r\n",
        "<td></td>\r\n",
        "<td style='text-align: right'>37.1</td>\r\n",
        "<td style='text-align: right'>35.5</td>\r\n",
        "<td style='text-align: right'>1403713150</td>\r\n",
        "<td>0.45.1.6 b201406111512</td>\r\n",
        "<td>a97b22255408f7524aa4fc1f54fb8dcff96b8b6b</td>\r\n",
        "<td>True</td>\r\n",
        "<td>True</td>\r\n",
        "<td>True</td>\r\n",
        "<td>True</td>\r\n",
        "<td>True</td>\r\n",
        "<td style='text-align: right'>3920</td>\r\n",
        "<td style='text-align: right'>3233</td>\r\n",
        "<td style='text-align: right'>3816</td>\r\n",
        "<td style='text-align: right'>10459.126</td>\r\n",
        "<td style='text-align: right'>453.8926</td>\r\n",
        "<td style='text-align: right'>10466.5222</td>\r\n",
        "<td style='text-align: right'>262.4592</td>\r\n",
        "<td style='text-align: right'>10732.7306</td>\r\n",
        "<td style='text-align: right'>179.9912</td>\r\n",
        "<td style='text-align: right'>3863</td>\r\n",
        "<td style='text-align: right'>3888</td>\r\n",
        "<td style='text-align: right'>182</td>\r\n",
        "<td style='text-align: right'>130</td>\r\n",
        "<td style='text-align: right'>7.77678571429</td>\r\n",
        "<td style='text-align: right'>1.81248136435</td>\r\n",
        "<td style='text-align: right'>3696</td>\r\n",
        "<td style='text-align: right'>3708</td>\r\n",
        "<td style='text-align: right'>105</td>\r\n",
        "<td style='text-align: right'>573</td>\r\n",
        "<td style='text-align: right'>5.23755026291</td>\r\n",
        "<td style='text-align: right'>2.34236490335</td>\r\n",
        "<td style='text-align: right'>7.03799790356</td>\r\n",
        "<td style='text-align: right'>3816</td>\r\n",
        "<td style='text-align: right'>3933</td>\r\n",
        "<td style='text-align: right'>3888</td>\r\n",
        "<td style='text-align: right'>3751</td>\r\n",
        "<td style='text-align: right'>3708</td>\r\n",
        "<td>channel_119_read_93_template</td>\r\n",
        "<td style='text-align: right'>0</td>\r\n",
        "<td style='text-align: right'>0</td>\r\n",
        "<td style='text-align: right'>0</td>\r\n",
        "<td style='text-align: right'>0</td>\r\n",
        "<td style='text-align: right'>0</td>\r\n",
        "<td style='text-align: right'>0</td>\r\n",
        "<td style='text-align: right'>0</td>\r\n",
        "<td style='text-align: right'>0</td>\r\n",
        "<td style='text-align: right'>0</td>\r\n",
        "<td>channel_119_read_93_complement</td>\r\n",
        "<td style='text-align: right'>0</td>\r\n",
        "<td style='text-align: right'>0</td>\r\n",
        "<td style='text-align: right'>0</td>\r\n",
        "<td style='text-align: right'>0</td>\r\n",
        "<td style='text-align: right'>0</td>\r\n",
        "<td style='text-align: right'>0</td>\r\n",
        "<td style='text-align: right'>0</td>\r\n",
        "<td style='text-align: right'>0</td>\r\n",
        "<td style='text-align: right'>0</td>\r\n",
        "<td>channel_119_read_93_2D</td>\r\n",
        "<td style='text-align: right'>0</td>\r\n",
        "<td style='text-align: right'>0</td>\r\n",
        "<td style='text-align: right'>0</td>\r\n",
        "<td style='text-align: right'>0</td>\r\n",
        "<td style='text-align: right'>0</td>\r\n",
        "<td style='text-align: right'>0</td>\r\n",
        "<td style='text-align: right'>0</td>\r\n",
        "<td style='text-align: right'>0</td>\r\n",
        "<td style='text-align: right'>0</td>\r\n",
        "<td>channel_119_read_93_template</td>\r\n",
        "<td style='text-align: right'>0</td>\r\n",
        "<td style='text-align: right'>0</td>\r\n",
        "<td style='text-align: right'>0</td>\r\n",
        "<td style='text-align: right'>0</td>\r\n",
        "<td style='text-align: right'>0</td>\r\n",
        "<td style='text-align: right'>0</td>\r\n",
        "<td style='text-align: right'>0</td>\r\n",
        "<td style='text-align: right'>0</td>\r\n",
        "<td style='text-align: right'>0</td>\r\n",
        "<td>channel_119_read_93_complement</td>\r\n",
        "<td style='text-align: right'>0</td>\r\n",
        "<td style='text-align: right'>0</td>\r\n",
        "<td style='text-align: right'>0</td>\r\n",
        "<td style='text-align: right'>0</td>\r\n",
        "<td style='text-align: right'>0</td>\r\n",
        "<td style='text-align: right'>0</td>\r\n",
        "<td style='text-align: right'>0</td>\r\n",
        "<td style='text-align: right'>0</td>\r\n",
        "<td style='text-align: right'>0</td>\r\n",
        "<td>channel_119_read_93_2D</td>\r\n",
        "<td style='text-align: right'>0</td>\r\n",
        "<td style='text-align: right'>0</td>\r\n",
        "<td style='text-align: right'>0</td>\r\n",
        "<td style='text-align: right'>0</td>\r\n",
        "<td style='text-align: right'>0</td>\r\n",
        "<td style='text-align: right'>0</td>\r\n",
        "<td style='text-align: right'>0</td>\r\n",
        "<td style='text-align: right'>0</td>\r\n",
        "<td style='text-align: right'>0</td>\r\n",
        "<td>channel_119_read_93_template</td>\r\n",
        "<td style='text-align: right'>3</td>\r\n",
        "<td style='text-align: right'>4819</td>\r\n",
        "<td style='text-align: right'>1606.33333333</td>\r\n",
        "<td style='text-align: right'>430</td>\r\n",
        "<td style='text-align: right'>3887</td>\r\n",
        "<td style='text-align: right'>1930</td>\r\n",
        "<td style='text-align: right'>0</td>\r\n",
        "<td style='text-align: right'>724</td>\r\n",
        "<td style='text-align: right'>178</td>\r\n",
        "<td>channel_119_read_93_complement</td>\r\n",
        "<td style='text-align: right'>0</td>\r\n",
        "<td style='text-align: right'>0</td>\r\n",
        "<td style='text-align: right'>0</td>\r\n",
        "<td style='text-align: right'>0</td>\r\n",
        "<td style='text-align: right'>0</td>\r\n",
        "<td style='text-align: right'>0</td>\r\n",
        "<td style='text-align: right'>0</td>\r\n",
        "<td style='text-align: right'>0</td>\r\n",
        "<td style='text-align: right'>0</td>\r\n",
        "<td>channel_119_read_93_2D</td>\r\n",
        "<td style='text-align: right'>1</td>\r\n",
        "<td style='text-align: right'>2662</td>\r\n",
        "<td style='text-align: right'>2662.0</td>\r\n",
        "<td style='text-align: right'>2662</td>\r\n",
        "<td style='text-align: right'>2662</td>\r\n",
        "<td style='text-align: right'>1280</td>\r\n",
        "<td style='text-align: right'>326</td>\r\n",
        "<td style='text-align: right'>409</td>\r\n",
        "<td style='text-align: right'>93</td>\r\n",
        "<td>channel_119_read_93_template</td>\r\n",
        "<td style='text-align: right'>0</td>\r\n",
        "<td style='text-align: right'>0</td>\r\n",
        "<td style='text-align: right'>0</td>\r\n",
        "<td style='text-align: right'>0</td>\r\n",
        "<td style='text-align: right'>0</td>\r\n",
        "<td style='text-align: right'>0</td>\r\n",
        "<td style='text-align: right'>0</td>\r\n",
        "<td style='text-align: right'>0</td>\r\n",
        "<td style='text-align: right'>0</td>\r\n",
        "<td>channel_119_read_93_complement</td>\r\n",
        "<td style='text-align: right'>0</td>\r\n",
        "<td style='text-align: right'>0</td>\r\n",
        "<td style='text-align: right'>0</td>\r\n",
        "<td style='text-align: right'>0</td>\r\n",
        "<td style='text-align: right'>0</td>\r\n",
        "<td style='text-align: right'>0</td>\r\n",
        "<td style='text-align: right'>0</td>\r\n",
        "<td style='text-align: right'>0</td>\r\n",
        "<td style='text-align: right'>0</td>\r\n",
        "<td>channel_119_read_93_2D</td>\r\n",
        "<td style='text-align: right'>0</td>\r\n",
        "<td style='text-align: right'>0</td>\r\n",
        "<td style='text-align: right'>0</td>\r\n",
        "<td style='text-align: right'>0</td>\r\n",
        "<td style='text-align: right'>0</td>\r\n",
        "<td style='text-align: right'>0</td>\r\n",
        "<td style='text-align: right'>0</td>\r\n",
        "<td style='text-align: right'>0</td>\r\n",
        "<td style='text-align: right'>0</td>\r\n",
        "</tr>\r\n",
        "</tbody>\r\n",
        "</table>\r\n"
       ],
       "metadata": {},
       "output_type": "pyout",
       "prompt_number": 328,
       "text": [
        "+------------------------------------------------------------------------------------------------------------------------------------------------+-----------------------------+------------------+---------------+-------------+-----------+----------------+--------------------+-----------------+------------------+--------------------------+--------------------------------------------+---------------+---------------------+---------------------+-----------------------+---------------+------------------------+--------------------------+------------------+-------------------+--------------------+-----------------------+---------------------+-------------------------+-----------------------+-----------------------------------+--------------------------------+-------------------------------+-------------------------------+---------------------------------+----------------------------------+-------------------------------------+----------------------------------+---------------------------------+---------------------------------+-----------------------------------+------------------------------------+---------------------------+-------------------------------+------------------------------------+---------------------------------------+--------------------------------------+-----------------------------------------+----------------------------------+---------------------------------+---------------------------------------------+--------------------------------------------+-------------------------------------------+-------------------------------------------+----------------------------------+--------------------------+---------------------------------+----------------------------------+------------------------------------+-----------------------------------+-----------------------------------------------+----------------------------------------------+---------------------------------------------+---------------------------------------------+------------------------------------+----------------------------+-----------------------------------+------------------------------------+----------------------------+---------------------------+---------------------------------------+--------------------------------------+-------------------------------------+-------------------------------------+----------------------------+--------------------+---------------------------+----------------------------+--------------------------------+-------------------------+-------------------------------------+------------------------------------+-----------------------------------+-----------------------------------+--------------------------+------------------+-------------------------+--------------------------+----------------------------------+---------------------------+---------------------------------------+--------------------------------------+-------------------------------------+-------------------------------------+----------------------------+--------------------+---------------------------+----------------------------+--------------------------+-------------------+-------------------------------+------------------------------+-----------------------------+-----------------------------+--------------------+------------+-------------------+--------------------+--------------------------------+-----------------------------+-----------------------------------------+----------------------------------------+---------------------------------------+---------------------------------------+------------------------------+----------------------+-----------------------------+------------------------------+----------------------------------+-------------------------------+-------------------------------------------+------------------------------------------+-----------------------------------------+-----------------------------------------+--------------------------------+------------------------+-------------------------------+--------------------------------+--------------------------+-----------------------+-----------------------------------+----------------------------------+---------------------------------+---------------------------------+------------------------+----------------+-----------------------+------------------------+--------------------------------+-----------------------------+-----------------------------------------+----------------------------------------+---------------------------------------+---------------------------------------+------------------------------+----------------------+-----------------------------+------------------------------+----------------------------------+-------------------------------+-------------------------------------------+------------------------------------------+-----------------------------------------+-----------------------------------------+--------------------------------+------------------------+-------------------------------+--------------------------------+--------------------------+-----------------------+-----------------------------------+----------------------------------+---------------------------------+---------------------------------+------------------------+----------------+-----------------------+------------------------+\n",
        "| 'fast5_filename'                                                                                                                               | 'read_type_from_log'        | 'channel_number' | 'read_number' | 'device_id' | 'asic_id' | 'flow_cell_id' | 'asic_temp'        | 'heatsink_temp' | 'exp_start_time' | 'version_name'           | 'run_id'                                   | 'is_analysed' | 'is_base_called_2d' | 'has_template_read' | 'has_complement_read' | 'has_2D_read' | 'read_length_template' | 'read_length_complement' | 'read_length_2D' | 'start_time_read' | 'duration_read'    | 'start_time_template' | 'duration_template' | 'start_time_complement' | 'duration_complement' | 'basecall_called_events_template' | 'basecall_num_events_template' | 'basecall_num_skips_template' | 'basecall_num_stays_template' | 'basecall_mean_qscore_template' | 'basecall_strand_score_template' | 'basecall_called_events_complement' | 'basecall_num_events_complement' | 'basecall_num_skips_complement' | 'basecall_num_stays_complement' | 'basecall_mean_qscore_complement' | 'basecall_strand_score_complement' | 'basecall_mean_qscore_2D' | 'basecall_sequence_length_2D' | 'basecall_num_raw_events_template' | 'basecall_num_merged_events_template' | 'basecall_num_raw_events_complement' | 'basecall_num_merged_events_complement' | 'read_names_ont_lambda_template' | 'fragments_ont_lambda_template' | 'total_fragment_length_ont_lambda_template' | 'mean_fragment_length_ont_lambda_template' | 'min_fragment_length_ont_lambda_template' | 'max_fragment_length_ont_lambda_template' | 'mismatches_ont_lambda_template' | 'Ns_ont_lambda_template' | 'deletions_ont_lambda_template' | 'insertions_ont_lambda_template' | 'read_names_ont_lambda_complement' | 'fragments_ont_lambda_complement' | 'total_fragment_length_ont_lambda_complement' | 'mean_fragment_length_ont_lambda_complement' | 'min_fragment_length_ont_lambda_complement' | 'max_fragment_length_ont_lambda_complement' | 'mismatches_ont_lambda_complement' | 'Ns_ont_lambda_complement' | 'deletions_ont_lambda_complement' | 'insertions_ont_lambda_complement' | 'read_names_ont_lambda_2D' | 'fragments_ont_lambda_2D' | 'total_fragment_length_ont_lambda_2D' | 'mean_fragment_length_ont_lambda_2D' | 'min_fragment_length_ont_lambda_2D' | 'max_fragment_length_ont_lambda_2D' | 'mismatches_ont_lambda_2D' | 'Ns_ont_lambda_2D' | 'deletions_ont_lambda_2D' | 'insertions_ont_lambda_2D' | 'read_names_cs_template'       | 'fragments_cs_template' | 'total_fragment_length_cs_template' | 'mean_fragment_length_cs_template' | 'min_fragment_length_cs_template' | 'max_fragment_length_cs_template' | 'mismatches_cs_template' | 'Ns_cs_template' | 'deletions_cs_template' | 'insertions_cs_template' | 'read_names_cs_complement'       | 'fragments_cs_complement' | 'total_fragment_length_cs_complement' | 'mean_fragment_length_cs_complement' | 'min_fragment_length_cs_complement' | 'max_fragment_length_cs_complement' | 'mismatches_cs_complement' | 'Ns_cs_complement' | 'deletions_cs_complement' | 'insertions_cs_complement' | 'read_names_cs_2D'       | 'fragments_cs_2D' | 'total_fragment_length_cs_2D' | 'mean_fragment_length_cs_2D' | 'min_fragment_length_cs_2D' | 'max_fragment_length_cs_2D' | 'mismatches_cs_2D' | 'Ns_cs_2D' | 'deletions_cs_2D' | 'insertions_cs_2D' | 'read_names_3D7_V3_template'   | 'fragments_3D7_V3_template' | 'total_fragment_length_3D7_V3_template' | 'mean_fragment_length_3D7_V3_template' | 'min_fragment_length_3D7_V3_template' | 'max_fragment_length_3D7_V3_template' | 'mismatches_3D7_V3_template' | 'Ns_3D7_V3_template' | 'deletions_3D7_V3_template' | 'insertions_3D7_V3_template' | 'read_names_3D7_V3_complement'   | 'fragments_3D7_V3_complement' | 'total_fragment_length_3D7_V3_complement' | 'mean_fragment_length_3D7_V3_complement' | 'min_fragment_length_3D7_V3_complement' | 'max_fragment_length_3D7_V3_complement' | 'mismatches_3D7_V3_complement' | 'Ns_3D7_V3_complement' | 'deletions_3D7_V3_complement' | 'insertions_3D7_V3_complement' | 'read_names_3D7_V3_2D'   | 'fragments_3D7_V3_2D' | 'total_fragment_length_3D7_V3_2D' | 'mean_fragment_length_3D7_V3_2D' | 'min_fragment_length_3D7_V3_2D' | 'max_fragment_length_3D7_V3_2D' | 'mismatches_3D7_V3_2D' | 'Ns_3D7_V3_2D' | 'deletions_3D7_V3_2D' | 'insertions_3D7_V3_2D' | 'read_names_AgamP3_template'   | 'fragments_AgamP3_template' | 'total_fragment_length_AgamP3_template' | 'mean_fragment_length_AgamP3_template' | 'min_fragment_length_AgamP3_template' | 'max_fragment_length_AgamP3_template' | 'mismatches_AgamP3_template' | 'Ns_AgamP3_template' | 'deletions_AgamP3_template' | 'insertions_AgamP3_template' | 'read_names_AgamP3_complement'   | 'fragments_AgamP3_complement' | 'total_fragment_length_AgamP3_complement' | 'mean_fragment_length_AgamP3_complement' | 'min_fragment_length_AgamP3_complement' | 'max_fragment_length_AgamP3_complement' | 'mismatches_AgamP3_complement' | 'Ns_AgamP3_complement' | 'deletions_AgamP3_complement' | 'insertions_AgamP3_complement' | 'read_names_AgamP3_2D'   | 'fragments_AgamP3_2D' | 'total_fragment_length_AgamP3_2D' | 'mean_fragment_length_AgamP3_2D' | 'min_fragment_length_AgamP3_2D' | 'max_fragment_length_AgamP3_2D' | 'mismatches_AgamP3_2D' | 'Ns_AgamP3_2D' | 'deletions_AgamP3_2D' | 'insertions_AgamP3_2D' |\n",
        "+================================================================================================================================================+=============================+==================+===============+=============+===========+================+====================+=================+==================+==========================+============================================+===============+=====================+=====================+=======================+===============+========================+==========================+==================+===================+====================+=======================+=====================+=========================+=======================+===================================+================================+===============================+===============================+=================================+==================================+=====================================+==================================+=================================+=================================+===================================+====================================+===========================+===============================+====================================+=======================================+======================================+=========================================+==================================+=================================+=============================================+============================================+===========================================+===========================================+==================================+==========================+=================================+==================================+====================================+===================================+===============================================+==============================================+=============================================+=============================================+====================================+============================+===================================+====================================+============================+===========================+=======================================+======================================+=====================================+=====================================+============================+====================+===========================+============================+================================+=========================+=====================================+====================================+===================================+===================================+==========================+==================+=========================+==========================+==================================+===========================+=======================================+======================================+=====================================+=====================================+============================+====================+===========================+============================+==========================+===================+===============================+==============================+=============================+=============================+====================+============+===================+====================+================================+=============================+=========================================+========================================+=======================================+=======================================+==============================+======================+=============================+==============================+==================================+===============================+===========================================+==========================================+=========================================+=========================================+================================+========================+===============================+================================+==========================+=======================+===================================+==================================+=================================+=================================+========================+================+=======================+========================+================================+=============================+=========================================+========================================+=======================================+=======================================+==============================+======================+=============================+==============================+==================================+===============================+===========================================+==========================================+=========================================+=========================================+================================+========================+===============================+================================+==========================+=======================+===================================+==================================+=================================+=================================+========================+================+=======================+========================+\n",
        "| '/data/minion/PROCESSED_DATA/KWIAT50/E05_aliquot_3_workflow_1_9_1/KWIAT50_K50_EXPT05_3D7_F_aliquot3_140625_A_1909_1_ch119_file95_strand.fast5' | '2D basecalling successful' |              119 |            93 | 'MN02837'   | '50474'   | ''             | 37.100000000000001 |            35.5 |       1403713150 | '0.45.1.6 b201406111512' | 'a97b22255408f7524aa4fc1f54fb8dcff96b8b6b' | True          | True                | True                | True                  | True          |                   3920 |                     3233 |             3816 |         10459.126 | 453.89259999999922 |    10466.522200000001 |  262.45919999999933 |      10732.730600000001 |    179.99120000000039 |                              3863 |                           3888 |                           182 |                           130 |              7.7767857142857144 |                1.812481364351844 |                                3696 |                             3708 |                             105 |                             573 |                5.2375502629137021 |                  2.342364903350731 |        7.0379979035639417 |                          3816 |                               3933 |                                  3888 |                                 3751 |                                    3708 | 'channel_119_read_93_template'   |                               0 |                                           0 |                                          0 |                                         0 |                                         0 |                                0 |                        0 |                               0 |                                0 | 'channel_119_read_93_complement'   |                                 0 |                                             0 |                                            0 |                                           0 |                                           0 |                                  0 |                          0 |                                 0 |                                  0 | 'channel_119_read_93_2D'   |                         0 |                                     0 |                                    0 |                                   0 |                                   0 |                          0 |                  0 |                         0 |                          0 | 'channel_119_read_93_template' |                       0 |                                   0 |                                  0 |                                 0 |                                 0 |                        0 |                0 |                       0 |                        0 | 'channel_119_read_93_complement' |                         0 |                                     0 |                                    0 |                                   0 |                                   0 |                          0 |                  0 |                         0 |                          0 | 'channel_119_read_93_2D' |                 0 |                             0 |                            0 |                           0 |                           0 |                  0 |          0 |                 0 |                  0 | 'channel_119_read_93_template' |                           3 |                                    4819 |                     1606.3333333333333 |                                   430 |                                  3887 |                         1930 |                    0 |                         724 |                          178 | 'channel_119_read_93_complement' |                             0 |                                         0 |                                        0 |                                       0 |                                       0 |                              0 |                      0 |                             0 |                              0 | 'channel_119_read_93_2D' |                     1 |                              2662 |                           2662.0 |                            2662 |                            2662 |                   1280 |            326 |                   409 |                     93 | 'channel_119_read_93_template' |                           0 |                                       0 |                                      0 |                                     0 |                                     0 |                            0 |                    0 |                           0 |                            0 | 'channel_119_read_93_complement' |                             0 |                                         0 |                                        0 |                                       0 |                                       0 |                              0 |                      0 |                             0 |                              0 | 'channel_119_read_93_2D' |                     0 |                                 0 |                                0 |                               0 |                               0 |                      0 |              0 |                     0 |                      0 |\n",
        "+------------------------------------------------------------------------------------------------------------------------------------------------+-----------------------------+------------------+---------------+-------------+-----------+----------------+--------------------+-----------------+------------------+--------------------------+--------------------------------------------+---------------+---------------------+---------------------+-----------------------+---------------+------------------------+--------------------------+------------------+-------------------+--------------------+-----------------------+---------------------+-------------------------+-----------------------+-----------------------------------+--------------------------------+-------------------------------+-------------------------------+---------------------------------+----------------------------------+-------------------------------------+----------------------------------+---------------------------------+---------------------------------+-----------------------------------+------------------------------------+---------------------------+-------------------------------+------------------------------------+---------------------------------------+--------------------------------------+-----------------------------------------+----------------------------------+---------------------------------+---------------------------------------------+--------------------------------------------+-------------------------------------------+-------------------------------------------+----------------------------------+--------------------------+---------------------------------+----------------------------------+------------------------------------+-----------------------------------+-----------------------------------------------+----------------------------------------------+---------------------------------------------+---------------------------------------------+------------------------------------+----------------------------+-----------------------------------+------------------------------------+----------------------------+---------------------------+---------------------------------------+--------------------------------------+-------------------------------------+-------------------------------------+----------------------------+--------------------+---------------------------+----------------------------+--------------------------------+-------------------------+-------------------------------------+------------------------------------+-----------------------------------+-----------------------------------+--------------------------+------------------+-------------------------+--------------------------+----------------------------------+---------------------------+---------------------------------------+--------------------------------------+-------------------------------------+-------------------------------------+----------------------------+--------------------+---------------------------+----------------------------+--------------------------+-------------------+-------------------------------+------------------------------+-----------------------------+-----------------------------+--------------------+------------+-------------------+--------------------+--------------------------------+-----------------------------+-----------------------------------------+----------------------------------------+---------------------------------------+---------------------------------------+------------------------------+----------------------+-----------------------------+------------------------------+----------------------------------+-------------------------------+-------------------------------------------+------------------------------------------+-----------------------------------------+-----------------------------------------+--------------------------------+------------------------+-------------------------------+--------------------------------+--------------------------+-----------------------+-----------------------------------+----------------------------------+---------------------------------+---------------------------------+------------------------+----------------+-----------------------+------------------------+--------------------------------+-----------------------------+-----------------------------------------+----------------------------------------+---------------------------------------+---------------------------------------+------------------------------+----------------------+-----------------------------+------------------------------+----------------------------------+-------------------------------+-------------------------------------------+------------------------------------------+-----------------------------------------+-----------------------------------------+--------------------------------+------------------------+-------------------------------+--------------------------------+--------------------------+-----------------------+-----------------------------------+----------------------------------+---------------------------------+---------------------------------+------------------------+----------------+-----------------------+------------------------+\n"
       ]
      }
     ],
     "prompt_number": 328
    },
    {
     "cell_type": "code",
     "collapsed": false,
     "input": [
      "read_summary_tables['E05_aliquot_4_workflow_1_9_1'].select(lambda rec: rec['total_fragment_length_3D7_V3_template'] == 573241).head(3)\n"
     ],
     "language": "python",
     "metadata": {},
     "outputs": [
      {
       "html": [
        "<table>\r\n",
        "<thead>\r\n",
        "<tr>\r\n",
        "<th>fast5_filename</th>\r\n",
        "<th>read_type_from_log</th>\r\n",
        "<th>channel_number</th>\r\n",
        "<th>read_number</th>\r\n",
        "<th>device_id</th>\r\n",
        "<th>asic_id</th>\r\n",
        "<th>flow_cell_id</th>\r\n",
        "<th>asic_temp</th>\r\n",
        "<th>heatsink_temp</th>\r\n",
        "<th>exp_start_time</th>\r\n",
        "<th>version_name</th>\r\n",
        "<th>run_id</th>\r\n",
        "<th>is_analysed</th>\r\n",
        "<th>is_base_called_2d</th>\r\n",
        "<th>has_template_read</th>\r\n",
        "<th>has_complement_read</th>\r\n",
        "<th>has_2D_read</th>\r\n",
        "<th>read_length_template</th>\r\n",
        "<th>read_length_complement</th>\r\n",
        "<th>read_length_2D</th>\r\n",
        "<th>start_time_read</th>\r\n",
        "<th>duration_read</th>\r\n",
        "<th>start_time_template</th>\r\n",
        "<th>duration_template</th>\r\n",
        "<th>start_time_complement</th>\r\n",
        "<th>duration_complement</th>\r\n",
        "<th>basecall_called_events_template</th>\r\n",
        "<th>basecall_num_events_template</th>\r\n",
        "<th>basecall_num_skips_template</th>\r\n",
        "<th>basecall_num_stays_template</th>\r\n",
        "<th>basecall_mean_qscore_template</th>\r\n",
        "<th>basecall_strand_score_template</th>\r\n",
        "<th>basecall_called_events_complement</th>\r\n",
        "<th>basecall_num_events_complement</th>\r\n",
        "<th>basecall_num_skips_complement</th>\r\n",
        "<th>basecall_num_stays_complement</th>\r\n",
        "<th>basecall_mean_qscore_complement</th>\r\n",
        "<th>basecall_strand_score_complement</th>\r\n",
        "<th>basecall_mean_qscore_2D</th>\r\n",
        "<th>basecall_sequence_length_2D</th>\r\n",
        "<th>basecall_num_raw_events_template</th>\r\n",
        "<th>basecall_num_merged_events_template</th>\r\n",
        "<th>basecall_num_raw_events_complement</th>\r\n",
        "<th>basecall_num_merged_events_complement</th>\r\n",
        "<th>read_names_ont_lambda_template</th>\r\n",
        "<th>fragments_ont_lambda_template</th>\r\n",
        "<th>total_fragment_length_ont_lambda_template</th>\r\n",
        "<th>mean_fragment_length_ont_lambda_template</th>\r\n",
        "<th>min_fragment_length_ont_lambda_template</th>\r\n",
        "<th>max_fragment_length_ont_lambda_template</th>\r\n",
        "<th>mismatches_ont_lambda_template</th>\r\n",
        "<th>Ns_ont_lambda_template</th>\r\n",
        "<th>deletions_ont_lambda_template</th>\r\n",
        "<th>insertions_ont_lambda_template</th>\r\n",
        "<th>read_names_ont_lambda_complement</th>\r\n",
        "<th>fragments_ont_lambda_complement</th>\r\n",
        "<th>total_fragment_length_ont_lambda_complement</th>\r\n",
        "<th>mean_fragment_length_ont_lambda_complement</th>\r\n",
        "<th>min_fragment_length_ont_lambda_complement</th>\r\n",
        "<th>max_fragment_length_ont_lambda_complement</th>\r\n",
        "<th>mismatches_ont_lambda_complement</th>\r\n",
        "<th>Ns_ont_lambda_complement</th>\r\n",
        "<th>deletions_ont_lambda_complement</th>\r\n",
        "<th>insertions_ont_lambda_complement</th>\r\n",
        "<th>read_names_ont_lambda_2D</th>\r\n",
        "<th>fragments_ont_lambda_2D</th>\r\n",
        "<th>total_fragment_length_ont_lambda_2D</th>\r\n",
        "<th>mean_fragment_length_ont_lambda_2D</th>\r\n",
        "<th>min_fragment_length_ont_lambda_2D</th>\r\n",
        "<th>max_fragment_length_ont_lambda_2D</th>\r\n",
        "<th>mismatches_ont_lambda_2D</th>\r\n",
        "<th>Ns_ont_lambda_2D</th>\r\n",
        "<th>deletions_ont_lambda_2D</th>\r\n",
        "<th>insertions_ont_lambda_2D</th>\r\n",
        "<th>read_names_cs_template</th>\r\n",
        "<th>fragments_cs_template</th>\r\n",
        "<th>total_fragment_length_cs_template</th>\r\n",
        "<th>mean_fragment_length_cs_template</th>\r\n",
        "<th>min_fragment_length_cs_template</th>\r\n",
        "<th>max_fragment_length_cs_template</th>\r\n",
        "<th>mismatches_cs_template</th>\r\n",
        "<th>Ns_cs_template</th>\r\n",
        "<th>deletions_cs_template</th>\r\n",
        "<th>insertions_cs_template</th>\r\n",
        "<th>read_names_cs_complement</th>\r\n",
        "<th>fragments_cs_complement</th>\r\n",
        "<th>total_fragment_length_cs_complement</th>\r\n",
        "<th>mean_fragment_length_cs_complement</th>\r\n",
        "<th>min_fragment_length_cs_complement</th>\r\n",
        "<th>max_fragment_length_cs_complement</th>\r\n",
        "<th>mismatches_cs_complement</th>\r\n",
        "<th>Ns_cs_complement</th>\r\n",
        "<th>deletions_cs_complement</th>\r\n",
        "<th>insertions_cs_complement</th>\r\n",
        "<th>read_names_cs_2D</th>\r\n",
        "<th>fragments_cs_2D</th>\r\n",
        "<th>total_fragment_length_cs_2D</th>\r\n",
        "<th>mean_fragment_length_cs_2D</th>\r\n",
        "<th>min_fragment_length_cs_2D</th>\r\n",
        "<th>max_fragment_length_cs_2D</th>\r\n",
        "<th>mismatches_cs_2D</th>\r\n",
        "<th>Ns_cs_2D</th>\r\n",
        "<th>deletions_cs_2D</th>\r\n",
        "<th>insertions_cs_2D</th>\r\n",
        "<th>read_names_3D7_V3_template</th>\r\n",
        "<th>fragments_3D7_V3_template</th>\r\n",
        "<th>total_fragment_length_3D7_V3_template</th>\r\n",
        "<th>mean_fragment_length_3D7_V3_template</th>\r\n",
        "<th>min_fragment_length_3D7_V3_template</th>\r\n",
        "<th>max_fragment_length_3D7_V3_template</th>\r\n",
        "<th>mismatches_3D7_V3_template</th>\r\n",
        "<th>Ns_3D7_V3_template</th>\r\n",
        "<th>deletions_3D7_V3_template</th>\r\n",
        "<th>insertions_3D7_V3_template</th>\r\n",
        "<th>read_names_3D7_V3_complement</th>\r\n",
        "<th>fragments_3D7_V3_complement</th>\r\n",
        "<th>total_fragment_length_3D7_V3_complement</th>\r\n",
        "<th>mean_fragment_length_3D7_V3_complement</th>\r\n",
        "<th>min_fragment_length_3D7_V3_complement</th>\r\n",
        "<th>max_fragment_length_3D7_V3_complement</th>\r\n",
        "<th>mismatches_3D7_V3_complement</th>\r\n",
        "<th>Ns_3D7_V3_complement</th>\r\n",
        "<th>deletions_3D7_V3_complement</th>\r\n",
        "<th>insertions_3D7_V3_complement</th>\r\n",
        "<th>read_names_3D7_V3_2D</th>\r\n",
        "<th>fragments_3D7_V3_2D</th>\r\n",
        "<th>total_fragment_length_3D7_V3_2D</th>\r\n",
        "<th>mean_fragment_length_3D7_V3_2D</th>\r\n",
        "<th>min_fragment_length_3D7_V3_2D</th>\r\n",
        "<th>max_fragment_length_3D7_V3_2D</th>\r\n",
        "<th>mismatches_3D7_V3_2D</th>\r\n",
        "<th>Ns_3D7_V3_2D</th>\r\n",
        "<th>deletions_3D7_V3_2D</th>\r\n",
        "<th>insertions_3D7_V3_2D</th>\r\n",
        "<th>read_names_AgamP3_template</th>\r\n",
        "<th>fragments_AgamP3_template</th>\r\n",
        "<th>total_fragment_length_AgamP3_template</th>\r\n",
        "<th>mean_fragment_length_AgamP3_template</th>\r\n",
        "<th>min_fragment_length_AgamP3_template</th>\r\n",
        "<th>max_fragment_length_AgamP3_template</th>\r\n",
        "<th>mismatches_AgamP3_template</th>\r\n",
        "<th>Ns_AgamP3_template</th>\r\n",
        "<th>deletions_AgamP3_template</th>\r\n",
        "<th>insertions_AgamP3_template</th>\r\n",
        "<th>read_names_AgamP3_complement</th>\r\n",
        "<th>fragments_AgamP3_complement</th>\r\n",
        "<th>total_fragment_length_AgamP3_complement</th>\r\n",
        "<th>mean_fragment_length_AgamP3_complement</th>\r\n",
        "<th>min_fragment_length_AgamP3_complement</th>\r\n",
        "<th>max_fragment_length_AgamP3_complement</th>\r\n",
        "<th>mismatches_AgamP3_complement</th>\r\n",
        "<th>Ns_AgamP3_complement</th>\r\n",
        "<th>deletions_AgamP3_complement</th>\r\n",
        "<th>insertions_AgamP3_complement</th>\r\n",
        "<th>read_names_AgamP3_2D</th>\r\n",
        "<th>fragments_AgamP3_2D</th>\r\n",
        "<th>total_fragment_length_AgamP3_2D</th>\r\n",
        "<th>mean_fragment_length_AgamP3_2D</th>\r\n",
        "<th>min_fragment_length_AgamP3_2D</th>\r\n",
        "<th>max_fragment_length_AgamP3_2D</th>\r\n",
        "<th>mismatches_AgamP3_2D</th>\r\n",
        "<th>Ns_AgamP3_2D</th>\r\n",
        "<th>deletions_AgamP3_2D</th>\r\n",
        "<th>insertions_AgamP3_2D</th>\r\n",
        "</tr>\r\n",
        "</thead>\r\n",
        "<tbody>\r\n",
        "<tr>\r\n",
        "<td>/data/minion/PROCESSED_DATA/KWIAT51/E05_aliquot_4_workflow_1_9_1/KWIAT51_K51_expt05_3D7_F_aliquot4_140625_A_1855_1_ch449_file74_strand.fast5</td>\r\n",
        "<td>Missing Complement data</td>\r\n",
        "<td style='text-align: right'>449</td>\r\n",
        "<td style='text-align: right'>73</td>\r\n",
        "<td>MN02867</td>\r\n",
        "<td>34825</td>\r\n",
        "<td></td>\r\n",
        "<td style='text-align: right'>37.5</td>\r\n",
        "<td style='text-align: right'>35.25</td>\r\n",
        "<td style='text-align: right'>1403713136</td>\r\n",
        "<td>0.45.1.6 b201406111512</td>\r\n",
        "<td>82df94e567ee4ede01d8b0ad5a590420ebad3574</td>\r\n",
        "<td>True</td>\r\n",
        "<td>True</td>\r\n",
        "<td>True</td>\r\n",
        "<td>False</td>\r\n",
        "<td>False</td>\r\n",
        "<td style='text-align: right'>39340</td>\r\n",
        "<td style='text-align: right'>0</td>\r\n",
        "<td style='text-align: right'>0</td>\r\n",
        "<td style='text-align: right'>8732.1902</td>\r\n",
        "<td style='text-align: right'>1067.3224</td>\r\n",
        "<td style='text-align: right'>8734.4784</td>\r\n",
        "<td style='text-align: right'>1061.573</td>\r\n",
        "<td style='text-align: right'>0.0</td>\r\n",
        "<td style='text-align: right'>0.0</td>\r\n",
        "<td style='text-align: right'>37932</td>\r\n",
        "<td style='text-align: right'>54018</td>\r\n",
        "<td style='text-align: right'>12569</td>\r\n",
        "<td style='text-align: right'>11166</td>\r\n",
        "<td style='text-align: right'>2.31278596848</td>\r\n",
        "<td style='text-align: right'>3.11536883892</td>\r\n",
        "<td style='text-align: right'>0</td>\r\n",
        "<td style='text-align: right'>0</td>\r\n",
        "<td style='text-align: right'>0</td>\r\n",
        "<td style='text-align: right'>0</td>\r\n",
        "<td style='text-align: right'>0.0</td>\r\n",
        "<td style='text-align: right'>0.0</td>\r\n",
        "<td style='text-align: right'>0.0</td>\r\n",
        "<td style='text-align: right'>0</td>\r\n",
        "<td style='text-align: right'>54185</td>\r\n",
        "<td style='text-align: right'>54018</td>\r\n",
        "<td style='text-align: right'>0</td>\r\n",
        "<td style='text-align: right'>0</td>\r\n",
        "<td>channel_449_read_73_template</td>\r\n",
        "<td style='text-align: right'>0</td>\r\n",
        "<td style='text-align: right'>0</td>\r\n",
        "<td style='text-align: right'>0</td>\r\n",
        "<td style='text-align: right'>0</td>\r\n",
        "<td style='text-align: right'>0</td>\r\n",
        "<td style='text-align: right'>0</td>\r\n",
        "<td style='text-align: right'>0</td>\r\n",
        "<td style='text-align: right'>0</td>\r\n",
        "<td style='text-align: right'>0</td>\r\n",
        "<td>channel_449_read_73_complement</td>\r\n",
        "<td style='text-align: right'>0</td>\r\n",
        "<td style='text-align: right'>0</td>\r\n",
        "<td style='text-align: right'>0</td>\r\n",
        "<td style='text-align: right'>0</td>\r\n",
        "<td style='text-align: right'>0</td>\r\n",
        "<td style='text-align: right'>0</td>\r\n",
        "<td style='text-align: right'>0</td>\r\n",
        "<td style='text-align: right'>0</td>\r\n",
        "<td style='text-align: right'>0</td>\r\n",
        "<td>channel_449_read_73_2D</td>\r\n",
        "<td style='text-align: right'>0</td>\r\n",
        "<td style='text-align: right'>0</td>\r\n",
        "<td style='text-align: right'>0</td>\r\n",
        "<td style='text-align: right'>0</td>\r\n",
        "<td style='text-align: right'>0</td>\r\n",
        "<td style='text-align: right'>0</td>\r\n",
        "<td style='text-align: right'>0</td>\r\n",
        "<td style='text-align: right'>0</td>\r\n",
        "<td style='text-align: right'>0</td>\r\n",
        "<td>channel_449_read_73_template</td>\r\n",
        "<td style='text-align: right'>0</td>\r\n",
        "<td style='text-align: right'>0</td>\r\n",
        "<td style='text-align: right'>0</td>\r\n",
        "<td style='text-align: right'>0</td>\r\n",
        "<td style='text-align: right'>0</td>\r\n",
        "<td style='text-align: right'>0</td>\r\n",
        "<td style='text-align: right'>0</td>\r\n",
        "<td style='text-align: right'>0</td>\r\n",
        "<td style='text-align: right'>0</td>\r\n",
        "<td>channel_449_read_73_complement</td>\r\n",
        "<td style='text-align: right'>0</td>\r\n",
        "<td style='text-align: right'>0</td>\r\n",
        "<td style='text-align: right'>0</td>\r\n",
        "<td style='text-align: right'>0</td>\r\n",
        "<td style='text-align: right'>0</td>\r\n",
        "<td style='text-align: right'>0</td>\r\n",
        "<td style='text-align: right'>0</td>\r\n",
        "<td style='text-align: right'>0</td>\r\n",
        "<td style='text-align: right'>0</td>\r\n",
        "<td>channel_449_read_73_2D</td>\r\n",
        "<td style='text-align: right'>0</td>\r\n",
        "<td style='text-align: right'>0</td>\r\n",
        "<td style='text-align: right'>0</td>\r\n",
        "<td style='text-align: right'>0</td>\r\n",
        "<td style='text-align: right'>0</td>\r\n",
        "<td style='text-align: right'>0</td>\r\n",
        "<td style='text-align: right'>0</td>\r\n",
        "<td style='text-align: right'>0</td>\r\n",
        "<td style='text-align: right'>0</td>\r\n",
        "<td>channel_449_read_73_template</td>\r\n",
        "<td style='text-align: right'>828</td>\r\n",
        "<td style='text-align: right'>573241</td>\r\n",
        "<td style='text-align: right'>692.320048309</td>\r\n",
        "<td style='text-align: right'>58</td>\r\n",
        "<td style='text-align: right'>2691</td>\r\n",
        "<td style='text-align: right'>241698</td>\r\n",
        "<td style='text-align: right'>0</td>\r\n",
        "<td style='text-align: right'>46755</td>\r\n",
        "<td style='text-align: right'>23545</td>\r\n",
        "<td>channel_449_read_73_complement</td>\r\n",
        "<td style='text-align: right'>0</td>\r\n",
        "<td style='text-align: right'>0</td>\r\n",
        "<td style='text-align: right'>0</td>\r\n",
        "<td style='text-align: right'>0</td>\r\n",
        "<td style='text-align: right'>0</td>\r\n",
        "<td style='text-align: right'>0</td>\r\n",
        "<td style='text-align: right'>0</td>\r\n",
        "<td style='text-align: right'>0</td>\r\n",
        "<td style='text-align: right'>0</td>\r\n",
        "<td>channel_449_read_73_2D</td>\r\n",
        "<td style='text-align: right'>0</td>\r\n",
        "<td style='text-align: right'>0</td>\r\n",
        "<td style='text-align: right'>0</td>\r\n",
        "<td style='text-align: right'>0</td>\r\n",
        "<td style='text-align: right'>0</td>\r\n",
        "<td style='text-align: right'>0</td>\r\n",
        "<td style='text-align: right'>0</td>\r\n",
        "<td style='text-align: right'>0</td>\r\n",
        "<td style='text-align: right'>0</td>\r\n",
        "<td>channel_449_read_73_template</td>\r\n",
        "<td style='text-align: right'>366</td>\r\n",
        "<td style='text-align: right'>135159</td>\r\n",
        "<td style='text-align: right'>369.286885246</td>\r\n",
        "<td style='text-align: right'>65</td>\r\n",
        "<td style='text-align: right'>2311</td>\r\n",
        "<td style='text-align: right'>46397</td>\r\n",
        "<td style='text-align: right'>0</td>\r\n",
        "<td style='text-align: right'>8209</td>\r\n",
        "<td style='text-align: right'>7665</td>\r\n",
        "<td>channel_449_read_73_complement</td>\r\n",
        "<td style='text-align: right'>0</td>\r\n",
        "<td style='text-align: right'>0</td>\r\n",
        "<td style='text-align: right'>0</td>\r\n",
        "<td style='text-align: right'>0</td>\r\n",
        "<td style='text-align: right'>0</td>\r\n",
        "<td style='text-align: right'>0</td>\r\n",
        "<td style='text-align: right'>0</td>\r\n",
        "<td style='text-align: right'>0</td>\r\n",
        "<td style='text-align: right'>0</td>\r\n",
        "<td>channel_449_read_73_2D</td>\r\n",
        "<td style='text-align: right'>0</td>\r\n",
        "<td style='text-align: right'>0</td>\r\n",
        "<td style='text-align: right'>0</td>\r\n",
        "<td style='text-align: right'>0</td>\r\n",
        "<td style='text-align: right'>0</td>\r\n",
        "<td style='text-align: right'>0</td>\r\n",
        "<td style='text-align: right'>0</td>\r\n",
        "<td style='text-align: right'>0</td>\r\n",
        "<td style='text-align: right'>0</td>\r\n",
        "</tr>\r\n",
        "</tbody>\r\n",
        "</table>\r\n"
       ],
       "metadata": {},
       "output_type": "pyout",
       "prompt_number": 329,
       "text": [
        "+------------------------------------------------------------------------------------------------------------------------------------------------+---------------------------+------------------+---------------+-------------+-----------+----------------+-------------+-----------------+------------------+--------------------------+--------------------------------------------+---------------+---------------------+---------------------+-----------------------+---------------+------------------------+--------------------------+------------------+--------------------+--------------------+-----------------------+---------------------+-------------------------+-----------------------+-----------------------------------+--------------------------------+-------------------------------+-------------------------------+---------------------------------+----------------------------------+-------------------------------------+----------------------------------+---------------------------------+---------------------------------+-----------------------------------+------------------------------------+---------------------------+-------------------------------+------------------------------------+---------------------------------------+--------------------------------------+-----------------------------------------+----------------------------------+---------------------------------+---------------------------------------------+--------------------------------------------+-------------------------------------------+-------------------------------------------+----------------------------------+--------------------------+---------------------------------+----------------------------------+------------------------------------+-----------------------------------+-----------------------------------------------+----------------------------------------------+---------------------------------------------+---------------------------------------------+------------------------------------+----------------------------+-----------------------------------+------------------------------------+----------------------------+---------------------------+---------------------------------------+--------------------------------------+-------------------------------------+-------------------------------------+----------------------------+--------------------+---------------------------+----------------------------+--------------------------------+-------------------------+-------------------------------------+------------------------------------+-----------------------------------+-----------------------------------+--------------------------+------------------+-------------------------+--------------------------+----------------------------------+---------------------------+---------------------------------------+--------------------------------------+-------------------------------------+-------------------------------------+----------------------------+--------------------+---------------------------+----------------------------+--------------------------+-------------------+-------------------------------+------------------------------+-----------------------------+-----------------------------+--------------------+------------+-------------------+--------------------+--------------------------------+-----------------------------+-----------------------------------------+----------------------------------------+---------------------------------------+---------------------------------------+------------------------------+----------------------+-----------------------------+------------------------------+----------------------------------+-------------------------------+-------------------------------------------+------------------------------------------+-----------------------------------------+-----------------------------------------+--------------------------------+------------------------+-------------------------------+--------------------------------+--------------------------+-----------------------+-----------------------------------+----------------------------------+---------------------------------+---------------------------------+------------------------+----------------+-----------------------+------------------------+--------------------------------+-----------------------------+-----------------------------------------+----------------------------------------+---------------------------------------+---------------------------------------+------------------------------+----------------------+-----------------------------+------------------------------+----------------------------------+-------------------------------+-------------------------------------------+------------------------------------------+-----------------------------------------+-----------------------------------------+--------------------------------+------------------------+-------------------------------+--------------------------------+--------------------------+-----------------------+-----------------------------------+----------------------------------+---------------------------------+---------------------------------+------------------------+----------------+-----------------------+------------------------+\n",
        "| 'fast5_filename'                                                                                                                               | 'read_type_from_log'      | 'channel_number' | 'read_number' | 'device_id' | 'asic_id' | 'flow_cell_id' | 'asic_temp' | 'heatsink_temp' | 'exp_start_time' | 'version_name'           | 'run_id'                                   | 'is_analysed' | 'is_base_called_2d' | 'has_template_read' | 'has_complement_read' | 'has_2D_read' | 'read_length_template' | 'read_length_complement' | 'read_length_2D' | 'start_time_read'  | 'duration_read'    | 'start_time_template' | 'duration_template' | 'start_time_complement' | 'duration_complement' | 'basecall_called_events_template' | 'basecall_num_events_template' | 'basecall_num_skips_template' | 'basecall_num_stays_template' | 'basecall_mean_qscore_template' | 'basecall_strand_score_template' | 'basecall_called_events_complement' | 'basecall_num_events_complement' | 'basecall_num_skips_complement' | 'basecall_num_stays_complement' | 'basecall_mean_qscore_complement' | 'basecall_strand_score_complement' | 'basecall_mean_qscore_2D' | 'basecall_sequence_length_2D' | 'basecall_num_raw_events_template' | 'basecall_num_merged_events_template' | 'basecall_num_raw_events_complement' | 'basecall_num_merged_events_complement' | 'read_names_ont_lambda_template' | 'fragments_ont_lambda_template' | 'total_fragment_length_ont_lambda_template' | 'mean_fragment_length_ont_lambda_template' | 'min_fragment_length_ont_lambda_template' | 'max_fragment_length_ont_lambda_template' | 'mismatches_ont_lambda_template' | 'Ns_ont_lambda_template' | 'deletions_ont_lambda_template' | 'insertions_ont_lambda_template' | 'read_names_ont_lambda_complement' | 'fragments_ont_lambda_complement' | 'total_fragment_length_ont_lambda_complement' | 'mean_fragment_length_ont_lambda_complement' | 'min_fragment_length_ont_lambda_complement' | 'max_fragment_length_ont_lambda_complement' | 'mismatches_ont_lambda_complement' | 'Ns_ont_lambda_complement' | 'deletions_ont_lambda_complement' | 'insertions_ont_lambda_complement' | 'read_names_ont_lambda_2D' | 'fragments_ont_lambda_2D' | 'total_fragment_length_ont_lambda_2D' | 'mean_fragment_length_ont_lambda_2D' | 'min_fragment_length_ont_lambda_2D' | 'max_fragment_length_ont_lambda_2D' | 'mismatches_ont_lambda_2D' | 'Ns_ont_lambda_2D' | 'deletions_ont_lambda_2D' | 'insertions_ont_lambda_2D' | 'read_names_cs_template'       | 'fragments_cs_template' | 'total_fragment_length_cs_template' | 'mean_fragment_length_cs_template' | 'min_fragment_length_cs_template' | 'max_fragment_length_cs_template' | 'mismatches_cs_template' | 'Ns_cs_template' | 'deletions_cs_template' | 'insertions_cs_template' | 'read_names_cs_complement'       | 'fragments_cs_complement' | 'total_fragment_length_cs_complement' | 'mean_fragment_length_cs_complement' | 'min_fragment_length_cs_complement' | 'max_fragment_length_cs_complement' | 'mismatches_cs_complement' | 'Ns_cs_complement' | 'deletions_cs_complement' | 'insertions_cs_complement' | 'read_names_cs_2D'       | 'fragments_cs_2D' | 'total_fragment_length_cs_2D' | 'mean_fragment_length_cs_2D' | 'min_fragment_length_cs_2D' | 'max_fragment_length_cs_2D' | 'mismatches_cs_2D' | 'Ns_cs_2D' | 'deletions_cs_2D' | 'insertions_cs_2D' | 'read_names_3D7_V3_template'   | 'fragments_3D7_V3_template' | 'total_fragment_length_3D7_V3_template' | 'mean_fragment_length_3D7_V3_template' | 'min_fragment_length_3D7_V3_template' | 'max_fragment_length_3D7_V3_template' | 'mismatches_3D7_V3_template' | 'Ns_3D7_V3_template' | 'deletions_3D7_V3_template' | 'insertions_3D7_V3_template' | 'read_names_3D7_V3_complement'   | 'fragments_3D7_V3_complement' | 'total_fragment_length_3D7_V3_complement' | 'mean_fragment_length_3D7_V3_complement' | 'min_fragment_length_3D7_V3_complement' | 'max_fragment_length_3D7_V3_complement' | 'mismatches_3D7_V3_complement' | 'Ns_3D7_V3_complement' | 'deletions_3D7_V3_complement' | 'insertions_3D7_V3_complement' | 'read_names_3D7_V3_2D'   | 'fragments_3D7_V3_2D' | 'total_fragment_length_3D7_V3_2D' | 'mean_fragment_length_3D7_V3_2D' | 'min_fragment_length_3D7_V3_2D' | 'max_fragment_length_3D7_V3_2D' | 'mismatches_3D7_V3_2D' | 'Ns_3D7_V3_2D' | 'deletions_3D7_V3_2D' | 'insertions_3D7_V3_2D' | 'read_names_AgamP3_template'   | 'fragments_AgamP3_template' | 'total_fragment_length_AgamP3_template' | 'mean_fragment_length_AgamP3_template' | 'min_fragment_length_AgamP3_template' | 'max_fragment_length_AgamP3_template' | 'mismatches_AgamP3_template' | 'Ns_AgamP3_template' | 'deletions_AgamP3_template' | 'insertions_AgamP3_template' | 'read_names_AgamP3_complement'   | 'fragments_AgamP3_complement' | 'total_fragment_length_AgamP3_complement' | 'mean_fragment_length_AgamP3_complement' | 'min_fragment_length_AgamP3_complement' | 'max_fragment_length_AgamP3_complement' | 'mismatches_AgamP3_complement' | 'Ns_AgamP3_complement' | 'deletions_AgamP3_complement' | 'insertions_AgamP3_complement' | 'read_names_AgamP3_2D'   | 'fragments_AgamP3_2D' | 'total_fragment_length_AgamP3_2D' | 'mean_fragment_length_AgamP3_2D' | 'min_fragment_length_AgamP3_2D' | 'max_fragment_length_AgamP3_2D' | 'mismatches_AgamP3_2D' | 'Ns_AgamP3_2D' | 'deletions_AgamP3_2D' | 'insertions_AgamP3_2D' |\n",
        "+================================================================================================================================================+===========================+==================+===============+=============+===========+================+=============+=================+==================+==========================+============================================+===============+=====================+=====================+=======================+===============+========================+==========================+==================+====================+====================+=======================+=====================+=========================+=======================+===================================+================================+===============================+===============================+=================================+==================================+=====================================+==================================+=================================+=================================+===================================+====================================+===========================+===============================+====================================+=======================================+======================================+=========================================+==================================+=================================+=============================================+============================================+===========================================+===========================================+==================================+==========================+=================================+==================================+====================================+===================================+===============================================+==============================================+=============================================+=============================================+====================================+============================+===================================+====================================+============================+===========================+=======================================+======================================+=====================================+=====================================+============================+====================+===========================+============================+================================+=========================+=====================================+====================================+===================================+===================================+==========================+==================+=========================+==========================+==================================+===========================+=======================================+======================================+=====================================+=====================================+============================+====================+===========================+============================+==========================+===================+===============================+==============================+=============================+=============================+====================+============+===================+====================+================================+=============================+=========================================+========================================+=======================================+=======================================+==============================+======================+=============================+==============================+==================================+===============================+===========================================+==========================================+=========================================+=========================================+================================+========================+===============================+================================+==========================+=======================+===================================+==================================+=================================+=================================+========================+================+=======================+========================+================================+=============================+=========================================+========================================+=======================================+=======================================+==============================+======================+=============================+==============================+==================================+===============================+===========================================+==========================================+=========================================+=========================================+================================+========================+===============================+================================+==========================+=======================+===================================+==================================+=================================+=================================+========================+================+=======================+========================+\n",
        "| '/data/minion/PROCESSED_DATA/KWIAT51/E05_aliquot_4_workflow_1_9_1/KWIAT51_K51_expt05_3D7_F_aliquot4_140625_A_1855_1_ch449_file74_strand.fast5' | 'Missing Complement data' |              449 |            73 | 'MN02867'   | '34825'   | ''             |        37.5 |           35.25 |       1403713136 | '0.45.1.6 b201406111512' | '82df94e567ee4ede01d8b0ad5a590420ebad3574' | True          | True                | True                | False                 | False         |                  39340 |                        0 |                0 | 8732.1902000000009 | 1067.3223999999991 |             8734.4784 |  1061.5730000000003 |                     0.0 |                   0.0 |                             37932 |                          54018 |                         12569 |                         11166 |              2.3127859684799188 |               3.1153688389221621 |                                   0 |                                0 |                               0 |                               0 |                               0.0 |                                0.0 |                       0.0 |                             0 |                              54185 |                                 54018 |                                    0 |                                       0 | 'channel_449_read_73_template'   |                               0 |                                           0 |                                          0 |                                         0 |                                         0 |                                0 |                        0 |                               0 |                                0 | 'channel_449_read_73_complement'   |                                 0 |                                             0 |                                            0 |                                           0 |                                           0 |                                  0 |                          0 |                                 0 |                                  0 | 'channel_449_read_73_2D'   |                         0 |                                     0 |                                    0 |                                   0 |                                   0 |                          0 |                  0 |                         0 |                          0 | 'channel_449_read_73_template' |                       0 |                                   0 |                                  0 |                                 0 |                                 0 |                        0 |                0 |                       0 |                        0 | 'channel_449_read_73_complement' |                         0 |                                     0 |                                    0 |                                   0 |                                   0 |                          0 |                  0 |                         0 |                          0 | 'channel_449_read_73_2D' |                 0 |                             0 |                            0 |                           0 |                           0 |                  0 |          0 |                 0 |                  0 | 'channel_449_read_73_template' |                         828 |                                  573241 |                     692.32004830917879 |                                    58 |                                  2691 |                       241698 |                    0 |                       46755 |                        23545 | 'channel_449_read_73_complement' |                             0 |                                         0 |                                        0 |                                       0 |                                       0 |                              0 |                      0 |                             0 |                              0 | 'channel_449_read_73_2D' |                     0 |                                 0 |                                0 |                               0 |                               0 |                      0 |              0 |                     0 |                      0 | 'channel_449_read_73_template' |                         366 |                                  135159 |                     369.28688524590166 |                                    65 |                                  2311 |                        46397 |                    0 |                        8209 |                         7665 | 'channel_449_read_73_complement' |                             0 |                                         0 |                                        0 |                                       0 |                                       0 |                              0 |                      0 |                             0 |                              0 | 'channel_449_read_73_2D' |                     0 |                                 0 |                                0 |                               0 |                               0 |                      0 |              0 |                     0 |                      0 |\n",
        "+------------------------------------------------------------------------------------------------------------------------------------------------+---------------------------+------------------+---------------+-------------+-----------+----------------+-------------+-----------------+------------------+--------------------------+--------------------------------------------+---------------+---------------------+---------------------+-----------------------+---------------+------------------------+--------------------------+------------------+--------------------+--------------------+-----------------------+---------------------+-------------------------+-----------------------+-----------------------------------+--------------------------------+-------------------------------+-------------------------------+---------------------------------+----------------------------------+-------------------------------------+----------------------------------+---------------------------------+---------------------------------+-----------------------------------+------------------------------------+---------------------------+-------------------------------+------------------------------------+---------------------------------------+--------------------------------------+-----------------------------------------+----------------------------------+---------------------------------+---------------------------------------------+--------------------------------------------+-------------------------------------------+-------------------------------------------+----------------------------------+--------------------------+---------------------------------+----------------------------------+------------------------------------+-----------------------------------+-----------------------------------------------+----------------------------------------------+---------------------------------------------+---------------------------------------------+------------------------------------+----------------------------+-----------------------------------+------------------------------------+----------------------------+---------------------------+---------------------------------------+--------------------------------------+-------------------------------------+-------------------------------------+----------------------------+--------------------+---------------------------+----------------------------+--------------------------------+-------------------------+-------------------------------------+------------------------------------+-----------------------------------+-----------------------------------+--------------------------+------------------+-------------------------+--------------------------+----------------------------------+---------------------------+---------------------------------------+--------------------------------------+-------------------------------------+-------------------------------------+----------------------------+--------------------+---------------------------+----------------------------+--------------------------+-------------------+-------------------------------+------------------------------+-----------------------------+-----------------------------+--------------------+------------+-------------------+--------------------+--------------------------------+-----------------------------+-----------------------------------------+----------------------------------------+---------------------------------------+---------------------------------------+------------------------------+----------------------+-----------------------------+------------------------------+----------------------------------+-------------------------------+-------------------------------------------+------------------------------------------+-----------------------------------------+-----------------------------------------+--------------------------------+------------------------+-------------------------------+--------------------------------+--------------------------+-----------------------+-----------------------------------+----------------------------------+---------------------------------+---------------------------------+------------------------+----------------+-----------------------+------------------------+--------------------------------+-----------------------------+-----------------------------------------+----------------------------------------+---------------------------------------+---------------------------------------+------------------------------+----------------------+-----------------------------+------------------------------+----------------------------------+-------------------------------+-------------------------------------------+------------------------------------------+-----------------------------------------+-----------------------------------------+--------------------------------+------------------------+-------------------------------+--------------------------------+--------------------------+-----------------------+-----------------------------------+----------------------------------+---------------------------------+---------------------------------+------------------------+----------------+-----------------------+------------------------+\n"
       ]
      }
     ],
     "prompt_number": 329
    },
    {
     "cell_type": "code",
     "collapsed": false,
     "input": [
      "numpy.lib.recfunctions.merge_arrays(dict(experiment_summaries))"
     ],
     "language": "python",
     "metadata": {},
     "outputs": [
      {
       "metadata": {},
       "output_type": "pyout",
       "prompt_number": 266,
       "text": [
        "array([ ('expt03_workflow_1_9_1', 'expt01_workflow_1_9_1', 'E05_aliquot_3_workflow_1_9_1', 'expt01_workflow_1_8_4', 'E05_aliquot_4_workflow_1_9_1', 'expt05_aliquot_1_workflow_1_9_1', 'expt04_workflow_1_9_1', 'expt01_workflow_1_9', 'expt02_workflow_1_9_1', 'E05_aliquot_5_workflow_1_9_1', 'E05_aliquot_2_workflow_1_9_1')], \n",
        "      dtype=[('f0', 'S21'), ('f1', 'S21'), ('f2', 'S28'), ('f3', 'S21'), ('f4', 'S28'), ('f5', 'S31'), ('f6', 'S21'), ('f7', 'S19'), ('f8', 'S21'), ('f9', 'S28'), ('f10', 'S28')])"
       ]
      }
     ],
     "prompt_number": 266
    },
    {
     "cell_type": "code",
     "collapsed": false,
     "input": [
      "shape(np.hstack(experiment_summaries.values()))"
     ],
     "language": "python",
     "metadata": {},
     "outputs": [
      {
       "metadata": {},
       "output_type": "pyout",
       "prompt_number": 270,
       "text": [
        "(11,)"
       ]
      }
     ],
     "prompt_number": 270
    },
    {
     "cell_type": "code",
     "collapsed": false,
     "input": [
      "np.hstack((experiment_summaries['expt05_aliquot_1_workflow_1_9_1'], experiment_summaries['E05_aliquot_3_workflow_1_9_1']))"
     ],
     "language": "python",
     "metadata": {},
     "outputs": [
      {
       "metadata": {},
       "output_type": "pyout",
       "prompt_number": 268,
       "text": [
        "array([ ('MN02837', '50474', '', '2014-06-25 11:53:28___2014-06-25 11:56:44', 61038, 61038, 61038, 54402, 21566, 2832, 442, 340, 29235836, 10196194, 7194178),\n",
        "       ('MN02837', '50474', '', '2014-06-25 16:12:46___2014-06-25 16:19:10', 9540, 9540, 9540, 8413, 3265, 402, 121, 75, 4952074, 1687884, 965338)], \n",
        "      dtype=[('device_ids', 'S100'), ('asic_ids', 'S100'), ('flowcell_ids', 'S100'), ('exp_start_times', 'S1000'), ('total_number_of_reads', '<i8'), ('number_of_reads_analysed', '<i8'), ('number_of_reads_base_called', '<i8'), ('number_of_reads_with_template_calls', '<i8'), ('number_of_reads_with_complement_calls', '<i8'), ('number_of_reads_with_2D_calls', '<i8'), ('number_of_channels_used', '<i8'), ('number_of_channels_with_2D_calls', '<i8'), ('total_read_length_template', '<i8'), ('total_read_length_complement', '<i8'), ('total_read_length_2D', '<i8')])"
       ]
      }
     ],
     "prompt_number": 268
    },
    {
     "cell_type": "code",
     "collapsed": false,
     "input": [
      "experiment_summaries"
     ],
     "language": "python",
     "metadata": {},
     "outputs": [
      {
       "ename": "AttributeError",
       "evalue": "'OrderedDict' object has no attribute 'list'",
       "output_type": "pyerr",
       "traceback": [
        "\u001b[0;31m---------------------------------------------------------------------------\u001b[0m\n\u001b[0;31mAttributeError\u001b[0m                            Traceback (most recent call last)",
        "\u001b[0;32m<ipython-input-263-866b91c8eeb1>\u001b[0m in \u001b[0;36m<module>\u001b[0;34m()\u001b[0m\n\u001b[0;32m----> 1\u001b[0;31m \u001b[0mexperiment_summaries\u001b[0m\u001b[0;34m.\u001b[0m\u001b[0mlist\u001b[0m\u001b[0;34m(\u001b[0m\u001b[0;34m)\u001b[0m\u001b[0;34m\u001b[0m\u001b[0m\n\u001b[0m",
        "\u001b[0;31mAttributeError\u001b[0m: 'OrderedDict' object has no attribute 'list'"
       ]
      }
     ],
     "prompt_number": 263
    },
    {
     "cell_type": "code",
     "collapsed": false,
     "input": [],
     "language": "python",
     "metadata": {},
     "outputs": []
    },
    {
     "cell_type": "code",
     "collapsed": false,
     "input": [],
     "language": "python",
     "metadata": {},
     "outputs": []
    },
    {
     "cell_type": "code",
     "collapsed": false,
     "input": [],
     "language": "python",
     "metadata": {},
     "outputs": []
    },
    {
     "cell_type": "code",
     "collapsed": false,
     "input": [
      "type((etl.fromarray(read_summaries['expt01_workflow_1_9_1']).addfield('temp', 'temp_value')))"
     ],
     "language": "python",
     "metadata": {},
     "outputs": [
      {
       "metadata": {},
       "output_type": "pyout",
       "prompt_number": 174,
       "text": [
        "petl.interactive.InteractiveWrapper"
       ]
      }
     ],
     "prompt_number": 174
    },
    {
     "cell_type": "code",
     "collapsed": false,
     "input": [
      "torecarray(etl.fromarray(read_summaries['expt01_workflow_1_9_1']).addfield('temp', 'temp_value'))"
     ],
     "language": "python",
     "metadata": {},
     "outputs": [
      {
       "metadata": {},
       "output_type": "pyout",
       "prompt_number": 173,
       "text": [
        "rec.array([ ('/data/minion/PROCESSED_DATA/KWIAT50/expt01_workflow_1_9_1/KWIAT50_K50_expt01_std_lambda_DNA_140619_A_4114_1_ch117_file0_strand.fast5', 'Too few events', 117, 0, 'MN02837', '50349', '', 36.9, 35.125, 1403178075, '0.45.1.6 b201406111512', '0d3a15d7eaa80e1f224754269fa8596109d390a0', True, True, False, False, False, 0, 0, 0, 168.0782, 6.627199999999988, 0.0, 0.0, 0.0, 0.0, 0, 0, 0, 0, 0.0, 0.0, 0, 0, 0, 0, 0.0, 0.0, 0.0, 0, 0, 0, 0, 0, 'temp_value'),\n",
        "       ('/data/minion/PROCESSED_DATA/KWIAT50/expt01_workflow_1_9_1/KWIAT50_K50_expt01_std_lambda_DNA_140619_A_4114_1_ch138_file0_strand.fast5', 'Too few events', 138, 0, 'MN02837', '50349', '', 36.9, 35.125, 1403178075, '0.45.1.6 b201406111512', '0d3a15d7eaa80e1f224754269fa8596109d390a0', True, True, False, False, False, 0, 0, 0, 77.468, 3.856200000000001, 0.0, 0.0, 0.0, 0.0, 0, 0, 0, 0, 0.0, 0.0, 0, 0, 0, 0, 0.0, 0.0, 0.0, 0, 0, 0, 0, 0, 'temp_value'),\n",
        "       ('/data/minion/PROCESSED_DATA/KWIAT50/expt01_workflow_1_9_1/KWIAT50_K50_expt01_std_lambda_DNA_140619_A_4114_1_ch145_file0_strand.fast5', 'Missing Complement data', 145, 0, 'MN02837', '50349', '', 36.9, 35.125, 1403178075, '0.45.1.6 b201406111512', '0d3a15d7eaa80e1f224754269fa8596109d390a0', True, True, True, False, False, 324, 0, 0, 72.0564, 13.106400000000008, 75.71940000000001, 8.877399999999994, 0.0, 0.0, 290, 290, 31, 2, 5.58641975308642, 2.490266603558982, 0, 0, 0, 0, 0.0, 0.0, 0.0, 0, 290, 290, 0, 0, 'temp_value'),\n",
        "       ...,\n",
        "       ('/data/minion/PROCESSED_DATA/KWIAT50/expt01_workflow_1_9_1/KWIAT50_K50_expt01_std_lambda_DNA_140619_A_4429_1_ch99_file4_strand.fast5', 'Missing Complement data', 99, 4, 'MN02837', '50349', '', 37.6, 35.75, 1403178270, '0.45.1.6 b201406111512', '8752daf03928c6f48c7f5da5b812fc2f5f901821', True, True, True, False, False, 3964, 0, 0, 12163.7644, 489.6826000000001, 12170.1628, 482.9403999999995, 0.0, 0.0, 7788, 8221, 201, 4030, 4.265893037336024, 3.4327888967710085, 0, 0, 0, 0, 0.0, 0.0, 0.0, 0, 8381, 8221, 0, 0, 'temp_value'),\n",
        "       ('/data/minion/PROCESSED_DATA/KWIAT50/expt01_workflow_1_9_1/KWIAT50_K50_expt01_std_lambda_DNA_140619_A_4429_1_ch99_file5_strand.fast5', 'Missing Complement data', 99, 5, 'MN02837', '50349', '', 37.6, 35.75, 1403178270, '0.45.1.6 b201406111512', '8752daf03928c6f48c7f5da5b812fc2f5f901821', True, True, True, False, False, 4253, 0, 0, 14856.409800000001, 480.1157999999996, 14861.608, 474.40160000000105, 0.0, 0.0, 8364, 8396, 291, 4407, 4.890900540794733, 2.8270329523475204, 0, 0, 0, 0, 0.0, 0.0, 0.0, 0, 8649, 8396, 0, 0, 'temp_value'),\n",
        "       ('/data/minion/PROCESSED_DATA/KWIAT50/expt01_workflow_1_9_1/KWIAT50_K50_expt01_std_lambda_DNA_140619_A_4429_1_ch99_file6_strand.fast5', 'Missing Complement data', 99, 6, 'MN02837', '50349', '', 37.6, 35.75, 1403178270, '0.45.1.6 b201406111512', '8752daf03928c6f48c7f5da5b812fc2f5f901821', True, True, True, False, False, 2925, 0, 0, 16271.958, 293.72159999999894, 16276.2188, 289.0464000000011, 0.0, 0.0, 4489, 4515, 83, 1652, 5.372649572649572, 2.7406970297387834, 0, 0, 0, 0, 0.0, 0.0, 0.0, 0, 4705, 4515, 0, 0, 'temp_value')], \n",
        "      dtype=[('fast5_filename', 'S133'), ('read_type_from_log', 'S42'), ('channel_number', '<i8'), ('read_number', '<i8'), ('device_id', 'S7'), ('asic_id', 'S5'), ('flow_cell_id', 'S1'), ('asic_temp', '<f8'), ('heatsink_temp', '<f8'), ('exp_start_time', '<i8'), ('version_name', 'S22'), ('run_id', 'S40'), ('is_analysed', '?'), ('is_base_called_2d', '?'), ('has_template_read', '?'), ('has_complement_read', '?'), ('has_2D_read', '?'), ('read_length_template', '<i8'), ('read_length_complement', '<i8'), ('read_length_2D', '<i8'), ('start_time_read', '<f8'), ('duration_read', '<f8'), ('start_time_template', '<f8'), ('duration_template', '<f8'), ('start_time_complement', '<f8'), ('duration_complement', '<f8'), ('basecall_called_events_template', '<i8'), ('basecall_num_events_template', '<i8'), ('basecall_num_skips_template', '<i8'), ('basecall_num_stays_template', '<i8'), ('basecall_mean_qscore_template', '<f8'), ('basecall_strand_score_template', '<f8'), ('basecall_called_events_complement', '<i8'), ('basecall_num_events_complement', '<i8'), ('basecall_num_skips_complement', '<i8'), ('basecall_num_stays_complement', '<i8'), ('basecall_mean_qscore_complement', '<f8'), ('basecall_strand_score_complement', '<f8'), ('basecall_mean_qscore_2D', '<f8'), ('basecall_sequence_length_2D', '<i8'), ('basecall_num_raw_events_template', '<i8'), ('basecall_num_merged_events_template', '<i8'), ('basecall_num_raw_events_complement', '<i8'), ('basecall_num_merged_events_complement', '<i8'), ('temp', 'S10')])"
       ]
      }
     ],
     "prompt_number": 173
    },
    {
     "cell_type": "heading",
     "level": 1,
     "metadata": {},
     "source": [
      "Sandbox"
     ]
    },
    {
     "cell_type": "code",
     "collapsed": false,
     "input": [
      "def read_name_field_value(rec, read_type):\n",
      "    return ('channel_%d_read_%d_' % (rec['channel_number'], rec['read_number'])) + read_type"
     ],
     "language": "python",
     "metadata": {},
     "outputs": [],
     "prompt_number": 67
    }
   ],
   "metadata": {}
  }
 ]
}